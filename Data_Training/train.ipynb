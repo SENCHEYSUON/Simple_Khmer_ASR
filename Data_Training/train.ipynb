{
  "nbformat": 4,
  "nbformat_minor": 0,
  "metadata": {
    "colab": {
      "provenance": [],
      "gpuType": "T4",
      "toc_visible": true
    },
    "kernelspec": {
      "name": "python3",
      "display_name": "Python 3"
    },
    "language_info": {
      "name": "python"
    },
    "accelerator": "GPU",
    "widgets": {
      "application/vnd.jupyter.widget-state+json": {
        "cd679b7710274a08a1fa6c472afd4125": {
          "model_module": "@jupyter-widgets/controls",
          "model_name": "HBoxModel",
          "model_module_version": "1.5.0",
          "state": {
            "_dom_classes": [],
            "_model_module": "@jupyter-widgets/controls",
            "_model_module_version": "1.5.0",
            "_model_name": "HBoxModel",
            "_view_count": null,
            "_view_module": "@jupyter-widgets/controls",
            "_view_module_version": "1.5.0",
            "_view_name": "HBoxView",
            "box_style": "",
            "children": [
              "IPY_MODEL_b41bbaed5786436d9f4b7b1548d61b40",
              "IPY_MODEL_e3b3faf1b20743a7a05c59d5bd59e97e",
              "IPY_MODEL_77b9f08e64b349ca883334fee8924545"
            ],
            "layout": "IPY_MODEL_278e7c887fb24055aa721416c588a569"
          }
        },
        "b41bbaed5786436d9f4b7b1548d61b40": {
          "model_module": "@jupyter-widgets/controls",
          "model_name": "HTMLModel",
          "model_module_version": "1.5.0",
          "state": {
            "_dom_classes": [],
            "_model_module": "@jupyter-widgets/controls",
            "_model_module_version": "1.5.0",
            "_model_name": "HTMLModel",
            "_view_count": null,
            "_view_module": "@jupyter-widgets/controls",
            "_view_module_version": "1.5.0",
            "_view_name": "HTMLView",
            "description": "",
            "description_tooltip": null,
            "layout": "IPY_MODEL_1ca77de0d8504fb48887706b20e3b237",
            "placeholder": "​",
            "style": "IPY_MODEL_389c01aa7c9649da9de739a339d2ea4a",
            "value": "Generating train split: "
          }
        },
        "e3b3faf1b20743a7a05c59d5bd59e97e": {
          "model_module": "@jupyter-widgets/controls",
          "model_name": "FloatProgressModel",
          "model_module_version": "1.5.0",
          "state": {
            "_dom_classes": [],
            "_model_module": "@jupyter-widgets/controls",
            "_model_module_version": "1.5.0",
            "_model_name": "FloatProgressModel",
            "_view_count": null,
            "_view_module": "@jupyter-widgets/controls",
            "_view_module_version": "1.5.0",
            "_view_name": "ProgressView",
            "bar_style": "success",
            "description": "",
            "description_tooltip": null,
            "layout": "IPY_MODEL_07ab7f890bcd46b7a604d7d5f35e95bc",
            "max": 1,
            "min": 0,
            "orientation": "horizontal",
            "style": "IPY_MODEL_887ce37411314c35a4dfd11eaf806bc0",
            "value": 1
          }
        },
        "77b9f08e64b349ca883334fee8924545": {
          "model_module": "@jupyter-widgets/controls",
          "model_name": "HTMLModel",
          "model_module_version": "1.5.0",
          "state": {
            "_dom_classes": [],
            "_model_module": "@jupyter-widgets/controls",
            "_model_module_version": "1.5.0",
            "_model_name": "HTMLModel",
            "_view_count": null,
            "_view_module": "@jupyter-widgets/controls",
            "_view_module_version": "1.5.0",
            "_view_name": "HTMLView",
            "description": "",
            "description_tooltip": null,
            "layout": "IPY_MODEL_3d8df7a36f03455391d9cb69c42d5eba",
            "placeholder": "​",
            "style": "IPY_MODEL_f9ab863dd40f4af6a7328d6b0691b49a",
            "value": " 2803/0 [00:00&lt;00:00, 44948.31 examples/s]"
          }
        },
        "278e7c887fb24055aa721416c588a569": {
          "model_module": "@jupyter-widgets/base",
          "model_name": "LayoutModel",
          "model_module_version": "1.2.0",
          "state": {
            "_model_module": "@jupyter-widgets/base",
            "_model_module_version": "1.2.0",
            "_model_name": "LayoutModel",
            "_view_count": null,
            "_view_module": "@jupyter-widgets/base",
            "_view_module_version": "1.2.0",
            "_view_name": "LayoutView",
            "align_content": null,
            "align_items": null,
            "align_self": null,
            "border": null,
            "bottom": null,
            "display": null,
            "flex": null,
            "flex_flow": null,
            "grid_area": null,
            "grid_auto_columns": null,
            "grid_auto_flow": null,
            "grid_auto_rows": null,
            "grid_column": null,
            "grid_gap": null,
            "grid_row": null,
            "grid_template_areas": null,
            "grid_template_columns": null,
            "grid_template_rows": null,
            "height": null,
            "justify_content": null,
            "justify_items": null,
            "left": null,
            "margin": null,
            "max_height": null,
            "max_width": null,
            "min_height": null,
            "min_width": null,
            "object_fit": null,
            "object_position": null,
            "order": null,
            "overflow": null,
            "overflow_x": null,
            "overflow_y": null,
            "padding": null,
            "right": null,
            "top": null,
            "visibility": null,
            "width": null
          }
        },
        "1ca77de0d8504fb48887706b20e3b237": {
          "model_module": "@jupyter-widgets/base",
          "model_name": "LayoutModel",
          "model_module_version": "1.2.0",
          "state": {
            "_model_module": "@jupyter-widgets/base",
            "_model_module_version": "1.2.0",
            "_model_name": "LayoutModel",
            "_view_count": null,
            "_view_module": "@jupyter-widgets/base",
            "_view_module_version": "1.2.0",
            "_view_name": "LayoutView",
            "align_content": null,
            "align_items": null,
            "align_self": null,
            "border": null,
            "bottom": null,
            "display": null,
            "flex": null,
            "flex_flow": null,
            "grid_area": null,
            "grid_auto_columns": null,
            "grid_auto_flow": null,
            "grid_auto_rows": null,
            "grid_column": null,
            "grid_gap": null,
            "grid_row": null,
            "grid_template_areas": null,
            "grid_template_columns": null,
            "grid_template_rows": null,
            "height": null,
            "justify_content": null,
            "justify_items": null,
            "left": null,
            "margin": null,
            "max_height": null,
            "max_width": null,
            "min_height": null,
            "min_width": null,
            "object_fit": null,
            "object_position": null,
            "order": null,
            "overflow": null,
            "overflow_x": null,
            "overflow_y": null,
            "padding": null,
            "right": null,
            "top": null,
            "visibility": null,
            "width": null
          }
        },
        "389c01aa7c9649da9de739a339d2ea4a": {
          "model_module": "@jupyter-widgets/controls",
          "model_name": "DescriptionStyleModel",
          "model_module_version": "1.5.0",
          "state": {
            "_model_module": "@jupyter-widgets/controls",
            "_model_module_version": "1.5.0",
            "_model_name": "DescriptionStyleModel",
            "_view_count": null,
            "_view_module": "@jupyter-widgets/base",
            "_view_module_version": "1.2.0",
            "_view_name": "StyleView",
            "description_width": ""
          }
        },
        "07ab7f890bcd46b7a604d7d5f35e95bc": {
          "model_module": "@jupyter-widgets/base",
          "model_name": "LayoutModel",
          "model_module_version": "1.2.0",
          "state": {
            "_model_module": "@jupyter-widgets/base",
            "_model_module_version": "1.2.0",
            "_model_name": "LayoutModel",
            "_view_count": null,
            "_view_module": "@jupyter-widgets/base",
            "_view_module_version": "1.2.0",
            "_view_name": "LayoutView",
            "align_content": null,
            "align_items": null,
            "align_self": null,
            "border": null,
            "bottom": null,
            "display": null,
            "flex": null,
            "flex_flow": null,
            "grid_area": null,
            "grid_auto_columns": null,
            "grid_auto_flow": null,
            "grid_auto_rows": null,
            "grid_column": null,
            "grid_gap": null,
            "grid_row": null,
            "grid_template_areas": null,
            "grid_template_columns": null,
            "grid_template_rows": null,
            "height": null,
            "justify_content": null,
            "justify_items": null,
            "left": null,
            "margin": null,
            "max_height": null,
            "max_width": null,
            "min_height": null,
            "min_width": null,
            "object_fit": null,
            "object_position": null,
            "order": null,
            "overflow": null,
            "overflow_x": null,
            "overflow_y": null,
            "padding": null,
            "right": null,
            "top": null,
            "visibility": null,
            "width": "20px"
          }
        },
        "887ce37411314c35a4dfd11eaf806bc0": {
          "model_module": "@jupyter-widgets/controls",
          "model_name": "ProgressStyleModel",
          "model_module_version": "1.5.0",
          "state": {
            "_model_module": "@jupyter-widgets/controls",
            "_model_module_version": "1.5.0",
            "_model_name": "ProgressStyleModel",
            "_view_count": null,
            "_view_module": "@jupyter-widgets/base",
            "_view_module_version": "1.2.0",
            "_view_name": "StyleView",
            "bar_color": null,
            "description_width": ""
          }
        },
        "3d8df7a36f03455391d9cb69c42d5eba": {
          "model_module": "@jupyter-widgets/base",
          "model_name": "LayoutModel",
          "model_module_version": "1.2.0",
          "state": {
            "_model_module": "@jupyter-widgets/base",
            "_model_module_version": "1.2.0",
            "_model_name": "LayoutModel",
            "_view_count": null,
            "_view_module": "@jupyter-widgets/base",
            "_view_module_version": "1.2.0",
            "_view_name": "LayoutView",
            "align_content": null,
            "align_items": null,
            "align_self": null,
            "border": null,
            "bottom": null,
            "display": null,
            "flex": null,
            "flex_flow": null,
            "grid_area": null,
            "grid_auto_columns": null,
            "grid_auto_flow": null,
            "grid_auto_rows": null,
            "grid_column": null,
            "grid_gap": null,
            "grid_row": null,
            "grid_template_areas": null,
            "grid_template_columns": null,
            "grid_template_rows": null,
            "height": null,
            "justify_content": null,
            "justify_items": null,
            "left": null,
            "margin": null,
            "max_height": null,
            "max_width": null,
            "min_height": null,
            "min_width": null,
            "object_fit": null,
            "object_position": null,
            "order": null,
            "overflow": null,
            "overflow_x": null,
            "overflow_y": null,
            "padding": null,
            "right": null,
            "top": null,
            "visibility": null,
            "width": null
          }
        },
        "f9ab863dd40f4af6a7328d6b0691b49a": {
          "model_module": "@jupyter-widgets/controls",
          "model_name": "DescriptionStyleModel",
          "model_module_version": "1.5.0",
          "state": {
            "_model_module": "@jupyter-widgets/controls",
            "_model_module_version": "1.5.0",
            "_model_name": "DescriptionStyleModel",
            "_view_count": null,
            "_view_module": "@jupyter-widgets/base",
            "_view_module_version": "1.2.0",
            "_view_name": "StyleView",
            "description_width": ""
          }
        },
        "2b367637793a4ec1b059766557d7d624": {
          "model_module": "@jupyter-widgets/controls",
          "model_name": "HBoxModel",
          "model_module_version": "1.5.0",
          "state": {
            "_dom_classes": [],
            "_model_module": "@jupyter-widgets/controls",
            "_model_module_version": "1.5.0",
            "_model_name": "HBoxModel",
            "_view_count": null,
            "_view_module": "@jupyter-widgets/controls",
            "_view_module_version": "1.5.0",
            "_view_name": "HBoxView",
            "box_style": "",
            "children": [
              "IPY_MODEL_7b60bad50749466fa312ee8c87cc8966",
              "IPY_MODEL_2c0a62dcd31e4560b55503ed52445c83",
              "IPY_MODEL_cdc179cf899a43cb92406a1e127864a3"
            ],
            "layout": "IPY_MODEL_5e352f56e0404f63898659427c8431fe"
          }
        },
        "7b60bad50749466fa312ee8c87cc8966": {
          "model_module": "@jupyter-widgets/controls",
          "model_name": "HTMLModel",
          "model_module_version": "1.5.0",
          "state": {
            "_dom_classes": [],
            "_model_module": "@jupyter-widgets/controls",
            "_model_module_version": "1.5.0",
            "_model_name": "HTMLModel",
            "_view_count": null,
            "_view_module": "@jupyter-widgets/controls",
            "_view_module_version": "1.5.0",
            "_view_name": "HTMLView",
            "description": "",
            "description_tooltip": null,
            "layout": "IPY_MODEL_099b516fe68546a6b18675bd423d688f",
            "placeholder": "​",
            "style": "IPY_MODEL_24d694f3b75049e38fec349992530ae8",
            "value": "Generating train split: "
          }
        },
        "2c0a62dcd31e4560b55503ed52445c83": {
          "model_module": "@jupyter-widgets/controls",
          "model_name": "FloatProgressModel",
          "model_module_version": "1.5.0",
          "state": {
            "_dom_classes": [],
            "_model_module": "@jupyter-widgets/controls",
            "_model_module_version": "1.5.0",
            "_model_name": "FloatProgressModel",
            "_view_count": null,
            "_view_module": "@jupyter-widgets/controls",
            "_view_module_version": "1.5.0",
            "_view_name": "ProgressView",
            "bar_style": "success",
            "description": "",
            "description_tooltip": null,
            "layout": "IPY_MODEL_31efca4fa4834e95b04dfc14bc981275",
            "max": 1,
            "min": 0,
            "orientation": "horizontal",
            "style": "IPY_MODEL_9ae82341d9a14906b3fbb4ec427e1eed",
            "value": 1
          }
        },
        "cdc179cf899a43cb92406a1e127864a3": {
          "model_module": "@jupyter-widgets/controls",
          "model_name": "HTMLModel",
          "model_module_version": "1.5.0",
          "state": {
            "_dom_classes": [],
            "_model_module": "@jupyter-widgets/controls",
            "_model_module_version": "1.5.0",
            "_model_name": "HTMLModel",
            "_view_count": null,
            "_view_module": "@jupyter-widgets/controls",
            "_view_module_version": "1.5.0",
            "_view_name": "HTMLView",
            "description": "",
            "description_tooltip": null,
            "layout": "IPY_MODEL_c3069999a77143889ab3cb9a0eff7dd5",
            "placeholder": "​",
            "style": "IPY_MODEL_2973b95f186f4b509b32082846042fa3",
            "value": " 312/0 [00:00&lt;00:00, 6894.93 examples/s]"
          }
        },
        "5e352f56e0404f63898659427c8431fe": {
          "model_module": "@jupyter-widgets/base",
          "model_name": "LayoutModel",
          "model_module_version": "1.2.0",
          "state": {
            "_model_module": "@jupyter-widgets/base",
            "_model_module_version": "1.2.0",
            "_model_name": "LayoutModel",
            "_view_count": null,
            "_view_module": "@jupyter-widgets/base",
            "_view_module_version": "1.2.0",
            "_view_name": "LayoutView",
            "align_content": null,
            "align_items": null,
            "align_self": null,
            "border": null,
            "bottom": null,
            "display": null,
            "flex": null,
            "flex_flow": null,
            "grid_area": null,
            "grid_auto_columns": null,
            "grid_auto_flow": null,
            "grid_auto_rows": null,
            "grid_column": null,
            "grid_gap": null,
            "grid_row": null,
            "grid_template_areas": null,
            "grid_template_columns": null,
            "grid_template_rows": null,
            "height": null,
            "justify_content": null,
            "justify_items": null,
            "left": null,
            "margin": null,
            "max_height": null,
            "max_width": null,
            "min_height": null,
            "min_width": null,
            "object_fit": null,
            "object_position": null,
            "order": null,
            "overflow": null,
            "overflow_x": null,
            "overflow_y": null,
            "padding": null,
            "right": null,
            "top": null,
            "visibility": null,
            "width": null
          }
        },
        "099b516fe68546a6b18675bd423d688f": {
          "model_module": "@jupyter-widgets/base",
          "model_name": "LayoutModel",
          "model_module_version": "1.2.0",
          "state": {
            "_model_module": "@jupyter-widgets/base",
            "_model_module_version": "1.2.0",
            "_model_name": "LayoutModel",
            "_view_count": null,
            "_view_module": "@jupyter-widgets/base",
            "_view_module_version": "1.2.0",
            "_view_name": "LayoutView",
            "align_content": null,
            "align_items": null,
            "align_self": null,
            "border": null,
            "bottom": null,
            "display": null,
            "flex": null,
            "flex_flow": null,
            "grid_area": null,
            "grid_auto_columns": null,
            "grid_auto_flow": null,
            "grid_auto_rows": null,
            "grid_column": null,
            "grid_gap": null,
            "grid_row": null,
            "grid_template_areas": null,
            "grid_template_columns": null,
            "grid_template_rows": null,
            "height": null,
            "justify_content": null,
            "justify_items": null,
            "left": null,
            "margin": null,
            "max_height": null,
            "max_width": null,
            "min_height": null,
            "min_width": null,
            "object_fit": null,
            "object_position": null,
            "order": null,
            "overflow": null,
            "overflow_x": null,
            "overflow_y": null,
            "padding": null,
            "right": null,
            "top": null,
            "visibility": null,
            "width": null
          }
        },
        "24d694f3b75049e38fec349992530ae8": {
          "model_module": "@jupyter-widgets/controls",
          "model_name": "DescriptionStyleModel",
          "model_module_version": "1.5.0",
          "state": {
            "_model_module": "@jupyter-widgets/controls",
            "_model_module_version": "1.5.0",
            "_model_name": "DescriptionStyleModel",
            "_view_count": null,
            "_view_module": "@jupyter-widgets/base",
            "_view_module_version": "1.2.0",
            "_view_name": "StyleView",
            "description_width": ""
          }
        },
        "31efca4fa4834e95b04dfc14bc981275": {
          "model_module": "@jupyter-widgets/base",
          "model_name": "LayoutModel",
          "model_module_version": "1.2.0",
          "state": {
            "_model_module": "@jupyter-widgets/base",
            "_model_module_version": "1.2.0",
            "_model_name": "LayoutModel",
            "_view_count": null,
            "_view_module": "@jupyter-widgets/base",
            "_view_module_version": "1.2.0",
            "_view_name": "LayoutView",
            "align_content": null,
            "align_items": null,
            "align_self": null,
            "border": null,
            "bottom": null,
            "display": null,
            "flex": null,
            "flex_flow": null,
            "grid_area": null,
            "grid_auto_columns": null,
            "grid_auto_flow": null,
            "grid_auto_rows": null,
            "grid_column": null,
            "grid_gap": null,
            "grid_row": null,
            "grid_template_areas": null,
            "grid_template_columns": null,
            "grid_template_rows": null,
            "height": null,
            "justify_content": null,
            "justify_items": null,
            "left": null,
            "margin": null,
            "max_height": null,
            "max_width": null,
            "min_height": null,
            "min_width": null,
            "object_fit": null,
            "object_position": null,
            "order": null,
            "overflow": null,
            "overflow_x": null,
            "overflow_y": null,
            "padding": null,
            "right": null,
            "top": null,
            "visibility": null,
            "width": "20px"
          }
        },
        "9ae82341d9a14906b3fbb4ec427e1eed": {
          "model_module": "@jupyter-widgets/controls",
          "model_name": "ProgressStyleModel",
          "model_module_version": "1.5.0",
          "state": {
            "_model_module": "@jupyter-widgets/controls",
            "_model_module_version": "1.5.0",
            "_model_name": "ProgressStyleModel",
            "_view_count": null,
            "_view_module": "@jupyter-widgets/base",
            "_view_module_version": "1.2.0",
            "_view_name": "StyleView",
            "bar_color": null,
            "description_width": ""
          }
        },
        "c3069999a77143889ab3cb9a0eff7dd5": {
          "model_module": "@jupyter-widgets/base",
          "model_name": "LayoutModel",
          "model_module_version": "1.2.0",
          "state": {
            "_model_module": "@jupyter-widgets/base",
            "_model_module_version": "1.2.0",
            "_model_name": "LayoutModel",
            "_view_count": null,
            "_view_module": "@jupyter-widgets/base",
            "_view_module_version": "1.2.0",
            "_view_name": "LayoutView",
            "align_content": null,
            "align_items": null,
            "align_self": null,
            "border": null,
            "bottom": null,
            "display": null,
            "flex": null,
            "flex_flow": null,
            "grid_area": null,
            "grid_auto_columns": null,
            "grid_auto_flow": null,
            "grid_auto_rows": null,
            "grid_column": null,
            "grid_gap": null,
            "grid_row": null,
            "grid_template_areas": null,
            "grid_template_columns": null,
            "grid_template_rows": null,
            "height": null,
            "justify_content": null,
            "justify_items": null,
            "left": null,
            "margin": null,
            "max_height": null,
            "max_width": null,
            "min_height": null,
            "min_width": null,
            "object_fit": null,
            "object_position": null,
            "order": null,
            "overflow": null,
            "overflow_x": null,
            "overflow_y": null,
            "padding": null,
            "right": null,
            "top": null,
            "visibility": null,
            "width": null
          }
        },
        "2973b95f186f4b509b32082846042fa3": {
          "model_module": "@jupyter-widgets/controls",
          "model_name": "DescriptionStyleModel",
          "model_module_version": "1.5.0",
          "state": {
            "_model_module": "@jupyter-widgets/controls",
            "_model_module_version": "1.5.0",
            "_model_name": "DescriptionStyleModel",
            "_view_count": null,
            "_view_module": "@jupyter-widgets/base",
            "_view_module_version": "1.2.0",
            "_view_name": "StyleView",
            "description_width": ""
          }
        },
        "a5aa1265d1f942f2b0054245a128504f": {
          "model_module": "@jupyter-widgets/controls",
          "model_name": "HBoxModel",
          "model_module_version": "1.5.0",
          "state": {
            "_dom_classes": [],
            "_model_module": "@jupyter-widgets/controls",
            "_model_module_version": "1.5.0",
            "_model_name": "HBoxModel",
            "_view_count": null,
            "_view_module": "@jupyter-widgets/controls",
            "_view_module_version": "1.5.0",
            "_view_name": "HBoxView",
            "box_style": "",
            "children": [
              "IPY_MODEL_c73caed12f0e409aa15fe1e055cde5cd",
              "IPY_MODEL_e4d57c4690f04148992fa61b60f57b0b",
              "IPY_MODEL_cc9fdf4dd265481395424d93be489f7b"
            ],
            "layout": "IPY_MODEL_3e8195163add4a3ba06c600aaf5e1e85"
          }
        },
        "c73caed12f0e409aa15fe1e055cde5cd": {
          "model_module": "@jupyter-widgets/controls",
          "model_name": "HTMLModel",
          "model_module_version": "1.5.0",
          "state": {
            "_dom_classes": [],
            "_model_module": "@jupyter-widgets/controls",
            "_model_module_version": "1.5.0",
            "_model_name": "HTMLModel",
            "_view_count": null,
            "_view_module": "@jupyter-widgets/controls",
            "_view_module_version": "1.5.0",
            "_view_name": "HTMLView",
            "description": "",
            "description_tooltip": null,
            "layout": "IPY_MODEL_995f522865ed4e7790e8cbdd436ee907",
            "placeholder": "​",
            "style": "IPY_MODEL_c58dd606d382425ba78250e752deaa50",
            "value": "Map (num_proc=4): 100%"
          }
        },
        "e4d57c4690f04148992fa61b60f57b0b": {
          "model_module": "@jupyter-widgets/controls",
          "model_name": "FloatProgressModel",
          "model_module_version": "1.5.0",
          "state": {
            "_dom_classes": [],
            "_model_module": "@jupyter-widgets/controls",
            "_model_module_version": "1.5.0",
            "_model_name": "FloatProgressModel",
            "_view_count": null,
            "_view_module": "@jupyter-widgets/controls",
            "_view_module_version": "1.5.0",
            "_view_name": "ProgressView",
            "bar_style": "success",
            "description": "",
            "description_tooltip": null,
            "layout": "IPY_MODEL_37ace279797a471b8ec8053fd5e39594",
            "max": 2835,
            "min": 0,
            "orientation": "horizontal",
            "style": "IPY_MODEL_a485458c359f4e48aa054f2197d3a438",
            "value": 2835
          }
        },
        "cc9fdf4dd265481395424d93be489f7b": {
          "model_module": "@jupyter-widgets/controls",
          "model_name": "HTMLModel",
          "model_module_version": "1.5.0",
          "state": {
            "_dom_classes": [],
            "_model_module": "@jupyter-widgets/controls",
            "_model_module_version": "1.5.0",
            "_model_name": "HTMLModel",
            "_view_count": null,
            "_view_module": "@jupyter-widgets/controls",
            "_view_module_version": "1.5.0",
            "_view_name": "HTMLView",
            "description": "",
            "description_tooltip": null,
            "layout": "IPY_MODEL_d1cca9e522e54dc499c87d0b54920b13",
            "placeholder": "​",
            "style": "IPY_MODEL_210b31ece56444efbb5375dbd9cf16e4",
            "value": " 2835/2835 [04:26&lt;00:00,  1.43 examples/s]"
          }
        },
        "3e8195163add4a3ba06c600aaf5e1e85": {
          "model_module": "@jupyter-widgets/base",
          "model_name": "LayoutModel",
          "model_module_version": "1.2.0",
          "state": {
            "_model_module": "@jupyter-widgets/base",
            "_model_module_version": "1.2.0",
            "_model_name": "LayoutModel",
            "_view_count": null,
            "_view_module": "@jupyter-widgets/base",
            "_view_module_version": "1.2.0",
            "_view_name": "LayoutView",
            "align_content": null,
            "align_items": null,
            "align_self": null,
            "border": null,
            "bottom": null,
            "display": null,
            "flex": null,
            "flex_flow": null,
            "grid_area": null,
            "grid_auto_columns": null,
            "grid_auto_flow": null,
            "grid_auto_rows": null,
            "grid_column": null,
            "grid_gap": null,
            "grid_row": null,
            "grid_template_areas": null,
            "grid_template_columns": null,
            "grid_template_rows": null,
            "height": null,
            "justify_content": null,
            "justify_items": null,
            "left": null,
            "margin": null,
            "max_height": null,
            "max_width": null,
            "min_height": null,
            "min_width": null,
            "object_fit": null,
            "object_position": null,
            "order": null,
            "overflow": null,
            "overflow_x": null,
            "overflow_y": null,
            "padding": null,
            "right": null,
            "top": null,
            "visibility": null,
            "width": null
          }
        },
        "995f522865ed4e7790e8cbdd436ee907": {
          "model_module": "@jupyter-widgets/base",
          "model_name": "LayoutModel",
          "model_module_version": "1.2.0",
          "state": {
            "_model_module": "@jupyter-widgets/base",
            "_model_module_version": "1.2.0",
            "_model_name": "LayoutModel",
            "_view_count": null,
            "_view_module": "@jupyter-widgets/base",
            "_view_module_version": "1.2.0",
            "_view_name": "LayoutView",
            "align_content": null,
            "align_items": null,
            "align_self": null,
            "border": null,
            "bottom": null,
            "display": null,
            "flex": null,
            "flex_flow": null,
            "grid_area": null,
            "grid_auto_columns": null,
            "grid_auto_flow": null,
            "grid_auto_rows": null,
            "grid_column": null,
            "grid_gap": null,
            "grid_row": null,
            "grid_template_areas": null,
            "grid_template_columns": null,
            "grid_template_rows": null,
            "height": null,
            "justify_content": null,
            "justify_items": null,
            "left": null,
            "margin": null,
            "max_height": null,
            "max_width": null,
            "min_height": null,
            "min_width": null,
            "object_fit": null,
            "object_position": null,
            "order": null,
            "overflow": null,
            "overflow_x": null,
            "overflow_y": null,
            "padding": null,
            "right": null,
            "top": null,
            "visibility": null,
            "width": null
          }
        },
        "c58dd606d382425ba78250e752deaa50": {
          "model_module": "@jupyter-widgets/controls",
          "model_name": "DescriptionStyleModel",
          "model_module_version": "1.5.0",
          "state": {
            "_model_module": "@jupyter-widgets/controls",
            "_model_module_version": "1.5.0",
            "_model_name": "DescriptionStyleModel",
            "_view_count": null,
            "_view_module": "@jupyter-widgets/base",
            "_view_module_version": "1.2.0",
            "_view_name": "StyleView",
            "description_width": ""
          }
        },
        "37ace279797a471b8ec8053fd5e39594": {
          "model_module": "@jupyter-widgets/base",
          "model_name": "LayoutModel",
          "model_module_version": "1.2.0",
          "state": {
            "_model_module": "@jupyter-widgets/base",
            "_model_module_version": "1.2.0",
            "_model_name": "LayoutModel",
            "_view_count": null,
            "_view_module": "@jupyter-widgets/base",
            "_view_module_version": "1.2.0",
            "_view_name": "LayoutView",
            "align_content": null,
            "align_items": null,
            "align_self": null,
            "border": null,
            "bottom": null,
            "display": null,
            "flex": null,
            "flex_flow": null,
            "grid_area": null,
            "grid_auto_columns": null,
            "grid_auto_flow": null,
            "grid_auto_rows": null,
            "grid_column": null,
            "grid_gap": null,
            "grid_row": null,
            "grid_template_areas": null,
            "grid_template_columns": null,
            "grid_template_rows": null,
            "height": null,
            "justify_content": null,
            "justify_items": null,
            "left": null,
            "margin": null,
            "max_height": null,
            "max_width": null,
            "min_height": null,
            "min_width": null,
            "object_fit": null,
            "object_position": null,
            "order": null,
            "overflow": null,
            "overflow_x": null,
            "overflow_y": null,
            "padding": null,
            "right": null,
            "top": null,
            "visibility": null,
            "width": null
          }
        },
        "a485458c359f4e48aa054f2197d3a438": {
          "model_module": "@jupyter-widgets/controls",
          "model_name": "ProgressStyleModel",
          "model_module_version": "1.5.0",
          "state": {
            "_model_module": "@jupyter-widgets/controls",
            "_model_module_version": "1.5.0",
            "_model_name": "ProgressStyleModel",
            "_view_count": null,
            "_view_module": "@jupyter-widgets/base",
            "_view_module_version": "1.2.0",
            "_view_name": "StyleView",
            "bar_color": null,
            "description_width": ""
          }
        },
        "d1cca9e522e54dc499c87d0b54920b13": {
          "model_module": "@jupyter-widgets/base",
          "model_name": "LayoutModel",
          "model_module_version": "1.2.0",
          "state": {
            "_model_module": "@jupyter-widgets/base",
            "_model_module_version": "1.2.0",
            "_model_name": "LayoutModel",
            "_view_count": null,
            "_view_module": "@jupyter-widgets/base",
            "_view_module_version": "1.2.0",
            "_view_name": "LayoutView",
            "align_content": null,
            "align_items": null,
            "align_self": null,
            "border": null,
            "bottom": null,
            "display": null,
            "flex": null,
            "flex_flow": null,
            "grid_area": null,
            "grid_auto_columns": null,
            "grid_auto_flow": null,
            "grid_auto_rows": null,
            "grid_column": null,
            "grid_gap": null,
            "grid_row": null,
            "grid_template_areas": null,
            "grid_template_columns": null,
            "grid_template_rows": null,
            "height": null,
            "justify_content": null,
            "justify_items": null,
            "left": null,
            "margin": null,
            "max_height": null,
            "max_width": null,
            "min_height": null,
            "min_width": null,
            "object_fit": null,
            "object_position": null,
            "order": null,
            "overflow": null,
            "overflow_x": null,
            "overflow_y": null,
            "padding": null,
            "right": null,
            "top": null,
            "visibility": null,
            "width": null
          }
        },
        "210b31ece56444efbb5375dbd9cf16e4": {
          "model_module": "@jupyter-widgets/controls",
          "model_name": "DescriptionStyleModel",
          "model_module_version": "1.5.0",
          "state": {
            "_model_module": "@jupyter-widgets/controls",
            "_model_module_version": "1.5.0",
            "_model_name": "DescriptionStyleModel",
            "_view_count": null,
            "_view_module": "@jupyter-widgets/base",
            "_view_module_version": "1.2.0",
            "_view_name": "StyleView",
            "description_width": ""
          }
        },
        "22f3c56c118e4204a5d1697e2ae954f9": {
          "model_module": "@jupyter-widgets/controls",
          "model_name": "HBoxModel",
          "model_module_version": "1.5.0",
          "state": {
            "_dom_classes": [],
            "_model_module": "@jupyter-widgets/controls",
            "_model_module_version": "1.5.0",
            "_model_name": "HBoxModel",
            "_view_count": null,
            "_view_module": "@jupyter-widgets/controls",
            "_view_module_version": "1.5.0",
            "_view_name": "HBoxView",
            "box_style": "",
            "children": [
              "IPY_MODEL_9ae1b8d8ad9e4f8f821a102a1493bb3e",
              "IPY_MODEL_61484e29da3b4761bd8cc610c70589c5",
              "IPY_MODEL_9d9e4524df934066a8ccf0457b91e299"
            ],
            "layout": "IPY_MODEL_8f6fc9e756984672b8c19c51a95bea26"
          }
        },
        "9ae1b8d8ad9e4f8f821a102a1493bb3e": {
          "model_module": "@jupyter-widgets/controls",
          "model_name": "HTMLModel",
          "model_module_version": "1.5.0",
          "state": {
            "_dom_classes": [],
            "_model_module": "@jupyter-widgets/controls",
            "_model_module_version": "1.5.0",
            "_model_name": "HTMLModel",
            "_view_count": null,
            "_view_module": "@jupyter-widgets/controls",
            "_view_module_version": "1.5.0",
            "_view_name": "HTMLView",
            "description": "",
            "description_tooltip": null,
            "layout": "IPY_MODEL_a87bcf799e4c4b48930df7e097b0388d",
            "placeholder": "​",
            "style": "IPY_MODEL_e8d0e25ac69e4f77904d5abc3234fa73",
            "value": "Map (num_proc=4): 100%"
          }
        },
        "61484e29da3b4761bd8cc610c70589c5": {
          "model_module": "@jupyter-widgets/controls",
          "model_name": "FloatProgressModel",
          "model_module_version": "1.5.0",
          "state": {
            "_dom_classes": [],
            "_model_module": "@jupyter-widgets/controls",
            "_model_module_version": "1.5.0",
            "_model_name": "FloatProgressModel",
            "_view_count": null,
            "_view_module": "@jupyter-widgets/controls",
            "_view_module_version": "1.5.0",
            "_view_name": "ProgressView",
            "bar_style": "success",
            "description": "",
            "description_tooltip": null,
            "layout": "IPY_MODEL_57899842a2d24f5b9a1a6648e8a5eaf1",
            "max": 315,
            "min": 0,
            "orientation": "horizontal",
            "style": "IPY_MODEL_0dfd4742a8c748cf8985fd90996aa5b6",
            "value": 315
          }
        },
        "9d9e4524df934066a8ccf0457b91e299": {
          "model_module": "@jupyter-widgets/controls",
          "model_name": "HTMLModel",
          "model_module_version": "1.5.0",
          "state": {
            "_dom_classes": [],
            "_model_module": "@jupyter-widgets/controls",
            "_model_module_version": "1.5.0",
            "_model_name": "HTMLModel",
            "_view_count": null,
            "_view_module": "@jupyter-widgets/controls",
            "_view_module_version": "1.5.0",
            "_view_name": "HTMLView",
            "description": "",
            "description_tooltip": null,
            "layout": "IPY_MODEL_31a1b340d28542f99405fa6a20934fdb",
            "placeholder": "​",
            "style": "IPY_MODEL_231b3a6ce0f84304991ab66c14dc6af1",
            "value": " 315/315 [00:29&lt;00:00,  6.90 examples/s]"
          }
        },
        "8f6fc9e756984672b8c19c51a95bea26": {
          "model_module": "@jupyter-widgets/base",
          "model_name": "LayoutModel",
          "model_module_version": "1.2.0",
          "state": {
            "_model_module": "@jupyter-widgets/base",
            "_model_module_version": "1.2.0",
            "_model_name": "LayoutModel",
            "_view_count": null,
            "_view_module": "@jupyter-widgets/base",
            "_view_module_version": "1.2.0",
            "_view_name": "LayoutView",
            "align_content": null,
            "align_items": null,
            "align_self": null,
            "border": null,
            "bottom": null,
            "display": null,
            "flex": null,
            "flex_flow": null,
            "grid_area": null,
            "grid_auto_columns": null,
            "grid_auto_flow": null,
            "grid_auto_rows": null,
            "grid_column": null,
            "grid_gap": null,
            "grid_row": null,
            "grid_template_areas": null,
            "grid_template_columns": null,
            "grid_template_rows": null,
            "height": null,
            "justify_content": null,
            "justify_items": null,
            "left": null,
            "margin": null,
            "max_height": null,
            "max_width": null,
            "min_height": null,
            "min_width": null,
            "object_fit": null,
            "object_position": null,
            "order": null,
            "overflow": null,
            "overflow_x": null,
            "overflow_y": null,
            "padding": null,
            "right": null,
            "top": null,
            "visibility": null,
            "width": null
          }
        },
        "a87bcf799e4c4b48930df7e097b0388d": {
          "model_module": "@jupyter-widgets/base",
          "model_name": "LayoutModel",
          "model_module_version": "1.2.0",
          "state": {
            "_model_module": "@jupyter-widgets/base",
            "_model_module_version": "1.2.0",
            "_model_name": "LayoutModel",
            "_view_count": null,
            "_view_module": "@jupyter-widgets/base",
            "_view_module_version": "1.2.0",
            "_view_name": "LayoutView",
            "align_content": null,
            "align_items": null,
            "align_self": null,
            "border": null,
            "bottom": null,
            "display": null,
            "flex": null,
            "flex_flow": null,
            "grid_area": null,
            "grid_auto_columns": null,
            "grid_auto_flow": null,
            "grid_auto_rows": null,
            "grid_column": null,
            "grid_gap": null,
            "grid_row": null,
            "grid_template_areas": null,
            "grid_template_columns": null,
            "grid_template_rows": null,
            "height": null,
            "justify_content": null,
            "justify_items": null,
            "left": null,
            "margin": null,
            "max_height": null,
            "max_width": null,
            "min_height": null,
            "min_width": null,
            "object_fit": null,
            "object_position": null,
            "order": null,
            "overflow": null,
            "overflow_x": null,
            "overflow_y": null,
            "padding": null,
            "right": null,
            "top": null,
            "visibility": null,
            "width": null
          }
        },
        "e8d0e25ac69e4f77904d5abc3234fa73": {
          "model_module": "@jupyter-widgets/controls",
          "model_name": "DescriptionStyleModel",
          "model_module_version": "1.5.0",
          "state": {
            "_model_module": "@jupyter-widgets/controls",
            "_model_module_version": "1.5.0",
            "_model_name": "DescriptionStyleModel",
            "_view_count": null,
            "_view_module": "@jupyter-widgets/base",
            "_view_module_version": "1.2.0",
            "_view_name": "StyleView",
            "description_width": ""
          }
        },
        "57899842a2d24f5b9a1a6648e8a5eaf1": {
          "model_module": "@jupyter-widgets/base",
          "model_name": "LayoutModel",
          "model_module_version": "1.2.0",
          "state": {
            "_model_module": "@jupyter-widgets/base",
            "_model_module_version": "1.2.0",
            "_model_name": "LayoutModel",
            "_view_count": null,
            "_view_module": "@jupyter-widgets/base",
            "_view_module_version": "1.2.0",
            "_view_name": "LayoutView",
            "align_content": null,
            "align_items": null,
            "align_self": null,
            "border": null,
            "bottom": null,
            "display": null,
            "flex": null,
            "flex_flow": null,
            "grid_area": null,
            "grid_auto_columns": null,
            "grid_auto_flow": null,
            "grid_auto_rows": null,
            "grid_column": null,
            "grid_gap": null,
            "grid_row": null,
            "grid_template_areas": null,
            "grid_template_columns": null,
            "grid_template_rows": null,
            "height": null,
            "justify_content": null,
            "justify_items": null,
            "left": null,
            "margin": null,
            "max_height": null,
            "max_width": null,
            "min_height": null,
            "min_width": null,
            "object_fit": null,
            "object_position": null,
            "order": null,
            "overflow": null,
            "overflow_x": null,
            "overflow_y": null,
            "padding": null,
            "right": null,
            "top": null,
            "visibility": null,
            "width": null
          }
        },
        "0dfd4742a8c748cf8985fd90996aa5b6": {
          "model_module": "@jupyter-widgets/controls",
          "model_name": "ProgressStyleModel",
          "model_module_version": "1.5.0",
          "state": {
            "_model_module": "@jupyter-widgets/controls",
            "_model_module_version": "1.5.0",
            "_model_name": "ProgressStyleModel",
            "_view_count": null,
            "_view_module": "@jupyter-widgets/base",
            "_view_module_version": "1.2.0",
            "_view_name": "StyleView",
            "bar_color": null,
            "description_width": ""
          }
        },
        "31a1b340d28542f99405fa6a20934fdb": {
          "model_module": "@jupyter-widgets/base",
          "model_name": "LayoutModel",
          "model_module_version": "1.2.0",
          "state": {
            "_model_module": "@jupyter-widgets/base",
            "_model_module_version": "1.2.0",
            "_model_name": "LayoutModel",
            "_view_count": null,
            "_view_module": "@jupyter-widgets/base",
            "_view_module_version": "1.2.0",
            "_view_name": "LayoutView",
            "align_content": null,
            "align_items": null,
            "align_self": null,
            "border": null,
            "bottom": null,
            "display": null,
            "flex": null,
            "flex_flow": null,
            "grid_area": null,
            "grid_auto_columns": null,
            "grid_auto_flow": null,
            "grid_auto_rows": null,
            "grid_column": null,
            "grid_gap": null,
            "grid_row": null,
            "grid_template_areas": null,
            "grid_template_columns": null,
            "grid_template_rows": null,
            "height": null,
            "justify_content": null,
            "justify_items": null,
            "left": null,
            "margin": null,
            "max_height": null,
            "max_width": null,
            "min_height": null,
            "min_width": null,
            "object_fit": null,
            "object_position": null,
            "order": null,
            "overflow": null,
            "overflow_x": null,
            "overflow_y": null,
            "padding": null,
            "right": null,
            "top": null,
            "visibility": null,
            "width": null
          }
        },
        "231b3a6ce0f84304991ab66c14dc6af1": {
          "model_module": "@jupyter-widgets/controls",
          "model_name": "DescriptionStyleModel",
          "model_module_version": "1.5.0",
          "state": {
            "_model_module": "@jupyter-widgets/controls",
            "_model_module_version": "1.5.0",
            "_model_name": "DescriptionStyleModel",
            "_view_count": null,
            "_view_module": "@jupyter-widgets/base",
            "_view_module_version": "1.2.0",
            "_view_name": "StyleView",
            "description_width": ""
          }
        },
        "75a07b4dc578471f902de2c3ee307067": {
          "model_module": "@jupyter-widgets/controls",
          "model_name": "HBoxModel",
          "model_module_version": "1.5.0",
          "state": {
            "_dom_classes": [],
            "_model_module": "@jupyter-widgets/controls",
            "_model_module_version": "1.5.0",
            "_model_name": "HBoxModel",
            "_view_count": null,
            "_view_module": "@jupyter-widgets/controls",
            "_view_module_version": "1.5.0",
            "_view_name": "HBoxView",
            "box_style": "",
            "children": [
              "IPY_MODEL_900cd59605b44e588fa8cdf783da9155",
              "IPY_MODEL_2d8d26447ace41489c0f3c15f1919104",
              "IPY_MODEL_95d38a7ab7ad42b283a712702cec3d30"
            ],
            "layout": "IPY_MODEL_da1151149ada463db9a172243fbf4244"
          }
        },
        "900cd59605b44e588fa8cdf783da9155": {
          "model_module": "@jupyter-widgets/controls",
          "model_name": "HTMLModel",
          "model_module_version": "1.5.0",
          "state": {
            "_dom_classes": [],
            "_model_module": "@jupyter-widgets/controls",
            "_model_module_version": "1.5.0",
            "_model_name": "HTMLModel",
            "_view_count": null,
            "_view_module": "@jupyter-widgets/controls",
            "_view_module_version": "1.5.0",
            "_view_name": "HTMLView",
            "description": "",
            "description_tooltip": null,
            "layout": "IPY_MODEL_605009030c73433889b3620275c11f05",
            "placeholder": "​",
            "style": "IPY_MODEL_3043081c40f1475f81b8c841d465cc00",
            "value": "Downloading builder script: 100%"
          }
        },
        "2d8d26447ace41489c0f3c15f1919104": {
          "model_module": "@jupyter-widgets/controls",
          "model_name": "FloatProgressModel",
          "model_module_version": "1.5.0",
          "state": {
            "_dom_classes": [],
            "_model_module": "@jupyter-widgets/controls",
            "_model_module_version": "1.5.0",
            "_model_name": "FloatProgressModel",
            "_view_count": null,
            "_view_module": "@jupyter-widgets/controls",
            "_view_module_version": "1.5.0",
            "_view_name": "ProgressView",
            "bar_style": "success",
            "description": "",
            "description_tooltip": null,
            "layout": "IPY_MODEL_b2e398a22ae743fab6614d81255438f7",
            "max": 4485,
            "min": 0,
            "orientation": "horizontal",
            "style": "IPY_MODEL_5d59587e79804022affc104a161f5856",
            "value": 4485
          }
        },
        "95d38a7ab7ad42b283a712702cec3d30": {
          "model_module": "@jupyter-widgets/controls",
          "model_name": "HTMLModel",
          "model_module_version": "1.5.0",
          "state": {
            "_dom_classes": [],
            "_model_module": "@jupyter-widgets/controls",
            "_model_module_version": "1.5.0",
            "_model_name": "HTMLModel",
            "_view_count": null,
            "_view_module": "@jupyter-widgets/controls",
            "_view_module_version": "1.5.0",
            "_view_name": "HTMLView",
            "description": "",
            "description_tooltip": null,
            "layout": "IPY_MODEL_d01258e936a4417f92b415aec534f9a4",
            "placeholder": "​",
            "style": "IPY_MODEL_7a52546b342345d8a3e4c83ca65e9f4a",
            "value": " 4.49k/4.49k [00:00&lt;00:00, 163kB/s]"
          }
        },
        "da1151149ada463db9a172243fbf4244": {
          "model_module": "@jupyter-widgets/base",
          "model_name": "LayoutModel",
          "model_module_version": "1.2.0",
          "state": {
            "_model_module": "@jupyter-widgets/base",
            "_model_module_version": "1.2.0",
            "_model_name": "LayoutModel",
            "_view_count": null,
            "_view_module": "@jupyter-widgets/base",
            "_view_module_version": "1.2.0",
            "_view_name": "LayoutView",
            "align_content": null,
            "align_items": null,
            "align_self": null,
            "border": null,
            "bottom": null,
            "display": null,
            "flex": null,
            "flex_flow": null,
            "grid_area": null,
            "grid_auto_columns": null,
            "grid_auto_flow": null,
            "grid_auto_rows": null,
            "grid_column": null,
            "grid_gap": null,
            "grid_row": null,
            "grid_template_areas": null,
            "grid_template_columns": null,
            "grid_template_rows": null,
            "height": null,
            "justify_content": null,
            "justify_items": null,
            "left": null,
            "margin": null,
            "max_height": null,
            "max_width": null,
            "min_height": null,
            "min_width": null,
            "object_fit": null,
            "object_position": null,
            "order": null,
            "overflow": null,
            "overflow_x": null,
            "overflow_y": null,
            "padding": null,
            "right": null,
            "top": null,
            "visibility": null,
            "width": null
          }
        },
        "605009030c73433889b3620275c11f05": {
          "model_module": "@jupyter-widgets/base",
          "model_name": "LayoutModel",
          "model_module_version": "1.2.0",
          "state": {
            "_model_module": "@jupyter-widgets/base",
            "_model_module_version": "1.2.0",
            "_model_name": "LayoutModel",
            "_view_count": null,
            "_view_module": "@jupyter-widgets/base",
            "_view_module_version": "1.2.0",
            "_view_name": "LayoutView",
            "align_content": null,
            "align_items": null,
            "align_self": null,
            "border": null,
            "bottom": null,
            "display": null,
            "flex": null,
            "flex_flow": null,
            "grid_area": null,
            "grid_auto_columns": null,
            "grid_auto_flow": null,
            "grid_auto_rows": null,
            "grid_column": null,
            "grid_gap": null,
            "grid_row": null,
            "grid_template_areas": null,
            "grid_template_columns": null,
            "grid_template_rows": null,
            "height": null,
            "justify_content": null,
            "justify_items": null,
            "left": null,
            "margin": null,
            "max_height": null,
            "max_width": null,
            "min_height": null,
            "min_width": null,
            "object_fit": null,
            "object_position": null,
            "order": null,
            "overflow": null,
            "overflow_x": null,
            "overflow_y": null,
            "padding": null,
            "right": null,
            "top": null,
            "visibility": null,
            "width": null
          }
        },
        "3043081c40f1475f81b8c841d465cc00": {
          "model_module": "@jupyter-widgets/controls",
          "model_name": "DescriptionStyleModel",
          "model_module_version": "1.5.0",
          "state": {
            "_model_module": "@jupyter-widgets/controls",
            "_model_module_version": "1.5.0",
            "_model_name": "DescriptionStyleModel",
            "_view_count": null,
            "_view_module": "@jupyter-widgets/base",
            "_view_module_version": "1.2.0",
            "_view_name": "StyleView",
            "description_width": ""
          }
        },
        "b2e398a22ae743fab6614d81255438f7": {
          "model_module": "@jupyter-widgets/base",
          "model_name": "LayoutModel",
          "model_module_version": "1.2.0",
          "state": {
            "_model_module": "@jupyter-widgets/base",
            "_model_module_version": "1.2.0",
            "_model_name": "LayoutModel",
            "_view_count": null,
            "_view_module": "@jupyter-widgets/base",
            "_view_module_version": "1.2.0",
            "_view_name": "LayoutView",
            "align_content": null,
            "align_items": null,
            "align_self": null,
            "border": null,
            "bottom": null,
            "display": null,
            "flex": null,
            "flex_flow": null,
            "grid_area": null,
            "grid_auto_columns": null,
            "grid_auto_flow": null,
            "grid_auto_rows": null,
            "grid_column": null,
            "grid_gap": null,
            "grid_row": null,
            "grid_template_areas": null,
            "grid_template_columns": null,
            "grid_template_rows": null,
            "height": null,
            "justify_content": null,
            "justify_items": null,
            "left": null,
            "margin": null,
            "max_height": null,
            "max_width": null,
            "min_height": null,
            "min_width": null,
            "object_fit": null,
            "object_position": null,
            "order": null,
            "overflow": null,
            "overflow_x": null,
            "overflow_y": null,
            "padding": null,
            "right": null,
            "top": null,
            "visibility": null,
            "width": null
          }
        },
        "5d59587e79804022affc104a161f5856": {
          "model_module": "@jupyter-widgets/controls",
          "model_name": "ProgressStyleModel",
          "model_module_version": "1.5.0",
          "state": {
            "_model_module": "@jupyter-widgets/controls",
            "_model_module_version": "1.5.0",
            "_model_name": "ProgressStyleModel",
            "_view_count": null,
            "_view_module": "@jupyter-widgets/base",
            "_view_module_version": "1.2.0",
            "_view_name": "StyleView",
            "bar_color": null,
            "description_width": ""
          }
        },
        "d01258e936a4417f92b415aec534f9a4": {
          "model_module": "@jupyter-widgets/base",
          "model_name": "LayoutModel",
          "model_module_version": "1.2.0",
          "state": {
            "_model_module": "@jupyter-widgets/base",
            "_model_module_version": "1.2.0",
            "_model_name": "LayoutModel",
            "_view_count": null,
            "_view_module": "@jupyter-widgets/base",
            "_view_module_version": "1.2.0",
            "_view_name": "LayoutView",
            "align_content": null,
            "align_items": null,
            "align_self": null,
            "border": null,
            "bottom": null,
            "display": null,
            "flex": null,
            "flex_flow": null,
            "grid_area": null,
            "grid_auto_columns": null,
            "grid_auto_flow": null,
            "grid_auto_rows": null,
            "grid_column": null,
            "grid_gap": null,
            "grid_row": null,
            "grid_template_areas": null,
            "grid_template_columns": null,
            "grid_template_rows": null,
            "height": null,
            "justify_content": null,
            "justify_items": null,
            "left": null,
            "margin": null,
            "max_height": null,
            "max_width": null,
            "min_height": null,
            "min_width": null,
            "object_fit": null,
            "object_position": null,
            "order": null,
            "overflow": null,
            "overflow_x": null,
            "overflow_y": null,
            "padding": null,
            "right": null,
            "top": null,
            "visibility": null,
            "width": null
          }
        },
        "7a52546b342345d8a3e4c83ca65e9f4a": {
          "model_module": "@jupyter-widgets/controls",
          "model_name": "DescriptionStyleModel",
          "model_module_version": "1.5.0",
          "state": {
            "_model_module": "@jupyter-widgets/controls",
            "_model_module_version": "1.5.0",
            "_model_name": "DescriptionStyleModel",
            "_view_count": null,
            "_view_module": "@jupyter-widgets/base",
            "_view_module_version": "1.2.0",
            "_view_name": "StyleView",
            "description_width": ""
          }
        },
        "23a762cd9a874773b10bd4ec60f8b5f0": {
          "model_module": "@jupyter-widgets/controls",
          "model_name": "HBoxModel",
          "model_module_version": "1.5.0",
          "state": {
            "_dom_classes": [],
            "_model_module": "@jupyter-widgets/controls",
            "_model_module_version": "1.5.0",
            "_model_name": "HBoxModel",
            "_view_count": null,
            "_view_module": "@jupyter-widgets/controls",
            "_view_module_version": "1.5.0",
            "_view_name": "HBoxView",
            "box_style": "",
            "children": [
              "IPY_MODEL_2a1ab0652a3b4a7dbd50cce86fbe7a13",
              "IPY_MODEL_7ad82e7894464ed3aec3a816f3dd64bb",
              "IPY_MODEL_b2a51d95b4a840c8b4af43834e62ab44"
            ],
            "layout": "IPY_MODEL_d8f1469437464669b2d3e4896fbfebd2"
          }
        },
        "2a1ab0652a3b4a7dbd50cce86fbe7a13": {
          "model_module": "@jupyter-widgets/controls",
          "model_name": "HTMLModel",
          "model_module_version": "1.5.0",
          "state": {
            "_dom_classes": [],
            "_model_module": "@jupyter-widgets/controls",
            "_model_module_version": "1.5.0",
            "_model_name": "HTMLModel",
            "_view_count": null,
            "_view_module": "@jupyter-widgets/controls",
            "_view_module_version": "1.5.0",
            "_view_name": "HTMLView",
            "description": "",
            "description_tooltip": null,
            "layout": "IPY_MODEL_953eac2bc7cc44e9bdfebc9d63d5cd75",
            "placeholder": "​",
            "style": "IPY_MODEL_1dc347ae22a940fa87a48e60792f8058",
            "value": "config.json: 100%"
          }
        },
        "7ad82e7894464ed3aec3a816f3dd64bb": {
          "model_module": "@jupyter-widgets/controls",
          "model_name": "FloatProgressModel",
          "model_module_version": "1.5.0",
          "state": {
            "_dom_classes": [],
            "_model_module": "@jupyter-widgets/controls",
            "_model_module_version": "1.5.0",
            "_model_name": "FloatProgressModel",
            "_view_count": null,
            "_view_module": "@jupyter-widgets/controls",
            "_view_module_version": "1.5.0",
            "_view_name": "ProgressView",
            "bar_style": "success",
            "description": "",
            "description_tooltip": null,
            "layout": "IPY_MODEL_bb528e998eec4efdac4f963b0b686b45",
            "max": 1568,
            "min": 0,
            "orientation": "horizontal",
            "style": "IPY_MODEL_fc2d395c49134cd1885c6dabddb83ae9",
            "value": 1568
          }
        },
        "b2a51d95b4a840c8b4af43834e62ab44": {
          "model_module": "@jupyter-widgets/controls",
          "model_name": "HTMLModel",
          "model_module_version": "1.5.0",
          "state": {
            "_dom_classes": [],
            "_model_module": "@jupyter-widgets/controls",
            "_model_module_version": "1.5.0",
            "_model_name": "HTMLModel",
            "_view_count": null,
            "_view_module": "@jupyter-widgets/controls",
            "_view_module_version": "1.5.0",
            "_view_name": "HTMLView",
            "description": "",
            "description_tooltip": null,
            "layout": "IPY_MODEL_b1ec4da0b882446e83c90b43c556d274",
            "placeholder": "​",
            "style": "IPY_MODEL_c66f5d823525424aab0af4d811bba647",
            "value": " 1.57k/1.57k [00:00&lt;00:00, 61.1kB/s]"
          }
        },
        "d8f1469437464669b2d3e4896fbfebd2": {
          "model_module": "@jupyter-widgets/base",
          "model_name": "LayoutModel",
          "model_module_version": "1.2.0",
          "state": {
            "_model_module": "@jupyter-widgets/base",
            "_model_module_version": "1.2.0",
            "_model_name": "LayoutModel",
            "_view_count": null,
            "_view_module": "@jupyter-widgets/base",
            "_view_module_version": "1.2.0",
            "_view_name": "LayoutView",
            "align_content": null,
            "align_items": null,
            "align_self": null,
            "border": null,
            "bottom": null,
            "display": null,
            "flex": null,
            "flex_flow": null,
            "grid_area": null,
            "grid_auto_columns": null,
            "grid_auto_flow": null,
            "grid_auto_rows": null,
            "grid_column": null,
            "grid_gap": null,
            "grid_row": null,
            "grid_template_areas": null,
            "grid_template_columns": null,
            "grid_template_rows": null,
            "height": null,
            "justify_content": null,
            "justify_items": null,
            "left": null,
            "margin": null,
            "max_height": null,
            "max_width": null,
            "min_height": null,
            "min_width": null,
            "object_fit": null,
            "object_position": null,
            "order": null,
            "overflow": null,
            "overflow_x": null,
            "overflow_y": null,
            "padding": null,
            "right": null,
            "top": null,
            "visibility": null,
            "width": null
          }
        },
        "953eac2bc7cc44e9bdfebc9d63d5cd75": {
          "model_module": "@jupyter-widgets/base",
          "model_name": "LayoutModel",
          "model_module_version": "1.2.0",
          "state": {
            "_model_module": "@jupyter-widgets/base",
            "_model_module_version": "1.2.0",
            "_model_name": "LayoutModel",
            "_view_count": null,
            "_view_module": "@jupyter-widgets/base",
            "_view_module_version": "1.2.0",
            "_view_name": "LayoutView",
            "align_content": null,
            "align_items": null,
            "align_self": null,
            "border": null,
            "bottom": null,
            "display": null,
            "flex": null,
            "flex_flow": null,
            "grid_area": null,
            "grid_auto_columns": null,
            "grid_auto_flow": null,
            "grid_auto_rows": null,
            "grid_column": null,
            "grid_gap": null,
            "grid_row": null,
            "grid_template_areas": null,
            "grid_template_columns": null,
            "grid_template_rows": null,
            "height": null,
            "justify_content": null,
            "justify_items": null,
            "left": null,
            "margin": null,
            "max_height": null,
            "max_width": null,
            "min_height": null,
            "min_width": null,
            "object_fit": null,
            "object_position": null,
            "order": null,
            "overflow": null,
            "overflow_x": null,
            "overflow_y": null,
            "padding": null,
            "right": null,
            "top": null,
            "visibility": null,
            "width": null
          }
        },
        "1dc347ae22a940fa87a48e60792f8058": {
          "model_module": "@jupyter-widgets/controls",
          "model_name": "DescriptionStyleModel",
          "model_module_version": "1.5.0",
          "state": {
            "_model_module": "@jupyter-widgets/controls",
            "_model_module_version": "1.5.0",
            "_model_name": "DescriptionStyleModel",
            "_view_count": null,
            "_view_module": "@jupyter-widgets/base",
            "_view_module_version": "1.2.0",
            "_view_name": "StyleView",
            "description_width": ""
          }
        },
        "bb528e998eec4efdac4f963b0b686b45": {
          "model_module": "@jupyter-widgets/base",
          "model_name": "LayoutModel",
          "model_module_version": "1.2.0",
          "state": {
            "_model_module": "@jupyter-widgets/base",
            "_model_module_version": "1.2.0",
            "_model_name": "LayoutModel",
            "_view_count": null,
            "_view_module": "@jupyter-widgets/base",
            "_view_module_version": "1.2.0",
            "_view_name": "LayoutView",
            "align_content": null,
            "align_items": null,
            "align_self": null,
            "border": null,
            "bottom": null,
            "display": null,
            "flex": null,
            "flex_flow": null,
            "grid_area": null,
            "grid_auto_columns": null,
            "grid_auto_flow": null,
            "grid_auto_rows": null,
            "grid_column": null,
            "grid_gap": null,
            "grid_row": null,
            "grid_template_areas": null,
            "grid_template_columns": null,
            "grid_template_rows": null,
            "height": null,
            "justify_content": null,
            "justify_items": null,
            "left": null,
            "margin": null,
            "max_height": null,
            "max_width": null,
            "min_height": null,
            "min_width": null,
            "object_fit": null,
            "object_position": null,
            "order": null,
            "overflow": null,
            "overflow_x": null,
            "overflow_y": null,
            "padding": null,
            "right": null,
            "top": null,
            "visibility": null,
            "width": null
          }
        },
        "fc2d395c49134cd1885c6dabddb83ae9": {
          "model_module": "@jupyter-widgets/controls",
          "model_name": "ProgressStyleModel",
          "model_module_version": "1.5.0",
          "state": {
            "_model_module": "@jupyter-widgets/controls",
            "_model_module_version": "1.5.0",
            "_model_name": "ProgressStyleModel",
            "_view_count": null,
            "_view_module": "@jupyter-widgets/base",
            "_view_module_version": "1.2.0",
            "_view_name": "StyleView",
            "bar_color": null,
            "description_width": ""
          }
        },
        "b1ec4da0b882446e83c90b43c556d274": {
          "model_module": "@jupyter-widgets/base",
          "model_name": "LayoutModel",
          "model_module_version": "1.2.0",
          "state": {
            "_model_module": "@jupyter-widgets/base",
            "_model_module_version": "1.2.0",
            "_model_name": "LayoutModel",
            "_view_count": null,
            "_view_module": "@jupyter-widgets/base",
            "_view_module_version": "1.2.0",
            "_view_name": "LayoutView",
            "align_content": null,
            "align_items": null,
            "align_self": null,
            "border": null,
            "bottom": null,
            "display": null,
            "flex": null,
            "flex_flow": null,
            "grid_area": null,
            "grid_auto_columns": null,
            "grid_auto_flow": null,
            "grid_auto_rows": null,
            "grid_column": null,
            "grid_gap": null,
            "grid_row": null,
            "grid_template_areas": null,
            "grid_template_columns": null,
            "grid_template_rows": null,
            "height": null,
            "justify_content": null,
            "justify_items": null,
            "left": null,
            "margin": null,
            "max_height": null,
            "max_width": null,
            "min_height": null,
            "min_width": null,
            "object_fit": null,
            "object_position": null,
            "order": null,
            "overflow": null,
            "overflow_x": null,
            "overflow_y": null,
            "padding": null,
            "right": null,
            "top": null,
            "visibility": null,
            "width": null
          }
        },
        "c66f5d823525424aab0af4d811bba647": {
          "model_module": "@jupyter-widgets/controls",
          "model_name": "DescriptionStyleModel",
          "model_module_version": "1.5.0",
          "state": {
            "_model_module": "@jupyter-widgets/controls",
            "_model_module_version": "1.5.0",
            "_model_name": "DescriptionStyleModel",
            "_view_count": null,
            "_view_module": "@jupyter-widgets/base",
            "_view_module_version": "1.2.0",
            "_view_name": "StyleView",
            "description_width": ""
          }
        },
        "0a66c7efb49042b8893d38ee233593a3": {
          "model_module": "@jupyter-widgets/controls",
          "model_name": "HBoxModel",
          "model_module_version": "1.5.0",
          "state": {
            "_dom_classes": [],
            "_model_module": "@jupyter-widgets/controls",
            "_model_module_version": "1.5.0",
            "_model_name": "HBoxModel",
            "_view_count": null,
            "_view_module": "@jupyter-widgets/controls",
            "_view_module_version": "1.5.0",
            "_view_name": "HBoxView",
            "box_style": "",
            "children": [
              "IPY_MODEL_01a562549d8b47b58006593cc3de1a2c",
              "IPY_MODEL_bae7e9e97f724eefa8e8a03afcdcd8d4",
              "IPY_MODEL_287528a6e72243a3be1f256302ec1200"
            ],
            "layout": "IPY_MODEL_fa9a4ba004734960ae2edcdbf3c53759"
          }
        },
        "01a562549d8b47b58006593cc3de1a2c": {
          "model_module": "@jupyter-widgets/controls",
          "model_name": "HTMLModel",
          "model_module_version": "1.5.0",
          "state": {
            "_dom_classes": [],
            "_model_module": "@jupyter-widgets/controls",
            "_model_module_version": "1.5.0",
            "_model_name": "HTMLModel",
            "_view_count": null,
            "_view_module": "@jupyter-widgets/controls",
            "_view_module_version": "1.5.0",
            "_view_name": "HTMLView",
            "description": "",
            "description_tooltip": null,
            "layout": "IPY_MODEL_493948dcb39e4554a176ad00c326a4cb",
            "placeholder": "​",
            "style": "IPY_MODEL_fc132492f99744e19f5b4ba0a775c67c",
            "value": "pytorch_model.bin: 100%"
          }
        },
        "bae7e9e97f724eefa8e8a03afcdcd8d4": {
          "model_module": "@jupyter-widgets/controls",
          "model_name": "FloatProgressModel",
          "model_module_version": "1.5.0",
          "state": {
            "_dom_classes": [],
            "_model_module": "@jupyter-widgets/controls",
            "_model_module_version": "1.5.0",
            "_model_name": "FloatProgressModel",
            "_view_count": null,
            "_view_module": "@jupyter-widgets/controls",
            "_view_module_version": "1.5.0",
            "_view_name": "ProgressView",
            "bar_style": "success",
            "description": "",
            "description_tooltip": null,
            "layout": "IPY_MODEL_bb23d79330e34202a2a68037a733f209",
            "max": 1269737156,
            "min": 0,
            "orientation": "horizontal",
            "style": "IPY_MODEL_0c68673f82b4461699dd843cbbd72a40",
            "value": 1269737156
          }
        },
        "287528a6e72243a3be1f256302ec1200": {
          "model_module": "@jupyter-widgets/controls",
          "model_name": "HTMLModel",
          "model_module_version": "1.5.0",
          "state": {
            "_dom_classes": [],
            "_model_module": "@jupyter-widgets/controls",
            "_model_module_version": "1.5.0",
            "_model_name": "HTMLModel",
            "_view_count": null,
            "_view_module": "@jupyter-widgets/controls",
            "_view_module_version": "1.5.0",
            "_view_name": "HTMLView",
            "description": "",
            "description_tooltip": null,
            "layout": "IPY_MODEL_1223653b94be4bf4acb28cf863bd545d",
            "placeholder": "​",
            "style": "IPY_MODEL_3003ec4bf481404681c3ff266d6f85ea",
            "value": " 1.27G/1.27G [00:13&lt;00:00, 111MB/s]"
          }
        },
        "fa9a4ba004734960ae2edcdbf3c53759": {
          "model_module": "@jupyter-widgets/base",
          "model_name": "LayoutModel",
          "model_module_version": "1.2.0",
          "state": {
            "_model_module": "@jupyter-widgets/base",
            "_model_module_version": "1.2.0",
            "_model_name": "LayoutModel",
            "_view_count": null,
            "_view_module": "@jupyter-widgets/base",
            "_view_module_version": "1.2.0",
            "_view_name": "LayoutView",
            "align_content": null,
            "align_items": null,
            "align_self": null,
            "border": null,
            "bottom": null,
            "display": null,
            "flex": null,
            "flex_flow": null,
            "grid_area": null,
            "grid_auto_columns": null,
            "grid_auto_flow": null,
            "grid_auto_rows": null,
            "grid_column": null,
            "grid_gap": null,
            "grid_row": null,
            "grid_template_areas": null,
            "grid_template_columns": null,
            "grid_template_rows": null,
            "height": null,
            "justify_content": null,
            "justify_items": null,
            "left": null,
            "margin": null,
            "max_height": null,
            "max_width": null,
            "min_height": null,
            "min_width": null,
            "object_fit": null,
            "object_position": null,
            "order": null,
            "overflow": null,
            "overflow_x": null,
            "overflow_y": null,
            "padding": null,
            "right": null,
            "top": null,
            "visibility": null,
            "width": null
          }
        },
        "493948dcb39e4554a176ad00c326a4cb": {
          "model_module": "@jupyter-widgets/base",
          "model_name": "LayoutModel",
          "model_module_version": "1.2.0",
          "state": {
            "_model_module": "@jupyter-widgets/base",
            "_model_module_version": "1.2.0",
            "_model_name": "LayoutModel",
            "_view_count": null,
            "_view_module": "@jupyter-widgets/base",
            "_view_module_version": "1.2.0",
            "_view_name": "LayoutView",
            "align_content": null,
            "align_items": null,
            "align_self": null,
            "border": null,
            "bottom": null,
            "display": null,
            "flex": null,
            "flex_flow": null,
            "grid_area": null,
            "grid_auto_columns": null,
            "grid_auto_flow": null,
            "grid_auto_rows": null,
            "grid_column": null,
            "grid_gap": null,
            "grid_row": null,
            "grid_template_areas": null,
            "grid_template_columns": null,
            "grid_template_rows": null,
            "height": null,
            "justify_content": null,
            "justify_items": null,
            "left": null,
            "margin": null,
            "max_height": null,
            "max_width": null,
            "min_height": null,
            "min_width": null,
            "object_fit": null,
            "object_position": null,
            "order": null,
            "overflow": null,
            "overflow_x": null,
            "overflow_y": null,
            "padding": null,
            "right": null,
            "top": null,
            "visibility": null,
            "width": null
          }
        },
        "fc132492f99744e19f5b4ba0a775c67c": {
          "model_module": "@jupyter-widgets/controls",
          "model_name": "DescriptionStyleModel",
          "model_module_version": "1.5.0",
          "state": {
            "_model_module": "@jupyter-widgets/controls",
            "_model_module_version": "1.5.0",
            "_model_name": "DescriptionStyleModel",
            "_view_count": null,
            "_view_module": "@jupyter-widgets/base",
            "_view_module_version": "1.2.0",
            "_view_name": "StyleView",
            "description_width": ""
          }
        },
        "bb23d79330e34202a2a68037a733f209": {
          "model_module": "@jupyter-widgets/base",
          "model_name": "LayoutModel",
          "model_module_version": "1.2.0",
          "state": {
            "_model_module": "@jupyter-widgets/base",
            "_model_module_version": "1.2.0",
            "_model_name": "LayoutModel",
            "_view_count": null,
            "_view_module": "@jupyter-widgets/base",
            "_view_module_version": "1.2.0",
            "_view_name": "LayoutView",
            "align_content": null,
            "align_items": null,
            "align_self": null,
            "border": null,
            "bottom": null,
            "display": null,
            "flex": null,
            "flex_flow": null,
            "grid_area": null,
            "grid_auto_columns": null,
            "grid_auto_flow": null,
            "grid_auto_rows": null,
            "grid_column": null,
            "grid_gap": null,
            "grid_row": null,
            "grid_template_areas": null,
            "grid_template_columns": null,
            "grid_template_rows": null,
            "height": null,
            "justify_content": null,
            "justify_items": null,
            "left": null,
            "margin": null,
            "max_height": null,
            "max_width": null,
            "min_height": null,
            "min_width": null,
            "object_fit": null,
            "object_position": null,
            "order": null,
            "overflow": null,
            "overflow_x": null,
            "overflow_y": null,
            "padding": null,
            "right": null,
            "top": null,
            "visibility": null,
            "width": null
          }
        },
        "0c68673f82b4461699dd843cbbd72a40": {
          "model_module": "@jupyter-widgets/controls",
          "model_name": "ProgressStyleModel",
          "model_module_version": "1.5.0",
          "state": {
            "_model_module": "@jupyter-widgets/controls",
            "_model_module_version": "1.5.0",
            "_model_name": "ProgressStyleModel",
            "_view_count": null,
            "_view_module": "@jupyter-widgets/base",
            "_view_module_version": "1.2.0",
            "_view_name": "StyleView",
            "bar_color": null,
            "description_width": ""
          }
        },
        "1223653b94be4bf4acb28cf863bd545d": {
          "model_module": "@jupyter-widgets/base",
          "model_name": "LayoutModel",
          "model_module_version": "1.2.0",
          "state": {
            "_model_module": "@jupyter-widgets/base",
            "_model_module_version": "1.2.0",
            "_model_name": "LayoutModel",
            "_view_count": null,
            "_view_module": "@jupyter-widgets/base",
            "_view_module_version": "1.2.0",
            "_view_name": "LayoutView",
            "align_content": null,
            "align_items": null,
            "align_self": null,
            "border": null,
            "bottom": null,
            "display": null,
            "flex": null,
            "flex_flow": null,
            "grid_area": null,
            "grid_auto_columns": null,
            "grid_auto_flow": null,
            "grid_auto_rows": null,
            "grid_column": null,
            "grid_gap": null,
            "grid_row": null,
            "grid_template_areas": null,
            "grid_template_columns": null,
            "grid_template_rows": null,
            "height": null,
            "justify_content": null,
            "justify_items": null,
            "left": null,
            "margin": null,
            "max_height": null,
            "max_width": null,
            "min_height": null,
            "min_width": null,
            "object_fit": null,
            "object_position": null,
            "order": null,
            "overflow": null,
            "overflow_x": null,
            "overflow_y": null,
            "padding": null,
            "right": null,
            "top": null,
            "visibility": null,
            "width": null
          }
        },
        "3003ec4bf481404681c3ff266d6f85ea": {
          "model_module": "@jupyter-widgets/controls",
          "model_name": "DescriptionStyleModel",
          "model_module_version": "1.5.0",
          "state": {
            "_model_module": "@jupyter-widgets/controls",
            "_model_module_version": "1.5.0",
            "_model_name": "DescriptionStyleModel",
            "_view_count": null,
            "_view_module": "@jupyter-widgets/base",
            "_view_module_version": "1.2.0",
            "_view_name": "StyleView",
            "description_width": ""
          }
        }
      }
    }
  },
  "cells": [
    {
      "cell_type": "code",
      "execution_count": null,
      "metadata": {
        "colab": {
          "base_uri": "https://localhost:8080/"
        },
        "id": "mcIT2And_kZB",
        "outputId": "838d880e-a393-4e38-a94f-a91cd88567f7"
      },
      "outputs": [
        {
          "output_type": "stream",
          "name": "stdout",
          "text": [
            "Requirement already satisfied: evaluate in /usr/local/lib/python3.10/dist-packages (0.4.3)\n",
            "Requirement already satisfied: datasets>=2.0.0 in /usr/local/lib/python3.10/dist-packages (from evaluate) (3.0.0)\n",
            "Requirement already satisfied: numpy>=1.17 in /usr/local/lib/python3.10/dist-packages (from evaluate) (1.26.4)\n",
            "Requirement already satisfied: dill in /usr/local/lib/python3.10/dist-packages (from evaluate) (0.3.8)\n",
            "Requirement already satisfied: pandas in /usr/local/lib/python3.10/dist-packages (from evaluate) (2.1.4)\n",
            "Requirement already satisfied: requests>=2.19.0 in /usr/local/lib/python3.10/dist-packages (from evaluate) (2.32.3)\n",
            "Requirement already satisfied: tqdm>=4.62.1 in /usr/local/lib/python3.10/dist-packages (from evaluate) (4.66.5)\n",
            "Requirement already satisfied: xxhash in /usr/local/lib/python3.10/dist-packages (from evaluate) (3.5.0)\n",
            "Requirement already satisfied: multiprocess in /usr/local/lib/python3.10/dist-packages (from evaluate) (0.70.16)\n",
            "Requirement already satisfied: fsspec>=2021.05.0 in /usr/local/lib/python3.10/dist-packages (from fsspec[http]>=2021.05.0->evaluate) (2024.6.1)\n",
            "Requirement already satisfied: huggingface-hub>=0.7.0 in /usr/local/lib/python3.10/dist-packages (from evaluate) (0.24.7)\n",
            "Requirement already satisfied: packaging in /usr/local/lib/python3.10/dist-packages (from evaluate) (24.1)\n",
            "Requirement already satisfied: filelock in /usr/local/lib/python3.10/dist-packages (from datasets>=2.0.0->evaluate) (3.16.1)\n",
            "Requirement already satisfied: pyarrow>=15.0.0 in /usr/local/lib/python3.10/dist-packages (from datasets>=2.0.0->evaluate) (17.0.0)\n",
            "Requirement already satisfied: aiohttp in /usr/local/lib/python3.10/dist-packages (from datasets>=2.0.0->evaluate) (3.10.5)\n",
            "Requirement already satisfied: pyyaml>=5.1 in /usr/local/lib/python3.10/dist-packages (from datasets>=2.0.0->evaluate) (6.0.2)\n",
            "Requirement already satisfied: typing-extensions>=3.7.4.3 in /usr/local/lib/python3.10/dist-packages (from huggingface-hub>=0.7.0->evaluate) (4.12.2)\n",
            "Requirement already satisfied: charset-normalizer<4,>=2 in /usr/local/lib/python3.10/dist-packages (from requests>=2.19.0->evaluate) (3.3.2)\n",
            "Requirement already satisfied: idna<4,>=2.5 in /usr/local/lib/python3.10/dist-packages (from requests>=2.19.0->evaluate) (3.10)\n",
            "Requirement already satisfied: urllib3<3,>=1.21.1 in /usr/local/lib/python3.10/dist-packages (from requests>=2.19.0->evaluate) (2.2.3)\n",
            "Requirement already satisfied: certifi>=2017.4.17 in /usr/local/lib/python3.10/dist-packages (from requests>=2.19.0->evaluate) (2024.8.30)\n",
            "Requirement already satisfied: python-dateutil>=2.8.2 in /usr/local/lib/python3.10/dist-packages (from pandas->evaluate) (2.8.2)\n",
            "Requirement already satisfied: pytz>=2020.1 in /usr/local/lib/python3.10/dist-packages (from pandas->evaluate) (2024.2)\n",
            "Requirement already satisfied: tzdata>=2022.1 in /usr/local/lib/python3.10/dist-packages (from pandas->evaluate) (2024.1)\n",
            "Requirement already satisfied: aiohappyeyeballs>=2.3.0 in /usr/local/lib/python3.10/dist-packages (from aiohttp->datasets>=2.0.0->evaluate) (2.4.0)\n",
            "Requirement already satisfied: aiosignal>=1.1.2 in /usr/local/lib/python3.10/dist-packages (from aiohttp->datasets>=2.0.0->evaluate) (1.3.1)\n",
            "Requirement already satisfied: attrs>=17.3.0 in /usr/local/lib/python3.10/dist-packages (from aiohttp->datasets>=2.0.0->evaluate) (24.2.0)\n",
            "Requirement already satisfied: frozenlist>=1.1.1 in /usr/local/lib/python3.10/dist-packages (from aiohttp->datasets>=2.0.0->evaluate) (1.4.1)\n",
            "Requirement already satisfied: multidict<7.0,>=4.5 in /usr/local/lib/python3.10/dist-packages (from aiohttp->datasets>=2.0.0->evaluate) (6.1.0)\n",
            "Requirement already satisfied: yarl<2.0,>=1.0 in /usr/local/lib/python3.10/dist-packages (from aiohttp->datasets>=2.0.0->evaluate) (1.11.1)\n",
            "Requirement already satisfied: async-timeout<5.0,>=4.0 in /usr/local/lib/python3.10/dist-packages (from aiohttp->datasets>=2.0.0->evaluate) (4.0.3)\n",
            "Requirement already satisfied: six>=1.5 in /usr/local/lib/python3.10/dist-packages (from python-dateutil>=2.8.2->pandas->evaluate) (1.16.0)\n"
          ]
        }
      ],
      "source": [
        "!pip install evaluate"
      ]
    },
    {
      "cell_type": "code",
      "source": [
        "from google.colab import drive\n",
        "drive.mount('/content/drive')"
      ],
      "metadata": {
        "colab": {
          "base_uri": "https://localhost:8080/"
        },
        "id": "_vjrnGkmHTIc",
        "outputId": "6b5aff29-036a-4264-f980-f2a9afbabf61"
      },
      "execution_count": null,
      "outputs": [
        {
          "output_type": "stream",
          "name": "stdout",
          "text": [
            "Drive already mounted at /content/drive; to attempt to forcibly remount, call drive.mount(\"/content/drive\", force_remount=True).\n"
          ]
        }
      ]
    },
    {
      "cell_type": "code",
      "execution_count": null,
      "metadata": {
        "id": "EaErR4H__-Y-"
      },
      "outputs": [],
      "source": [
        "from datasets import load_dataset, Audio, Dataset\n",
        "from evaluate import load as load_metric  # Updated import for metrics\n",
        "import os\n",
        "import torchaudio\n",
        "from tqdm.auto import tqdm"
      ]
    },
    {
      "cell_type": "code",
      "execution_count": null,
      "metadata": {
        "colab": {
          "base_uri": "https://localhost:8080/"
        },
        "id": "5kaepxjrzAeG",
        "outputId": "7dbb3665-3d91-4c10-bec1-b0979ceab6ff"
      },
      "outputs": [
        {
          "output_type": "stream",
          "name": "stdout",
          "text": [
            "Drive already mounted at /content/drive; to attempt to forcibly remount, call drive.mount(\"/content/drive\", force_remount=True).\n",
            "   i_4_សោម សម្បត្តិ.flac  \\\n",
            "0  p_4_សោម សម្បត្តិ.flac   \n",
            "1  s_4_សោម សម្បត្តិ.flac   \n",
            "2  g_4_សោម សម្បត្តិ.flac   \n",
            "3  c_4_សោម សម្បត្តិ.flac   \n",
            "4  z_4_សោម សម្បត្តិ.flac   \n",
            "\n",
            "  សំខាន់ គឺ យើង ត្រូវ មើល លើ កត្តា ប្រាំ ម៉ែត្រ ហើយ ឥឡូវ នេះ ខ្ញុំ សុំ ពន្យល់ ពី កត្តា ទី មួយ ដោយសារ ទាំង ប្រាំ អម្បាញ់ មិញ គឺ លោក ស៊ឹម ដារ៉ា បាន  \n",
            "0  អញ្ចឹង ខ្ញុំ ចង់ បង្ហាញ ពី ប្រភព គំនិត ដូច ប្រ...                                                                                               \n",
            "1  គេ មាន ហើយ អញ អត់ មាន ធ្វើ ឲ្យ មាន ដូច គេ មក ដ...                                                                                               \n",
            "2  ការ ដាក់ ខ្លួន ខ្ញុំ ឃើញ ថា មួយ រយៈ ចុង ក្រោយ ...                                                                                               \n",
            "3                                       ពេល ខ្លះ យើង                                                                                               \n",
            "4  ទៅ ជា ថា គេ ហ្នឹង កម្លាំង ហ្នឹង ត្រូវតែ ថា គេ ...                                                                                               \n",
            "Columns in dataset: Index(['i_4_សោម សម្បត្តិ.flac', 'សំខាន់ គឺ យើង ត្រូវ មើល លើ កត្តា ប្រាំ ម៉ែត្រ ហើយ ឥឡូវ នេះ ខ្ញុំ សុំ ពន្យល់ ពី កត្តា ទី មួយ ដោយសារ ទាំង ប្រាំ អម្បាញ់ មិញ គឺ លោក ស៊ឹម ដារ៉ា បាន'], dtype='object')\n",
            "The 'Filename' column does not exist in the dataframe. Please check the column names.\n"
          ]
        }
      ],
      "source": [
        "from google.colab import drive\n",
        "from sklearn.model_selection import train_test_split\n",
        "import pandas as pd\n",
        "import os\n",
        "from datasets import load_dataset\n",
        "\n",
        "# Mount Google Drive\n",
        "drive.mount('/content/drive')\n",
        "\n",
        "# Define the base path in Google Drive\n",
        "base_path = '/content/drive/MyDrive/ASR_kh'\n",
        "\n",
        "# Read the TSV file from Google Drive\n",
        "file_path = os.path.join(base_path, '/content/drive/MyDrive/ASR_kh/Transcriber/TSV_Files/others_transcriptions.tsv')\n",
        "\n",
        "# Check if the file exists before trying to read it\n",
        "if os.path.exists(file_path):\n",
        "    # Load the TSV file\n",
        "    df = pd.read_csv(file_path, sep='\\t', header=0)\n",
        "\n",
        "    # Print the first few rows and the column names to verify data\n",
        "    print(df.head())\n",
        "    print(\"Columns in dataset:\", df.columns)\n",
        "\n",
        "    # Ensure that 'Filename' column exists\n",
        "    if 'Filename' in df.columns:\n",
        "        # Ensure that filenames are constructed correctly without appending extra '.flac'\n",
        "        df['path'] = df['Filename'].apply(lambda x: os.path.join(base_path, '/content/drive/MyDrive/ASR_kh/Transcriber/Others_Folder', x))  # Don't add '.flac' here\n",
        "\n",
        "        # Split the dataset into train, validation, and test sets\n",
        "        train_valid, test = train_test_split(df, test_size=0.1)\n",
        "        train, valid = train_test_split(train_valid, test_size=0.1)\n",
        "\n",
        "        # Save the split datasets as CSV files in Google Drive\n",
        "        train.to_csv(os.path.join(base_path, 'line_index_train.csv'), index=False)\n",
        "        valid.to_csv(os.path.join(base_path, 'line_index_valid.csv'), index=False)\n",
        "        test.to_csv(os.path.join(base_path, 'line_index_test.csv'), index=False)\n",
        "\n",
        "        # Load datasets using datasets library\n",
        "        common_voice_train = load_dataset('csv', data_files=os.path.join(base_path, 'line_index_train.csv'), split='train')\n",
        "        common_voice_valid = load_dataset('csv', data_files=os.path.join(base_path, 'line_index_valid.csv'), split='train')\n",
        "\n",
        "        # Remove unnecessary columns and rename\n",
        "        common_voice_train = common_voice_train.rename_column('TranscribedText', 'sentence')  # Renamed column\n",
        "        common_voice_valid = common_voice_valid.rename_column('TranscribedText', 'sentence')  # Renamed column\n",
        "\n",
        "        # Print columns to verify changes\n",
        "        print(common_voice_train.column_names)\n",
        "        print(common_voice_valid.column_names)\n",
        "    else:\n",
        "        print(\"The 'Filename' column does not exist in the dataframe. Please check the column names.\")\n",
        "else:\n",
        "    # Print an error message with the problematic file path\n",
        "    print(f\"File not found: {file_path}\")\n"
      ]
    },
    {
      "cell_type": "code",
      "source": [
        "import pandas as pd\n",
        "import os\n",
        "from google.colab import drive\n",
        "from sklearn.model_selection import train_test_split\n",
        "from datasets import load_dataset\n",
        "\n",
        "# Mount Google Drive\n",
        "drive.mount('/content/drive')\n",
        "\n",
        "# Define the base path in Google Drive\n",
        "base_path = '/content/drive/MyDrive/ASR_kh'\n",
        "file_path = os.path.join(base_path, 'Transcriber/TSV_Files/others_transcriptions.tsv')\n",
        "\n",
        "# Check if the file exists before trying to read it\n",
        "if os.path.exists(file_path):\n",
        "    # Load the TSV file into a DataFrame\n",
        "    df = pd.read_csv(file_path, sep='\\t', header=0)\n",
        "\n",
        "    # Print the columns to check for typos!\n",
        "    print(\"Columns in dataset:\", df.columns.tolist())\n",
        "    print(df.head())\n",
        "\n",
        "    # Rename the first column to 'Filename' if needed\n",
        "    if df.columns[0] != 'Filename':\n",
        "        df = df.rename(columns={df.columns[0]: 'Filename'})\n",
        "\n",
        "    # Remove the entry for the specified filename\n",
        "    df = df[df['Filename'] != 'i_4_សោម សម្បត្តិ.flac']\n",
        "\n",
        "    # Save the updated DataFrame back to the TSV file\n",
        "    df.to_csv(file_path, sep='\\t', index=False)\n",
        "    print(\"Updated TSV file after deleting the corresponding text entry.\")\n",
        "else:\n",
        "    print(f\"File not found: {file_path}\")\n",
        "\n",
        "# Now proceed with splitting the dataset\n",
        "# Perform the split operation before any modifications to the DataFrame\n",
        "train_valid, test = train_test_split(df, test_size=0.1)\n",
        "train, valid = train_test_split(train_valid, test_size=0.1)\n",
        "\n",
        "# Save the split datasets as CSV files in Google Drive\n",
        "train.to_csv(os.path.join(base_path, 'line_index_train.csv'), index=False)\n",
        "valid.to_csv(os.path.join(base_path, 'line_index_valid.csv'), index=False)\n",
        "test.to_csv(os.path.join(base_path, 'line_index_test.csv'), index=False)\n",
        "\n",
        "# Load datasets using datasets library\n",
        "common_voice_train = load_dataset('csv', data_files=os.path.join(base_path, 'line_index_train.csv'), split='train')\n",
        "common_voice_valid = load_dataset('csv', data_files=os.path.join(base_path, 'line_index_valid.csv'), split='train')\n",
        "\n",
        "# Remove unnecessary columns and rename\n",
        "# Check if the column exists before renaming\n",
        "if 'TranscribedText' in common_voice_train.column_names:\n",
        "  common_voice_train = common_voice_train.rename_column('TranscribedText', 'sentence')\n",
        "if 'TranscribedText' in common_voice_valid.column_names:\n",
        "  common_voice_valid = common_voice_valid.rename_column('TranscribedText', 'sentence')\n",
        "\n",
        "# Print columns to verify changes\n",
        "print(common_voice_train.column_names)\n",
        "print(common_voice_valid.column_names)"
      ],
      "metadata": {
        "colab": {
          "base_uri": "https://localhost:8080/",
          "height": 413,
          "referenced_widgets": [
            "cd679b7710274a08a1fa6c472afd4125",
            "b41bbaed5786436d9f4b7b1548d61b40",
            "e3b3faf1b20743a7a05c59d5bd59e97e",
            "77b9f08e64b349ca883334fee8924545",
            "278e7c887fb24055aa721416c588a569",
            "1ca77de0d8504fb48887706b20e3b237",
            "389c01aa7c9649da9de739a339d2ea4a",
            "07ab7f890bcd46b7a604d7d5f35e95bc",
            "887ce37411314c35a4dfd11eaf806bc0",
            "3d8df7a36f03455391d9cb69c42d5eba",
            "f9ab863dd40f4af6a7328d6b0691b49a",
            "2b367637793a4ec1b059766557d7d624",
            "7b60bad50749466fa312ee8c87cc8966",
            "2c0a62dcd31e4560b55503ed52445c83",
            "cdc179cf899a43cb92406a1e127864a3",
            "5e352f56e0404f63898659427c8431fe",
            "099b516fe68546a6b18675bd423d688f",
            "24d694f3b75049e38fec349992530ae8",
            "31efca4fa4834e95b04dfc14bc981275",
            "9ae82341d9a14906b3fbb4ec427e1eed",
            "c3069999a77143889ab3cb9a0eff7dd5",
            "2973b95f186f4b509b32082846042fa3"
          ]
        },
        "id": "IuGLJyN5Aiwl",
        "outputId": "6fe10905-8341-4cda-8dee-f2b26f54e9ef"
      },
      "execution_count": null,
      "outputs": [
        {
          "output_type": "stream",
          "name": "stdout",
          "text": [
            "Drive already mounted at /content/drive; to attempt to forcibly remount, call drive.mount(\"/content/drive\", force_remount=True).\n",
            "Columns in dataset: ['Filename', 'សំខាន់ គឺ យើង ត្រូវ មើល លើ កត្តា ប្រាំ ម៉ែត្រ ហើយ ឥឡូវ នេះ ខ្ញុំ សុំ ពន្យល់ ពី កត្តា ទី មួយ ដោយសារ ទាំង ប្រាំ អម្បាញ់ មិញ គឺ លោក ស៊ឹម ដារ៉ា បាន']\n",
            "                Filename  \\\n",
            "0  p_4_សោម សម្បត្តិ.flac   \n",
            "1  s_4_សោម សម្បត្តិ.flac   \n",
            "2  g_4_សោម សម្បត្តិ.flac   \n",
            "3  c_4_សោម សម្បត្តិ.flac   \n",
            "4  z_4_សោម សម្បត្តិ.flac   \n",
            "\n",
            "  សំខាន់ គឺ យើង ត្រូវ មើល លើ កត្តា ប្រាំ ម៉ែត្រ ហើយ ឥឡូវ នេះ ខ្ញុំ សុំ ពន្យល់ ពី កត្តា ទី មួយ ដោយសារ ទាំង ប្រាំ អម្បាញ់ មិញ គឺ លោក ស៊ឹម ដារ៉ា បាន  \n",
            "0  អញ្ចឹង ខ្ញុំ ចង់ បង្ហាញ ពី ប្រភព គំនិត ដូច ប្រ...                                                                                               \n",
            "1  គេ មាន ហើយ អញ អត់ មាន ធ្វើ ឲ្យ មាន ដូច គេ មក ដ...                                                                                               \n",
            "2  ការ ដាក់ ខ្លួន ខ្ញុំ ឃើញ ថា មួយ រយៈ ចុង ក្រោយ ...                                                                                               \n",
            "3                                       ពេល ខ្លះ យើង                                                                                               \n",
            "4  ទៅ ជា ថា គេ ហ្នឹង កម្លាំង ហ្នឹង ត្រូវតែ ថា គេ ...                                                                                               \n",
            "Updated TSV file after deleting the corresponding text entry.\n"
          ]
        },
        {
          "output_type": "display_data",
          "data": {
            "text/plain": [
              "Generating train split: 0 examples [00:00, ? examples/s]"
            ],
            "application/vnd.jupyter.widget-view+json": {
              "version_major": 2,
              "version_minor": 0,
              "model_id": "cd679b7710274a08a1fa6c472afd4125"
            }
          },
          "metadata": {}
        },
        {
          "output_type": "display_data",
          "data": {
            "text/plain": [
              "Generating train split: 0 examples [00:00, ? examples/s]"
            ],
            "application/vnd.jupyter.widget-view+json": {
              "version_major": 2,
              "version_minor": 0,
              "model_id": "2b367637793a4ec1b059766557d7d624"
            }
          },
          "metadata": {}
        },
        {
          "output_type": "stream",
          "name": "stdout",
          "text": [
            "['Filename', 'សំខាន់ គឺ យើង ត្រូវ មើល លើ កត្តា ប្រាំ ម៉ែត្រ ហើយ ឥឡូវ នេះ ខ្ញុំ សុំ ពន្យល់ ពី កត្តា ទី មួយ ដោយសារ ទាំង ប្រាំ អម្បាញ់ មិញ គឺ លោក ស៊ឹម ដារ៉ា បាន']\n",
            "['Filename', 'សំខាន់ គឺ យើង ត្រូវ មើល លើ កត្តា ប្រាំ ម៉ែត្រ ហើយ ឥឡូវ នេះ ខ្ញុំ សុំ ពន្យល់ ពី កត្តា ទី មួយ ដោយសារ ទាំង ប្រាំ អម្បាញ់ មិញ គឺ លោក ស៊ឹម ដារ៉ា បាន']\n"
          ]
        }
      ]
    },
    {
      "cell_type": "code",
      "source": [],
      "metadata": {
        "id": "6sHkGxdPK0vS"
      },
      "execution_count": null,
      "outputs": []
    },
    {
      "cell_type": "code",
      "execution_count": null,
      "metadata": {
        "id": "r8flr_tMVJfH"
      },
      "outputs": [],
      "source": [
        "from tqdm import tqdm\n",
        "\n",
        "# Initialize sets to collect unique characters\n",
        "vocab_train = set()\n",
        "vocab_test = set()\n",
        "\n",
        "# Iterate over the training dataset and collect unique characters\n",
        "for i in tqdm(range(len(common_voice_train))): # Use index to access rows\n",
        "    sentences = common_voice_train.iloc[i]['TranscribedText'] # Use 'TranscribedText' instead of 'sentence'\n",
        "    # Check if sentences is not None before iterating\n",
        "    if sentences:\n",
        "        for char in sentences:\n",
        "            vocab_train.add(char)  # Add each character to the set\n",
        "\n",
        "# Iterate over the validation dataset and collect unique characters\n",
        "for i in tqdm(range(len(common_voice_valid))): # Use index to access rows\n",
        "    sentences = common_voice_valid.iloc[i]['TranscribedText'] # Use 'TranscribedText' instead of 'sentence'\n",
        "    # Check if sentences is not None before iterating\n",
        "    if sentences:\n",
        "        for char in sentences:\n",
        "            vocab_test.add(char) # Add each character to the set\n",
        "\n",
        "# Convert sets to lists (if needed)\n",
        "vocab_train = list(vocab_train)\n",
        "vocab_test = list(vocab_test)\n",
        "\n",
        "# Print vocabularies\n",
        "print(f\"Vocabulary size for training set: {len(vocab_train)}\")\n",
        "print(f\"Vocabulary size for validation set: {len(vocab_test)}\")"
      ]
    },
    {
      "cell_type": "markdown",
      "source": [],
      "metadata": {
        "id": "bUv8ljFR_o6l"
      }
    },
    {
      "cell_type": "code",
      "source": [
        "import pandas as pd\n",
        "import time\n",
        "\n",
        "# Wait for a few seconds to allow the file to be written\n",
        "time.sleep(5)\n",
        "\n",
        "common_voice_train = pd.read_csv('/content/drive/MyDrive/ASR_kh/line_index_train.csv')\n",
        "common_voice_valid = pd.read_csv('/content/drive/MyDrive/ASR_kh/line_index_valid.csv')"
      ],
      "metadata": {
        "id": "So7ulCb_ID7v"
      },
      "execution_count": null,
      "outputs": []
    },
    {
      "cell_type": "code",
      "source": [
        "!pip install pandas\n",
        "import pandas as pd\n",
        "# Print the column names of the DataFrames\n",
        "print(common_voice_train.columns)\n",
        "print(common_voice_valid.columns)"
      ],
      "metadata": {
        "colab": {
          "base_uri": "https://localhost:8080/"
        },
        "id": "lzDKoTUBI87f",
        "outputId": "e23dce62-fa5a-4ced-c205-d880a4b8db3f"
      },
      "execution_count": null,
      "outputs": [
        {
          "output_type": "stream",
          "name": "stdout",
          "text": [
            "Requirement already satisfied: pandas in /usr/local/lib/python3.10/dist-packages (2.1.4)\n",
            "Requirement already satisfied: numpy<2,>=1.22.4 in /usr/local/lib/python3.10/dist-packages (from pandas) (1.26.4)\n",
            "Requirement already satisfied: python-dateutil>=2.8.2 in /usr/local/lib/python3.10/dist-packages (from pandas) (2.8.2)\n",
            "Requirement already satisfied: pytz>=2020.1 in /usr/local/lib/python3.10/dist-packages (from pandas) (2024.2)\n",
            "Requirement already satisfied: tzdata>=2022.1 in /usr/local/lib/python3.10/dist-packages (from pandas) (2024.1)\n",
            "Requirement already satisfied: six>=1.5 in /usr/local/lib/python3.10/dist-packages (from python-dateutil>=2.8.2->pandas) (1.16.0)\n",
            "Index(['Filename', 'សំខាន់ គឺ យើង ត្រូវ មើល លើ កត្តា ប្រាំ ម៉ែត្រ ហើយ ឥឡូវ នេះ ខ្ញុំ សុំ ពន្យល់ ពី កត្តា ទី មួយ ដោយសារ ទាំង ប្រាំ អម្បាញ់ មិញ គឺ លោក ស៊ឹម ដារ៉ា បាន'], dtype='object')\n",
            "Index(['Filename', 'សំខាន់ គឺ យើង ត្រូវ មើល លើ កត្តា ប្រាំ ម៉ែត្រ ហើយ ឥឡូវ នេះ ខ្ញុំ សុំ ពន្យល់ ពី កត្តា ទី មួយ ដោយសារ ទាំង ប្រាំ អម្បាញ់ មិញ គឺ លោក ស៊ឹម ដារ៉ា បាន'], dtype='object')\n"
          ]
        }
      ]
    },
    {
      "cell_type": "code",
      "source": [],
      "metadata": {
        "id": "Vq0NKt7XIV9y"
      },
      "execution_count": null,
      "outputs": []
    },
    {
      "cell_type": "code",
      "execution_count": null,
      "metadata": {
        "colab": {
          "base_uri": "https://localhost:8080/"
        },
        "id": "cZyPLaysEo5l",
        "outputId": "9ad1199d-58f5-4e9b-d32f-2851804a2587"
      },
      "outputs": [
        {
          "output_type": "stream",
          "name": "stdout",
          "text": [
            "{'Filename': 'i_282_សោម សម្បត្តិ.flac', 'TranscribedText': 'យើង អាច ដូច ខ្ញុំ ថា ខ្ញុំ ឲ្យ ឧទាហរណ៍ រឿង យើង ចង់ លក់ បាយ មាន់ យើង ទៅ ញ៉ាំ បាយ មាន់ ឱ្យ បាន ដប់ កន្លែង ទឹក', 'path': '/content/drive/MyDrive/ASR_kh/Transcriber/Others_Folder/i_282_សោម សម្បត្តិ.flac'}\n"
          ]
        }
      ],
      "source": [
        "from datasets import load_dataset\n",
        "\n",
        "# Reload datasets from Google Drive\n",
        "common_voice_train = load_dataset('csv', data_files=os.path.join(base_path, 'line_index_train.csv'), split='train')\n",
        "common_voice_valid = load_dataset('csv', data_files=os.path.join(base_path, 'line_index_valid.csv'), split='train')\n",
        "\n",
        "# Check if the 'sentence' field is populated correctly\n",
        "print(common_voice_train[0])"
      ]
    },
    {
      "cell_type": "code",
      "source": [],
      "metadata": {
        "id": "SPY-3iK_IYug"
      },
      "execution_count": null,
      "outputs": []
    },
    {
      "cell_type": "code",
      "execution_count": null,
      "metadata": {
        "id": "oHLjlSo0Cwfv"
      },
      "outputs": [],
      "source": [
        "vocab_list = list(set(vocab_train) | set(vocab_test))\n",
        "vocab_dict = {v: k for k, v in enumerate(sorted(vocab_list))}"
      ]
    },
    {
      "cell_type": "code",
      "source": [],
      "metadata": {
        "id": "arMRBvStIbx3"
      },
      "execution_count": null,
      "outputs": []
    },
    {
      "cell_type": "code",
      "execution_count": null,
      "metadata": {
        "colab": {
          "base_uri": "https://localhost:8080/"
        },
        "id": "ZDaHvKF6EvZO",
        "outputId": "f2f9cffc-277e-4d6f-bcf4-2cacda5da066"
      },
      "outputs": [
        {
          "output_type": "execute_result",
          "data": {
            "text/plain": [
              "80"
            ]
          },
          "metadata": {},
          "execution_count": 25
        }
      ],
      "source": [
        "# make the space more intuitive to understand\n",
        "vocab_dict[\"|\"] = vocab_dict[\" \"]\n",
        "del vocab_dict[\" \"]\n",
        "\n",
        "vocab_dict[\"[UNK]\"] = len(vocab_dict)\n",
        "vocab_dict[\"[PAD]\"] = len(vocab_dict)\n",
        "len(vocab_dict)"
      ]
    },
    {
      "cell_type": "code",
      "source": [],
      "metadata": {
        "id": "bWKVcMphIe6_"
      },
      "execution_count": null,
      "outputs": []
    },
    {
      "cell_type": "code",
      "execution_count": null,
      "metadata": {
        "colab": {
          "base_uri": "https://localhost:8080/"
        },
        "id": "jRX2eJYbEw8o",
        "outputId": "1cc78d79-5cbe-424e-b463-b62ce2fa9ae3"
      },
      "outputs": [
        {
          "output_type": "stream",
          "name": "stdout",
          "text": [
            "{'-': 1, '.': 2, 'ក': 3, 'ខ': 4, 'គ': 5, 'ឃ': 6, 'ង': 7, 'ច': 8, 'ឆ': 9, 'ជ': 10, 'ឈ': 11, 'ញ': 12, 'ដ': 13, 'ឋ': 14, 'ឌ': 15, 'ឍ': 16, 'ណ': 17, 'ត': 18, 'ថ': 19, 'ទ': 20, 'ធ': 21, 'ន': 22, 'ប': 23, 'ផ': 24, 'ព': 25, 'ភ': 26, 'ម': 27, 'យ': 28, 'រ': 29, 'ល': 30, 'វ': 31, 'ស': 32, 'ហ': 33, 'ឡ': 34, 'អ': 35, 'ឤ': 36, 'ឥ': 37, 'ឦ': 38, 'ឧ': 39, 'ឪ': 40, 'ឫ': 41, 'ឬ': 42, 'ឭ': 43, 'ឮ': 44, 'ឯ': 45, 'ឱ': 46, 'ឲ': 47, 'ា': 48, 'ិ': 49, 'ី': 50, 'ឹ': 51, 'ឺ': 52, 'ុ': 53, 'ូ': 54, 'ួ': 55, 'ើ': 56, 'ឿ': 57, 'ៀ': 58, 'េ': 59, 'ែ': 60, 'ៃ': 61, 'ោ': 62, 'ៅ': 63, 'ំ': 64, 'ះ': 65, 'ៈ': 66, '៉': 67, '៊': 68, '់': 69, '៌': 70, '៍': 71, '៎': 72, '៏': 73, '័': 74, '្': 75, '\\u200c': 76, '\\u200d': 77, '|': 0, '[UNK]': 78, '[PAD]': 79}\n"
          ]
        }
      ],
      "source": [
        "print(vocab_dict)"
      ]
    },
    {
      "cell_type": "code",
      "source": [],
      "metadata": {
        "id": "_h3RrN_TIh2o"
      },
      "execution_count": null,
      "outputs": []
    },
    {
      "cell_type": "code",
      "execution_count": null,
      "metadata": {
        "id": "EPU2yJ9LE0r3"
      },
      "outputs": [],
      "source": [
        "import json\n",
        "with open('vocab.json', 'w') as vocab_file:\n",
        "    json.dump(vocab_dict, vocab_file)"
      ]
    },
    {
      "cell_type": "code",
      "source": [],
      "metadata": {
        "id": "N0O_07xKIkuh"
      },
      "execution_count": null,
      "outputs": []
    },
    {
      "cell_type": "code",
      "execution_count": null,
      "metadata": {
        "id": "_vkpvprnE3B_"
      },
      "outputs": [],
      "source": [
        "from transformers import Wav2Vec2CTCTokenizer\n",
        "from transformers import Wav2Vec2FeatureExtractor\n",
        "from transformers import Wav2Vec2Processor"
      ]
    },
    {
      "cell_type": "code",
      "source": [],
      "metadata": {
        "id": "V3t_KTB-InEy"
      },
      "execution_count": null,
      "outputs": []
    },
    {
      "cell_type": "code",
      "execution_count": null,
      "metadata": {
        "colab": {
          "base_uri": "https://localhost:8080/"
        },
        "id": "aWIh8ahLE6oo",
        "outputId": "1b5dcd38-363f-4d70-df3f-f03c4f494cbf"
      },
      "outputs": [
        {
          "output_type": "stream",
          "name": "stderr",
          "text": [
            "/usr/local/lib/python3.10/dist-packages/transformers/tokenization_utils_base.py:1601: FutureWarning: `clean_up_tokenization_spaces` was not set. It will be set to `True` by default. This behavior will be depracted in transformers v4.45, and will be then set to `False` by default. For more details check this issue: https://github.com/huggingface/transformers/issues/31884\n",
            "  warnings.warn(\n"
          ]
        }
      ],
      "source": [
        "tokenizer = Wav2Vec2CTCTokenizer.from_pretrained(\"./\", unk_token=\"[UNK]\", pad_token=\"[PAD]\", word_delimiter_token=\"|\")  # './' load vocab.json in the current directory\n",
        "feature_extractor = Wav2Vec2FeatureExtractor(feature_size=1, sampling_rate=16000, padding_value=0.0, do_normalize=True, return_attention_mask=True)\n",
        "processor = Wav2Vec2Processor(feature_extractor=feature_extractor, tokenizer=tokenizer)"
      ]
    },
    {
      "cell_type": "code",
      "source": [],
      "metadata": {
        "id": "ULerhpo5Iqv3"
      },
      "execution_count": null,
      "outputs": []
    },
    {
      "cell_type": "code",
      "execution_count": null,
      "metadata": {
        "id": "sGAb_almE9-1"
      },
      "outputs": [],
      "source": [
        "common_voice_train = common_voice_train.cast_column(\"path\", Audio(sampling_rate=16_000)).rename_column('path', 'audio')\n",
        "common_voice_valid  = common_voice_valid.cast_column(\"path\", Audio(sampling_rate=16_000)).rename_column('path', 'audio')"
      ]
    },
    {
      "cell_type": "code",
      "source": [],
      "metadata": {
        "id": "ASKzLpo9IuTt"
      },
      "execution_count": null,
      "outputs": []
    },
    {
      "cell_type": "code",
      "execution_count": null,
      "metadata": {
        "colab": {
          "base_uri": "https://localhost:8080/"
        },
        "id": "kF2lq23XFAdN",
        "outputId": "e754f5e5-7a9c-4078-aca0-f6d0aa172921"
      },
      "outputs": [
        {
          "output_type": "execute_result",
          "data": {
            "text/plain": [
              "{'Filename': 's_240_សោម សម្បត្តិ.flac',\n",
              " 'TranscribedText': 'លុយ ខ្លួន ឯង សោះ ពួក នេះ កំណាញ់ កំណាញ់ ម៉េះ',\n",
              " 'audio': {'path': '/content/drive/MyDrive/ASR_kh/Transcriber/Others_Folder/s_240_សោម សម្បត្តិ.flac',\n",
              "  'array': array([0., 0., 0., ..., 0., 0., 0.]),\n",
              "  'sampling_rate': 16000}}"
            ]
          },
          "metadata": {},
          "execution_count": 31
        }
      ],
      "source": [
        "common_voice_train[1]"
      ]
    },
    {
      "cell_type": "code",
      "source": [],
      "metadata": {
        "id": "HlLztBz6Iw55"
      },
      "execution_count": null,
      "outputs": []
    },
    {
      "cell_type": "code",
      "execution_count": null,
      "metadata": {
        "colab": {
          "base_uri": "https://localhost:8080/",
          "height": 127
        },
        "id": "4wNiT_IEFjye",
        "outputId": "f920cf82-0b18-45e6-89df-6cfbc70cb047"
      },
      "outputs": [
        {
          "output_type": "stream",
          "name": "stdout",
          "text": [
            "Target text: w_155_សោម សម្បត្តិ.flac\n",
            "Input array shape: (90876,)\n",
            "Sampling rate: 16000\n"
          ]
        },
        {
          "output_type": "display_data",
          "data": {
            "text/plain": [
              "<IPython.lib.display.Audio object>"
            ],
            "text/html": [
              "\n",
              "                <audio  controls=\"controls\" >\n",
              "                    <source src=\"data:audio/wav;base64,UklGRhzGAgBXQVZFZm10IBAAAAABAAEAgD4AAAB9AAACABAAZGF0YfjFAgAAAAAAAAAAAAAAAAAAAAAAAAAAAAAAAAAAAAAAAAAAAAAAAAAAAAAAAAAAAAAAAAAAAAAAAAAAAAAAAAAAAAAAAAAAAAAAAAAAAAAAAAAAAAAAAAAAAAAAAAAAAAAAAAAAAAAAAAAAAAAAAAAAAAAAAAAAAAAAAAAAAAAAAAAAAAAAAAAAAAAAAAAAAAAAAAAAAAAAAAAAAAAAAAAAAAAAAAAAAAAAAAAAAAAAAAAAAAAAAAAAAAAAAAAAAAAAAAAAAAAAAAAAAAAAAAAAAAAAAAAAAAAAAAAAAAAAAAAAAAAAAAAAAAAAAAAAAAAAAAAAAAAAAAAAAAAAAAAAAAAAAAAAAAAAAAAAAAAAAAAAAAAAAAAAAAAAAAAAAAAAAAAAAAAAAAAAAAAAAAAAAAAAAAAAAAAAAAAAAAAAAAAAAAAAAAAAAAAAAAAAAAAAAAAAAAAAAAAAAAAAAAAAAAAAAAAAAAAAAAAAAAAAAAAAAAAAAAAAAAAAAAAAAAAAAAAAAAAAAAAAAAAAAAAAAAAAAAAAAAAAAAAAAAAAAAAAAAAAAAAAAAAAAAAAAAAAAAAAAAAAAAAAAAAAAAAAAAAAAAAAAAAAAAAAAAAAAAAAAAAAAAAAAAAAAAAAAAAAAAAAAAAAAAAAAAAAAAAAAAAAAAAAAAAAAAAAAAAAAAAAAAAAAAAAAAAAAAAAAAAAAAAAAAAAAAAAAAAAAAAAAAAAAAAAAAAAAAAAAAAAAAAAAAAAAAAAAAAAAAAAAAAAAAAAAAAAAAAAAAAAAAAAAAAAAAAAAAAAAAAAAAAAAAAAAAAAAAAAAAAAAAAAAAAAAAAAAAAAAAAAAAAAAAAAAAAAAAAAAAAAAAAAAAAAAAAAAAAAAAAAAAAAAAAAAAAAAAAAAAAAAAAAAAAAAAAAAAAAAAAAAAAAAAAAAAAAAAAAAAAAAAAAAAAAAAAAAAAAAAAAAAAAAAAAAAAAAAAAAAAAAAAAAAAAAAAAAAAAAAAAAAAAAAAAAAAAAAAAAAAAAAAAAAAAAAAAAAAAAAAAAAAAAAAAAAAAAAAAAAAAAAAAAAAAAAAAAAAAAAAAAAAAAAAAAAAAAAAAAAAAAAAAAAAAAAAAAAAAAAAAAAAAAAAAAAAAAAAAAAAAAAAAAAAAAAAAAAAAAAAAAAAAAAAAAAAAAAAAAAAAAAAAAAAAAAAAAAAAAAAAAAAAAAAAAAAAAAAAAAAAAAAAAAAAAAAAAAAAAAAAAAAAAAAAAAAAAAAAAAAAAAAAAAAAAAAAAAAAAAAAAAAAAAAAAAAAAAAAAAAAAAAAAAAAAAAAAAAAAAAAAAAAAAAAAAAAAAAAAAAAAAAAAAAAAAAAAAAAAAAAAAAAAAAAAAAAAAAAAAAAAAAAAAAAAAAAAAAAAAAAAAAAAAAAAAAAAAAAAAAAAAAAAAAAAAAAAAAAAAAAAAAAAAAAAAAAAAAAAAAAAAAAAAAAAAAAAAAAAAAAAAAAAAAAAAAAAAAAAAAAAAAAAAAAAAAAAAAAAAAAAAAAAAAAAAAAAAAAAAAAAAAAAAAAAAAAAAAAAAAAAAAAAAAAAAAAAAAAAAAAAAAAAAAAAAAAAAAAAAAAAAAAAAAAAAAAAAAAAAAAAAAAAAAAAAAAAAAAAAAAAAAAAAAAAAAAAAAAAAAAAAAAAAAAAAAAAAAAAAAAAAAAAAAAAAAAAAAAAAAAAAAAAAAAAAAAAAAAAAAAAAAAAAAAAAAAAAAAAAAAAAAAAAAAAAAAAAAAAAAAAAAAAAAAAAAAAAAAAAAAAAAAAAAAAAAAAAAAAAAAAAAAAAAAAAAAAAAAAAAAAAAAAAAAAAAAAAAAAAAAAAAAAAAAAAAAAAAAAAAAAAAAAAAAAAAAAAAAAAAAAAAAAAAAAAAAAAAAAAAAAAAAAAAAAAAAAAAAAAAAAAAAAAAAAAAAAAAAAAAAAAAAAAAAAAAAAAAAAAAAAAAAAAAAAAAAAAAAAAAAAAAAAAAAAAAAAAAAAAAAAAAAAAAAAAAAAAAAAAAAAAAAAAAAAAAAAAAAAAAAAAAAAAAAAAAAAAAAAAAAAAAAAAAAAAAAAAAAAAAAAAAAAAAAAAAAAAAAAAAAAAAAAAAAAAAAAAAAAAAAAAAAAAAAAAAAAAAAAAAAAAAAAAAAAAAAAAAAAAAAAAAAAAAAAAAAAAAAAAAAAAAAAAAAAAAAAAAAAAAAAAAAAAAAAAAAAAAAAAAAAAAAAAAAAAAAAAAAAAAAAAAAAAAAAAAAAAAAAAAAAAAAAAAAAAAAAAAAAAAAAAAAAAAAAAAAAAAAAAAAAAAAAAAAAAAAAAAAAAAAAAAAAAAAAAAAAAAAAAAAAAAAAAAAAAAAAAAAAAAAAAAAAAAAAAAAAAAAAAAAAAAAAAAAAAAAAAAAAAAAAAAAAAAAAAAAAAAAAAAAAAAAAAAAAAAAAAAAAAAAAAAAAAAAAAAAAAAAAAAAAAAAAAAAAAAAAAAAAAAAAAAAAAAAAAAAAAAAAAAAAAAAAAAAAAAAAAAAAAAAAAAAAAAAAAAAAAAAAAAAAAAAAAAAAAAAAAAAAAAAAAAAAAAAAAAAAAAAAAAAAAAAAAAAAAAAAAAAAAAAAAAAAAAAAAAAAAAAAAAAAAAAAAAAAAAAAAAAAAAAAAAAAAAAAAAAAAAAAAAAAAAAAAAAAAAAAAAAAAAAAAAAAAAAAAAAAAAAAAAAAAAAAAAAAAAAAAAAAAAAAAAAAAAAAAAAAAAAAAAAAAAAAAAAAAAAAAAAAAAAAAAAAAAAAAAAAAAAAAAAAAAAAAAAAAAAAAAAAAAAAAAAAAAAAAAAAAAAAAAAAAAAAAAAAAAAAAAAAAAAAAAAAAAAAAAAAAAAAAAAAAAAAAAAAAAAAAAAAAAAAAAAAAAAAAAAAAAAAAAAAAAAAAAAAAAAAAAAAAAAAAAAAAAAAAAAAAAAAAAAAAAAAAAAAAAAAAAAAAAAAAAAAAAAAAAAAAAAAAAAAAAAAAAAAAAAAAAAAAAAAAAAAAAAAAAAAAAAAAAAAAAAAAAAAAAAAAAAAAAAAAAAAAAAAAAAAAAAAAAAAAAAAAAAAAAAAAAAAAAAAAAAAAAAAAAAAAAAAAAAAAAAAAAAAAAAAAAAAAAAAAAAAAAAAAAAAAAAAAAAAAAAAAAAAAAAAAAAAAAAAAAAAAAAAAAAAAAAAAAAAAAAAAAAAAAAAAAAAAAAAAAAAAAAAAAAAAAAAAAAAAAAAAAAAAAAAAAAAAAAAAAAAAAAAAAAAAAAAAAAAAAAAAAAAAAAAAAAAAAAAAAAAAAAAAAAAAAAAAAAAAAAAAAAAAAAAAAAAAAAAAAAAAAAAAAAAAAAAAAAAAAAAAAAAAAAAAAAAAAAAAAAAAAAAAAAAAAAAAAAAAAAAAAAAAAAAAAAAAAAAAAAAAAAAAAAAAAAAAAAAAAAAAAAAAAAAAAAAAAAAAAAAAAAAAAAAAAAAAAAAAAAAAAAAAAAAAAAAAAAAAAAAAAAAAAAAAAAAAAAAAAAAAAAAAAAAAAAAAAAAAAAAAAAAAAAAAAAAAAAAAAAAAAAAAAAAAAAAAAAAAAAAAAAAAAAAAAAAAAAAAAAAAAAAAAAAAAAAAAAAAAAAAAAAAAAAAAAAAAAAAAAAAAAAAAAAAAAAAAAAAAAAAAAAAAAAAAAAAAAAAAAAAAAAAAAAAAAAAAAAAAAAAAAAAAAAAAAAAAAAAAAAAAAAAAAAAAAAAAAAAAAAAAAAAAAAAAAAAAAAAAAAAAAAAAAAAAAAAAAAAAAAAAAAAAAAAAAAAAAAAAAAAAAAAAAAAAAAAAAAAAAAAAAAAAAAAAAAAAAAAAAAAAAAAAAAAAAAAAAAAAAAAAAAAAAAAAAAAAAAAAAAAAAAAAAAAAAAAAAAAAAAAAAAAAAAAAAAAAAAAAAAAAAAAAAAAAAAAAAAAAAAAAAAAAAAAAAAAAAAAAAAAAAAAAAAAAAAAAAAAAAAAAAAAAAAAAAAAAAAAAAAAAAAAAAAAAAAAAAAAAAAAAAAAAAAAAAAAAAAAAAAAAAAAAAAAAAAAAAAAAAAAAAAAAAAAAAAAAAAAAAAAAAAAAAAAAAAAAAAAAAAAAAAAAAAAAAAAAAAAAAAAAAAAAAAAAAAAAAAAAAAAAAAAAAAAAAAAAAAAAAAAAAAAAAAAAAAAAAAAAAAAAAAAAAAAAAAAAAAAAAAAAAAAAAAAAAAAAAAAAAAAAAAAAAAAAAAAAAAAAAAAAAAAAAAAAAAAAAAAAAAAAAAAAAAAAAAAAAAAAAAAAAAAAAAAAAAAAAAAAAAAAAAAAAAAAAAAAAAAAAAAAAAAAAAAAAAAAAAAAAAAAAAAAAAAAAAAAAAAAAAAAAAAAAAAAAAAAAAAAAAAAAAAAAAAAAAAAAAAAAAAAAAAAAAAAAAAAAAAAAAAAAAAAAAAAAAAAAAAAAAAAAAAAAAAAAAAAAAAAAAAAAAAAAAAAAAAAAAAAAAAAAAAAAAAAAAAAAAAAAAAAAAAAAAAAAAAAAAAAAAAAAAAAAAAAAAAAAAAAAAAAAAAAAAAAAAAAAAAAAAAAAAAAAAAAAAAAAAAAAAAAAAAAAAAAAAAAAAAAAAAAAAAAAAAAAAAAAAAAAAAAAAAAAAAAAAAAAAAAAAAAAAAAAAAAAAAAAAAAAAAAAAAAAAAAAAAAAAAAAAAAAAAAAAAAAAAAAAAAAAAAAAAAAAAAAAAAAAAAAAAAAAAAAAAAAAAAAAAAAAAAAAAAAAAAAAAAAAAAAAAAAAAAAAAAAAAAAAAAAAAAAAAAAAAAAAAAAAAAAAAAAAAAAAAAAAAAAAAAAAAAAAAAAAAAAAAAAAAAAAAAAAAAAAAAAAAAAAAAAAAAAAAAAAAAAAAAAAAAAAAAAAAAAAAAAAAAAAAAAAAAAAAAAAAAAAAAAAAAAAAAAAAAAAAAAAAAAAAAAAAAAAAAAAAAAAAAAAAAAAAAAAAAAAAAAAAAAAAAAAAAAAAAAAAAAAAAAAAAAAAAAAAAAAAAAAAAAAAAAAAAAAAAAAAAAAAAAAAAAAAAAAAAAAAAAAAAAAAAAAAAAAAAAAAAAAAAAAAAAAAAAAAAAAAAAAAAAAAAAAAAAAAAAAAAAAAAAAAAAAAAAAAAAAAAAAAAAAAAAAAAAAAAAAAAAAAAAAAAAAAAAAAAAAAAAAAAAAAAAAAAAAAAAAAAAAAAAAAAAAAAAAAAAAAAAAAAAAAAAAAAAAAAAAAAAAAAAAAAAAAAAAAAAAAAAAAAAAAAAAAAAAAAAAAAAAAAAAAAAAAAAAAAAAAAAAAAAAAAAAAAAAAAAAAAAAAAAAAAAAAAAAAAAAAAAAAAAAAAAAAAAAAAAAAAAAAAAAAAAAAAAAAAAAAAAAAAAAAAAAAAAAAAAAAAAAAAAAAAAAAAAAAAAAAAAAAAAAAAAAAAAAAAAAAAAAAAAAAAAAAAAAAAAAAAAAAAAAAAAAAAAAAAAAAAAAAAAAAAAAAAAAAAAAAAAAAAAAAAAAAAAAAAAAAAAAAAAAAAAAAAAAAAAAAAAAAAAAAAAAAAAAAAAAAAAAAAAAAAAAAAAAAAAAAAAAAAAAAAAAAAAAAAAAAAAAAAAAAAAAAAAAAAAAAAAAAAAAAAAAAAAAAAAAAAAAAAAAAAAAAAAAAAAAAAAAAAAAAAAAAAAAAAAAAAAAAAAAAAAAAAAAAAAAAAAAAAAAAAAAAAAAAAAAAAAAAAAAAAAAAAAAAAAAAAAAAAAAAAAAAAAAAAAAAAAAAAAAAAAAAAAAAAAAAAAAAAAAAAAAAAAAAAAAAAAAAAAAAAAAAAAAAAAAAAAAAAAAAAAAAAAAAAAAAAAAAAAAAAAAAAAAAAAAAAAAAAAAAAAAAAAAAAAAAAAAAAAAAAAAAAAAAAAAAAAAAAAAAAAAAAAAAAAAAAAAAAAAAAAAAAAAAAAAAAAAAAAAAAAAAAAAAAAAAAAAAAAAAAAAAAAAAAAAAAAAAAAAAAAAAAAAAAAAAAAAAAAAAAAAAAAAAAAAAAAAAAAAAAAAAAAAAAAAAAAAAAAAAAAAAAAAAAAAAAAAAAAAAAAAAAAAAAAAAAAAAAAAAAAAAAAAAAAAAAAAAAAAAAAAAAAAAAAAAAAAAAAAAAAAAAAAAAAAAAAAAAAAAAAAAAAAAAAAAAAAAAAAAAAAAAAAAAAAAAAAAAAAAAAAAAAAAAAAAAAAAAAAAAAAAAAAAAAAAAAAAAAAAAAAAAAAAAAAAAAAAAAAAAAAAAAAAAAAAAAAAAAAAAAAAAAAAAAAAAAAAAAAAAAAAAAAAAAAAAAAAAAAAAAAAAAAAAAAAAAAAAAAAAAAAAAAAAAAAAAAAAAAAAAAAAAAAAAAAAAAAAAAAAAAAAAAAAAAAAAAAAAAAAAAAAAAAAAAAAAAAAAAAAAAAAAAAAAAAAAAAAAAAAAAAAAAAAAAAAAAAAAAAAAAAAAAAAAAAAAAAAAAAAAAAAAAAAAAAAAAAAAAAAAAAAAAAAAAAAAAAAAAAAAAAAAAAAAAAAAAAAAAAAAAAAAAAAAAAAAAAAAAAAAAAAAAAAAAAAAAAAAAAAAAAAAAAAAAAAAAAAAAAAAAAAAAAAAAAAAAAAAAAAAAAAAAAAAAAAAAAAAAAAAAAAAAAAAAAAAAAAAAAAAAAAAAAAAAAAAAAAAAAAAAAAAAAAAAAAAAAAAAAAAAAAAAAAAAAAAAAAAAAAAAAAAAAAAAAAAAAAAAAAAAAAAAAAAAAAAAAAAAAAAAAAAAAAAAAAAAAAAAAAAAAAAAAAAAAAAAAAAAAAAAAAAAAAAAAAAAAAAAAAAAAAAAAAAAAAAAAAAAAAAAAAAAAAAAAAAAAAAAAAAAAAAAAAAAAAAAAAAAAAAAAAAAAAAAAAAAAAAAAAAAAAAAAAAAAAAAAAAAAAAAAAAAAAAAAAAAAAAAAAAAAAAAAAAAAAAAAAAAAAAAAAAAAAAAAAAAAAAAAAAAAAAAAAAAAAAAAAAAAAAAAAAAAAAAAAAAAAAAAAAAAAAAAAAAAAAAAAAAAAAAAAAAAAAAAAAAAAAAAAAAAAAAAAAAAAAAAAAAAAAAAAAAAAAAAAAAAAAAAAAAAAAAAAAAAAAAAAAAAAAAAAAAAAAAAAAAAAAAAAAAAAAAAAAAAAAAAAAAAAAAAAAAAAAAAAAAAAAAAAAAAAAAAAAAAAAAAAAAAAAAAAAAAAAAAAAAAAAAAAAAAAAAAAAAAAAAAAAAAAAAAAAAAAAAAAAAAAAAAAAAAAAAAAAAAAAAAAAAAAAAAAAAAAAAAAAAAAAAAAAAAAAAAAAAAAAAAAAAAAAAAAAAAAAAAAAAAAAAAAAAAAAAAAAAAAAAAAAAAAAAAAAAAAAAAAAAAAAAAAAAAAAAAAAAAAAAAAAAAAAAAAAAAAAAAAAAAAAAAAAAAAAAAAAAAAAAAAAAAAAAAAAAAAAAAAAAAAAAAAAAAAAAAAAAAAAAAAAAAAAAAAAAAAAAAAAAAAAAAAAAAAAAAAAAAAAAAAAAAAAAAAAAAAAAAAAAAAAAAAAAAAAAAAAAAAAAAAAAAAAAAAAAAAAAAAAAAAAAAAAAAAAAAAAAAAAAAAAAAAAAAAAAAAAAAAAAAAAAAAAAAAAAAAAAAAAAAAAAAAAAAAAAAAAAAAAAAAAAAAAAAAAAAAAAAAAAAAAAAAAAAAAAAAAAAAAAAAAAAAAAAAAAAAAAAAAAAAAAAAAAAAAAAAAAAAAAAAAAAAAAAAAAAAAAAAAAAAAAAAAAAAAAAAAAAAAAAAAAAAAAAAAAAAAAAAAAAAAAAAAAAAAAAAAAAAAAAAAAAAAAAAAAAAAAAAAAAAAAAAAAAAAAAAAAAAAAAAAAAAAAAAAAAAAAAAAAAAAAAAAAAAAAAAAAAAAAAAAAAAAAAAAAAAAAAAAAAAAAAAAAAAAAAAAAAAAAAAAAAAAAAAAAAAAAAAAAAAAAAAAAAAAAAAAAAAAAAAAAAAAAAAAAAAAAAAAAAAAAAAAAAAAAAAAAAAAAAAAAAAAAAAAAAAAAAAAAAAAAAAAAAAAAAAAAAAAAAAAAAAAAAAAAAAAAAAAAAAAAAAAAAAAAAAAAAAAAAAAAAAAAAAAAAAAAAAAAAAAAAAAAAAAAAAAAAAAAAAAAAAAAAAAAAAAAAAAAAAAAAAAAAAAAAAAAAAAAAAAAAAAAAAAAAAAAAAAAAAAAAAAAAAAAAAAAAAAAAAAAAAAAAAAAAAAAAAAAAAAAAAAAAAAAAAAAAAAAAAAAAAAAAAAAAAAAAAAAAAAAAAAAAAAAAAAAAAAAAAAAAAAAAAAAAAAAAAAAAAAAAAAAAAAAAAAAAAAAAAAAAAAAAAAAAAAAAAAAAAAAAAAAAAAAAAAAAAAAAAAAAAAAAAAAAAAAAAAAAAAAAAAAAAAAAAAAAAAAAAAAAAAAAAAAAAAAAAAAAAAAAAAAAAAAAAAAAAAAAAAAAAAAAAAAAAAAAAAAAAAAAAAAAAAAAAAAAAAAAAAAAAAAAAAAAAAAAAAAAAAAAAAAAAAAAAAAAAAAAAAAAAAAAAAAAAAAAAAAAAAAAAAAAAAAAAAAAAAAAAAAAAAAAAAAAAAAAAAAAAAAAAAAAAAAAAAAAAAAAAAAAAAAAAAAAAAAAAAAAAAAAAAAAAAAAAAAAAAAAAAAAAAAAAAAAAAAAAAAAAAAAAAAAAAAAAAAAAAAAAAAAAAAAAAAAAAAAAAAAAAAAAAAAAAAAAAAAAAAAAAAAAAAAAAAAAAAAAAAAAAAAAAAAAAAAAAAAAAAAAAAAAAAAAAAAAAAAAAAAAAAAAAAAAAAAAAAAAAAAAAAAAAAAAAAAAAAAAAAAAAAAAAAAAAAAAAAAAAAAAAAAAAAAAAAAAAAAAAAAAAAAAAAAAAAAAAAAAAAAAAAAAAAAAAAAAAAAAAAAAAAAAAAAAAAAAAAAAAAAAAAAAAAAAAAAAAAAAAAAAAAAAAAAAAAAAAAAAAAAAAAAAAAAAAAAAAAAAAAAAAAAAAAAAAAAAAAAAAAAAAAAAAAAAAAAAAAAAAAAAAAAAAAAAAAAAAAAAAAAAAAAAAAAAAAAAAAAAAAAAAAAAAAAAAAAAAAAAAAAAAAAAAAAAAAAAAAAAAAAAAAAAAAAAAAAAAAAAAAAAAAAAAAAAAAAAAAAAAAAAAAAAAAAAAAAAAAAAAAAAAAAAAAAAAAAAAAAAAAAAAAAAAAAAAAAAAAAAAAAAAAAAAAAAAAAAAAAAAAAAAAAAAAAAAAAAAAAAAAAAAAAAAAAAAAAAAAAAAAAAAAAAAAAAAAAAAAAAAAAAAAAAAAAAAAAAAAAAAAAAAAAAAAAAAAAAAAAAAAAAAAAAAAAAAAAAAAAAAAAAAAAAAAAAAAAAAAAAAAAAAAAAAAAAAAAAAAAAAAAAAAAAAAAAAAAAAAAAAAAAAAAAAAAAAAAAAAAAAAAAAAAAAAAAAAAAAAAAAAAAAAAAAAAAAAAAAAAAAAAAAAAAAAAAAAAAAAAAAAAAAAAAAAAAAAAAAAAAAAAAAAAAAAAAAAAAAAAAAAAAAAAAAAAAAAAAAAAAAAAAAAAAAAAAAAAAAAAAAAAAAAAAAAAAAAAAAAAAAAAAAAAAAAAAAAAAAAAAAAAAAAAAAAAAAAAAAAAAAAAAAAAAAAAAAAAAAAAAAAAAAAAAAAAAAAAAAAAAAAAAAAAAAAAAAAAAAAAAAAAAAAAAAAAAAAAAAAAAAAAAAAAAAAAAAAAAAAAAAAAAAAAAAAAAAAAAAAAAAAAAAAAAAAAAAAAAAAAAAAAAAAAAAAAAAAAAAAAAAAAAAAAAAAAAAAAAAAAAAAAAAAAAAAAAAAAAAAAAAAAAAAAAAAAAAAAAAAAAAAAAAAAAAAAAAAAAAAAAAAAAAAAAAAAAAAAAAAAAAAAAAAAAAAAAAAAAAAAAAAAAAAAAAAAAAAAAAAAAAAAAAAAAAAAAAAAAAAAAAAAAAAAAAAAAAAAAAAAAAAAAAAAAAAAAAAAAAAAAAAAAAAAAAAAAAAAAAAAAAAAAAAAAAAAAAAAAAAAAAAAAAAAAAAAAAAAAAAAAAAAAAAAAAAAAAAAAAAAAAAAAAAAAAAAAAAAAAAAAAAAAAAAAAAAAAAAAAAAAAAAAAAAAAAAAAAAAAAAAAAAAAAAAAAAAAAAAAAAAAAAAAAAAAAAAAAAAAAAAAAAAAAAAAAAAAAAAAAAAAAAAAAAAAAAAAAAAAAAAAAAAAAAAAAAAAAAAAAAAAAAAAAAAAAAAAAAAAAAAAAAAAAAAAAAAAAAAAAAAAAAAAAAAAAAAAAAAAAAAAAAAAAAAAAAAAAAAAAAAAAAAAAAAAAAAAAAAAAAAAAAAAAAAAAAAAAAAAAAAAAAAAAAAAAAAAAAAAAAAAAAAAAAAAAAAAAAAAAAAAAAAAAAAAAAAAAAAAAAAAAAAAAAAAAAAAAAAAAAAAAAAAAAAAAAAAAAAAAAAAAAAAAAAAAAAAAAAAAAAAAAAAAAAAAAAAAAAAAAAAAAAAAAAAAAAAAAAAAAAAAAAAAAAAAAAAAAAAAAAAAAAAAAAAAAAAAAAAAAAAAAAAAAAAAAAAAAAAAAAAAAAAAAAAAAAAAAAAAAAAAAAAAAAAAAAAAAAAAAAAAAAAAAAAAAAAAAAAAAAAAAAAAAAAAAAAAAAAAAAAAAAAAAAAAAAAAAAAAAAAAAAAAAAAAAAAAAAAAAAAAAAAAAAAAAAAAAAAAAAAAAAAAAAAAAAAAAAAAAAAAAAAAAAAAAAAAAAAAAAAAAAAAAAAAAAAAAAAAAAAAAAAAAAAAAAAAAAAAAAAAAAAAAAAAAAAAAAAAAAAAAAAAAAAAAAAAAAAAAAAAAAAAAAAAAAAAAAAAAAAAAAAAAAAAAAAAAAAAAAAAAAAAAAAAAAAAAAAAAAAAAAAAAAAAAAAAAAAAAAAAAAAAAAAAAAAAAAAAAAAAAAAAAAAAAAAAAAAAAAAAAAAAAAAAAAAAAAAAAAAAAAAAAAAAAAAAAAAAAAAAAAAAAAAAAAAAAAAAAAAAAAAAAAAAAAAAAAAAAAAAAAAAAAAAAAAAAAAAAAAAAAAAAAAAAAAAAAAAAAAAAAAAAAAAAAAAAAAAAAAAAAAAAAAAAAAAAAAAAAAAAAAAAAAAAAAAAAAAAAAAAAAAAAAAAAAAAAAAAAAAAAAAAAAAAAAAAAAAAAAAAAAAAAAAAAAAAAAAAAAAAAAAAAAAAAAAAAAAAAAAAAAAAAAAAAAAAAAAAAAAAAAAAAAAAAAAAAAAAAAAAAAAAAAAAAAAAAAAAAAAAAAAAAAAAAAAAAAAAAAAAAAAAAAAAAAAAAAAAAAAAAAAAAAAAAAAAAAAAAAAAAAAAAAAAAAAAAAAAAAAAAAAAAAAAAAAAAAAAAAAAAAAAAAAAAAAAAAAAAAAAAAAAAAAAAAAAAAAAAAAAAAAAAAAAAAAAAAAAAAAAAAAAAAAAAAAAAAAAAAAAAAAAAAAAAAAAAAAAAAAAAAAAAAAAAAAAAAAAAAAAAAAAAAAAAAAAAAAAAAAAAAAAAAAAAAAAAAAAAAAAAAAAAAAAAAAAAAAAAAAAAAAAAAAAAAAAAAAAAAAAAAAAAAAAAAAAAAAAAAAAAAAAAAAAAAAAAAAAAAAAAAAAAAAAAAAAAAAAAAAAAAAAAAAAAAAAAAAAAAAAAAAAAAAAAAAAAAAAAAAAAAAAAAAAAAAAAAAAAAAAAAAAAAAAAAAAAAAAAAAAAAAAAAAAAAAAAAAAAAAAAAAAAAAAAAAAAAAAAAAAAAAAAAAAAAAAAAAAAAAAAAAAAAAAAAAAAAAAAAAAAAAAAAAAAAAAAAAAAAAAAAAAAAAAAAAAAAAAAAAAAAAAAAAAAAAAAAAAAAAAAAAAAAAAAAAAAAAAAAAAAAAAAAAAAAAAAAAAAAAAAAAAAAAAAAAAAAAAAAAAAAAAAAAAAAAAAAAAAAAAAAAAAAAAAAAAAAAAAAAAAAAAAAAAAAAAAAAAAAAAAAAAAAAAAAAAAAAAAAAAAAAAAAAAAAAAAAAAAAAAAAAAAAAAAAAAAAAAAAAAAAAAAAAAAAAAAAAAAAAAAAAAAAAAAAAAAAAAAAAAAAAAAAAAAAAAAAAAAAAAAAAAAAAAAAAAAAAAAAAAAAAAAAAAAAAAAAAAAAAAAAAAAAAAAAAAAAAAAAAAAAAAAAAAAAAAAAAAAAAAAAAAAAAAAAAAAAAAAAAAAAAAAAAAAAAAAAAAAAAAAAAAAAAAAAAAAAAAAAAAAAAAAAAAAAAAAAAAAAAAAAAAAAAAAAAAAAAAAAAAAAAAAAAAAAAAAAAAAAAAAAAAAAAAAAAAAAAAAAAAAAAAAAAAAAAAAAAAAAAAAAAAAAAAAAAAAAAAAAAAAAAAAAAAAAAAAAAAAAAAAAAAAAAAAAAAAAAAAAAAAAAAAAAAAAAAAAAAAAAAAAAAAAAAAAAAAAAAAAAAAAAAAAAAAAAAAAAAAAAAAAAAAAAAAAAAAAAAAAAAAAAAAAAAAAAAAAAAAAAAAAAAAAAAAAAAAAAAAAAAAAAAAAAAAAAAAAAAAAAAAAAAAAAAAAAAAAAAAAAAAAAAAAAAAAAAAAAAAAAAAAAAAAAAAAAAAAAAAAAAAAAAAAAAAAAAAAAAAAAAAAAAAAAAAAAAAAAAAAAAAAAAAAAAAAAAAAAAAAAAAAAAAAAAAAAAAAAAAAAAAAAAAAAAAAAAAAAAAAAAAAAAAAAAAAAAAAAAAAAAAAAAAAAAAAAAAAAAAAAAAAAAAAAAAAAAAAAAAAAAAAAAAAAAAAAAAAAAAAAAAAAAAAAAAAAAAAAAAAAAAAAAAAAAAAAAAAAAAAAAAAAAAAAAAAAAAAAAAAAAAAAAAAAAAAAAAAAAAAAAAAAAAAAAAAAAAAAAAAAAAAAAAAAAAAAAAAAAAAAAAAAAAAAAAAAAAAAAAAAAAAAAAAAAAAAAAAAAAAAAAAAAAAAAAAAAAAAAAAAAAAAAAAAAAAAAAAAAAAAAAAAAAAAAAAAAAAAAAAAAAAAAAAAAAAAAAAAAAAAAAAAAAAAAAAAAAAAAAAAAAAAAAAAAAAAAAAAAAAAAAAAAAAAAAAAAAAAAAAAAAAAAAAAAAAAAAAAAAAAAAAAAAAAAAAAAAAAAAAAAAAAAAAAAAAAAAAAAAAAAAAAAAAAAAAAAAAAAAAAAAAAAAAAAAAAAAAAAAAAAAAAAAAAAAAAAAAAAAAAAAAAAAAAAAAAAAAAAAAAAAAAAAAAAAAAAAAAAAAAAAAAAAAAAAAAAAAAAAAAAAAAAAAAAAAAAAAAAAAAAAAAAAAAAAAAAAAAAAAAAAAAAAAAAAAAAAAAAAAAAAAAAAAAAAAAAAAAAAAAAAAAAAAAAAAAAAAAAAAAAAAAAAAAAAAAAAAAAAAAAAAAAAAAAAAAAAAAAAAAAAAAAAAAAAAAAAAAAAAAAAAAAAAAAAAAAAAAAAAAAAAAAAAAAAAAAAAAAAAAAAAAAAAAAAAAAAAAAAAAAAAAAAAAAAAAAAAAAAAAAAAAAAAAAAAAAAAAAAAAAAAAAAAAAAAAAAAAAAAAAAAAAAAAAAAAAAAAAAAAAAAAAAAAAAAAAAAAAAAAAAAAAAAAAAAAAAAAAAAAAAAAAAAAAAAAAAAAAAAAAAAAAAAAAAAAAAAAAAAAAAAAAAAAAAAAAAAAAAAAAAAAAAAAAAAAAAAAAAAAAAAAAAAAAAAAAAAAAAAAAAAAAAAAAAAAAAAAAAAAAAAAAAAAAAAAAAAAAAAAAAAAAAAAAAAAAAAAAAAAAAAAAAAAAAAAAAAAAAAAAAAAAAAAAAAAAAAAAAAAAAAAAAAAAAAAAAAAAAAAAAAAAAAAAAAAAAAAAAAAAAAAAAAAAAAAAAAAAAAAAAAAAAAAAAAAAAAAAAAAAAAAAAAAAAAAAAAAAAAAAAAAAAAAAAAAAAAAAAAAAAAAAAAAAAAAAAAAAAAAAAAAAAAAAAAAAAAAAAAAAAAAAAAAAAAAAAAAAAAAAAAAAAAAAAAAAAAAAAAAAAAAAAAAAAAAAAAAAAAAAAAAAAAAAAAAAAAAAAAAAAAAAAAAAAAAAAAAAAAAAAAAAAAAAAAAAAAAAAAAAAAAAAAAAAAAAAAAAAAAAAAAAAAAAAAAAAAAAAAAAAAAAAAAAAAAAAAAAAAAAAAAAAAAAAAAAAAAAAAAAAAAAAAAAAAAAAAAAAAAAAAAAAAAAAAAAAAAAAAAAAAAAAAAAAAAAAAAAAAAAAAAAAAAAAAAAAAAAAAAAAAAAAAAAAAAAAAAAAAAAAAAAAAAAAAAAAAAAAAAAAAAAAAAAAAAAAAAAAAAAAAAAAAAAAAAAAAAAAAAAAAAAAAAAAAAAAAAAAAAAAAAAAAAAAAAAAAAAAAAAAAAAAAAAAAAAAAAAAAAAAAAAAAAAAAAAAAAAAAAAAAAAAAAAAAAAAAAAAAAAAAAAAAAAAAAAAAAAAAAAAAAAAAAAAAAAAAAAAAAAAAAAAAAAAAAAAAAAAAAAAAAAAAAAAAAAAAAAAAAAAAAAAAAAAAAAAAAAAAAAAAAAAAAAAAAAAAAAAAAAAAAAAAAAAAAAAAAAAAAAAAAAAAAAAAAAAAAAAAAAAAAAAAAAAAAAAAAAAAAAAAAAAAAAAAAAAAAAAAAAAAAAAAAAAAAAAAAAAAAAAAAAAAAAAAAAAAAAAAAAAAAAAAAAAAAAAAAAAAAAAAAAAAAAAAAAAAAAAAAAAAAAAAAAAAAAAAAAAAAAAAAAAAAAAAAAAAAAAAAAAAAAAAAAAAAAAAAAAAAAAAAAAAAAAAAAAAAAAAAAAAAAAAAAAAAAAAAAAAAAAAAAAAAAAAAAAAAAAAAAAAAAAAAAAAAAAAAAAAAAAAAAAAAAAAAAAAAAAAAAAAAAAAAAAAAAAAAAAAAAAAAAAAAAAAAAAAAAAAAAAAAAAAAAAAAAAAAAAAAAAAAAAAAAAAAAAAAAAAAAAAAAAAAAAAAAAAAAAAAAAAAAAAAAAAAAAAAAAAAAAAAAAAAAAAAAAAAAAAAAAAAAAAAAAAAAAAAAAAAAAAAAAAAAAAAAAAAAAAAAAAAAAAAAAAAAAAAAAAAAAAAAAAAAAAAAAAAAAAAAAAAAAAAAAAAAAAAAAAAAAAAAAAAAAAAAAAAAAAAAAAAAAAAAAAAAAAAAAAAAAAAAAAAAAAAAAAAAAAAAAAAAAAAAAAAAAAAAAAAAAAAAAAAAAAAAAAAAAAAAAAAAAAAAAAAAAAAAAAAAAAAAAAAAAAAAAAAAAAAAAAAAAAAAAAAAAAAAAAAAAAAAAAAAAAAAAAAAAAAAAAAAAAAAAAAAAAAAAAAAAAAAAAAAAAAAAAAAAAAAAAAAAAAAAAAAAAAAAAAAAAAAAAAAAAAAAAAAAAAAAAAAAAAAAAAAAAAAAAAAAAAAAAAAAAAAAAAAAAAAAAAAAAAAAAAAAAAAAAAAAAAAAAAAAAAAAAAAAAAAAAAAAAAAAAAAAAAAAAAAAAAAAAAAAAAAAAAAAAAAAAAAAAAAAAAAAAAAAAAAAAAAAAAAAAAAAAAAAAAAAAAAAAAAAAAAAAAAAAAAAAAAAAAAAAAAAAAAAAAAAAAAAAAAAAAAAAAAAAAAAAAAAAAAAAAAAAAAAAAAAAAAAAAAAAAAAAAAAAAAAAAAAAAAAAAAAAAAAAAAAAAAAAAAAAAAAAAAAAAAAAAAAAAAAAAAAAAAAAAAAAAAAAAAAAAAAAAAAAAAAAAAAAAAAAAAAAAAAAAAAAAAAAAAAAAAAAAAAAAAAAAAAAAAAAAAAAAAAAAAAAAAAAAAAAAAAAAAAAAAAAAAAAAAAAAAAAAAAAAAAAAAAAAAAAAAAAAAAAAAAAAAAAAAAAAAAAAAAAAAAAAAAAAAAAAAAAAAAAAAAAAAAAAAAAAAAAAAAAAAAAAAAAAAAAAAAAAAAAAAAAAAAAAAAAAAAAAAAAAAAAAAAAAAAAAAAAAAAAAAAAAAAAAAAAAAAAAAAAAAAAAAAAAAAAAAAAAAAAAAAAAAAAAAAAAAAAAAAAAAAAAAAAAAAAAAAAAAAAAAAAAAAAAAAAAAAAAAAAAAAAAAAAAAAAAAAAAAAAAAAAAAAAAAAAAAAAAAAAAAAAAAAAAAAAAAAAAAAAAAAAAAAAAAAAAAAAAAAAAAAAAAAAAAAAAAAAAAAAAAAAAAAAAAAAAAAAAAAAAAAAAAAAAAAAAAAAAAAAAAAAAAAAAAAAAAAAAAAAAAAAAAAAAAAAAAAAAAAAAAAAAAAAAAAAAAAAAAAAAAAAAAAAAAAAAAAAAAAAAAAAAAAAAAAAAAAAAAAAAAAAAAAAAAAAAAAAAAAAAAAAAAAAAAAAAAAAAAAAAAAAAAAAAAAAAAAAAAAAAAAAAAAAAAAAAAAAAAAAAAAAAAAAAAAAAAAAAAAAAAAAAAAAAAAAAAAAAAAAAAAAAAAAAAAAAAAAAAAAAAAAAAAAAAAAAAAAAAAAAAAAAAAAAAAAAAAAAAAAAAAAAAAAAAAAAAAAAAAAAAAAAAAAAAAAAAAAAAAAAAAAAAAAAAAAAAAAAAAAAAAAAAAAAAAAAAAAAAAAAAAAAAAAAAAAAAAAAAAAAAAAAAAAAAAAAAAAAAAAAAAAAAAAAAAAAAAAAAAAAAAAAAAAAAAAAAAAAAAAAAAAAAAAAAAAAAAAAAAAAAAAAAAAAAAAAAAAAAAAAAAAAAAAAAAAAAAAAAAAAAAAAAAAAAAAAAAAAAAAAAAAAAAAAAAAAAAAAAAAAAAAAAAAAAAAAAAAAAAAAAAAAAAAAAAAAAAAAAAAAAAAAAAAAAAAAAAAAAAAAAAAAAAAAAAAAAAAAAAAAAAAAAAAAAAAAAAAAAAAAAAAAAAAAAAAAAAAAAAAAAAAAAAAAAAAAAAAAAAAAAAAAAAAAAAAAAAAAAAAAAAAAAAAAAAAAAAAAAAAAAAAAAAAAAAAAAAAAAAAAAAAAAAAAAAAAAAAAAAAAAAAAAAAAAAAAAAAAAAAAAAAAAAAAAAAAAAAAAAAAAAAAAAAAAAAAAAAAAAAAAAAAAAAAAAAAAAAAAAAAAAAAAAAAAAAAAAAAAAAAAAAAAAAAAAAAAAAAAAAAAAAAAAAAAAAAAAAAAAAAAAAAAAAAAAAAAAAAAAAAAAAAAAAAAAAAAAAAAAAAAAAAAAAAAAAAAAAAAAAAAAAAAAAAAAAAAAAAAAAAAAAAAAAAAAAAAAAAAAAAAAAAAAAAAAAAAAAAAAAAAAAAAAAAAAAAAAAAAAAAAAAAAAAAAAAAAAAAAAAAAAAAAAAAAAAAAAAAAAAAAAAAAAAAAAAAAAAAAAAAAAAAAAAAAAAAAAAAAAAAAAAAAAAAAAAAAAAAAAAAAAAAAAAAAAAAAAAAAAAAAAAAAAAAAAAAAAAAAAAAAAAAAAAAAAAAAAAAAAAAAAAAAAAAAAAAAAAAAAAAAAAAAAAAAAAAAAAAAAAAAAAAAAAAAAAAAAAAAAAAAAAAAAAAAAAAAAAAAAAAAAAAAAAAAAAAAAAAAAAAAAAAAAAAAAAAAAAAAAAAAAAAAAAAAAAAAAAAAAAAAAAAAAAAAAAAAAAAAAAAAAAAAAAAAAAAAAAAAAAAAAAAAAAAAAAAAAAAAAAAAAAAAAAAAAAAAAAAAAAAAAAAAAAAAAAAAAAAAAAAAAAAAAAAAAAAAAAAAAAAAAAAAAAAAAAAAAAAAAAAAAAAAAAAAAAAAAAAAAAAAAAAAAAAAAAAAAAAAAAAAAAAAAAAAAAAAAAAAAAAAAAAAAAAAAAAAAAAAAAAAAAAAAAAAAAAAAAAAAAAAAAAAAAAAAAAAAAAAAAAAAAAAAAAAAAAAAAAAAAAAAAAAAAAAAAAAAAAAAAAAAAAAAAAAAAAAAAAAAAAAAAAAAAAAAAAAAAAAAAAAAAAAAAAAAAAAAAAAAAAAAAAAAAAAAAAAAAAAAAAAAAAAAAAAAAAAAAAAAAAAAAAAAAAAAAAAAAAAAAAAAAAAAAAAAAAAAAAAAAAAAAAAAAAAAAAAAAAAAAAAAAAAAAAAAAAAAAAAAAAAAAAAAAAAAAAAAAAAAAAAAAAAAAAAAAAAAAAAAAAAAAAAAAAAAAAAAAAAAAAAAAAAAAAAAAAAAAAAAAAAAAAAAAAAAAAAAAAAAAAAAAAAAAAAAAAAAAAAAAAAAAAAAAAAAAAAAAAAAAAAAAAAAAAAAAAAAAAAAAAAAAAAAAAAAAAAAAAAAAAAAAAAAAAAAAAAAAAAAAAAAAAAAAAAAAAAAAAAAAAAAAAAAAAAAAAAAAAAAAAAAAAAAAAAAAAAAAAAAAAAAAAAAAAAAAAAAAAAAAAAAAAAAAAAAAAAAAAAAAAAAAAAAAAAAAAAAAAAAAAAAAAAAAAAAAAAAAAAAAAAAAAAAAAAAAAAAAAAAAAAAAAAAAAAAAAAAAAAAAAAAAAAAAAAAAAAAAAAAAAAAAAAAAAAAAAAAAAAAAAAAAAAAAAAAAAAAAAAAAAAAAAAAAAAAAAAAAAAAAAAAAAAAAAAAAAAAAAAAAAAAAAAAAAAAAAAAAAAAAAAAAAAAAAAAAAAAAAAAAAAAAAAAAAAAAAAAAAAAAAAAAAAAAAAAAAAAAAAAAAAAAAAAAAAAAAAAAAAAAAAAAAAAAAAAAAAAAAAAAAAAAAAAAAAAAAAAAAAAAAAAAAAAAAAAAAAAAAAAAAAAAAAAAAAAAAAAAAAAAAAAAAAAAAAAAAAAAAAAAAAAAAAAAAAAAAAAAAAAAAAAAAAAAAAAAAAAAAAAAAAAAAAAAAAAAAAAAAAAAAAAAAAAAAAAAAAAAAAAAAAAAAAAAAAAAAAAAAAAAAAAAAAAAAAAAAAAAAAAAAAAAAAAAAAAAAAAAAAAAAAAAAAAAAAAAAAAAAAAAAAAAAAAAAAAAAAAAAAAAAAAAAAAAAAAAAAAAAAAAAAAAAAAAAAAAAAAAAAAAAAAAAAAAAAAAAAAAAAAAAAAAAAAAAAAAAAAAAAAAAAAAAAAAAAAAAAAAAAAAAAAAAAAAAAAAAAAAAAAAAAAAAAAAAAAAAAAAAAAAAAAAAAAAAAAAAAAAAAAAAAAAAAAAAAAAAAAAAAAAAAAAAAAAAAAAAAAAAAAAAAAAAAAAAAAAAAAAAAAAAAAAAAAAAAAAAAAAAAAAAAAAAAAAAAAAAAAAAAAAAAAAAAAAAAAAAAAAAAAAAAAAAAAAAAAAAAAAAAAAAAAAAAAAAAAAAAAAAAAAAAAAAAAAAAAAAAAAAAAAAAAAAAAAAAAAAAAAAAAAAAAAAAAAAAAAAAAAAAAAAAAAAAAAAAAAAAAAAAAAAAAAAAAAAAAAAAAAAAAAAAAAAAAAAAAAAAAAAAAAAAAAAAAAAAAAAAAAAAAAAAAAAAAAAAAAAAAAAAAAAAAAAAAAAAAAAAAAAAAAAAAAAAAAAAAAAAAAAAAAAAAAAAAAAAAAAAAAAAAAAAAAAAAAAAAAAAAAAAAAAAAAAAAAAAAAAAAAAAAAAAAAAAAAAAAAAAAAAAAAAAAAAAAAAAAAAAAAAAAAAAAAAAAAAAAAAAAAAAAAAAAAAAAAAAAAAAAAAAAAAAAAAAAAAAAAAAAAAAAAAAAAAAAAAAAAAAAAAAAAAAAAAAAAAAAAAAAAAAAAAAAAAAAAAAAAAAAAAAAAAAAAAAAAAAAAAAAAAAAAAAAAAAAAAAAAAAAAAAAAAAAAAAAAAAAAAAAAAAAAAAAAAAAAAAAAAAAAAAAAAAAAAAAAAAAAAAAAAAAAAAAAAAAAAAAAAAAAAAAAAAAAAAAAAAAAAAAAAAAAAAAAAAAAAAAAAAAAAAAAAAAAAAAAAAAAAAAAAAAAAAAAAAAAAAAAAAAAAAAAAAAAAAAAAAAAAAAAAAAAAAAAAAAAAAAAAAAAAAAAAAAAAAAAAAAAAAAAAAAAAAAAAAAAAAAAAAAAAAAAAAAAAAAAAAAAAAAAAAAAAAAAAAAAAAAAAAAAAAAAAAAAAAAAAAAAAAAAAAAAAAAAAAAAAAAAAAAAAAAAAAAAAAAAAAAAAAAAAAAAAAAAAAAAAAAAAAAAAAAAAAAAAAAAAAAAAAAAAAAAAAAAAAAAAAAAAAAAAAAAAAAAAAAAAAAAAAAAAAAAAAAAAAAAAAAAAAAAAAAAAAAAAAAAAAAAAAAAAAAAAAAAAAAAAAAAAAAAAAAAAAAAAAAAAAAAAAAAAAAAAAAAAAAAAAAAAAAAAAAAAAAAAAAAAAAAAAAAAAAAAAAAAAAAAAAAAAAAAAAAAAAAAAAAAAAAAAAAAAAAAAAAAAAAAAAAAAAAAAAAAAAAAAAAAAAAAAAAAAAAAAAAAAAAAAAAAAAAAAAAAAAAAAAAAAAAAAAAAAAAAAAAAAAAAAAAAAAAAAAAAAAAAAAAAAAAAAAAAAAAAAAAAAAAAAAAAAAAAAAAAAAAAAAAAAAAAAAAAAAAAAAAAAAAAAAAAAAAAAAAAAAAAAAAAAAAAAAAAAAAAAAAAAAAAAAAAAAAAAAAAAAAAAAAAAAAAAAAAAAAAAAAAAAAAAAAAAAAAAAAAAAAAAAAAAAAAAAAAAAAAAAAAAAAAAAAAAAAAAAAAAAAAAAAAAAAAAAAAAAAAAAAAAAAAAAAAAAAAAAAAAAAAAAAAAAAAAAAAAAAAAAAAAAAAAAAAAAAAAAAAAAAAAAAAAAAAAAAAAAAAAAAAAAAAAAAAAAAAAAAAAAAAAAAAAAAAAAAAAAAAAAAAAAAAAAAAAAAAAAAAAAAAAAAAAAAAAAAAAAAAAAAAAAAAAAAAAAAAAAAAAAAAAAAAAAAAAAAAAAAAAAAAAAAAAAAAAAAAAAAAAAAAAAAAAAAAAAAAAAAAAAAAAAAAAAAAAAAAAAAAAAAAAAAAAAAAAAAAAAAAAAAAAAAAAAAAAAAAAAAAAAAAAAAAAAAAAAAAAAAAAAAAAAAAAAAAAAAAAAAAAAAAAAAAAAAAAAAAAAAAAAAAAAAAAAAAAAAAAAAAAAAAAAAAAAAAAAAAAAAAAAAAAAAAAAAAAAAAAAAAAAAAAAAAAAAAAAAAAAAAAAAAAAAAAAAAAAAAAAAAAAAAAAAAAAAAAAAAAAAAAAAAAAAAAAAAAAAAAAAAAAAAAAAAAAAAAAAAAAAAAAAAAAAAAAAAAAAAAAAAAAAAAAAAAAAAAAAAAAAAAAAAAAAAAAAAAAAAAAAAAAAAAAAAAAAAAAAAAAAAAAAAAAAAAAAAAAAAAAAAAAAAAAAAAAAAAAAAAAAAAAAAAAAAAAAAAAAAAAAAAAAAAAAAAAAAAAAAAAAAAAAAAAAAAAAAAAAAAAAAAAAAAAAAAAAAAAAAAAAAAAAAAAAAAAAAAAAAAAAAAAAAAAAAAAAAAAAAAAAAAAAAAAAAAAAAAAAAAAAAAAAAAAAAAAAAAAAAAAAAAAAAAAAAAAAAAAAAAAAAAAAAAAAAADF/3//L/9s/5T/2f81AOP/2f9m/2z/Tf/x/sf+K/8H/7z+j/4G/mX+q/7l/t//AQA6AIMAPQBJALL/HABRAHr/vf6G/ub9s/3S/T/+fP7d/mf+If6v/Wf+pP7W/q3+f/9E/8z+Fv8N/6b+2f1c/S/9m/2Q/eH9+v02/t3+5/48/4//qP/p/7L/nv/o/53/iv+e/hL+K/4m/wf/Sf8YAD8AbAC4ADIBIwHVAK0A3P+R/57/S/+E/xH/DP+b//D/lAB3ADUB1AHKAQEC9wElAn8BVQHMAHQA1gDGAEoAiwBIAWIB8wEbAmMCnQIpAoABBwG8ALUAqADZ/4z/Jv/2/hn/Bf+l/4gAywDRALcAvwDCABcBSwGPATkBSAH4AEIAkgDlAIABwQGxAVgBfwH9AYcBcAEjAQABCAFyAD0ArP86AL0AhQC/AL8A0wBeAMQAAwEvAnkCLgLsAMcAvv/o/9r/VADWAAgBWAErAKYAIwHtAS4CFQL4AdoBNAG/ANgA1QANAUwApAC8ACABpQGlARQBTgFKAjMC8AGPAbQB9wGoASkCrQF1AnMBAwHS/9T/uADQAKsAewATABgArP/j/xUAWAB3AEUABgDZ/+n+Wv8pADUA6f8t/7P+nv7g/Yz97PxZ/Yb94vxa/C789vuE+wf75vp9+lL7Bfyr+1f7/Pox++b6kPvJ+7n8zfwT/av8H/yF/G78Mvy3/D791P1I/en8Rv1D/Tz9i/3A/cr9A/5A/uv98v3S/U/+Mf4q/1EALwHFAa8BvAHIARgCJQL9AeoABACW/+n+AP/z/iX/f/+fACMBbAEgAdUAowBlAMkA0AD0APD/z/9d/0j/jv8JACIAwgAIASABBwHnACEBFwFdAb0A2gDOABEBQwFhAZgB8wDbACMBmAGlAdoBUwF9AQ0BTQHRAMkAEgE6ASYBqADsAKMA9f94/3n+xP4t/8T+hv4h/0P/if+F/qX96v3g/QX9Kfwa/AH87/vW+8D7/vu6/AX9X/xp/BP90vwZ/D38RPxg/Cv8sfvt+x78q/xa/EH9yv2D/jn/S//Q/xgA0P+P/5n/UP/Q/5P/j/+d/1r/Tv/V/60A0ABSAfMBwQEIAf0AIQESAS8BBQEWAWkB3wDfADIBbgETAuEBVwLTAg0D4QEdApACiALuAeQBFQJcAtECdAPrA14EBQRUBF8EugPuA74DMgPuAcMBtwEXAeoAkwHQAeEBNwF1Af0BTQKiAqIC5AH9ARoCBwKKAVwBYgHuAKEAKQBqAMkAywD0AHEBrwHyAVYCdwKXAtECVAJEAZcAPQBiAIoAev/W/u/+of7f/iX/Nf+KAGIA3v8OAKkADQGUAcUBgAEaAp4BYgEXAXMBigEvAUQB2gA4ACcArQCIAK4ALwGYAWQBegEQAikCIgJ4AYcBVQFhARkBIAF7AGIAjv8//8b/2f8QABMAqv9D/yj/v/77/lP/I/9f/9r+Qv5C/tv9Ov6f/rj+aP7R/VL91v22/XL9eP3D/RD+w/27/Zv9VP7C/qj+Yv4a/pL+gP6//mP+E/4m/vX9f/16/Sn+l/6V/oD+fv6e/pr+iP53/or++/6P/wj/Rf69/eX9hf6S/mj+5f1F/jD+oP1w/Ub9jv39/DT9Cf0o/QP+uP2l/VT+2/4H/yD/RP9n/zr/Of/z/oX+q/6S/qP+R/75/Sz+Yv4E/q3+mP/4/wQAjP+U/9n/r/8BABMAQABjAAQAgP8R/5b/wf/8/wEA2f+g/3v/JgADAAQAwP+t/7L/3/7E/n//8/9PAIoAJwBRAAEA2f+y/w0AkACpAIUAAQB7/0v/f//P/6r/Rv9L/xH/Z/+P/9L/BgBqAKYA2v9w/yr/y/7u/jL/a/+h/v3+Qf8F/wD/7P4F/9D+tf6e/47/h/8w/57+l/7p/vH+gv+n/53/cP8o/xz/L//P/wEAMwCy/wsAXQDVADMARwB2AIEASQCIADoAKQBHAEEB9QHyAfcBOAI3AUUAAAA9AHcAnwDMAHQA2v8t/wP/sv4b/4//jP9a/1L/PP+G/rj+sf+v//D/hP+R/1//N/+8/zf/S/8m/zr/a/9J/63/QAB8AHsAtwDRAGAA4gAWAT0Awf8IADAAhgDWAFwBKgHdAKAB6QFKAk4D9QNqA2oCLALXAawBegHrAbsCAAP3AsICWQIPA2wDAAO1Ap8CgQLIAcABJQJ5AicCAgKrAiwCngGFASUC2AJHAkoCRgGkAC4ARAAaABMA3QA6ARcBHgFwAekBFQLZAUMClQInAgECrAHnAHIAMwAJAC4AsgAAAfYA3wBdAHIAFQBqAGUAgwAXAFX/Bf/O/hL/hf/j/+UAZwF9AbUAbACXAD8AhQDnAOQAGwHuAJQAPAGiAY4C4AK2AmgC3gFGAT8A9f8rAMr/sv9s/xT/qf7k/j//sv/u//D/XgCeALAAZQDh/0H/kf/y/8//uf+b/+P/nf+O/9X/9/+eAPYAKwGuAJcADwFIAcwAZwB2AK3/+/7k/vP+lf7a/s//nv+n/5j/rf9Q/5T/EgDm/8j/u/8mAJb/SP8w/yD/pv7u/ij/6v6o/tb+6f6m/pr+/v13/Uv8pvwF/Xz96/2r/gP/j/5y/qj+rf6//m/+e/7t/YL9gvxV/LX72fsk/Gn85vxA/W79Zv2i/XH+A/+R/0IAPwBdAPQAKAFXAUsBNwFOAWkBKgGnAQYC8AFpAYcBmwHmAScCagIkA0kDSQM4AyEDoQLAAlwCZQK1Ai8CngGeAYkBpwG2AasCJAO5A5EEtgQZBKEDfQOwA4AD7gMTBOQD2gPLA18DjQNdA/sDygR1BBYEAgQlBGIDjwODA9gDYgMDA/sCpwICAqIB1QG0AVICPgKTAhECjgGsAU0BtgGAAXsBiQGCAckASgAwAKkAcwFzAaUBOgEHASYBrQD8/5b/U//L/l3+av6A/qH+q/5X/0kAnAA6AdUAJAC8/2H/zP5n/uX+qP6k/sb+LP4V/sL9lf4E/ob9vvzi+3X7j/qs+kj78fvc/O78Vf1m/Q3+zP5c/wj/gP8m/8v+Jv+//sH+Gf/u/g3/Ef/F/7L/s/42/pX9B/1N/Vr90Pyq/Of8MPx/+0j7jvvC+1r8Rf1X/bD8g/wY/U/96/0h/rX+T/6L/dD8vPyy/LT9yv27/dL9s/0L/hz+R/7M/ur+mf9c/xv/qP4k/v79pP3g/bb9N/3h/aH+2v4y/6f/PQAEALH/GgDCAMIA3QC1AJ8AbAAaAPX/tP+x/9L/gQDLAB4BBwEMAbAAyQAHAekAIwFVAf0AWAFGAVcB0wBfAS4CMgP1A/EDVAS+BHUE0gSpBDEF9wQWBIIDeAPSA7kDNgTTA6EDLgM9A+0CDQOnApgCFgKyAY8BQQFIAcsBGwEZAWcA2gBjAA0AiwCXAGcA2v+P/xv/7/6Y/xIA7gDzAIAAqwB7ACsB8wHzATMC/QFRAk8CFQLDAfMBewEvAU0BXwEMAaMAdgB2ACQAewDlAJUATwAGADEAJgAQABMATwDc/zUAw//w/wsAZwC6AJUAQgDu/y4Aaf91/8//Vf+6/p/+Nv58/R39cP1B/f38Yf38/ZD+CP4t/SX9Rv0d/fH8+Pzh/NH7SPvI+t/6Kfuz+zz80vxz/E78R/yo/Kr8J/07/f38Zfzb+6b7n/s3/Av8Z/wj/PH7M/yC/FD8hfyM/Z/9qf1Z/Wb9vf18/bb9Zv3g/QT+bP+q/xMAGAB2/zf/7/46/zX/j//9/2f/a/8v/xH/3/4P/27/eP+T/xcAwgCKABcBOQFIAQMBkQEbAvAB5gH9AXAC4gKiAucCHANkA0YDFwNQA04DMwMIA68DmQPMAs8CkQO1A9oDRQSJBAoEZgQABGMEmwTWBPQESQWGBZAFBgUcBZoEywO+A/UD7gPnAyUE9gPfA1oEQQSqAywEdANlA9gD0AMZBCgEaARhBFkEWAN/Ag0D/gJBAyEDswIEAggBxwCyAEQAEwDV/7f/K/+F/gT+7/3o/ZX9Qv75/Z39Iv0O/bL8fvxM/FH8FPwV/A38Cvw5+0j76Prc+g77uvtZ+wT7rPvt+yn8WvxZ/f79Yv7v/cf9JP4a/hL+/v2V/X/9xf3g/er9yP2J/Y79Nv36/b/+Ev8q/zf/A//M/pn+xP7H/o3+kP5y/kf+Rf6X/ir/j/8YABoAnwCSANYAmgB7ALUAIQBx/9T/DgDN/wAAIQDLABwBEQF9ARsCrAJNAq4CsAKEAnACKQJ6AmgCnAJ/AlwCvQJTA3EDSwNlA0sD2AOyA3QDoAOCAxcDVQPVA7ADyAPYAyMEDgQKBBkEXAQ3BLkEvQQxBNgDtwOXA5sDWAP0ArYC5QINAxIDoQMDA4gCtQJ+AnwCwQENAWIBFgFdAHQALADe/5QACgE0AQAB1AELAkEBKgFmASMBFwFLAdUBwAEEAtUBBwIkAu4BWwK7AncCBAKCAaMA1QEfAtoBnQFGATkB4gAZAQwB0QCNADAAAQCt/0b/ZP/G/1kA+QBGAe4A7wCfAI8AfAAxAFYAyP8v/3L+P/7X/Y79gv2b/fX9Sf5l/jH+s/3M/dz93v0V/on9rv3E/FX8MPzc/Nf8Of1F/Rj9U/y6+1n7Svtw+9T7Gfy4+z77G/sR+xr7Zvv3+6H8oPy3/Gr89fwE/dr8Iv2f/SH+0f1t/Tn9FP3A/Q7+Dv6h/tH+fP6F/i7+e/6I/sL+Ef+Z/o/+9/3o/aD9Mv0X/oX+6v4o/3H/Q/+3/i7+BP6Z/q3+Zf5j/Qn9xvxB/Cv8X/xo/ff9BP62/cL91v0h/vn9rv74/ob+Y/6j/mX+g/5M/qv+iv/P/xcAaACwAFMAUQCl/ysAigCcAHIAqQBoAP4AxgAbASoB8wFHAsoBrAFEASEB5wDlAIoAagAwAV8BUAHBARECdAL4AQgB1gC8AKsApgA1AWYBFgGwAJAAoQCQAHYApADsAN0AHAASAPL/mQCSAGoAxwA8AcEAfgBTAMX/j/9I/7n/Fv8m/3j/bP/j/20AdwCwAH8BtgHmAV8BMgFRANT/dv9Q/13/k/80/13/u/8fAMwABwGgASoCzQGhAPX/mP8j/3H+nf31/TD+Vv5b/rD+FP9x/1j/qP/e/6r/jv8m/5L+rv1f/QD9B/2p/TD+2/5B/xAAh/+l/wYASQALALb/ff9Y/6j/3v8OAH4AIgBeABgASgA1AQgB3wA1AYoA6f+3/6P/8v8DAP//HADm/9L/NP8AAEoAcQCyADsAev8v/2f+Z/4b/7L+Lv5v/kz+GP5J/oX+S/9a/9/+6f7G/pL+Rf46/gH+Iv4a/rj+i/5k/wf/rf5O/2b/X//v/kH/RP8q/4X/Vf99/zr/eP81ABEBZwGoAeYBzQFfAZ8ADAFhAZEB7gACAbgAJwCwAP0AKwFmAWcB5gFVAUYBAwFiAbkB6AF+ArIB3wERAqYCjQO/A2YEsQTYA0YDrAIkAo4BfQHIAfIBGwFSASUBfAAmAeUArwH1AcgBNQHxAIsAJAAJAN7/tP97/13/Av8N/4j+T/7q/lr/G/86/93+kP6V/q3+Zf4m/sz+0f5v/hf+wP2Q/Ur9Y/3N/Xn+E/5s/jr+Bv7e/er99f3F/aj+SP9s/+r+U/9Y/wD/q/7p/tP+j/4//7f/P/+y/l3/Cv+G/or+M/4n/kf+Kf4T/qr9zP1Z/tD+kP52/oH+vP64/mL/3P/y/9n/Fv8W/1L/z//VALoARQBs/xH/Bf9B/0P/gv/v/m/+A/7D/Rr+Zf6K/mf+GP6R/e78Kv32/Gj93P1P/ob+JP5F/lv+4/0m/h/+pP1b/qT+Yv7m/ar90f1W/qT+mf63/hn/Sf+i/6//nv8DAN8AAwEHAdgAqQChAEQA2wCjAd8BrwGZAboALwEEAoYC7QJ8Ar8CogLYAroCLAJjAhwDyQK2AgED9wJoAuICSQPdAygETQSaBBQEtQM9A2wDYAMLA88CeQMNA/4CQQOKA3YDEAP5AhkDIwPPAp0CwQFhAWcB2wBnAYUBsQGGADYAxf86AKMAVwENAWgA7f/N/7v/5v/8//z/pf8g/z3+wP2M/QP+Nf6k/u/+l/76/ff96v2V/iX/1/8LAP3/HAD///r/NQCVAI0A5ADEAOcAzgCQANX/yv/6/y4AowClAQECBwE5AQECCgGwAPQA/QB/AbcBjAF6AX8BPgHQATQCIgLpATQB+wDvAP4AFwGUABoArP+o/zz/bv9HADEAgABvAKMA0wDCAMQARAAsAO3/XQC3/xwAxv8v/y3/t//j/xcAdgCfAOQASgBYABn/mv7M/lv+B/+1/iT+QP5y/Vr9Wv3R/Xb+2v6t/l3+AP8w/4f/CQCy/5j/hP/H/qn+/v6j/vP+j/5E/1j/Jf9n/pz+rv5f/+7/RwDsAIYAiwBeAIABpQHpAaIC1gLsAhcDuwKDAqwCugJfA1YDAgT6A28DHwM2AiICkwLUAjgCQAL6Ab4B/QHTAvECCAMrA1ED0QIaAwsDQQNxA3EDoAPiAugCbAMwA2oCgQIAA9gCmALAApwCFgJSAkgCTQEvAU4BugAIAMb/k/8C/1P+Nv6y/lX/af/B/5n/kv6N/p/+wf4C/b/8N/ya+xD7k/r4+pH6IPv7+6z70fsF/If83fyt/DL9xvyN/Dj86vuk+/T7Afyp+9b7Ifx5/Lf82vx6/YH9k/07/Tv9Mv2l/D/89vs1/Jn85PwM/aX8wfwP/SX9gv14/cf9Nf4w/vT9gv20/aL9Rf1F/Yb9lf1z/Uv9pP3Z/an9av4D/1z/Jv9u/+7/BACzAJQAhQCNACwAgQAwAeAA7gDuACEBtgHSAUoCHgO1A2wD7AKAA48DCQQlBCoEwgSaBLMEkQTNBCIE0wPQAyAE5AOCBNEEHgTkAxQEcgRoBQEF3wXaBRYG0wVMBf4EHAX/BJ0E/wTmBNEE9wT5BEoFEgYtBqIGUAYjBsQFUwWaBGEEkQRBBDEE/wO3AzwDXwMtA6QCPQJwAgkCtwFIAbgAZwDo/4X/IP8A//P++P6V/pL+0f52/o3++f4r/7X+If/T/ib+2/19/aD9mP3W/ev98v02/mX+iP6z/jv+5v3m/T/+eP1//a79Kv3Y/CL9NP0D/hP+kP6B/k3/I//4/nD//f+GAPf/4f+g/2f/F/+o/p/+cf46/6v+/v45/xb/CP+t/7L/+f6F/zX/if/u/kn/kP51/w//rP9c/03/Jv+J/0P/5v+t/0T/Qf9R/r3+0P4W/wz/3/7+/hz/Of9w/53/1f/h/yIAhgAxAOj/ZwBgAAAAkf+K/+n+af9FAKQAqwDnAJ4BxQGKAZgBWAFmAewA0QASACwA6f9YAAQA0v+i/8X/lACGAGMADwGrAIkBKgEKAUAATgCl/5b/l/7L/gv+z/24/b392/0E/pX+Xf8U/z//SP8P/zT/If9M/jr+R/6t/on9k/3//Tv+GP65/fD9Y/04/oX+T/64/bD+d/7A/Q7+kv4x/uD9wv6h/ur+Yf+E/wkAt//S/6L/nf+q/zgAcQBKAJT/w//4/0oAWQD7AMIA+AAWAd0AlQAWAXMBSAH4APsAWQDD/xUAFwDS/77/j//B/6//XP8N/wP/AP8N/63+2/3K/cj9gf3A/az9tv0p/jb+Yv5l/t/+pP7l/r/+yf5E/yD/4v4K/3b+3P25/Sf+rf6V/t/+I/8P/yj/0/5E/5P/5P+O/yD/N/++/yH/3f6k/uD+8/7q/qv+yf74/mL/pv6F/oD+P/4Y/j3+OP6K/v7+jf6h/t/++f7b/lj++f1i/nT+Ov4r/iz+qv0o/Xj8uvwE/Yj8wfxK/cL9J/6r/n7+Cv/M/sD/G/+8/mD+Dv42/ub9F/4d/vX9Dv5R/kr+iP68/u/+MP+Y/8H/y//c/9X/RADzAHEApgDlAP4AhQDLACYBbgGMAeQBYAIHAikCnAK7AjMD2QJ7A0IDOAPgAqUDSwPnAhoDAAMpA0sDiANYA1UD8QMlBHMEGATrA8sDqgMAA3cCDAKPAekBAQIQAugB2gEEArkBrQHfAQECQgJrAikCOQJ4AcABAQLoAUUCcgLjApIDSQNbAykDLQMIA58COAIVAx8D2QIlAnkCmQHVAX0B2gFnAawBWQKZAdIBsgEWAvUB8wHSAS8BxgCIAL0AvAB8AKgAMQDj/0j/XP+m/hX+1/3c/RP9hfy8/Nj8G/24/Tz9Lf2Z/Jv8oPw3/Hb80Pxx/G/8nfuz+yD7qfsK/KP87vzX/D/8gvy1+zD8pPuD+9b7z/vH+3n7jvtv/B391/1R/qv+uP52/jn/Mv9V/4f/if++/8H/TACNAIUA0wCrAIYAdgBWAKEAAgHdAEoAUwA9ACEAGACO/zsAkgDw/7b/vv/P/4r/lv/U/0QAEACrAHIAngDOAPgAlABbAJ4AJwCY/9T/8P8BAF4A7wBnAE4AoQBqAPkAnACpAJYBeAGeAcEBlgEiAowBwwGUAc0BvAEoAWwBxQFwAX0BlAEVAvgBmwEHAu4B1QH6AXUCLgPxAtMCBQNtAs8CcAKXAscCAwNCA6YDCgO1A1EDSwNYA60DBwS3A/ADBASyA+sDiAODAxADVAInAmACEwLKAYcB1gCKAMYAyQCpAIUAtQCeAO8AGwEFATcB2ACfAGUA5v/f/1kAif+T/6P/8/9J/zL/vP81/+7+Xf8W/yv/9P5n/2b/L/85/8X/gP7J/sn+zP7b/rD+vf4X/vT9Cf4i/hf+OP5g/tn9w/0R/SL9Av0F/Zf8dPwM/dL8Ef36/Nr8tfzL/Kn9Zv0b/V79cP2V/ZX9fP1y/ZD9JP5O/rj9lv3//Qv+dv42/nf+JP4i/iH+CP7+/VD9fP0w/iH+Df64/bP91P0E/rj9uP1W/qr9L/2W/TT9f/2J/fz9qv30/ZD+3f6L/uT+Tf8U/1D/5f5a//j+PP+W/6z/bACXAL8AEQEFATQB9wG5AXQCwAGnAUsBrQFQATcBcAFhAR4BLwGKAWQBegEAAZQBNAHOAB0ANAEgAb8AaQFrAVIBvAElAssB1QFlAvICkgI9AqECOQIuAgEC6wGnAXoBUwEyAQIBNwEAAWEBdgF6AhMC+gHeAggDogL8AmkDjQNuAy0D7wIFA5cCCQIbAvwBrwHLAZ4BAAHEAIUBSAFSAS8BvAC1AEwAJwDL/8v/6f9PABAAt/+s/4L/5/4r/wX/d/70/dT9gf2Y/Yv9mv2G/TT9q/z//Bb9+vy0/Nz8uvzd/B79af02/df8vf3g/eX94/0Z/cX9G/3N/F/9PP2//Fj84vzE/Bb9Kv1D/eH8Mv10/PX8Xv22/d79r/0V/jv+6v5n/yD/Gf/j/xoA2v/t/7z/igDOAE8AIgBJAFEAowCNAKEAYwDGACkAQgD8/1QApACKAJcAtwD0AJAAcgDbADoBQwEgAY4BRAE8ASoB5wB3AKkA3P+i/3r/hP92/8b/Wv8//z//Kv+6/r3+SP+F//n+nv/8/6MAzAAhASYBsQH8AcYBegFrAUsBmAGbATQBRAHlAPgAdwBsAD0ACwBWAH4AgwDGAHQA5QD7AGwBEgHOAPkAmgDaAGIBIAGUAbYBFgJHAlcCgwKGAkgCOwInAgkCQQGHATABKgHnAOcAlADYANMA3wBxAZsBGQGbAX8BJQEyASYBKAE3AcUB1AFYAbYBAgLjAXgBawEHAeIAvwBxAOkAvQCwAEoAbACSAOoA7AB5ANYAhQCwAKMAZwCPAGUAaAAsAGoAdgDvALH/2v8SAEUA8v8dANX/JAAaAEH/Qf/W/qj+FP/2/mH/+f57/53/2f+t/7T//f8YAJ3/iv+o/z//Ov94/6z/iv9r/4X/t/97/2b/Hv/Y/jH+X/3c/Q7+uP1C/mP+ef7M/gP/n/70/j//kP5L/0j/MP+z/hT/NP+X/kX+q/6j/qj+cf4m/iT+M/6F/i7+LP4w/lP+d/7X/cD96/33/Zr99/3v/a7+Yv5Y/mX+Tv5o/tP+3f7n/nj/af9z/zL/Fv+y/0b/pP7n/ir/PP9L/zL/L//h/6z/sf91/9T/4/9YAOIAYwCjAGUAOwA2ADoA5P/F/9X/tP/p/w4A4/8mAOn//P+x/0P/jv8TAOP/zf9u/4YAOwAsAEEBlgEbAe4B1AHeAb4BGgIVAqMBTQHLAFYAZ//S/wAA5/6y/9T/gv+g/8r/8P/Q/8D/GAD//5v/yP+g/4D/1/+Y/5b/f//X/yQALgAfAPr/UQDI/20Af/+U/ycAtv8U/7f+Sf7T/rr+6v7G/nz+hv6y/pf+vP61/hL/of6//gz/cP+v/4z/0P8IAMj/Qf+U/+7/7f/Q/8b/9v4X/27/G/9m/0v/V//f/xgACwAiAHwAlwANAG0AoQDCAM4AtQA3ASABjwGoAUEBjAEjAU0BKwH0ANEAVAAQAA4A0P+J/wEAtP8aAPz/0v/I/4f/EwDr/1D/HP85/2v/bP+W/2T/kf9k/0P/hf9k/0H/cf/v/tv+6v09/sf9Pv2f/ZD9zP0d/jv+5f2R/fX97f38/Rf+Df44/nf+6/3X/Yr+dv42/g3+wv6S/rz+l/75/iv/B/+9/tb+5f40//P/KQA9AFkAxgD5ANoAZwGAAVoBIwEjASgBkQGCAWkBfwE3AWsB8QAqAUIAFwAXAAsA7f8zAEwABACY/+P/1/97AAgA3P/m/6r/JAAxAPz/jQDEAP4AnwBxAR0CQAKrAokCVwJ+AlsCeQL4AXUCzwLAAn8CVALjAlgDEgMoA+8CCwMPAzADJAM+AgICPgLtAZQBzwGjAewA1QBSAZIAYACQAIgAMgGhADEA5QDgAA8BngCfAEQAIgDj/5H/vP8b/+r9C/7w/e/9mf7M/kj/gP+T/+v/gv/w/9r/Uv8R/1D/XP8c/03/FP/7/pX+Rf61/jv+mf5Q/zr/L/86AMYAKwBJAHQAIgByAJUAdwCv/3X/eP+g/xL/c/9k/5T/HQADAJv/IgAIAT8BAwC1AO3/cQBRANL/1P+s/3H/qP86/3b/PP9h/3P/if8AAFj/3//y/63/+P5h/xb/D//l/oP+Rf6f/WP9D/3c/WP9rv0m/nf+U/75/iP/X/9x/wX/mP8m/53/G//x/qv+5P4P/2H/+v/F/x0APwD9/2IAMACuANAAnQHeAcYBBALYAkUCuQFWAs0BCwKwAl0DXwM4A+4D7ANEA4MDQAQqBAwEVARIBAMF6wQ6BRAFswRABAIESwT4A1AEcAT1AyAERgSvBJAEVASLBDQExgPYA5YDPwMXAzcDwAKdArkBAgL6AU8CBwLaAbEBLALaATABvQCPAHwAMQAuAAQAsv+H/zgAz/8dAJP/uf8g/8r/MQAIAHIAPv8+/+T/Ov9m/2T/uf+T/+P/OgCY/wL/kf8C/63+0f4w/vj+Z/6p/v7+sP7s/nH+8f7E/uX+8/6V/u7+KP/x/rD+of64/vT+GP7b/fr9Nf5Y/vT92f3H/Xz9uf2Y/VX9XP14/aD9tv1q/sv+vf77/pf+L/9B/7b/Of/2/hH/lf6t/rf+6v0x/tL9V/2f/aH+Y/41/lP+d/5d/jH+6P3v/WD+Vv66/pn+b/5O/mr+WP/J/mn/QADU/6r/xv8kAFYAewCKAIgAWABRAHIAbAB+AMQA9/+v/6r/wf+BAKEARAH5AAwBzADpAAoB4AASAQMBhAFSAjYCjQL8AfoB0AGvAbYBhAEwAVMBBQHiAPgAIQF4AcMBYgFsAY8BNAGZAEwAQABdAGcA8v86AHcAvQDdANYAFgG5AbYBkQHAASQCPQJWAv8BuwE3ATAB7wBGAV8B5ACHAQcCeAFDAQUBCgE0AQcBYgFDATUBrwGFAXYBnQFTATQBCgHJAKMAwQCaACgBGQFzAWQB5wDBADIBSQFaAQMByQB5APD/5P+s/w4AwP+g/wAAbAB2ABAA3/9PAJQAEgATALAA3QC8AJkAoQCQAFgA7f/G/97/9f/j/5b/4v7p/r3+Df+S/rP+Nf8P/3z+2P4A/xX+Pf6P/pX+y/7s/nn+y/7x/oT/EAB4/4n/uf/1/47/hP/7/p7+vv2x/Y79Wv2n/YL94f0q/R39DP1A/Vn9I/3k/Cf9Rf0A/cr9m/1N/f/8tP1B/YH9ff0+/bj9tP2L/fX9WP6Z/ob+uP7H/ov+WP47/ib+8/6O/53/Kv+8/63/YwD9/9EA7ABqAL0A7ADLACMBqgFEAY4BRAGnAQcBVQGiAWsBFAFOAZMBpQH8ASQCQwKJAsACwAKGAh0C2gEHAtoBrQHSAfoB5AFaAUQBAgF5AHQAewBeAPr/6f86AKMAEgGyAPEAfACAAGUAaQG9AOoAFwFXAWIAewBAABAATwBlAI8AtQBHAEkAgQAzAAwBQgBZAL0AHwCXADsAkgDTAJ8AFgEHAWsBmQE5AZMBKgF7ACEADgDN/2f/Mv+M/1X/7v5t/u/9lP7G/pX+Sf5Y/n7+Yv5W/oD+sP5i/8P/qv9G/2H/Wv9c/63/mP9s/6P/8P/K//3/1f8JALT/k/+A/6z/1f81/1r/rP+g//D/r//N/2L/+P+y/4gAswAhAH4AowAYABoAcgDpADUAiABTAEQAOgCx/5H/IP8I/5D+Ev8S/63+Cv/d/q3+EP5b/lj+Z/7o/R/+tv0a/mn9Uv19/SP9Bf0n/XX93/zx/Af9Cv0Z/Tz9lv0v/a79MP5U/rX+0/63/vH+2v4C/9r+Df/p/p/+yf6X/hH/t//h/xUAwP8pACYAkADlAHQARAC9ADUBmQEWAXYBXQHxAAoB0wBWALIAnADLAF0BLwFLAccAEQHMAEEBTgFLAb8AbAA2ALcAHQCl/9X/m/97/wL/WP7B/hv/Mv/9/q7+7v6m/p7+lP4M/yv/3P94/yb/af/A/zgAWwABANf/qP+u/or+KP9O/2L/ZP/X/1X/sf/u/8D/df97//r/GADm/8r/NQCNAGoAigAlAZ4BhQEqAXIABwFKACQAdgA2AHIAFQDV//P/8v8pALv/2f+b/xH/Rv8q/+z+SP/s/gP/b/5l/jP+J/7H/Yb+qf4//qT+i/7Y/or+xP4W/2n/Fv/a/v3+qP50/nH+Z/6h/kn/3/6R/y//S//n/nD/lv/n/gP/cP+U/wMAvv96/9X/cP9EANr/sf/c/2H/MADK////DgD6/20AigBeAN0AowAIAdgAWgEbARQBZwGFAXUBmwHaAcoBegFEAToB6gBdARkB9ABxAK4AzABvAJIAhgAhANL/vP8hADYA5v+v/4f/j/+l/8j/YwCBAM4AtwCpAIYAwgBZAI0AYgCrANEAsgA6AUkBqABqAGwAbQBKADsA+P+W/9L/EgAnANsAWwBWAJQA9gDTAIMAegEMAekATgECAXYBEgF+ABEBPAH+AKkASgCDAFQANgATADgAigDj/xoAUQD3/z8AsgBWAPX/MwDqAOoApAAtATUBMgEhAQ0BZAFdAQcBrAGiAX0BZgG6ANYAdAAiAOT/3P+e/zAAu/8kALn/wf/P/33/tP+g/6//WP+J/3D/DgD1/2cAwP8JAMD/tv+7/7z/1f/S/6X/qv9k/9z/4f9w/zr/Xf9Y/+z+oP+0/7n/8v/1/0IALgDuAFgBsgDVAMUBYQH9AIUABgCT/2z/kf/d/ov+Gf8v//v+j/7H/rP+gf6F/if+w/3R/Tz9Bv7h/X/9qv02/pn+vf6N/in+gf5H/uj9JP6Q/nb+Iv41/u/9x/0u/tf9+v0T/tL9df33/df9Nv7p/tv+UP8v/2T/cf8m/0n/S//9/mL/GADV/wAAUQDo/x8A+P8fADsA//8aAOP/AwBKAD0AJABKAB0A0ACPALMAcQC4ACABWAEXAR4BUwG+AbIBmAEIAUYBsgFQAQMBZAE/AU4BbgG0ARUCjgE6ASUBRAHMANgATQFkATUBZwFfAbQB2QGHAYABFwEjAVcBKAFrAa8B1wEMArwBwwExAlEC3gFHAsUBMwIpAhMCcAJ0AlsCxAI9Aj0CiQEwAZsBqwCLAGIAp/+3/3//eP9V/1D/IP8//xf/6f4D/43+OP75/cf9Wf1L/dD8bv1p/Q7+7/33/db+HP9T/r3+8/74/lf/fP6r/lP/Av/s/g3/oP/B/0kAOgCeACwARADLAI8AwgC3APQAAgEjAToBewEHAYcB3QDaANoAgwAeAboA5wCAAKkAeQDQAJ4AsgA2AG0AbwCK/1MAsgCcAJwAwQA/AfcB1QGRATECxQI+AmsClQLTAs8CMwJqAicCmgJNAjQCBgIqAgQCAgITAsgBXgKdAesB/wFNAncCdALBAYkBewH+AMEA1gAoATQBNwFVAToB6QCwAH4AigBWAO7/YABtAB8AAwADAIL/2v88/zz/cv7q/rf+AP+u/pn+ef4q//H+WP5P/lj+pv6F/g7+Jv6B/ub9gf29/Vn9E/0x/Qr92f1V/U39sPzx/On88fwY/UH9Lf27/Y79tv2T/d/8zfzi/Of8y/wT/eD9Wv1m/Sn+uv7T/ir/Jv/a/7b/4gBvAFEA/f/z/1gARABxAO8AJgEwAf4AYQHFAVsC8AGbAQsC8AGAAY8B7gFuAekBGQHpAKQA7gADAQwB3gFKAvgBjQIxAgEChwG0AQYCFgI2Al4CWwIlAkUCdwIMAvIB0AHQAdcBEgHvAJAAUwByADoAYv+q/1QATgAQAB8Aqv/m/4f/i/52/o3+1v6N/kT+Nf7G/jH+s/6z/pn+qf6A/o/+M/6f/qD97f0x/n7+U/7H/t3+2/7Q/j/+K/4//vb+t/74/tr+F//9/hT/pP4H/7X+I//C/ur+6/0N/j3+jf6//mf+2P7G/l3+d/6o/sz+F/9X/1r/Wv8+/z7/Yf9m////ev/m/zEAMwAmAVIBugCRARsBPwFTAXYB7QEpAooBWAGbAZkB6QFnAY0AMgFXAV8BIQG8AeYBUgG/AEoAAABCArAFugLhA8EBjQLa/8wADQG0/4v+DflD+pf51f7U/WIA9vw5+/H5Z/la/Fb+5AH6AS3/efzF+8n7Vf2t/9YAngGjAcgBOAJUAoEC2QF5AD0AK/8RAdwBIgJ7ARgA1/1f/fr83f6jAJgBGAJIAf//LAD8/xACVQOcBXMGLwawBfcE0gMYBbsE6wP5Aq0B6QApADMAgQC7AVIBswABADYA4f/4AGwBhgKSAmAC4gIvAmYCwwFQAYMA+wBMAq0BBgK7AnACtwFcAWcBVQHtAcYAQQHr/7v/T/5z/en8p/0O/nv+If/k/zMALQFLAS8B5QDJAAoB2AAlAfQAKwB3AJsBKwGHAXcCJgM4A2oDyAEjAS3/Qf8//6//DP/m/+L+qf6F/8kATgCg/7cAzABNASQAuABx//3/iP6G/if+Uv9JAJAA5ADu/6H+Gf94AbAHQgPjAsv///zJ+eH61P8oA7wL4AdPAlD9yvqC+Mj3P/+k/S3/uPuK9enySfLr9Tf19vl3+wD/BwGgBkgHJQdLBo4C1//5/pT/xgHIATYCHf6d+/n4svk8+j//SAGeAV4Auv6F/J37rPsn/XL+5wB/AekBRwPnA/gDDQXBBSAHGggZCBsH/gUoBKYCHANjBD8DLQSOArECRQBRAGUA1gD6Af0A8QAuAJwALQF/ArIDjAOGBGkERQXYBT0HPwgvB7wGEgVVBGgE/gQcBW8FeQUTBY8DrALQARsCJAIbAvsAOgCP/8T+iv6q/2IADAGsAesBiQGnAWECqwJtAncCNwEdAJ/+CP7B/Nb7MfuO+jT6+/l3+Vr4MfiI99T2BPYV9gn2vvXV9JbzjfLa8IjvkO4y7tfuqu5B7iTvdfD98BrysPK58+L0OfZv9nr2IPYa9uz0afP88ZvwXu+G7mrt4u2D79/1dgr+KoxBfEsCU4BUyUl3PLU9M04LWMxJ0i5pEuL0TdU7xHHKJNsn53Lpoub647jk9ejF8ET+7g+HHbMj8iOIIw0mQSfnJC8lYCntLMQpJCSoHA0UcwhI/Vv0k+w15U3f9ttE3cLiGuiL7ozzUvZp9/H7fgLICHkNrg9vDcoEX/rh8jvxAvMc9Hb1rfVd9ZLy2fFG81z1Y/Zn9yH3rvN57xDs++hZ5S3hmd2T3EDcAt7y31vlt+rR7obvm/DZ8Mru3+2M7kruZe9P74TrD+bB4JLd3Nsh3s3kNfJKB8IotVEYcf9/W3+Rdb5nglnkV0xhvWWqVfgwCAao3c2716wgtiXPHen5+JYBAgkhEEAYKyKJLZo6u0P0RoVCTTyFNlkvkSVqG2AUbQ/HByX/uvdi8pfsPuY14P7a2tgd2izfs+qO+8kM/hvBJv0rpCvnJjkiNCC2IA0hCh2bEykFCvV05cbbrdl63oTnnO/89fn4jPoB+yn7Tf33/2MCRwMsAoUB+v+B/az6Wfh19rj0j/QX9VH27Pfn9372/vNx8KHtz+sp7L3s1Oyw7EHrVOkR5wDmDueV6a/tifHi8t7zP/Tm8vPy//J59Mb3jPjL90T1jfGn7OjmzeEE4E3fn9+a3/3dzdyk3y3kBufu5p3kM+Vs+hEqWlUNcJp+y3ziaDNJPjndRe1aklPTMEoHr9xgrSaKDYguqIPQEek492gCRRQ0I+EvOjpuRfxN/EnwPWAwVSzYJJgWBgN09ObrOeIF2dXUANxe5IblIuUJ503pYeuL6i7x9v7PESQjKi8QM7QvKCSkFCEGyP3W++76W/Zy7/Tkqdxh1Q3TRNjk4RXt//dRANEHuwzODTALLgWs/2X7N/du9b/07vRl9K3w+ezH6mXsnfD/9Rb75/7f/lv8N/cM80HwRO/y7jHvzu+L78PtyexJ7f/uX/BI8Vvy2/M69KTzS/J78IztNuoK6QXpdemb6Xfqyepk6QLmdOOg4fHgteDG4OjhyOGy3kDcv+Bt9DQa+URXZHJ2qHcmaJpMITO/LV41cTXuH1X9cdiDsvqSJooVoWLHLOpKAsAWqSrHN64+50L5R0BHKjteKPAV5AqHA1P6qu4k5bvfIdvm1jLXW98X6/n0h/pS/ej/sv+Z/HD6vf5TC+gYbCG/JHsiuxibCA/4Q+586g/oNObf5a/mQueV56jr9vQZ/8QF7AhZDBcSMxbxFsoTGQ1lA+v3ae3n5+HmRumk7JzvDvNH9976f/2C/0oC1gTABGIBfP3C+MbyFe3v6fnq8e0Z8HTye/SC9av2LPkp/Kb+dv5u/E76Xvj59gz1M/IS77Xt7O2v7jPvdO+O8Lrvre3q7Bnu6+6T7GLoRObu5u7o/+lP6hzqb+qQ86gNiDMkVE1nimsbX7dF6SmDG5gfLiSjGUn/ZOGKxDmsc6Fyr4PRqfToDJscGi25PShI40u0SgBGrTg7IzkM2/vD8ovsreU+3yLcvNs83HPeieYr9GgCsQy5E/0X7BcBEjoKIgdfCXgNWxE2E5gRFAuFAG71be5c68rrN+2D76bxZfR595n83AORC3YQ7BG/EekPyQ34ClkHOQLf+srxfOps5kbmvOiH7crz3fkV/mEBWAM7BEkDEAJdAZb/OPx+9w7zY+/n7Kjr7ewn7+/x+fN99Zj2Bfi7+Ez5rvl0+fT4IffY9AXyXu8y7fLsUO4b8HnySfTk9JXz5fFK8QTxWvBZ7+7tLu1+7O7rsuuj67zqzuok7/r9KBqOOX5RUF64XXxQ/zmfJRggayOTIPcOv/RU3PvEarWQt1bOEu8GCksdRy3xPGVH7Er7R3xB4TSMIKcJ/PZp7YXonONq34Ddnt7W397ibusw+twIcBOVGCcbChoCE2oIRABN/Rj+vQCYBEoHngbkAK/4bfFg7frrsewl7lzwPvPT9pj76AEyCYcOMhA2DokLVQn4BmwDF/+3+VDzcOsk5efi4eQm6hbxVfiK/lkCeASrBdAF2wTiAh0Aafx79x/y2u0A67PpJ+oL7T3x/vR49zH55Pp7/Jb9Fv26+/z40vW38q7vBu3P6xjsJ+4J8Qj0C/do+Pv3y/XR8wnzKfK08KjvSu9/7vLrheof6pvr+ewP7tDym/+DF8w0WkvpVulWjku1N0Mj5xmTG4canAyL9JTeKMoJvKu578mT5jwBbxROJBg1MEMFSjZJtUI2NyUjHgun9ZjpGeRU30HbZtlY23PecOJY6i72lAPDDmkVCRmHGC0SnwdK/rf5MPrE/JYBhQXDBoECrvtS9cfxS/AC8BLwC/Fd8v/zrfdZ/loGnAzaDwwRvA8UDRoKIgesAmf8QfW77tHpC+dd6EDusvXp/JoCCQd9CU8JdQfZBA4CQv69+f706PAZ7t7sDe1F7gDwP/Iz9GX2fPgM+3P9of4m/kT84vmf9uHys+7k67rqYuuF7XLx5vXW+e76fPkp9r7yU/Bx76Pv8+8r7yjti+qy6CXp9+tY78DwlvKS+UgM6CctQeVQRVZ5T0s+BSdXGJcXnRgnDmT4mOFZznq+rbdBw07ejvv2D6wfEzDNQCVJkklxQtQ28SM4DCD2c+hM4tzerduA2d3aXN5u42brovZjBCcPdRVPGKMXBBOFCsgBJ/2F/GL+NgBDAl4CJv/8+Pbyn+8j7n3tKe1U7jfwevPN9+D9ogQTCl0NyA6XDyQP4AxLCSgEBP589mfvTurt50zoseuS8X/4xv7KAtEF2QcBCAQHSQWSA/4A6/z1+IX1E/PU8JzvCPAG8h/0BPbh9zn6YPy+/RX+qv2S/ED7NfrP+FP3Q/UE89bx9vI69SL4K/rD+nn5fvaV82zyPPL48pjzvvMb80LyzPH08cfzF/Xw9d322f2oECoqnz/mS5NOEkd4NrEjfxrxG0Ub3w3T98PhOc+OwZ2+hs0J6scEcxeQJkU3JUYITP1Hjj42MNUa+AFP7iblHeJb3wjbcNnI20jhyejM8xUCrg82GGEaqRk5FmIPGAUZ/Nj3+vcK+pz8jP+mAK/9Jfid82bxTvDt7n/ui+/U8S31vPn8/y0GgAo/DZAOVg/pD0QPeQy2B2oA5/de717pTedO6MXsWfM5+nwADgVgCBcKcQqJCXgISQZPAhv9Cvgr9D3xee+y71bxvfMY9kP47vqk/ej/8wC1AOv/n/6j/In64Pja9+314fOS8ijzTfXG9w36+vpp+mv4/fVO9EX0WPXh9VP1tPON8ZTvAe808HfxGfOl9wIGCB8xNzJGxkwlScQ8VSk0G2IZ9hw7FlQCz+uT2dnKz8Gtxd/ZE/RHCJ8WNCcTOlBG/UdbQI81CiUwD3z5seuy5dnhrNzB2ZHbKuFe53zv9fq6CDcTIxjUGFYX/xLaCtABgPwN/ET+tv8hAY8Bkf+J+jL1FPKT8S7xtPCE8e/zr/c6/GkB6AaJC0EOnQ4TD2oPNg+8DcAJBASD/Fb0PO296X7qCu5K88X4i/39AVQFeQeyCEgJGQlUB5QDIP8++q31zPHA7rntT+5i8LXySPVz+D38CAC6AgwEQQRyAvT+JfuH9+D0jfIg8JbuWu7775TyovUd+Mf5Xvla9wL2E/Zv9ov2qPXe85fxWO/W7oHvxfCD8vD3jQj9ItE6TEkWTrxI2jshKQAceRtfHSESMPry4WXQlMUowqfL5OO9/hIS7h8VMK1CGE7KSxc/ji+UHKoGA/R56mDoKufT4g7fwt8v5ILph/BC+zMInRHZFREW+RTyEFcJrQGD/sb/5AEsAv0BGQEu/pv49fIo8GfwafDa7+jw2/Pz92L8FAE0BsIKmQ1CD5sQlRG1EYgPDAsyBLX7CPT87jjsk+sU7iDzsfhL/MT+egE8BAUGVAfsCMMJcwibBHX/jvo+9tryK/AL7wjw0/F89Mv3pPvf/jwBhQEXAd7/PP/q/nH+T/00+/b3UfS/8RDxbvI29KL1BPZX9ZT0d/Sj9Zv3K/nr+FX39vRe84nzVPQU9YT2e/+tFTYv9D82R4pFFz3KLf8d+RnLH1wdqgk77szYgcudwwfDctJo7LcD7xGnHwszAEYtTQ9GdDqtLJYazAXd9LHsTOi34XrZrNWh2FLedOWe7wH+NAxsFd4YThkyF+wR+glxA1gBvgE8ASX/jv3y+6T4E/Pw7a/rHOsc6/rrs+869R/7wf+oA/cH3gu+DqQRMxTPFUQUJhCTCZYBQPnR8TPt+uvi7cLxmvYh/G8AdALcA84Fgwg7Cq0KRApGCBEEpP6o+Sz2PfSk83XzXfRN9pv4yvra/N/+MQDu/6P+gf74/s3/OADf/sr7SPir9F3y+fEM89j0J/Zc9r711fXb9gf4cfli+gL65PeA9YbzA/K58DHvcu7B8vcEKyHoN0hD60OgPg0zFyS6G0gfjyHAESv049qAzDfFIMEHyO3cr/XPBi8V7SieP85MOUmAPUUy8SQkEqT+3vE36+vjoNnC05bUttnn3x7oGfWvBPkR+RgzG20bbhhbEg8LYweMBosFTQIe/8H8AvrG9NvuI+vg6SHqnetY7/n0xfrw/wQEVggvDG0P8hGqE2UUKhPWD58KLQNM++XzS+4t62fruO7y8xr5LP0pAAYDOgYoCe0LAw3jCwIJeARD/336EPce9cLz5PKB81/1j/eK+Wj7+f1w/5n/t/7h/YH9Pv3Y/Nr8ofzF+tL3p/Xd9CD28ffw+KT42Paw9Erz//JF9C72dvf692T3d/Y49tP2bvcu9nf4CQduH4c0aj1LPVo4uS+PIScYmBrFHcITD/yi5MXXSdE8zAnNVtrc7l8BEg8/H2s0oUR+RFg6uS8dJp4XLAWT9ojv7enk4EPZVNdc2Z3coeJ37kj/9g2OFYMX+hcYFuMRPQzZCfAJmAktBtoBcf4Y+wz1/+1r6WLoPOkP6yfu0PJt+LT9TwIGB54LvQ+pEZ4SlROREz0RsAxJBXP8GPR77SLqDupz7fHylfmN/n0BAgTgBUcHCwgtCeUJqwj1BEQACvyW+GX2KPWG9KT0nfVC91n5Jvyz/oUAYABj/vD8zvxE/IP7+/kd+Rn41Pbi9oz31Pgj+s75A/lp9yD2HPWU9Bb13vUC9nD27vex+Ln4O/nn+bz5Dvi59ykDFRthL6c5vzy0OfQyKSYcHCYclR5HFFD91uUC19/PNcoyykTWVeu0/5IP7h/eMptBuEKLOXkwzSfBGrwIoPgh8JfqC+O521HYitlP3HPhf+sJ+2cKJxQuF8MXoRbhE7EOtwovCfMItgeXBfQCev+r+T/yE+xQ6eLoOupN7OXvCvWj+rwArAbcCz4QPxLhEowSbxIYEfEMHAbC/Vz1De9c61bqwuwO8cr1ffr2/ikD0gYvCWIK0Qn9CPwGdgN2/8T71/gz9ib0+fP59DD3DvlX+5P9B/94/6j+r/0+/WP9cP1L/cP8xPuo+tP5P/q2+qr66/iE9nH05vIz8grya/O89B71o/Un9r/3avnu+i38Sv0+/cT7Dfo6AJ4SLCVMMMU0xzL7LfYjfRqxGBobjhXPBMvw5+CZ1knPYszK0gfi5fRmBuQVtiVDNAI7aTixMqsrHSGxEeIA/fQ/7YXmGuDN2yDac9v234jniPJ1/40KxRE1FfwVfhTpEJAMxwlfCQoJHwjRBXEBtPp58jDrH+cF5mrnkuoR7s3ydfjC/uwDzgdaCxkOSg+SD+wPdw9ADKIGdAD4+vj07O+I7XfuEvKh9lH7cf+GAuQDDgXLBlwHCwd/BlAEggGX/l38xfpM+Sj4J/gx+OX4Y/l8+W76A/xf/S7+4v7M/r/+rv7l/lL/0P4N/g7+6f4Y/jj8xPkc92/0evE6783t1e1t78LxOPRh9ub39/j9+RD7dPxr/az9l/z/+on4Dvl1BLMWVCW5LLUuQyzqJnggkx3PH6QdNBBJ/Hjp2No40ZfLNc6K2cHqN/zrC1AaUyf/L3kyzDD6LFAlKxmPCxIBZ/n/8mPs8+bd4jHgqeAL5SPt5PXb/T4E+AjeC88MkgyAC5YL3AtwDFIMLwu5CB0E+f2t97bxZuwL6G3lheWz59PsY/Pi+cD/JgWOCRcNCw+CEMgQ1g8KDTIIiwJ0/G32GvI/8JjwX/NJ9zL69vz1/7cBSAKPA6IE4AVzBi0GHwW5Ay8BPf7g+9f65Pml+Oz3S/iP+YX6Lvu9+1z7h/pw+hD7hfxY/s//hgCkAEoA7f+6/nv8U/nP9kr0R/Gp7wPvpu9z8GbxQfMC9bn1vPU+9qD3oPhJ+cT5Kvrf+aT4dPfT9/gA8BJ+I/cs3DFCM7MvpCa3HvsctxovEGL/wPCt5tvd19RX0pvXKOHq7ND5AwhzFesgTShHK9YrkCiYIJ0WmQ/YCooGJgAG+yL2xvAE7CPpBOl56uPrn+6z83r4pPtE/lsABQRKB98Kdw41Et4TmRI7DyELBQb//4z4A/Kj7cTq4OnE6n3td/EN9Wb4Y/tt/k0BBwSHBsgISQrlCosJ4QbDA34A7f0S/HL7Q/sx+9v7j/yO/Uz+5/7t//EA9gCRAcAC4wJLA1QEpAWABXMDHgHv/sX9IP0P/U/9uvzn+xX7gvrK+lb7K/wS/KT7YvxJ/hf/7v5g/oH9FPwF+t33v/b89bb1f/ZT99j2PfbO9k73X/dQ95v3ffi5+C/4wPjR+VP6mPqR+sv58PhH+UH6Kvtl+zb7ZftB/d8A7wWBCjsOnRF5FAUXxxjXGlocrBqDFp8RlA0OCrIGYQQkAzMDCgQwBfsFGwamBWMFZQV3BRYGCAY/BfADgwNGBA8EmwOhA7oDowPBAx4DKQJvAGP+KPxu+gH53fcU+A74GPiP+Z/7VP1E/rv9ZP07/Sn8hPs5+lT5OvkZ+J73Ufcx+DD5Rvpj+6j8If6Z/vj+3/84ABIAm/+C/1//Q/+Z/nv+qf6S/o/+9/2J/fj8UP0r/mz/CwDy/63/tP8JAPz/KQDc/wz/Wf4P/S38iPuv+lL65fk2+Zj4Wfg5+OD49Pks+8n8tv3k/osAYAI8BCsGIgeNB2oHCwcmBkoFNAQzAwsC9f8f/hv9z/t1+8H6APog+tD5Vvnh+Lj4vvho+eT5m/re+n77zvuB+1n7s/tA+/f6ovrL+e/4Rfij9972xfZK9tn1EPaW9Yr0SvTU83nycPET8SXxEPLy8SHy3fKu9In26vgT+2H9PQDvAuwFOwnGC6YNHQ/FELQSQxXXF2Ia6RycHrQfuR9NH+sdahz5GZkXRhWdE70R1Q/MDkINAQzJCqIJPwiZBl0F8wMXA7cBRQAt/w/9hfqu+MP3X/df99P3qvgw+d/5Pvor+rf5Y/lT+QH58Pjj+Ff4SviV+Cv5g/ni+Z762/tP/YH+1f8HAcUBjgKnAgYD2gOJBLMEOAV7Bn4HZwjGCKoIcwgBCA4H0wXABOoEGwShAj8BjP+L/tL9h/1P/k7/IAEkAkcDywPQA8kDmwOzAtoBzAA6/9z9afw9+4f6D/pY+aH5Rvoq+438Vv7U/w0BmAFmAfYAEwBx/qr8ifqR+FH2IvQt8y/zzPOZ9Dn1aPb69wv5G/oz+/L7Cvw8/Jb86/wW/Rj98/yN/Hj8Vvxf/Hv8Lvzx+8b6S/q9+XX6eftM/JH9Y/6LADMDSQb/CWoNdhD6EtAUtBV8FgsXKBd+F3gXoRedFtkVoxQiEx4SiBHjEJQQbBDlDx0PcA6yDewMlAs4CgkJWAhtB5sGEQZZBV4ECgOFATUAt/7g/QD9v/yK/AT9xPxx/EH8QvzP+8/7Bvy//F/9tP3e/Zn+UP8cADwBRwL0An0D9gNyBBoFnwXBBVUGegbKBk0G3wWNBZ4FIwYcBvMF1QV5BTIEKwM+AmYBEAB8/tX8tvoz+aj3efYG9p32W/dd97L3//dS+C34jPeY9k31qvMV8sHwgO8+7r/so+vT6lPqcers6s/rDe2B7grw9/En9I/36fpJ/kcCDwYXCk0O/BFSFYkYahuVHVgfFyF1IhojdSNbIwEjoiKWIkMitSGXIW8hqiDpHj0cWxl1FuQSwQ8ADfoJhgcqBl4FkQTSA0ED3wGUAHj/Cf5B/M36JvnN93T2r/Vo9A/zPfL38YbxR/F/8FDw3vBF8STyEfPD88H0xvVn96D47Pnt+7791f5jACYBWQLnAnkD6wNVBI4ENATQA2ADFAMFA1MD1QMnBJ8EwgQXBQQFxQRSBM0DcwMZA6cC/wHtARwBKQBO/4H+tv1F/Sj9Of08/bn9P/7M/uf+qf48//D/IgB+AJcA5QD+AI8AJgCF/6v+a/2H/HX7Qvul+n/6Qfoo+r35dPkc+bP4/vhl+UH6HfvE+y38lvwP/av8ePwK/GX79/o6+i75Tfha92P2oPXs9Nj0wvTd9Fj18/X29t/3xfip+br5N/rt+mH7Uvsn+3r7k/vs++78Wf5PAK0BoQNfBhoIKQr1C+INJw+eECsShBPlFI4VUhZZFg0XGxgjGHcYyhgDGdsYzRcjF8oVGBTAEZQPPw3QCkwIDQYJBCkD6wFQAZkAxf+V/mH97/ud+ob5cPiw9+/2Lvae9eT0LPS780rz0/Jx8vLx1vGL8a7xmvGi8STyVvKw8lzz9fMv9dP2FPhP+fr6Sv2f/v//3gEIAzsE/ASGBTcGlAaqBioHiweLB0wHjgbvBegEUAOHASwATv7Q/EX7uvk5+OL2w/Wm9KLzvPIp8pfxFvF18DLwYfAC8I3vRO937pHtkOxl7PLrJeyd7ETtWu767mXvTvCg8FHxmPFR8WHxT/Hz8HPwDPBc8I7xYfPB9Z75n/2MAekFEAqdDlYSnRUvGBgbvR3eHwMiAyT1JbUm0CazJgMm3CRlI3AijyGHIM0fWB4JHT4b8BgnFkYTAhE7D/sM4ArnCEcHFwUhAwUBhf5H/DX6f/j59mb28/V99fP0GvRf8zry5PDH78zu5+0y7ZLsL+xF7P3rLuwr7fDt/u4W8LvxUvOo9YD3WPk7+/D8dv6v/9oABAKPA30EMwV/BpUHJAjmCA4JSwkPCQkJlwhTCNMHvQfnB9gH9weWCBEJ+gigCBkIlQcnB3sG6gVJBQ8EFQOzAsEBuACO/xb/7f2q/BT8cvv7+TX5uPhq9zj2x/SJ8yHyd/Gw8V7xrvH98vzziPTf9Jn1zfVS9bf1tvW59fP1q/Yu91r3NPip+DP5YvnL+Yr6B/t6+6z7jvtl+7f6Y/m0+I33jfZi9Vn0JPRT9dT2gfhj+3H+3AHlBPkHJQsdDi4RJBTKFpkZ8RulHQQgzCHyIlYjTyOPItshOyEjIKgedx0wHBcaKxezE+EQxg0AC54IlAbWBMACVwEuANv+QP3Y+/35Q/hH9lD1avQY9E/zPvP18r/yJPKp8XzxEPFW8dzw2fDS8MPwNPGs8WLy2vLI84r0JfbO9zH5rfow/D79Lv7Y/gL/KP8y/2wAtgFXAqQCCANIAnYBQAL7A4AFTQYnBwgIMAjyBqcGKQf7B3MIfAm9ClQKtQibBtIEBQMEArcB+ABn//n9+Pzj+0j6Nfmh+RD8Xf6rAFUBoP1M+dX1ZfLr7njtD+2X6NThZtp+1inWQdmL3ZLi0ub36WfqdOqD7LPvdfP09NH0APN08bTuoOt76iHrsesL7Pfre+so6cPoyutM8g3+vw9FIAUqaC32My87BUBURjhPslRQUIFEFTjZLWsgLRL+B2YEoQKc/q75YvTL77jqOeaA5Q3ml+cf6oTuhfWo/D8BMAb9C+ESgBmeHycmIivKLHcrDijbIUgYqQ5NB0gClf0z+Wf0ku/H6VrkReCy3tHf8eI055PsUfHq9KX3L/swAAIGiQsfEYAVoBhjGYsYzBZVE+AOCAoSBj4CHv3I94Hxf+vP5h7jZuG54aXjzeaa6TPtQ/CA8lf1F/l3/RYCewZ2CgMNxg+WE/wWDRq+GuMYvRTKEbANAQoeBp4Bp/pR8rfqveVG5HHmMuv88KL1wviT+zb+TQEXBdwJNg7JDxoPMQ7CCiMGAwPXAR8AuP7I/Qf9/Ppa+Cr21fRq9D30pfWC9TX1cvRo8yzxDvF78vzzr/VC9t32hPU59d/1Tvd4+Bb7svou+Tb4uPaO87r3f/bU9sP1VfND8LjvTu0Z7QD1sQ6jKdEyMi8QMFQ1RTTkNRtBgFF9Tac0Axl4CKb3p+ZF4JfnP+/J74HqNOIY3cvgkOxV+i4Hrg/RFAsUjhHXEE0RuBQrGgMkHyZ+IzEdWBdgDPwCh/29+U/ze+0K6f/ja95v2MLXd9ri4IfpmfJF+eL+qQAfA0MG7gquDCMQ4hFaE98PoAvnBecAt/xV+hH44fVU8/nuVurl5LnhYuDg4hrnuu3+80f5wvsuAAUECwfZCz0SmBUxFr4SlA3uBT7/3vjs9A3y9+6n6yPpieZh5Gfl0OgG7EHwoPP69er2h/dV+N33rPiY+nX7nvxj/SL9DPoO+DL3RPeS9oP2D/dl97T1PPP68EDv8uwV7IHsy+1v7Q7sRutR6kXpfOob7iTy6fVY+Tn7evsQ+xb7SP3L/7IAzgCU/7T8Qvmj9b/0q/dUAg0SHiWqMfky4y+jMLk2YT59SOBQxU60PbAjRw0qASz5FvWo9IP2+/Hx6E/fstsT3w3qzve2ATUGwQVkA3QC2QTUC58U5BxZI1skDyKWHEYYyhO2EPAN8wpDBFH8XfKv6SPhbdxn2/7d6uAn5Mjm+efK523qru8G99j+vwVEChYLfgoBCvkJrAu1DfIO8w0gCz8Gdf9f+FrzZPAq7gTslunu5nXkneIV4prkkOmj7373wP0UA1YIvg18DzQQQhIKFwgZPBeKErkNwQWL/QT2PfIh8Hbv0u7v6szlkuMo5pnoG+xk8Gr2JPle+R/5Gfyq/7YBkgOjBfoEJgOzAFP/h/x4/An92Pte+B71z/F17nPrIeoP6CDmf+SO5G3k7OLt4qzkOOf36brtG/GW8071HPec9zT45Pnj+0v83vu3+lX4mfVi9PD3//1ECIMWwySUJ2ckQiTXLCo2FD66RBFGsDwOKA8XsRA+EEcNNwnIBL37I/Bh5xjlw+jp7+L2MflF9t3xffBH9FH7aQTSC0QQNxLwExsV1BbOGV8dVB4kG6cVbhCnCegBNvvs9hvzh+6o64LpE+df5PfhdeEk4kDkI+jF6xfvoPDU8IPy9/VI+3YA7QSACIkJlwgACPQHPQiDCCsIawb2Aub89fWm8r3xIvFJ8KHvm+587D/qBuqn65btLPHp9Xb6/Pv2/okE6QjxB6cJHhBPEwwRtA1fC90HWwNf/4796P2k+6j3jPMt8GbuY+8D8pny9PO49AzzPvAh8Gzy5/Sh9n73Hvd59mX2LPhK+Rz6d/tu/F38dPtw+v/4Eve49Pbyw/KX8pfyr/Co7ZPrmeoB6mzqP+u/7AvtKuxW6pnqcOvk7TPxaPS39QT2L/WO9Z73sf0/CqUaSyXEI60fPiIlLFA2MEBpSkRKsTwhKRUeRiBzJcoiKBroDi4CGfc08K3wNff8+4L6C/KU6rzmjejn7bf0OPmW+rv4dvq6/jIGUw3gE7oWYBfXF9gZEBvrGuwXOBRiD7QLEQndB7cFowHY+570Nu+n6w3r8OvZ6xHpA+Uc4P7fvOO46evumPE78/nza/VY+Yj+iwQPCb0KUworCr0KnQu1DKsNTA0XC5oHvQLL/+r9y/xb+1L4xvT18NzulO3B70LxZe/A8MPzLPT48qb24/0sAOv/dAC+AdkBwgDeAfAEdQYfA4sArP+y/zD/wP/i/pD9kPus+0f7Cflg92X2I/Wv8kHynPKa8xX0FPXz9J31y/UJ+On3A/kN+fX4tfck+SH5Efhq9wL4ovZF9g/3FPet9fzzifOC8rjxOPFd8Enwy/CL8RXx4/B58ZbyNfS79YT2Qff1/K4KSRTmEmINyBPeIFwnSir0NAY8eDQJJToi2y37MrUrWSG0HWQX+A9kCSEKDQqcCIAAjPfL8APwhe+47rXsXOxe6e7mtueC7e7yO/Zd96P6CP7OAgsIEQx0DIsKbAobC8oMbQ6rD4oNIAnmA0MCQwJvA0wDDwHT+9j2N/MV8p/xdPIe8rfvEexL64jsfe6U797wo/Jh80T0vvX99/P5+/uW/ED9NP1n/oT/XQAkAI0AlwCeAEQBDgQSBmgFvQJkAc4CVATbBM8E3ARgAq3/Ff6K/2n/PP0Z+uv4Ofhp93/2mPZW9jD1XvT49Er2dPeS94r3j/cv+Gj5+PqX+wv8WvwA/RP9Mv0y/T/+L/2c/Av7XPuP+nT53Pfj9nH1UPUT9K/z7PE+8SXwGfD/8GrxtvCE8J/xEfNb9Pn0fvYs+Jz5xvph/cX9TP6V/lkA4gDkADoBowXXC9gNRAvYCl0QPhWSF7Ea3B+hIYUeIxxwH3cm2ifZIyMgFh9kHfkb2hlVGKEWcxMlDhEJQgeYBhQDIv5c+lD4ovVt9JL07vSJ8+vyvvJd9Bf1Cvd1+Cn5BvnO+aj6bvxy/WD+Df7//U/+fP6h/qv+3/6I/qj8O/sZ/GL84vum+yH8I/xB/LL8Xv6K/ykAhQA1AWkBmwG3AQUBeQBPADz/D//v/jb+0/xH+//69fqS+6L7fPtW+976lfna+cH6KvvI/Mb8aPtm+/n7BP13/Yb93P0o/0/+1/2g/fn9Df62/av8Rfsc+rf5gfmb+h76zPmY+P/3lfjr+FP5nfhU+Bz5PPqt+tn6yvo1+jP7IvvO+2D7vvrE+1D61vmX+8772Pmd+tr56PoH+1z7KPyk/jH+FP9E/m7/t//vAMQCtgKPA8kD4wSEAhQEKwPhBOoETwVCBcMGPgY0Bj8F3QWaBbgFhgTwA6oDcwQiBfAE2gURB9oGlAZmB+oHBAlQCQQKswruClwLoAtMDKwMaAyfDKILIAy+C3EL3AsLDOUKlAonCjIJ0QfZBvMF2wU1BVIEFQMfAmEBlwCR/9r+QP5h/cH8FPwf+zX62/nd+bf53/l0+Zn5q/n++aj5TfqP+mn6H/uY+7f8aP0s/WP9sf0D/ub95f5x/yX/Bf8r/9j+Ev5E/oH+3f7v/hH/rv5q/rP+FP8F/0P/0v/A/z7/P/9V/9j+8f63/g7+Uv0E/YP8OPyx+9T7dfvk+kj6uvlU+Z75/fmJ+oT63Po0+zT7qfve+0b8+vwF/e78IP0g/Rj9Mf4G/lf9UP1U/Tv9Cv2r/Gz8A/zn++37fvtM+877jvs0+5D7CPz2+2f8D/0X/q7+xv9qAAIB3gG7Au4DygR+BTAGgAZ7BioGJAcNCLQIvwh4CMcHUQdeB2UHIAcpB5kGNAb7BSkF4QRzBBsEGwRgA78CXALIAVIBVQEMATQB9ADpACgBYQEGAnACfwIuA5kD3wOXA8MD+gNoBIEEuwTrBMME7QSxBH0EqQS2BNsEIgSXA3sDywPEA+YDUQMBA5gC3gLnAhUDHgM9A5IDbAOjA5gE9ATeBNEE4QQrBWIFKwXwBKUEeAQ3BGwDKQM1A1YCewEmAcIAlABKADYA5P+d/03/mP8aAGcAugB+AAAARAANAGT/ov+P/y//A/8S/wr/uv6N/pL+E/4V/in+Cf7R/U/9AP3n/AT9AP3O/BT9Cv0b/SL9h/2l/UL+dv58/jb+b/6p/sz+4P74/mH/j//t/zgASQAnAFQAMAAYAPf/mf9h/wMAJADX/1//PP9w/83/MABxAN0ADwGYASACiQI3A1YDPwPxAzwEcwRzBC8ESgRaBF4EhgTKBKAEkARwBGYELwSwA04DwAIWAnMBcAGLABoAff+I/rv9ev0o/Rn9xPzV/OH8+PxU/cD9Ff5T/mD+pP6m/v7+PP83/27/a/9G/zD/Bf9N/1j/PP8M//7++P7W/vP+SP9O/yb/dv+l/47/zf98AP0AKgGdAcsBIgKNAtgChQNVBNQENgWGBY0FzAXnBbAFAwarBY0FiAVeBXEFRwVvBVMF0gR8BF8EQAQZBLwDigMwA9gCkAIlAjMCVgIRAu0B0gHhAdUBYQEyAeUAgACwAGoAnv+E/3D/Uv8l/9j+Y/4V/uj9fP1w/Vn9Iv0s/Sf9V/1z/Zr94f01/rP+RP88/4f/8P+LAO4APgFYAawB/AGJApMChgKzAqcCjgKdAkMC8wEfAtIB6QHzAQkCEAL6AU0CZQK9AskCLQOKA7cDyAMvBCcEbQR8BEgErATABNcEbQQgBO4DEwTOAz8DiwI4AuYBPwFRAAMAc/8e/xH/i/6Q/nf+Wf46/mf+dP6L/l7+jf5Y/mr+nP6F/o/+mv52/pX+av6t/sT+Bf8X/xn/DP8g/3H/Df8K/3P/jP9p/2v/uf/V//z/vP8NAEUAUwAiAAQA3v/S/ywAKwBMAH4AAAGZAcsBPQJ8AgoDmQPmAzYEHgSEBNsEnwSxBGMEkQSMBG4EVATsA3QD+QLJArACgQIMAgkCvgGEASUBsgCIADYAPwAiAB0Avv8YAND/3/+8/5n/Vf8A/w3/1f4m/wr/pv5K/hL+R/4L/in+A/4n/mD+Jv4h/kf+aP7d/rj+pv72/lX/AABHAGgA0wBNAXgBrQGOAo0CwAKIAq4CwAK9Aq4CkAK2AlcCYAKrAoECawJ1AoEC2AL+AtQCoQLeAggD2wLMAlwCOwIbAvgBWAE6Af0AIwEZAecAiwB0AHcAUQBFAFMAOgCmAGUAagByAK4A7gDOALcArgD0ABQBWAFLAQ8BIAEvATUBLwHlAH4AngCaAI0AZwAzAE4AJADw/+H/0P/1/wkAEAAsABUAOAAcAC4ATwCIAEUAXQCBAH4AbABFAF4AWADK/6j/k/99/xv/K/8h/6j/gv+2/7H/o/+t/6z/zf+W/4D/WP9u/33/Of+p/rD+Ef+w/uX+jf6K/lv+Dv5e/t79MP49/vr9Jv5A/j3+Af4Y/jj+aP6I/mz+iP5M/nn+Zf5+/rP+2P4N/1//WP9h/4X/kf/3/z0AVgCLANEA8QBDAbEBpQHFAdUBjAF9AUgBAgHbAH4AzgDgAOIA1QD+AC8BPgGtAQwC5AHNAc0BqgGRAZQBHgEwAQgBNwEmAWkBsgG8AWgCSAJPAkUCdAJWAgICqAFVARIBxACGAP3/AQAkAPj/rf/o/wsAQgB8APQAGQHpAEsBPwF9AXYBvAHVAcoBdgF9AWYBEgEyAeoAPAFiAU4B1QDHAMwADAE3AQgBGwFiAfEAxwDgAJQAngBdAGMABgDL/97/5v///9f/tv/u/xIA8/8DALb/tP+d/83/pf+U//f/6f/h/0wAqADYAI8AvACyAAIBywArAJUAhQA7ACQATAA1AF0AlADbANMA6gA0AQ8BUwFEAWsBAwH0AAwB7ADkAN8A+ABdAUEBNwFiAXYBXAE5AXsBJgE1AREBDQHsAKYA5QDBAHYAqAA4AB8ASgAwAO3/FQBUAHQAngC8ANsAEQEKAVIBKgFYAZgB4wHmAcoBbAGOAfcBlAGZAcgBwAHGAeMBNAIqAlsCfwJCAqQCdQKNArACxALeAgUDrALWAt0CzAIwA/kC7ALRAvwC2wL3At0CpwKXAoYCSAJDAs0BjwEtAfQAcQCLAIgAOABPAFEAagCwAGMAewBFAHwAvAC1AI8AwgDCAMEA3wDEAK4AwQCSAIgAYwBAACcAVAASAAgABgAsAAQAr/+7/7H/0v9I/9j+g/6r/uD+mv7k/sv+Ev9d/6L/6//h/xcArgAZAfgAHgFDAUkBOgE0ARcBGQErAXEBogGEAUsBLQE5AdgAnwC4AKYAfACBAM4AKgHbAOIAwQC3AIsAcQBjAEkA1f/p/xwADgDV/wAAFQAYABwAdwBUAIYAHQD8/7H/af9m/xf/zP5s/mz+5P7g/sz+yf4A/zn/Fv9a/0P/f/+F/3v/4/8EABUAewDzAOkA7gDOAPkAOQHsAPYA9gADASUB+AC1AOQA0QCKADUAcgBPADEA8v/L/77/6P+T/9L/3v/f/6j/U/8w/2T/kf+e/4z/f/9f/3//jP+K/2b/c/9u/+H/CwBWAE4AdAA9AFgANgBWAPP/Xf8W/w//Bf/z/tj+rv6z/q7+YP4w/pD+wf6k/sv+Mv9E/zr/ff+C/9L/zf9gAMIAgQCUAAMB9ADVANAA2gDlAPMAyQB0AHEAewB7ADUARwAEAA4A6//B/9T/8P/k//L/8P/V/10AdABEAFkATAB+ABoAOgA1AIL/Wv9E/2f/ov8q/wr/N/8+/3D/vP/h/6f/wP8GAJT/Yf9f/3v/A//l/gD/Sf/c/3P/Jv9s/5j/uf/y/7T/f//c/5P/9/9oABgACQAVACkAzAB2AWcB1QBeAND/CgHmATMCIAEwAWgACAHlADUB/wFbAsUBowF9AfYAxwBJAEwAeQDfAOUADAE/ALwALACfAJ4AewB5ADUA3v/F/8H///9vAG0AngDGAFgAJABG/wX/Mv9B//j+Av+4/sT+x/4EAP3/gP+2/ywANgCaALMAngBW/jL/rf9TABMC+QC4ABAAyv9eAJD+Yv9G//kAAAEeAbz/y//G/3wA+AAXAcYAGQEXAbIB7gBMADoBMQB7AeoAlgH/AYkBpgJIAVwC+AFSAmsCzgJeAsoChgIKA3wC1gKVAo8DsAI6Ax0C1AHrAZAChALUAtQBHQQaAhUD2AJQAd4CBgMbBI8DpgLMAFcBwf9QAfYArgAMAf8BhQEkAFkAqv9TAEICsgDD/xf/Df+S/u7/kf/U/z3+iP7k/yIAMgHJAAcBHQdeDwUEegF2ARgAbQBOAdn9/AIx/jT2YvRZ+5MB0P7TApj/Ov9BA5kFE/4FARIA0gGNAwj/uP5G/1YCAQX0AuwHFwgEB9QGcQhvB7gHnAMyA80DJwC6/oD8zfz1/NT9z/8IAMMBJwQ6AzwBTgNxAD0AJf+g/xb9W/yW/YL95P4JAMsB2gB5AkICewF6AjIBjQBI//3/Pv9RAPL9gP6z/sH+vP7z/nv/pQGU/0P/Zv/D/V//RP8y/9AAQwG1AngDFgctBloBBwQdBBMFgQQOAp4BagC6/PT4Xf5k/Dz/ZfsPAan+8/xqAP36sPya/msBkADm/9P7CfuD/F77kf3y/xIB3f4zAFEAnv4H/6MAOALBACwA4v74/Kb8kf1F/uT+XQHEAC4CxwBtAJwAvQLSAXYBTABoAP79qf3r/WP+2v7i/qMAJgFdANf/0/4OANf/6gC5//gALf+z/jT/O/7c/58AJgCcAIsAHgEBAJQB2wCpAvkAyP2+/V/9df2x+x/8E/3N/B78wfmA+nX60PmV+xP7TPxw+y77EfsE+5f+fv47/sb++v9z/9v+qwCHAQgBPQBqAJT/7v9Z/kP/NQAUAXUB4gD8/8D/bwCxAVMAtv8V/nL9ZPwF/GX80vxG/JP7yvus+vT59vlS+mf69fqU+ST5vfjS95L26fV49Tz1LPbe9Xj1lfSG82f06PMG9E/0rvTK8wX1ZvOY85XzrfJP9JLyj/KW82TykPGi83rzPvb5+CT8UgY3CQwEHQWhDFoXGh7eHTAkrScEIwYcryB0K4oucii4IOwcDRwLFwgUwBY1FaUQJAjV/ob4xfgL+dP33O736fbljeBQ3jjg7ON+5R3gJt0v4f/jQ+eU6grwdfPd8njzTPdA/ocDggZkCWAKgwiwCncOHxLrFQgXdxPnD84NCA9HD20ObArkBQQAc/xR+Qj6dPfM803ugOq/5+nlnebt5szlAeXe5NfkJOUz5xnpd+qn67nrKuxl7JTrPez17o3xt/I88Avt8uyH7dDtb+3O7U7tx+mf5SnjsuOm487icuK65erqy/f4BlcMFwokDOAbXC2YN1hA/kwPT6VD0TqdRCVX11n/TTlEuj9GODouayqbL3MzySlmFigE7Ptw+r76Wvd78orqPuFf1grUV9zx51XpaOTF4czk0ugP7er0Jf+4BIgCOQGeBUYO9xX3G2wf+x6PHN4ayRzdITomliROHv8VrBC+DgkOqwyQCeMChPq28U7t0O2174zuOetE5mvhkN0+37HmouzJ7T3sUewP7nzxD/ep/l4EfgUgBLEEagiTDOcPHxKxEaYPWg0MDMALEQxVC5wIWgSK/5L7GPmm94T1I/NT8ELt7+l56IPovul06uboUedC58ToO+rP63PtJO8l8ZrxZvGk8dfzFPWt9XD2l/Yl9SnydPH57/vtyOvJ6hzriPE2BWoSPA5p/2YGohvGK0gxqz0fTLtDAylrIOo64lFoS5s2zi4JMLAhZRFaEyEmSiiLE7f6Kez06YzohumH6ZbocuAF0vnE68hX2szqnusA5s3j+OZf6GvwXv4sD0EQUAlXBAEMQBQpG00gwiWmJNMbcxLiEvIY1h3VGvgQdwWQ++P4Bvny+l36YfUL6hDgPd3F4ijohumd5/rjcN+33S7iB+tU8y/2xvTS8if06/i7ARQJQQ7pDXsKqAaUCN0MmRDZENsOXwl7A3v+Yv5z/1790fiO9fLwFepx5prnsOjc5gPjaeFa4ZXfIN7K4kfnduY25Z/lueYQ6BnpDup262TrI+ka54jnuejW6bbp9Ofe5FbikeE86YX+XBFIEf0DvgPlFOslaS6KPSxRh0/bNBch0S+zSX1NaD7CNYkxdCNZDw8LrhimJMwbawRU7HDhFd/94JHjqOYR4t3T68IBvhXMJd9K53vl9OI848DijObW83sGzQ75ChsExQT5CrgRhRr8Ipck0BxkEqUOTxOcGU0bURY5DPEAmvnW9nj4wPo8+gXyRuaE3mLepeMF6NzpROgO5MveDd4i5Ont1/Uk+fD4KfYL9/H8oAbqDsQRQRBCDK0IUAjtC2wPaxDzC1sFWP+N+2L6f/sz/Db77fat77Tpc+jf6pTtu+zb6TrmD+Rl4wXmteqC7nLuE+pz6RPs7O879G73a/gg9uHyL/FN8+z0LffY9ubzwu+l6zHq2uqb7djsR+i94trej94m6HkA8A7+DH7+MAZ5F8MlJSylPcJMZkOXKcsezzT0Rg9FpjexNCctpRzWDIAQtx70JnsZmAJt78PpKec46pLtr/LG6sjbRMwJzbnbnurK7nbtgOs45w3jEefr9WcI5g72CvsDQgXjCQ8SQxvUI2Aj0xsZEvMQohVjG44aLxVbDBoD1/xN+uT8I/3o+gbybulE4+riMeV26BXqweYJ4j/eTuFR5/Tu6vPp9yn3ePXU9Z/7lwNQCfYK9ggSBV8B6AHaBlYMvg60DVIJ8gQdAgkCxgM4A6//6PqY9p/zf/Ef8SLx/PDw7XHqnOhY6mTtU/BF8SPwtO4E7ifvefLX9RX34PYF9Zvy2/EV9Bb4yvr3+rD5C/m094b2jvVy9lD3dPZ689Hv/u9T9TEHYxTWE/IHmAvHGCYmqyu5NkJEU0BZKm4f5i/RPp47jTL0MKwqvhwYDCQP1RqfIScWjgR09FvtcunM7KrtTfDl6WTcE9KD0cLaPeWY6+Dsgepj6SLnG+vh9bQD/wZYBhwDygK+A9IJyRLrGosbLBTZDDsMwg8YEz4V2hLJDFUEf/3d+z//FQL0/gD3Re/U61frgews71HxUe9s6FXjK+U57DjxD/NB8wTz6PCK8Cb1vPy8AWgCgQAQ/lL9Yv/JA7YGQge8BdADQgA1/sb/KQLBAZr+Tfrv9ir1UfRX9Y32AfYO8wPvXuwN7T7wnPHK8DjvNu5X7O3rFu6e8I7xT/FR8g3yq/F78BTzAvbS9y72PfYQ9hP25vXj9nf2JPbF9cn0IvF7757ybf5rDMgOnwWRBMoQ5xxzIHAjbzJpOeQpfh76JzY5NThcL70tGDA5JdcXRhh3IJkkaB34EOwDCP46+Qf6mvky9z7xaOkY4tbfBeR06NDrkOrT6Lfmj+WI6Ojuu/VO9/r1NfWY9oT6Zv/lBHsIfQgCBq0FVggrC9ANNg5xDVkJpAVPBN8F3AbPBrkEdgFX/Rb6mvij+Sn71vkc9N3vnu2w7Rnucu+S783uU+vZ6Unr3u6F8Ijxl/Fi8kHyAvNZ9Ov12/h6+yP8ivqn+oj73P0l/9v+1v4b/x3+P/zl++r7PPyO+0D5pvat9a30A/WJ9Uf08vHF8FnxrvG88EfxhvNm9Vj0NvPM8z32QfcS+Vf6+vrF+6v81/xA/kkAGAIfAzkCIAHHAIEA3wE0BzQMEAz0CcQNthXJF/EW3B1yKAonLR++H4op3yy7JbIiVyfHJccb/BatGZAZvxaeEiwPiQc8BHcEqwIs/fX3Uvbb8xfwpOyc7S3uN+6I7KrrTez07DrvWfGv8jbzXfS59bH2XvnJ+4v+NP/p/lr/fQFmBDYFywUUBnMGuwR4BKgF0QUiBNkCZQJUAP/9nvx2/Ej7Tvlw9l/10vMm8ovx1PFG8s/wdO8Y7zzwVfDN8FDwvvCG8bDy4vLm8p3zA/UZ9yL47/jb+Nj5//pl+0v8M/zh/Mz9LP2d+8r6V/oR+j35Cfhg9732R/ZL9633c/d39kr24PYE+Mf47/kJ+9b7vfsU/G39dv9iAdECqwPKBA0G3AaLB2kIRwpYC+8KIwuwCqsKWAqHCYYJNgn2CHkIiAfgB8oHGgc0BtAGZQeGBXMEZAa7BlYFPAYkCOsIoQi6CEELsQxqDZYOeg7hDa8NZA78DloNXQ0rDe0LfQl5CFUJJgpLCDQGvwVjBeUEFANsAdoBvgFUAHH+sv5Q/0P/4v74/h7/o/61/kn/Qf+t/nf+wv1P/cL7+/uX/Gn87foc+pD5Xvh8+KX4i/ks+SD4Ovc69xX3JPd49y34xfjr9xv4S/fh92X5qPkS+rH62PkL+YD5CPp9+hD7Pfvr+hL6lfkJ+/f7IvtO+fz63/xc+8D40PmW/Ar86/oJ+3D7lfsT+1H7Rvy+/Vj+lv0U/TP8yPxd/q7+hf61/nT+JP5v/q3/FQJCA4ECugKPA8MDpAIfAxIGCwfNBCYDswStBegCmwFLA/MF3APVAd4CBQRBBKECuQPbBdwEUQMaAxYEzwQdBIYFvQVdBU4F6wZRCN4H5wVbBz8KOwo9B2YGPAjbB6gFogQ+BqwHmgXyAl8DdwUOBckDLgILAzsCGwFSAhADHQKo/xUAuACTASYBugAyAcsBqAFKAB0AoAFWAq4CDwFOAX4CoAHz/9//1gDQAYgA5P+kAMkAvQAMAW8A+QAQAjABlAGSAs4CEAL4ATkEMgMbAjQCMAPgAjQBswDaAWADJQHr/w0BOwK8/7z/SQD4//n+7P4s/pv9y/7g/Wn9CP76/d79TP4o/8z+K/+S/oL/QgArAJz+WP8cAa//4P5AAE0BpgA2AGoALQGjAC0BvAGoAbcBGwEbAugBAwGFASkC7wAF/6D/6/+b/xz+BP4S/sT+P/7w/IL94f0S/nP9QP1X/WD+5v0c/t/+vv80/4z/mgBiATYCMQKfAsoCTgNvA84DxAOAA9cDQASjAx4DlgNqAtkBCQIZAS0BjwD9/07/uP4w/ib+1P3W/Ur9wP2i/fX8Hv1i/kn+Sf5e/jr+uP4c/xH/S//V/58AdgFXAWwBFgKkAmMCjQM7BA4FnQSTBJ8ESQVsBXkFgAXMBYMF0gQ/BVQF+gTNBDYFTwW5BA8EFgTkA9UDzQOlA8UCPgIpAhECYgE/AaUBzwFIAf3/HwAlASMBQwGOAekBVwIgAi4CfgLxAvUDIgTzAwQE7AP2AzQEUgS7BBoF4QTKBH8ErAS2BA4FGgWuBP0DBwQZA6ICzwLEAqECNQF5ADUAQgDm/4L/tP9h/1f/Gf8y/1L/Df9u/5v/iv9r/83/BABRAK0APAHGAY4B0AGQAuIDLQTRBGcFugViBbIFJQYhBkMGFwbRBdsF8ASiBHwEGwTyAlwC/wGjAckA2f/D/4T/kP7W/bH94f2O/SD9Sv08/YT9sf27/VT+tf5x/sT+7v5V//3+jP9lAN8AHAFxARMCIwO6AxMEoASlBJoErASuBLYEvQSdBLYEiwTPBOsE6wSjBd8F5AWoBXIFpQRKBD4E4gNgA18DQQNgArcBewFwAXoBOgHpAFsAbQBCAPj/ov/4/8b/1P/D/0n/7/5T/1P/p/+8/0IAQgCSAJ4AuAAUAaUBZwFpAUgBSQFhAc0BTQLtAbkB1QECAu0B5AEWAtkBUAHxAKkARwBYAPz/6P+R/1L/FP/J/nH++/5r/07/Uv9a/zn/K/+7/8EA/gANAVIBrQFtAqcCpAIhA84DGQRwBAIEdwTZBPkEmwRZBH0EVAT4AzIEmQOAA0sDFAPEApUCtgHGAX0BwQATACcAUwD8/5v/bv/c/3IAo//f/x0AngDMACMBNQF2AaABFgLJAhUD3QLnAp4DnAPdAwUEjATHBBcFTgU2BdEEiAVTBXsF8gSBBesEXgSYBMcEaQQRBHkDoAODA3sD9AIIA3cCUQLyAbQBwgCZAKEAhgCIAHcAjwAzABoACAAwAOkA6QDMAE8A2AAjAacB8wGAARsCkwI2Ah0CJwJWAiwClwLKAnUCJwJhAmACYQI4AmEC/wHpAX0BWgHuAJ4AiADHACYATf+g/1P/jP8e/2f+Rf6Z/nf+Lv5i/pX+Z/9T/53/t/8wAAwBIQFYAWkB8AEHAlwCdALsAg8DCwNiAyYDXQO0A4cDQQNJA8QDOgPtAkMCrALTAjECNAIgAt8BUAEtAasAbQA7AGz/cf9p/9T/8v80/8b+Lf9I//n+y/72/uX+7/6d/zoAPQCt/8//cgC/AJ8A5AAvAUgBLQH8AZ0BkQGvAQwCQwKtASkCqQJKAuQBGQHzAUACcwFfAZkBcQGQACYA1P9xAD8ATwDr/0H/+P4R/wf/0f69/uz+zP7O/vn+3f5Q/4//cP8zACcAvQCpAKgA+wCdAXYBTQJcAh0CBgPPAlsDYgOZA9cDHQSjA6oDBQN2A7sCwgIrAykDfAJfAdABnAKGAv0ACAHAAUkBlQAOAMEBDAKVAFABqgEXASABNQCMAdcB7AB2AWEBTgHkAGQB1AE6AZ4BmAK6Ag4CLAJgAtQC6QHPAUsB5gFVAToBMQI2AtgAHwCVAEUAlwDVARYBIgBp/8H/h/8m/2v/Xf+j/hP+vv2H/fD9Pfxm/ZP96P0T/ir9b/yn/Wf+Lv5Z/ub9pf9q/pX92v5V/5H/p/+pAHMBQAAQABIBtwF7AZUAJQJpA6wB0AHRACoCrwN6AVgAFQITAi4CzP6P/ukBxQEJAFD/DAHlAFsA2/0O/ggAbAHw/0T/rv4K/+P/o/9EALcA2gGiAbUANAFwAV0BnwJQA2MCtgItA3QDGQM7AuACzQNEA8oC8AH6ATYCUgG0AaAD3AHTAIwB2QEAA/UB4AB3AgMDsQFFAu8CtgKPAc4AtP8+AkMEBgN2AcMBYQLtAVICCwMNBfEDuARDAocBFQL/BEgEmAJcBNMDZAPlAP0ALAQ5BIoBUAHGAxkB7wBOAEUExv9lAN0CMgMBAAD97v6UATr/6/1lAKEAVf1z/D//iACz/l79Pv/LAEH6yvojAUMBKv22+pz8ngC9/ir9hQBIAsf+D/86/6YCKQMKA38Bj/5WAPsCcwRxAEAAWgFeAq3+JgE7ApUCLgIM/04BNv7H/TwDqgGt/8P9ygHN/8f7lPy1AKQAiP5a/UX9kv5d/Cr/kf8Q/ID+wAHkAbH9vPwC/7EBIAIJ/iP/PQJ+Akv/pf0VAEwHGQar/DT9tAZFB+r99vulAz0NiQSb+qoBDAlgBd38qwKwCA8GngDTAOYJsQYo/IcBuQnYB9gC3QJ6B3EFEwIIA8UGYAcjCDQCUQK3A8wEIwPdAAAAUwViBX8EfQN4BBkDEgG8A60FqQXXBGUDqwJCAOH/jQNCBdwBUv+cAi0Ej/9u/Ub9OAOLAin+AP9AAJP/IPu0/AT+cgAAAKMBpf+9/SD9SwPQA0P/If8SASUE0v8J/TX/YQKEAar9tfzMAFsCB/9W/pUAiAI8/6v+fgCnAsQDjwViBS8ExQHTADIDggbMBAwCnf8ZAaECrgAhAbcAzAUbBov+kPu4AIcEtQOc/k/+nQEBAIr+IP+v/9EAOf9t/ur9OAJHA2IBxf+W/SABkQGM/3b/egTO/lb8Lf94BHEARft0/CYGVgNu+gL/TAMgAVT92P4xB3UEXf5U+yD/PwE1AFYCwAJ6AcoBmP2W/CkAXQFTA2wAd/v1/WL+pvtv/CsBTQIcAZj7/v3eAVYFlACZ/7wAwQNJAB37ef5eAtAAB/+n/TMALwFS/wb70QBOACABv/4VAGH9SQFQASv8s/nt/ZAAj/zv+2n9gwBJ/kz8sfuW+rn8Wv/3AmgA7ftL+Mr6Yvx1AZ4Bmf48/Db9fv4r/Kf4PQBJBRYCdf90/iP/5PqD/G7/iAXlAvT+Svk7/nv/TgAu/pQAQgPFAjL92Pm+/1cEt//P/5MEWQUuAP/8vf4tBOACLP14/48APgKA/Fz6OvyZ/jT/gf0NARMERgFc+/P6nQJZBBb/Cvx8AGcBC/s9+ZL8NAGnAZr9vv2e/ywAU/9eAncCkf/f/9b+xP7v/t77uvsRAdX/ef6r/oj8cfwG/kYBaABYAOP7PPyu++D7svon/Yn/WP///Hz7L/tt/Sj/Av9G/Cz98fx8/bv7H/ua+3r9D/3k/Hv8sPvN/JP/NP/q/bj9fP0z+w/4SPuU/PL9Pv2U+pn8qf6C/JP7T/2G/vL/TgAYAOD9APxW/C/9Ev/v/lP/w/3h/0L+XfxK/Xb8Nv0d/rD8K/47/n39Pfll+6X81/+9/eL8Tv5d/pz8pvsA/fQAewBf/4v9fP0V/Az7tvt0/nkAhv4O+338Yv9f/+b9x/75AAgBj/7w+n/7y/zV/vP+0v13+4X5/Prk/uj/LfyE+3H8Z/7m/Nb7efvn+0v8fvui+3D7//p8+w/83/ys/Uf+rv5s/yj/XP8I/9D+pv6W/7T/NQCG/rH/3v+SADUAegGAAdoAlwCY/2b/dv5t/sb+xv6J/ez7zvuz+zn7bvxS/df9nPzh+lf7cP1m/cT83vsS/CD9VvxS+qz6DPth+zD6E/mN+fP54Pmo+Zv6ufrw+Kj5VfoS/En8VvuT+wf9TP70/Qn+MP7L/wgAIgANANr/ZP/y/+gBtwMjA0UCIQHhAecCvwKzAk4D/wPABFgDOgO9BE4IuwvSDagN/Q0hDwwR5xG3EnATsRM9EkMQPA18Ch4JhAcsBVcCUv/9/OT69Phq9wL2NfU99NLyPvEF8Njvc/D18DTxUvEa8vryqvMO883ygPIP8rPxnu/s7SnsKOv/6VPo4uU25Cjj2uNQ463j4+IG4srfrt0G3Rbe5N1E3a/bCdyf38HmO/MxBLsR4BZzGCUgaS8EP3dJIFJpV1FRNkH2MrwxlDUIMx4q7yD+FloJ4PgK8Ifynfi+9/LudOJJ2ILSWtJo12Lhset/8SPynfC99MsA5Q9cHVAndC4XMLMriCbDJaUp3S2kLTYo5h/VFUMM4wQZAcD/O/3X9ybwz+a23gvastlm3D/gjuRK5yHo4emv7jH2/P/WCQ8SdRg/HCwdJh6iIDklHinVK2cr9Ca5IF8anRWMEtsOgApwBOf74/E26UPkruJX4g/j2uOJ5JvkeeWC6F7uQ/WO+8H/8AGtA6AEyQUHByUJ4ApBC/UJdQdUBdgC6P8j/QL75vga9nbyK+967HjrH+pQ6Ybpb+pa60PrNuxi7fzuSfJT+hwGew8dFLoWnRo8IMYm/y7EOEI/3D0sNYEtCygpJH0gUB2NGSYUwgqw/vzzb++47+PxivKv8GDsKOjT5c/mU+uG82/7qwDXA9AFlwgJDEURBRhDH/0i7SKcHjMZ1BMkEgIRnw+VDAwHnv/d92jxEu3r6wXtWe6q7ZLqHOgX6P7pZe2h8RX3ofz8/8wA/gBgAyQHXQq4DIcOrw4YDAQHUQJ2/y7+MPzi+YD3i/Sj8JLss+oK6zjsseyr7VXtcuza6jXqKuyf7nTvHe5X7PrrrOx47fbt9O547tTs1Ovj66HsBesf6qbns+US45Ph8eDH4PXu8gtuINYbiwzQDV0epi6JPJhOulu/SsEf3QPcBjsUmhFXCfQEMgHa6+bMVsLE0Izp9PZh9vLsduMI3fjbbuQi+LMPUh2nGj8Qog6wFsMfsSWNK1UzGDC0IlgP+ANW/lv7PPek9DXweufl2kvShc4a0CbUx9of4A/kHuSo497kFerP834AKAtXEXMTsxTFFaYWmhlPHVgfDxyNFD4M6wOH/Gr30PTp8mXvDerU5DXhTN8E4Evjzei57fLwIPNP9Cz27fj++zUAiQSwBwEIvQVWA7kBRgG6AGz/Hf0P+ub1vPL278Ht3uv366fsYu2T7GHr7OjU5/7pNe058LDykPSE9fz1a/Zl9+j4kfoZ/Ar8/Pu8+uH4sPcl/aUIYhLtFsQWjhV6FqwYhh3HJZwu7SwUItoUNw6jC2kIcwTcA8kDpf2U9Lnu8O4Y8wb3nPu0/3sAF//b+4b7+/7wBO8J8AvBCz4L7Qn2CAwHfwfSCacJIAbMANH7APgT9MbwxO928Cjw4O6Y7rfvGPFc83D2dvqD/gwBqAGuAigDOwSuBR8IKAkwCA8G1QPVAb0Asf/1/DL6rPZs8qPvQ+7q7JjrZ+us7FvvAPLZ8wn2Tfj9+e36evt4/Nz87/tD+lf4c/Xm8lLx2fDx71TuHexx6qrpdemI6tjsT+4T7hvs3ulc6dXrge5v713whPDF8cLxqvBN8R3z3/SP9Pb0xvKR8q3yqvMd/XAMiRZ2Gt0eDCMOIHEfZym4NB00HynrHRsTwwRG9/b2zP7UAef8Dvi99vD1xPlgANwJABL9FNIQwwggBGgE7gVpBjsHMAgCB8ED8wFiAxIFvgbTB7MHwwbNBCoBjP2I+1v72Psm/Db9Kf5U/vH84Ptx/EX+1QAeAx0FMQUgBKsC9wEAA1kFTwmBDKcMoAjRBDECLwFmAUAC/AEK/6b5T/RR8iPzb/Qw9Xz2zffG90738fYB+RP7KPxq+0z5W/ei9WHzRvLT8rfyxPEl8WPxyfFl8sTyP/IV8szzx/QR9aj01fQj9U31N/V39if5G/rs+Yv5Evq1+VT4pvev+CL5DfkR+GX3dPfT96b3Xvgc+Xf5avlc+m37Sf/CAk4FpQh7DSwR2xQKGL8cpCC3Id8hhyKVIcwdHRt0F8QSiQ5kDbELpQltB1gGEgYbBm0Hogk5CwUL3gm9Bw0GlwV/BnoGHwWRA/ICQgJ3Au0E5QeGCcMJMQmKCFEIuwcsB9UGQwa+A6UBRQCp/l/8r/q1+Rf5oPjD91L2AvUu9A70Q/X39uf3UPi++Av5U/oV/Cj9vv0w/5T/Ov4l/X38xfvD+o35rvgz9y/2FvXb81XzhPOJ8zbzhvNy8yrzDPPF8xz0gPQ69GL0K/TX88XzWPQl9Xf2UPgg+ln7ovuE+6T7Dvud+pj7rfwz++75gvir9vz1Y/Zi96/4dPnR+FX4ZPjX+LL67PwF/5j/TABYAWoCRQTzBjEKjA3mEIkTTxSVFFwV9haVFoMW2hecFx8UxA9wDIoKjQq3C1UNlA38C/4J1wnTCokMXQ+0EIwOOQxYC2cKwAmMCZ0JTQlYCAoIkwaLBWMFYAXJBe4FHAXhA7YCuQEVAl0BCABPAKkA6P9u/z0A7f9W/uf8xPvN+rj7y/zY+xz62/ib94T2X/fA+NP5GPkp92b1WPWg9QL2Jvf+9tf1JfU69UP1e/Vc9tH2uPZa98H3APcW9mz1V/Vm9QD12vRe9Br0cPNP86zzufPQ8kbyHvLu8gX1g/av98P3JveT9lv3A/rQ/LH9ev1r/dr8ivyk/eH/PQKSA70CLAKTAc0BaAIPBMoERAV8BEkDnwIkAmUDGwSpBC8HnwqADXAORhB5EfkRahFaErcUEhdfFwYUtxBIEDAPgg18DtUQ+RF4EJYNTgtfC2cNWw1fDQgNgwolB/gFggbbB9wILQiBB64H+QdJCJUHYgYXBTYE6wPhA+EEjAQsArT/9f89AKgAZwFmAn8C7gFlAGz+Mf2W/dT9IP1I+yT5gfg2+HH3yPeL+OD4mvi4+F359fig+B74Dvh795z3RvfZ9tf1OvQx877yY/Mu9O/0EfXL9Db0+vPm85z06PUG94r3Fva/9HL0uPTD9aL2p/YY9vr15/bm97P4Ivnx+R/7APyZ/Fn9Hf1H+wH7x/v//A7+mv5U/vr85fuR/I79jf6x/zsCtANfAzADrwRMB1wLWQ99EhMU7RMvE1ITXRU1F0EXvhXmE9ERwQ+8DU8MdQyNDGEM9QsPC7wKlwpqCp0LFA0GDU0MKAsBClUJ/AdwB/EFOgVBBF8DgwLfAYcBTgHJAFMAdwCQAIAAnv/Q/jj+W/7h/UT+3v03/Vf9xPzy+9v7rfx3/d381vt1+oD6kfps+lL6/vm5+J737PZi9474VPkx+bn4RvjI9433bfhj+eL59vn8+Jn3JPdX9vT2/ffZ+Dr5xfiR96b3A/li+sr6MPoY+RT4KPc09sb1GfWQ9ITzCPLA8fbybPW+9yT5dPmw+dz6h/ye/rz/y/9V/TT6O/hq+Xj9eQASAZMBVQQgBtMI+g6ZFQgZUxk3GPcWzhaxFisV4BGZDz8NugrfCDwIwwgDChcLQAwqDgMQeBD1EJ0REBEND4cNlQzBC0gL8wr0CasH9AWPBgkHSgc4B8wFhAQNAzMCZAF4Ae0BegKeAZn/o/48/wMAdgCj/8T+T/2r+5b6GfoR+7r7GfxS+6X6MfvG/BX+pP6o/wMAc//3/Sn8bfsM+zD6Y/kw+bL5Kfm394f3xvnv+wn9Pf5M/kL+8P1J/H/7lPx8/cP8BvvA+Fj3I/cT+A35pfro+3L7RPmc9xT46fmr+xn8Dvvo+Mj3A/cP94/3yvhY+eP4nPeS9ov2tvab9wn5W/ln+SL53Ph9+GD5sfp++7b79fp++f/3Zff5+Wb/gAV2Ci4New0VDUkQZxWCGkYfmSHOHhYYChKrDXYLWgt/DMoLhgkcBuMCQwHnAicH7Qs6D94OeQx7CskIXgdHCPsKcQvlCrYJGAdyBMEDlgSmBagGjgeqBgwE1AEYAAX/+f4IAMcAlQB2/zr+5/yR/Cj9RP4Z/3v/Lf8m/iz9G/1S/SH+Jv/3/7z/jv/B/v/9gv20/cj9Hf7A/dP8xfv/+r35gPng+QX6Avra+fv5k/p9+sr6Uvtj+6v7uPv8+078pvzz/Pb8Mf0M/bD8fvwo/df9HP5s/in+Rf0P/aT9F/4T/j3+Xf53/g3+zf1n/rr++f7L/6D/3/+W/5v/sf8rAJwAWAFhAV8B+AE0Ak8CkwLZArECLgIJAqoBQQHkALgATgApAJoA6QDGAKgA+AAWAY4BmQFOASoBxgACAaMA7ACYAdQB6QEbAlsCbQJqAkMCsQLCAncC7gFkAdUAhQA6AHkAdgAdAJv/Nf9f/w3/F/+U/+T/AQAIAB0AcQCQAL8AIAEvAYwBfQG2AbcBrwE0AeIAsgD+AMYAigBvABMAqP9m/yX/6v5y/j/+CP6T/Yz9kP1A/df9Cf4E/uj9SP1L/bn9qf3N/QT+o/5A/oX+v/7Q/iH/sf9WAKkABwFpAeMBpQGsAcgBEwKnAVgBRgEgAY8ATACGAKsAiwCmAIoAzAC9AOQArQCaAOUA2wCaAPr/LgD4/9L/N/8w/+T+x/6j/tj+d/5C/kX+of6G/kD+qf70/mf/e/80/9///f89ABMAXgArAawByAERArECEgNTAzIDNwNaA24DqQKwAnkCaALIAR4BgQANAGL/d/60/WP95vxW/Jf7EPti+sv5//iT+NP3HvfF9j72n/Zv9tT2Over92b4IvlE+hb7LfxA/R3+Cv+7/4UAGQHBAY0CwgJHA2ADyQO8A7oD5gPSAwoEzgPEA7IDfQMGA9MCRQI9Ai4CCQJ9AZkBUAFcAU4BRgH+AAcBIQE8AfMA/QDJAB4BSwFpAToB1QBZAPj/sv+U/wr/i/5K/lj+RP5R/oP+SP91/6z/wP8TAE8ARwDJADIBNAFiAU0BUgGEAaUBAQL8AUoCVALHAtkCKQPiA0EESgQlBOQDugOyAx0ELASYBOAEnQRkBOIDeAOmA6EDowPcA2cDMAMXA94CdwKDAm0CEAL9ARUCmwHBAHEAWwBtAE4APwAQACsA1/+E/6X/qv+j/w0A/P/o/yEAGAAdABcATgBKADUAEADD/5n/a/9k/2b/5/4W/zf/Bf/u/lD/Yv+b/9n/EgBJAK4AwQA+AekASAFhAc8BeAFdAWcBZAGZAZQBZgFnAWEBiQESAeIAxACuAKsAbABiAJIAeQCAABwA9/87AGUAiACfANgADQEoAVgBPgErASUBTQEoATkBFwESATAB0QCBAE4AVAAuAHwAlwDLAOkA6QAMAQwBKgERAf0A3QDuAOkAmgDYAMwA4gD2AGQB1QEBAiQCJAKEArUCcgJeAkoCVAJNAusBlAFSAYIBawFDAd0A7gDHAKMAjwDCABEBLwEhAUkBewGMAdoB6QHcAeMBvQL+AtkC3gKzArECEAKvAXoBDwHxAPX/yP9x/y//M/5u/TT93/zp/EL8OPwA/BL8/vvW+237q/uz+6n7yvvR+/77Ffwk/En8vPwF/fb84vwP/Qn9mv22/a/9Jv5q/tv+5P4w/1X/y/8/AIAAywC6ACEBYQFsAUQBtwHrAf0BvgH1AUMCLAJAAkoC1AK7AgsDOANnA7ADwwPpA0UEbgS2BKUEmwSbBIsEpwRUBCUE6QOmAwMDkAIvAq0BDAGyAJ4APwCs/03/Sf8N/xv/fP5U/pz+xP5+/rj+Pv8w/4D/X/92/5j/h/92/w3/Tf+g//P/+v/p/9T/3/9FAJUAsAC3ABEBKAEMAcsAmQBvAEQAVgAiANL/+P/K/8P/BAB7AJcA8wADAacBtgH/AQYCCwICAk0CfgIfAusBfQFJAaABbgFzASEB8QAAAT8BPgEFAdoAcgCQADgAQgArADMAPQBKAFEATwAuAAEAqP+A/5H/lP9//7L/1f/h//z/vP/B//D/6/+q/5T/df+l/7H/y//8/zAAsADIAeUCxgOfBJQF7wXiBZoFvwWLBbgF1ARpBP8DRgNUAvQAEgB1/4/+af2+/DL8x/t++yL7wfo++tv5bPka+Zj4QPhD+Ej4i/hw+E/4MvjB91v3Ovee98P3evhn+Z36gftE/Hf9CP74/sv/FAFDAnsDuATlBSUHCAibCFAJzAmPChYL4wtvDLgM7wxaDWINxQzSCxQLSQquCSAJhQguCLUHXge0BggGXgWVBJcD5QInAo4BIAGkAG0Ao/8b/5/+Bv6O/Wv9Vf36/PH8Ef2+/HH88ft5+976y/rG+vD6/Poz+737tfvx+0n8vPxF/Vf99P1b/qP+2v4r/5b/vP8nANAA0QCwACsBdQGxAe4BawJ0AnkCZQJPAtoBkwEHAuQBtAG+AS4CTwLZApYDTwQfBa4F1QUPBswFdwX+BbcFRAWkBCwELARiA2YCjwF5AGT/rf7Z/cH8Rvx5+7n6MPpM+bH4FPhq9z/35/bE9ur2u/bM9lP3Tvew9zf4Wvh8+B34tfev97n3ivc/94H2YPbE9m/3sfhw+nT8e/4VAKcBmQNCBcEGIwiCCSULAA1rDvYPpxHDEkYT+xK6Eo8ScRIQEn8RWxHfECUQ9A59DQEMoQriCL0H4wbYBT0FggS5A6wCwQHfAMH/rv7m/SX93PxO/MX7jvuS+xj7cPq6+Tr5zfj6+Bj5Sflx+bL51fnq+T/6N/p1+un6cPsZ/OH8hP0X/qn+m/9lAEMB2QEWAmMCxAIBAwsDRwPhA2MEcATZBIcECQSwAxUDxwKuAsoC+wImA18DywMKBDIEggSsBCIFHAUxBUUF5gSxBG4EZAOQAqcB2ABp/1n+/fwr/B37YvoN+h35Avg894321/X79KH0avQ49Izzi/Nj88Xz/vNF9Av0P/Tu9Hr1+PWS9o72gfbx9jz3tPd99373w/cA94r00+1U7wrz9vdr/aMDIQp0DSMNag10FBgb1yALKPgu7TEqLb8mFB8iG7IXGBYuFIcOlwgnAnj6KPfB9SH0fvIS8IbxAfJX8bPxKvWD+Xr9mgBfA/sDXwRsBkcK7w8hFc4X4Bb8E78RHg6DCDAD6f/C/cP6wvYv80TvXet96abqyO1O8FDzyvYY+0AA2QSHCJgLSQ1LDqwOaQ6tDawMsQtPCgUIIAZxAWb7ofZ382zyUPIh9BH2u/gU/Mv/pQODBwsMnw/0EQUTwRL3EAENYgimA+v9jPdR8nzu0exa7Y/vsPLj9Xr4tfx2AJcDqQUQCKUJIAknB+sDmP+s+qf1U/Kt78jtLe0Z7gjvXPAw8hD0ifb0+Nn7Kf5S/xUABgCmAKL/s/6G/pD98Pom+dz3FfeD9/P35/m0/B7/A/9X/0kBDgU9CgwQHBTlFsQXnRW6Et8P5QyHCfcEkf80+2738PMo8/70W/ef+7UAjgZhC1YPRRP9FQkWbxTkEmQORggaAyH/YfsH+IH2E/YY9pz3gfkE+yz9RADrAwYH2Aj/CXwKmgkLCH0GEgXcA6wBs/1o+zj5b/ew9q722Pcz+UT6A/xa/U3/+QAfAyEFpQTDAyMDzQHh/z/+iPzS+oj52PeW9wT4aPhs+c758/ma+z38vPyM/a3+WP93/ub8MvwD/Bb65vhz97n3e/ct9yb3Q/gi+Rz6mfqK+qz6CPon+Dr3IvZP9FjyovGj8ATxl/Ec8nL2nPkn++P6y/pi+ab33vak9g74SfcT82Dxn/Ed8Tvzd/Y2+Or5Cf5nCAkb4Ci4L40z2DB/Jy4cNQ9GCO0Bjff06RPfvNgT2LvZ995i6/L7RwzLHIopNzMHORc1kSylH1IQzf+F8HLket6Q3AndUuE66MnvKPhrAZsIXg+lE/gV5RQoEl4OKwhOAfP5TvQL8e/uxe5i8O7yLfUZ+NL64P2fAGsCTgP9AwQESwPjAVMA5f2E+9T42vWT8zLzufM+9kP65v21AAED6wRAB8wHfwdEBhMFMAOPAMT+Tf1q/GH7/vls+WL6zvtz/RAAAQLIA/gDGAIBAAP/J/7D/Jj7kfoF+qb56PiG+LT4cvmS+QL69/rY/LL+m/+J/zr/Nv6f+135Yfai8+zyX/Ob8/T0+PUS97L3fPiu+Y779vxi/rj+J/7N/Gb6W/k9+c75dfoY+wT7+PqN+1H8Dv2T/fn9ugDRB6YRdhm3H3oiOSPxHjIYChJPDngITf9K9pPwhO4j7rvu+/Ih/CIH+Q/GF7gepCOxIxAeMxb2DcYD4PjT77fq2+kt667ux/TX+uQAzgVtCekKowr7CL4GNwMX/3r6GveV9IDyBvId83H1ofd2+c/7TP4GAIYAFwD5/kb9pvvn+VT4oPdu99L3qPf994b4wvjC+MH5//pE/B39vf35/kIAf//M/ln+rv28/MX77fpS+pD5lfmo+gr8jv2f/iD/gv8rAAEACQBtAJQAr/8//pb8sfry+If3dPfd92z3pPbZ9gT4p/gD+eD5M/vW++z7bPyA/Pf7U/oW+Dv2KvWD9EX0Z/Ro9Hz0+/QK9SX2QPhV+i77EPwf/KD6h/gZ9y33kPgz+RL54fh6+LH2evUR9cP1OfZZ9vH5NAcwHCMs8DG8MEMtBCPrEj8GvQLvAH70k+IG2+necOL74+3spf90EiodjCVTMTk3pjBSIwsWpgiD92Tm+ty32yzfQeYR8cj9bQcgDnEUMRllGWsVrQ/sCIkBx/m+89rv/+vf6PnpT+9m9lv7k/+QAmMEIwQ4A5MCdgDr/M34Bvbg9Lf1PfYe9+34PvqT+mH6cvuE/Xz+0f6H/2IAvP/X/XP8C/yX+0b6cPrt+xL85fvc/Pj+ZgEMAj8D4gULB24G2wQEBIsCDgAn/uP9BP5I/T/8V/0h/9f/nwATAkwDYAOBAoUBowCd/2r+KP9yAH4AYwATAN7/Hv+X/v3+Ev8c/zr+Rf6//vD94vw//Fb8mvuC+vr66fzc/bv9+f1p/7wAqwCjACwA3f7R/YT9Fv2U/Iv7w/oA+j76Cvob+lX60vp3+wj8ZPwm/Aj8BfzM++n69/hn99P5mgK5DgYZ7h9NIqEhNRpMDy4I5wXFAVD65fG87T3s1ukh6hzyHf23Bk0OnRYeHXofOx3MGFkRkwch/Gfyzest6Mnovu1v9MH5v/7JA7AIQgowCq8JZQg2BWAAlvy7+n73GPYL9ib3Ffkx+5H9pACpAroDGAV3BWUDbADD/bv7A/qC+Jz3QPgf+Xv5bvo9/KX9LP74/v3/qQDbAHcAowD4/6P+2/3c/Er7t/kf+Yb5rPo//JP9X//S//7+mf70/hT/0/4x/i39aPts+oD6pfpL+sj6v/tq/Jz7lvyq/9sAxwD3/wkANgCp/k39xf2c/mr+4P2N/uT+Ff7F/dz9wf4P/03/wf8TAI0AwQAHAfQA4ACjAawCygLXA1QHsw/XFeIUhRBvChIAOfV/7jrwQfLi8Svv3O4P8872x/t2A0cKdA3TDTgN+gtsCJ8CXPsF88fp5+Pq4kfl6erl8QT5qP8sBP4FBwafBIwBy/wi+Fzzie7368Hqtutg7TnwePOW9ZX7kQgPF8Ij3iraLBsotByrDy4HMQIO+6jwwei35T3l7+dt7p/4EgEMB4IOHxkRIh4nQyfuImAZzwzp/x/2zu/X6yzqPO3W80L8NQV4DRAUyhZUFvQTThD0DEgJjgT3/yH8uvl79yb3z/i6/FAB5wXWCSgNhA5HD2MOQwyyCPwEIwEB/sT8DP2c/iYAVADZ/9P+bP72/oL/PAFrAvcCCwO1A2QEvAOmAosCCgFT/5P/AAG1AjkEHwWwBb8FggQ6A/IBJgGx/8v+av70/TL92fvM+8T7Ffxm/dH9fP6x/10AvQDQAHIAYf/U/dz8bPxD/XT+f/+y/8//AADw/4T/Ov/z/vb+hf6j/rj+CP94/5T/vv91/9X+Fv9AALUAhwHRAmQE9QT0BH8EtgReBDEEKgR8BO4DvwIdApkBaACj/9j+6f4q/2n/F/8v/zAAzgDJAEEBfwE6AUAAAAAP/9T9lv3W/YT9gvwo/Iz8afwh/KD8If6x/yYAKQAwAAAAGf9P/pD90f39/Jz82vxz/T/+g/7//Q3+xf2+/bT9NP2U/Kr85/yM/Af9VP2b/Xj9if1P/i3/hP/G/6f/Cv+y/kT+Kf73/X39jP32/Jb8zvzK/Rn/mP/w/zgAVgCLAPEAtQCDAG7/iP7Z/SD9Sv0O/lj+A/4m/mH/6P/8/wsA8P+y/5r+rv1P/Zb8h/w8/Nj78fu8/P/8Nv0J/pn+e/5M/sP9ivxq+7n6j/oa+8T7H/x0/Of8w/2h/rn/RAD4AL4B7wT8BmkGdwRDAYz85/cr9Sj1cva59+z2L/bl9tz47vqW/Y8A0gGsARIBQwF4AdoAF/8O+732Y/Ou8aXyifWG+BH7Pv0w/8IASQEqAUAALP7W++n5QPmp+OX4QPmI+fn5a/pq+w/9B/+6AO0BSAL6AS0B2v/y/W/88/pV+kb6a/vx/CD/7wDaAYkCrAJWAsgBgADk/4T/X/94/3P/DgA6ADYAIQBtAH4AIwFeApEDZAS5BHME/QMaA6ECIAKJAaIBEQKNA9IEaQZrB1sIwgdrB7YGEQYkBaIE5wOrA5oCYAK7AZYB+gF/AtkC6gIzA6ED4gMHBFEDeQJYAakA3P/f/77/IQC/AJcAbwASAREBDwGaAOIAyQCuAGgAZQAiACcAJAAQALf/RP/W/hz/bv+2/xMAUwAaAGv/Tv8A/6j+E/6g/QH+Zf7//Zr+MP/t/9r/z/+P/wMAAwDZ/0H/fv78/YL99vxu/b39Sf6f/sH+ev86ADQBlAFNAf4AigD8/63/Yv/X/z8AxAAgAbsBdQIDAz0DDQMzA/ICGwJuAYUBUAEKAdYAUwGeAbcBiQH/AXwCtQLiAiEDoAOMA6ADJAMNA18DhwNfA8wCegKkAmUCIAKIAu0CTgOgA/ED1wPDA4IDFQO1AjkCqgE8ASgBCgFLAY8B2QEfAoQCtgJbAkUCUQL/AQwCogFOAZcAGADf/27/S/8N/yP/Yv+T/7T/DgD4/zsAQgB8ADEAOgAnAEoAgQBtAJ4AsgDlAC0BigFVAWEBxgFDAskCHwNBAzMDbAOXAwoDxQKpApcCWwJCAi8CTQJtAh8CVgJlAnoCiAJyAogCnwJ6Al4CBgLKAf0AsAB+APX/t/+q/0T/V/8l/3D/qv9x/yD/5P7u/u/+b/7y/c39ZP2a/bb9Af4n/qT+xv7W/uX+mf4g/2n/af9c/77/cP9k/xH/sv5t/kz+O/4c/hP+CP4w/lP+iv6z/vH+Uv+0//z/agBdAIsAswAWAVABzwG3AYcBfQGAAZMBqgGHARQBEgHnAOkA/gCPASICsAI4A0IDSQMuA/ECogL8AWQBFAE3AZkBNAKuAhQDbwN4A+EDtwODA0sD3QI7ApYBNwH9ANoAMAAwAF0AfgCQAM4APAEvAYQBuQGnATkBKAFEAQ0BxwDBACABOQF7Aa0B3wGoAQECDgKTAa0BuQEvASEBUgE1ATwBHAFdAZkBJwKnAp0CsAKSAr8C0wIVArsBvgHLAXoBjgF4AZ0BqgG2AaUBxgGYAY4BowEBAhACKgK+AcUBVwGtAD8A6f+U/wX/i/4q/y//c/+7/xIALgAGAN//4/+j/1r/Cv/a/qj+q/7H/gr/V//j/2AAhgCuAAgBNAE0ATUB+ABxAPD/HwDG/xIASQB8AH4AkgAKAUYBWgF1AVgB1QCFAIoArgCeAMIABwE3ARQBMgFEAUsBRAFcAYABkQF6AVMB8QAZAcYATwABAJ3/dv8h/1//af8QAEcAdgC/ABcBggGYAXMB8wCFAEQA+P/c/63/rP/N/9T/dgDbAFgBoAEWAiUCIAKyAcoBxQE8AQMBNAF4AX8BEAI9AlQCwgJHA1ADAwOWA+YD2gObA4ADZQP7AuUC/gLEApACmgKEApgCuwK9AnACcAKaAkgCDgLtAfcBhQFDARkBzACpAOwA2AChAHEAlQBTAH4AYwApAE8AMQB8AJoAiAA/AA4AMQB1/z7/Yv9f/3P/w/8IAA4AEgAzAAQAw//B/63/EwD6/5P/p//B/yQAYgANAAAAgv97/yP/4v7O/tH+A/8y/0b/Yv8Z/63/JACkAJAAlAB2ACcAp/+P/0v/Gf8m/0b/lP/L/yYAdADLAFMB+wBOAN//gP8w/xb/F/9Q/3r/gv+K/3v/mf/a////8v8XAHQAZwBnAMIA0QCAAMwAlwCQAFYA4//S/47/lP9a/0P/vv/3/4UAkADHAAMBDQHsANsAnAB7ALMAsgD4APkAzgDWAOwA7gDYANsA0wDzAOwAFgE0AWEBpQHcAbQB1wGJApAChAKwAsIC3QL7AgYD3QLiApMCnQLbAnUCcgLAAgsDAwM6A94C7QLWApcCYQJCAjQCpwFLAS0BIAE/AREBMgFOASsBQQGRAWcBKAFJAR4BDAHaADABGwEZAb0AngBtAH4A1gCyAHwAXgB8APgA+ADMAMYAvACIAG8AlABZACsA7f+R/3b/t//Z/9D/uf8fAJoA8wAFARwBSQFBAbMAtwB2AJcAfgBZAGIAhgA7ACkAdgCBAHwAYABdAEcATwA2AEUAIgA4AKEAaAByAH4AjQC8ALcAXgCVALMAkgCZAH4AeQCBACsAIQCy/3v/gv9a/3j/rf+s/8v/7v8GAMb/qP/A/+H/wP/e/4f/c/8v/xL/Nf9m/1L/P/8r/w3/Fv8I/1r/Nf+n/1L/XP9I/6j/FQA6AH4AcQBtAE4AYABoAEkAYwCcALoAiQFGAc8BNwHyAZEBmwGRASYB1AFcAWsBjQDEAPsAfwFBAe4ALwHaACgBIwG2AcEB/QEaAsoBrAFXAdkBzQEEAsMBogGjAVoBWAGJAbkBsQHQAEkAgAA6AYkBsgFKAvMBuwKBAkQDHwLaAXAB9QGoAP0AGAAAA3cFNAFxAHkAcP8n/iz+lP7KAlECKP/3/VoBKQBFAF7+ZwDOANMAHADD/8kAQQFBAer9/f4Y/Qn+uP0pAD8A2QEkADoA3v8XAH7+nv9B/6j+Wf7v/sX/+QA0AZwAHwAm/2v/gv8F/xn/mP8q/1//Uf6T//X/VgAYAID/HQB+AF//hf9f/04AQADA/9z/OgBUAAkA2ACTAWMCCQJkAWAC3AF2AXUBMgGXAMwAgwDL/84AZAE8AZ0BtwHAARUC3wB3AAgBqQDLAJQAtwDpAIkBBgCuAL0AXQGxAckAiwBLAaQApgCwAKEAHQLNAd8A3AG6APsAwQHbAK0ASQG8AbgCiQLVAGgCaAJeAvgDyAO+AzcEJgPCAnQDQAJkASMBTwLnAHICyQIGAyICzgI+AjIDWgPvAjEE5gE4ApIAL/9w/3QAX/9//6EAz/+yAG0AWwDBADQCwAH0AqgDfQOOAaIBKQAQAFIB7AOQBBEEOAV1BC0EDwFCAIL/AAGSAIYARwI4AksD9wJAAlABMwL0/un/FQD//7/+x/sq+hX5Nvlv9mL3Zfa7+B/5GvlD+lf78P3S/WP9Ufx5/E39F/yA/LP7Kv14/QH+Bv5OADYATQLiAuAA6wH6AwUEyQP1A5gB2gN4AUAAxgDMAmQDHAU8A+wCCwMQAvcC3gGYAXUC0AEH/zf/wwGYAqICGQOQBKwGPATGACMDDALuALz+gP7F/+QBMP4/APkC5gNLBDMC6AFWBf8DkgPgAGECNAE4AkUA0QALAooBaAIuAqUBcwEaA50CHgRBBJwCXwF6/xv/gf4zABkB2ANvAt8AaQHfACoEMgPgAh0C+P+9/an7a/tW/PL9aP0I/Mj89f37+yP9dABbAiYKUgZ7AIQEZP30+4r5Ofaf+AH8nPYy94v9ifv2AF4AuwLqAEgBdgBAABYBA/7G/hr8Tftd+RH7Lfpe/tn95AESAVIBwQD2/sz9Yfvc+v/3Pvo2+5H8gv1X/2wAiAKYAY//DP8y/UT8Bfwa+/z71v3c/HH8Cv0w/pH/FwAQAPQAwgDe/9z9Uv1B/Aj8VPvZ+sX76v16/44B4QOVAk8CKwAv/7j9zPvV+sv6MPpH+7P7ZfwR/wwBRQJGAyED+wLmAa0BOABT/tn9q/xB/BT8lPxB/UT/JgBeAKoB4wLsAvcBTgGIAF0A9v7J/p39of4j/WH9zf1S/Yn9v/5d/27/+wAfACv/DP8S/yr/VgDK/yX/owDQ/9H+HQB0AD8ALgB0/qb+b/4t/5P/yv/I/63/7v5T/xf/pABkAcUB/gBGARIB0P8N//j+vP/m/6L/Kf5u/bP+tf5k/1gAvgFsAFkADf/h/fj+NgABAKX/xwC7AUcCKwPZAqoDOwQqAlgArf54/B37e/nq+GT4AfkZ+if7Pv0/AEQDNQWyBZwDaQRNArv/H/4i+zv5KviS9nz2l/aI9zL6dPuE/bX+RwBTAYwBLQHk/yv+K/wJ+5z5R/lI+DH4EPlh+rr8RP9dAX4DKQOXAtUB0AAS/2z+Gvw5+gT5avnB+cj6lvzr/aj/3/8WAScC/AL2AscCzQErAZcA3f5K/v/92f2u/nD////dAHQA2gDGAYQCjQKaAjcBWwC0/8r/PwCsAZsBdgEoAXkACABL/63/+P+i/+P/Yv+n/yEALAC1AIUB/QELA8wCjAN7A0wDOAM2AoUBugAcAN3+Df7m/T3+Jv+m/s3/VQHeAWYCvQKDAoADJAMkAyMEFATGA6ECLwE7ABgAIwGWAacCLgKEAToAmP97/48AigDu/2L+UP3f/ND8s/0e/9T/S/+r/jv+nv7T/vP/EgAnALz+8Pwn+8v6Mfsm/DX+gv9uAdMCLQNxAxkEfwTnA28DsQHk/yP95vro+Fr3PvYb9nr1qPRE9ZH13fZD+Cj47PfB94T2Xvbm98P4APrJ+Q/6afgn+X77Mvxa/En8h/pL+iT7tvpg/PP8f/vg+d/5IPof+yz9rP1X/Zv9Q/0Z/Fz9A/7M/r8AlwCu/iH+Xf6L/oMADALbAo8DZQLZAfwBRgPWBL8FmQVsBc0ELARVBCEFvAVpBk0GawYRBgoGkAXqBe0EXATcBF0FFAYjBqYFtQUDBdQErQZZB78HHwi1B18GIQZYBl8G9wZ8Bz8IrAewBwYINQifB3AHKQdDBswF6ARaBKsDOgOOArYBKwFxAE4AgP+R/z//Lv5y/X38zPtH++H6c/rE+dz4+veR99r3PviR+IH4VPhf+CD4T/hh+Er42Pf+9iD2nvUb9aP09fND84DyX/L88TjyH/Jz8g7z1PO19CP1ofZC95z3KvhD+O73afhm+Db5pPkZ+hv6h/qi+qb7mv3+/pAARgEBAl4C3wH1AYgCDQNMAskClwOrAxYEdwRNBNUDdgMpA1AD2gMvBM0EEQbMBx8KSw09EUgVWRiKGmQcPR6tHjIf7B7CHUIcVxqdGGYWzBTWE8YSzhFcEcoQvQ+8Da4KBQjqBH8B2v6M/PX6D/oi+TL4UPjI95L3N/ga+bv6I/z1/MP9mf6C//z/cgBQAbEB8AFDASEBdACR/z3+5PzR+/z6JfoV+XP4A/cl9s70VPMQ8p3xDvFT8Jfv2O8H8Pnvv++976Pvg+9l75XvEvCU8PjwAfHX8MXwIPHp8FvxdfF48ofzU/Q09VD1Ufbs9gP3r/cl+HD4/vin+IT4ZvhD+Db4UPjo+IX5MPru+aP5tvpp+vL6PfsV/A/9bP7fAJQFBQuEEFcVsRp2HoohhySyJyErrSw5LBArhCjDJfAiVCG0ICwgVSACH8YcJRq1F2sTBQ6jCPgDsf8j/Bv6ffhb92v2XPUc9Tz1NPW59U32yfZz9wj3H/ZM9mP2MvfS+In6Gfze/bj+uf+cAMsAPgEHAiwCRAMtBD8FoQUvBs0GTgZqBRMEygKoAe3/Z/4d/Z/7IPr0+CP3Hfb09K30pPQV9OPzO/Rx9Jz00/S99AD1JvVk9Yr1MPXp9JD0n/Tv89fzTfPI8nnyN/LR8QXyfvLm8ozzPfT59Gz1cPUe9d30YPSa9L30iPRE9K/zi/PN8l/yq/KB8xf1ava098f5m/weAawGwwt8EXQX6xxeIfEkgyh0K9grIyoBKWcnQSXpIvIgxh/MHooeLB3uGn8Y7hXHEZsLsAVdAAf7h/WG8TDvVO507S3uRe9N8PLw5vDn78Tvwu4i7jrtfOwi7ijw8vGQ8+H1EfgK+lf77/ur/MT8NPsb+0T6V/s4/Fz9NP8CAsUEuQYGCIQJpApyCnoJHAjPBtkE0wMWAjcB6f+B/ln9EPxm+635Q/i99kP1kPRZ81nzpfIH82PzqvMx9K70APUe9UH1K/Um9Zz0rfQ99Cv0RfMi87ryHvLR8XLxL/E+8bvxBvKg8hnz4PNW9E70QPQk9ErzqfGP8PnvQu/O76/wRvI/9W/5MP8zBUYLGhIJGMAdXSGlJAMnXyfsJjwltiMqIr4gKB8CH3Ufjh8UHyQeGx3pGvsX6xJ7Da4HrwFp/Gr3yvOY8SnxovED8mTzXfR09Hzz8/KD8ZTvsO3a68XrZuyg7bXvZPKt9cj4Dvu6/J39Uf6p/fb8kfxC/F/82vy0/cb/oAE7BP8GUAkXC78MFQ1YDZcM2gpkCdgHGwazBEsD/QFsAWgAif/k/jr+Xfwl+6b5Tfjg9q31FvWQ9Gz0H/Qp9PzzY/RY9GX04fM286Dyi/Fa8NbvH+8G79vuc+5N7q/uPe8A8HDwYPEo8nbyePL68oLzRvNi8sXxmvEn8S/xk/Fk8onzy/VY9+D5aP43A1gI6Q3BFJkatB9vJDQo5CkKKi4pkiZeI18fURweGtEYDhjLF/MX0hfNFwsX5RRSEQgNCgh1Asv8Bvf186Dy7PKO82X0/PUL9/33Svgu+an5T/hm9pHzE/FM70/vBvFR9Mf4+vwsAFgDxgWNB5cIigg3CBYHQwYhBZgEeATHBAcGjge7CVULpQ1KDl4OMA3dCt0H6QNHAFr83/fL9C3yIPGv8MLxk/Nc9Zz3BvnK+tT7oPwe/Nz6fvmD9032DPXE9F30E/Tg82bz+fPr8/DytfFg8avvQe0K6/3oWedM5wroiujX6EjpAeox6nvqYupN647sN+0H7tTulPI0+K3//ge7ENAZoiIGK+My2TsaQvpDskI3PnU3SjCxJ6wggRlMEnMLEQaIAxMCXgLfAXQAbP4q+oz12fA47DTpkeSx4cveL97H39LjYurx8Y/5ngAEBxkNuBGTFdAXIBghF18VyRLIEEoPDw7+DN4LCAu6ChMKcwkvCfcHMgaKA04A8P0a+zn4NPV488Tx5vDo8B3xL/P+9I72afjT+dn6R/wT/Vz9if3n/KH8ufw7/W79bf6Z/2wAFgHoAUgCJALhAXsAav7b+9H5qPf79H3y0O8/7Rfr9+mA6JPnpOcB6BvpkuqE7Eru0+9i8pz0XfVx9bf1afUA9Sb09PNP9PT0R/YR+EP7xv/vBKIJoQ+TFUUbAiByJbIpAixzLKkrRSpuJ4Qj2x6FGlAVvhBtDMgIJgbTA8EB5P+h/jT9JPwJ+675qfgQ9971XvTi8o7x0PCy8N/w0/HM88/1bvih+6v+sgGqBNYHZwp5DHgNkg3QDc8McAzsCv0IfwaJBEsDuwGkAFMAMQBYALMANwGKAU8CPANHAyoCjgHuAK3+M/zd+fr36fVa873x0vCx8D3xpPE38urzh/X292/5OPuc/Dv+n/5G/+D+Y/4q/an7uvlp93r1F/S08jTxivA+8NPvqe8C8ITwtvBX8ejxRvLV8lXz5vN181/zzvJ58hDy9vHZ8YLyQPON9L32LvkZ/Dn/wQNYCNQMixE7FjQb9B5WITgjwiMzJB4iAiDfHPgZQBZCEq4OAAtRCBcGIAQHAkcA5f60/cb8zvvV+uX5EPmY+En3hvYW9mv12vR09Bn1I/XD9Zz2zvfh+CH6lPzb/fX/wQH+An0E8AQFBjwGigbBBXkFuQSUA5IC8gF7AdYACAFtAPEAVQEzAt4C4gOHBH4FYgW4BEsErgKHASP/BP1f+un3qPXZ80DzcfKR8jPyg/IT9Jj1Lvcp+cP6Dfz1/Nr8q/yf+3/65vgD92f1+fNY8vfw++/b70/vsu858PjwEvLh8k70lvW/9oX3G/ht+IH4Kvjr91H3zPaz9r325fZV90b4Ofpf/Gf+XwFeBBIImQvNDmISMhVUGMkZSht7HE4ckBupGUgY8hXAE1sRsw4GDFYKwAeoBbADKgLvAAAAbv9o/g7+Pv0Y/V388vvn+xb7N/qF+fr4m/iV+Er4lfi5+FT5D/oQ+9b7v/xC/j//CABBATECMwO8A8gEAQU6BUUFMAUGBW4ESwTXA6MDoAPLAy0EZgSxBEQFQAVTBdsE7wSYBOICkwEfAGL+KP04+5X5BfhB9+T1sfWt9dr1n/Zn9yP46vib+k37hfyR/HT8Sfx8+336C/nS9z72dfVE9GvzWvOC87bzAfS69P31X/ez+NH5HfsL/PX8Vf0t/UD9m/zP++n62vns+YX5zvn++RP7TvzF/UH/eAFtBB0HhQq5DT4RbxSNF4wajRwNHsweKB8zHqUdNxwqGs0X8RQrEgQPOAzACYQG/QPKAVQA9P6A/hL+A/4I/hL+JP7P/Zr9i/0M/fH87/u2+0D7/fok+0z7Hvwi/U/+u/9IATMDiwRNBrUHfQiFCOQIoAgUCOkG1gXDBLkDTwI/AbgACQDI/+7/PQB7ABEBegHfAd4BxQGAASMBCAC3/vL9WvwC+8z5zfij90/20PWx9fD1V/b09hj4/Pi4+WL6XPqZ+n/69Pm5+M73CfZO9B7zTvLj8BHwWvA38GTws/Hh8u/zFPXA9tD32fhP+XL5Tvly+ND3TfYj9QP06vOE81zzqfMC9XT3APqq/N7/PQOiB/cLlBDzFMYZzB3rIFwjZiUnJgEmzSRmIgQgVhy9GJoUZhCXDFoJWgatA60B6P8I/5L+bf4T/tf9Ev78/Vn9ofwr/Gj7h/pl+cz4qvj0+BT6n/sJ/Y7/iwLBBdEHEgp+DFUOdg/kD5IPRg6zDJkKAQgTBXwCOADj/Sn8Jfvy+hj7f/sL/G79jf7D/zgABgBiAA0Apv4o/Uf8cPoB+an2nvW49H70XvQ/9YT2L/gc+g38M/5V/6QAqwB3AJj/Sf70+xD5ifZ181zxCO/k7fTsn+xs7a/u3e+z8YfzWvXy9kv4BvmX+Vb5//jp99j2yPWV9LbzfPOn80r02PR09hL58fvm/zIEowijDfkRNxczHIEhMCYTKt8rXCz/LJAr6igeJf8f3BqMFSgQHgtSB+QDZAHf/nz9bvx2/Pv86/xY/Kz7Nvu3+vP5/vhp+E/4D/iW+Ej62Pyj/wsDDgd8CvsNfBHhEwAVthU0FV8TsRCSDRoKUAZcAun+C/xA+dD3rPaE9hL3PPg2+U76uPvf/J39lP7V/iP/uP41/lH+b/4w/v/9I/9E/63/SQAgAc0BQgJgAgYCNwFoAHj/Kf48/GT67/hf9/31j/Tr8yfzTPIh8tnxEPL38cfxf/FA8RjxnfA/8HXw3PCJ8UTy9/Nm9SH3cPgc+sj6LvsT+1z6v/kw+cP4QPhq9+z36vgx+1f/ZgQXCtoPsBYvHakjJSrIL3szDzT3MVUuEClJIs0aPxRgDDEFZ//A+y36Cvrl+2v9vP5V/6z/BABD/2f+JPxT+R323vOx89v0yfcM+57/IgUUC5YQ7RVXGlocARzYGUoWnRF8DGAHFQIP/Tr5WfbE9Pv0C/YZ9zT4uPg4+Sn5TfjI95z2Q/XR8yrzmPO59f/4k/36AQwHgAtUD+oRbhPwE1MShA7MCfwEGgDl+0D4w/Wc9MrzWPRa9Y32y/eL+KT4jfe09UjzifD67aPr3ukR6eHotul26wnu6fCv89f1Qff79xn4svfx9on1gPSs8xHzc/KF8tfyRvPj84H0CvUq9vb2pveY+CX6Qf0sAvIHHQ7HFHUbVCFIJyMsQjCsMbEvxCv/JPEcMRTqDDQHCAOQAJn/0v9EAf4CjgRvBTAF2gPgAAL9zPgI9aXyiPGg8nv1CPru/xQGDAwaEewUMRatFUUTpg8NCx4GVwFp/QT7bvol+4/88f6ZARID+AN7A/0BS//s+1r4TvR/8fjve/BW8ib1Ifk6/ngDGgiZC9MNtA4JDlYMFgmQBb8CUQBA/vj83/zk/Pr9F/8GAJIATgAaANP+1/xA+1T5uffy9nD29/Ug9t721ffI+AH5WPku+ZD4Zfdg9sz0kPPL8lvyLfJp8l/zxvTV9Z73+vgU+mz6Qfo5+rP5RflU+B/3kfW39Fb0VPS49P31IffB9/D4N/ol+6r89v7gAL0CbwWtCBMMYg/YEnsVDxjlGWAb2RvMG84bYxvmGiUawhmKGUcZEhnjGAcYPhZTFLgRwg6ZC2QICQXrAW7/hP3C+4X6sPl3+T35cvk1+Yv5YPlP+ar4Svgn+N33CfjD9wz4DPgo+K/49PhH+YD58fms+t/6ZfuA/Dv9cf6t//MAvgEBA90DRQRrBNIE1ARwBKUDWgPtAnQC/QGjASMBxABAAKj/yf64/bn8WfsM+sD4P/e59VT0aPPd8rPxR/Eg8Rjxe/Dt8KrwhPCA8FjwYfAM8KvvqO9370LvdO+G76Tv8e/k76HvSe8d7zjv5u787i7vA/Cs8JjxAPOf9Nn2ofl7/GMAwwReCe4NvxJiF3wblR78IAkjmSQPJdQlciaLJpImkCZ3JggmmCVfJHsiex89HJAYcRRYEP0LpgcABNAAMP7q+3X6RPnQ95r2YfUw9KryVvE/8F3vEu/U7hzv3+/18ELyUPP/86j0U/Ws9Qz2b/Zn90/4Y/mO+zH9Hv8NAQoDfwQIBZwFBwb9BSoGRAZdBooGaActCF4JRQoqC6ILogvzCgQKWAjdBYcDmQEj/zT9Fvvk+eH4lvgb+Nz3vveU95H3N/fy9ob2kfXx9DH0pfPu8pbyxvK18mLyq/Jl8l3yM/Io8gbyH/LB8lXzrPMr9BH1afUE9nz2yvbU9uD2Cvck99f30vgr+oP7bv2C/wABbgPzBm0KRw22EBEVMBm+HEgfEyGqIucjvyR2JNMjQiOMIt8hNSGsIAkgUB9CHuIciRo3F6QToQ8kDHQICgQcAGT9d/s++h35ZPiY+N74OPl1+LT3ovbZ9Vz1DfTm8j3yP/LV8mTzxfPi9P31EvcP+KT4+fiu+TD6mfoq++/7+vzt/c7+yP8mAQsCtQJzA9oDSATXBJcFngUrBo4GsgayBtAGaQZ8BVAE3QIrAYr/JP66/Cz7+fka+VD4gvcZ99n2Pfb89Xb1BfVe9Ifzw/It8qfxJfG58HHwcPCK8Drw3e/L75XvsO8N8HHw2vCG8STy6/LF84D0KvWE9a/11PVb9gb3oPd6+Fv5vPoz/GX+SwH1BK0IYAxSELAUDRn9HPcfsyFII5QkLCVzJFEjhyLHIQ4hKiBsH4AeuB2eHP8aGBgLFPkPlAvoByIE4/8K/PP5gviA9+r22/Zv96r3iPcf9432dvVb9Bjz2PH68LvwwPAR8W/ySPMf9En1tvbr9774Wfnl+e36JvwE/X/9mf7A/+wAGgIKAyIE+QQ5BvgGXgfWBwgIcwguCHQH/QZEBgsFsgNmAhwB2f+P/vD89vsB+8b53Pi+9x73hPYp9jL10fT884Tzh/Lg8Vnx7vCF8PnvpO9H7y7vvu6a7lfuQe5I7jfuc+427/vvgvAQ8pDzWvW19pz3mvgS+R35u/gA+I/3v/cx+BX5I/qS+378x/00/2YC0wVzCTkMQA+qE8cYbR00ILAhDCNGJfQlEyV6I7YiUSGJIJMfNh4WHUobVxrCGAcWzxFfDVIJQQaYAvL9evpU+S75m/it9333qfg4+Zr4Gfen9d/0DfSH8mrxG/G38EfxjfId9Mf06/Vn92X5EfqA+rv6hvtb/Cj9pP3I/W/+KQC5AbYCOgNVBB8F8QWqBvAGygbFBmEHYwfFBuIF3ATrA7oCKgFG//r8TPsF+tL4lvdD9s/1pfVs9UT1jfRq9ET0CfS28/3ymfJ08orykfKZ8uTyffMY9D/0JPT/897zkfOk847zS/Ok83L0JvXe9U/2ePcY+KX4+fhy+ZX5RPkG+Zv43viz+cb6APzX/CL+Uv+DAJsBjwPAB6ULBg8hEgAXnBx/Ik0lQibYJt4nMyg9Jt8i3iBBH8cdcRx5G5safBnmGG4XihROEG4LuwYAAwkA2/sY+ED2R/bu9Q72YPb29sH3Pvi697z1kPSf82zyGPFQ8Nvv6e9N8S3zsvTw9Yr3R/nh+nn7Zfy0/K79Ff5d/jr+qP7L//0AHwINA5QDIAS2BK8EaQTGAz8DWQLSAZkAU//c/ez8X/z1+tv5r/gY+Ez3TfY69aT0PfTN80XzL/OB88/z+vM29O3ztPNr80Pz+vLf8gTzIPNy85PzRfSN9P703vVr9gr3Pfcb+J/4M/ke+on69/qI+0H8tfz1/Hj9C/4P//j/0AD8AbECwQNFBQwGQwadBgcHNAd0B5UHiAe6B0wIQwldCvoLbg6ZEGASnxQtF9QYJRpkGkMagxkSGUsY9haMFXsUcxNVEhYRkg8jDsIMMgsoCZgGiQRgAlkAmv71/CD76vkx+cL4LPjL97r3j/cA+On3lPc99/T2TPZv9lT2Afad9dT1M/bK9oL3XPgh+Yr56flS+oX6//pl+6f74PtT/LD8kvxU/Ur9Lf3L/Mn82vy1/L78lPx4/Av8uPuI+yz7vvob+qH5m/jY97n39vas9uP1j/Wi9Yf1rPW59Y71mfWe9Vf1GfUP9Vj1Mfa29m/36/cL+cL5pfoY+5P75ftV/Ij8r/yl/N/8vv24/mn/RADuAMgBgwLFAhkDlAPNA14E/AQiBZkF1QVSBusGRQdhB4MHjQdqBzQHlwfFB/EHlAiFCAkJgQnUCcwJNgpbClMKQArZCRgJJAjbB7MHVgcVBywHRwcWB88GPgfEB+IHxweGB3oHAgdwBswFxwQoBKgDnwIpAsgBmAH7AOIAuAC1AKkA0wC9AM4AxACKACwAqv8v/93++/6K/zEAw/99/zn/9P03/FL6Fvg09gP1m/PX8lvyc/BD7mftoO297kzxLPSd9T72LvYf9ETypPEa8fjwmfDT79Tuqe5+7yDxS/Oi9Sz4v/n9+sj6MvpO+ef3kPav9Wz1mPUq9qL2c/ev+PT5z/sZ/Sj/XQCCARACHQLrAcQA7v+y/lv+e/7V/u7/sgGHA+EEwgWNBYgFuwRpBJEDEAOjA+UE5AXZBnYIggmrCsoLfwzWDGcNjA01DegMwgy6DLsLqgseC+IKfwtPDNEMaQ0UDcsLlArICVkJwwjnCFQJKQqEC0YNUQ+VEYETnxNGEsEPXw0/CpUHugUABNIBagBO/+P/twEvBDkGNwjMCSsKOgqvCS0IXQY0BGL/2/ss+an2+fTh9Qj3JPdz+Hz5d/lv+Uz56Phj+BP4Gve79XT0x/Oh8tbxkvEI8kfyAvMJ9Gf0xPQw9dD0bfMh8sHwVO/h7qjvPPC28Cby3fJP9Az2o/ep+Kj5V/oA+uf50Pm6+X75d/i/9y73GffJ9/f43/nU+9z9d/5I/2UAOgEWAWQBOQEhAaoB/wEZA4MDhAR8BJgEZgRjBGQE5QTqBQMGJgbaBhkIcgklC3wM4g18DtsO+Q7IDgUOCg48DR4L0gjuBsYFSAawB50J7QucDZwP0BAfEZkQoBAGEe8RBhHHD0AP9Q4hDYQMCw2CDZ4Nig2cDIYKOwrjCZYJVwnoB2YH8wZ8B/4HgghWCgkMWgslCfUG0gPRAo4BvP8e/Sn7MPoI+eP2APdM9872cPXu9Dr0yPOa9L71APWF9E70afOg8g3y2/F+8Q7xbvBY8FrwFPCe8EPwce8p7zPv2O/V8CHyo/K/8hX0E/Pd8U/xxfBa8EHwsvBv8Tfzf/UX94v4Sfqi+t/6ZfsD/Gn8Mv2M/PD6CvoV+Qb5ofmA+oz8of6rADECvwN1BKkEaAVPBaIEKgSgA0IDlwPdAzsE5gQcBhAH1QjXCQ8LTQztDMcMzgycDCkMBwsECnoJzQl+CjkLFQyXDW4OeA7ZDvAORA8OD4sODA4VD4IQhBB2ErMT2xOGE0ATyxKjEgESzxD/Du0M4wmLBwMGLAQtA1cE5AVyB9wJNAzUDAgN4wwDC0wIMQSpAGj+avwv+qn5IPpk+or6Ivus+mT6Sfpr+pL5dfi+9wL4Qvft9Y/1NfXt8/PypfMi9H3zyPNR9OXzBPOp8ajwcfCO8EvwF/C88JzxzvFb8UfxMfE98SLxjvAU8G7wQ/EK8inyTvL+8W3xE/EY8Vbx9/El86nzZvUc95P41fk++g36X/qg+gH7bfsj/LD8mvvc+k37ovvi/Jn+NQBrAegCqwM8BEoFPwWNA2wDKwOrAiQDbQR8BSIHbgg7CbEJKAmHCQEKawlGCOUHsQZcBl0GPgZOBnUGrwYjCfYMIhGbFRwaPh0YHmQcKhsNGhkYpBPhDdwJyQdgBc8BIQHKAmgEzAXdCFoN2BFFFO8UyRQFEskNzAmfBJz+u/q4+Or2hfWw9if5Ofvz/Kf9tv29/YD8rPue+kD5Pfex9Uz0KPMA80XzSvRq9Mf0kfWJ9sX2Cve/9i/2x/Re8+fxqfHI8qrzPfRY9PXzqvP18j/yvfGL8d3xzvFW8lDzd/Qf9O3zu/MA83byavIa8tbxD/ID8r/xVPFI8TPxNvFd8r/0P/dO+RT8Wf7W/mP+qf2j/KP8ffzJ+6f78vvY+0H8Lf3y/ZP/YgEwA+oF3gcnCsoLPgy3C5kK9weBBTIEewNVA4QEpAVNBugG2ghbDOcSWBpTH9QiuCbyJ7ElhCPtIgkjYh7GFSEP8QqEBAX/Qf9rASIENQibDbETlBksHq8gPSEpHl0ZwRLIC/kFFAHj+xz5vvc49lf2G/i1+Y77+Pxp/SL9V/3h/KD8I/x8+y38Ifxk/FH+kACXAO8AbwDJ/nr9zvto+RH4wvYQ9OvzzPOC82f1zfjy+gr95P52/xH/Zf6l/DX6+vfa9Sz0sPKc8abxHPKp8T3yJ/Ox84v0h/Vh9jz3vvdR90/2YfVK9OvyN/Jh8cvwp/CA8Bvw9O9h8DPys/T89o35Sfym/EH9yv0R/UP9tP2I/In7e/oe+D/3dvd49wn5iPuZ/Hf+IAK5BHEFPwaNBQQEJQIWAkgLiBnYIYAnai6gMaUvBSpNJVkm+CLEEggDs/uy9Tbv/eum75/4PAPdDHAYYCY6MX43AzjAMcUoghxLDbL+L/U77zvsf+vQ637v1PUd+wP/TwLxA9UDWQLqADUAvAD9/4X/0v92AMIAFAG3ALz/vf6y/AL6U/eZ9S70RPJK8YXyMPX795b8uwGeBhEJgQozCpYIugXXAYD+gvrs9tr0l/RT9dn1YPeH+Jr5NPp++wr9iv6N/r/+Yf/d/k39v/xb+0P6nPnX98v1hfRa8w/yl/Fc8HXwJ/GL8RDyHfOF8qLwbO858Enyz/ZK+5n8kfxO+vT22vVQ9b/0P/WJ9Tj0YvKJ8RXy6fIB9CL0XfWz+En8Z/8kA8kHbA9MHqItrjJmMoUzGzJfKbccHBXgE2IL+fTB49viaeMI4EHhUOu6+/8JzxPWIc4ztD7HPy87gzIHJ/8XQAWr9O7qqOXw4f3ehN7J4lnpuO7k8rT4Mf6ZAZ4D5gZQC20PaxCjDwMPyQ2jCvYFXwE3/GX3gvKB7rfq8ueG5TDlKefp60TysfhI/0QGZQxmEE4SlhJWEREOjAirAuv8GvmY9UXzmvON9P70PPXA9R/31fla/Nj+vgEyBKkE1wSLBdAF+QTPAvD/avyk+ab3FfZc9RT1o/XE9lr3zfeV+Sz7tPxe/iv/Ov/H/vX9n/0x/Qj8Uvpy+PH2KPW99Db05fOh9Eb1V/Zt+C/6Zfu9+0z8B/1j/Tb9ePxJ/HP85fus+w/8Uv1Y/g//Ov/s/pkBOA3FGoEgVSJQJfEmECM0G4YWCxldFPECd/OR8FvxqO1a6MLpsPFE+df9FAY4FCwglyZSJwsmjCSYH2sV1wlpAeD7C/fh8FTqZOiB6nrra+si7tPyKvaL+Iz8egJhCcoMbA2FDQAOPgy+CLgESAHX/T76AvZ58gjwLu1v6pnobunc617v9PNq+Xr/bQVJCm8Ndg+/D+MMtQhABP3/WPxG+F30fvF577TtVu0g7u3wEvVp+Pn7AwEuBR0HdQkXC5cKcwisBEQAuvsf93rz8vA07mbs/OuT7PrtZPBt80X2ifj8+qH8mv2K/jf/UP8G/k37YfhX9lb0+/LY8iDz8PMy9UX2XPj/+o38p/2h/tn/BgBc/4X+K//6/9n/hP8iAK0B5AFQAQYAdv9iAW0KDBXdGWYbSx3MHRocDxj8FdEY2BQgB2D7VPmr+Rj2IPHA8VH2ufrb/coCIAzLFFgZDBtoGe4XFxVjD40INwSwAE7+kPlZ83Pw3vCN8Tnw+e5O8GDyMvLj85T3gv1iAYADMwX7B50JtQgABmkDBALC/qL6XPUp8ebu2O3f64Pqa+w38OvzRvhj/boDvwiVCogKWAsZC0kISQV3Asv/l/y4+fj3Bfdu9YfzDvMQ9B71iveR+pv9DwEWBKMFiAUqBKcCDQHS/a35IffZ9cjzBvJU8fHxh/Ib88LztvVu9x35Gfre+pn6nvru+vL6Dfqu+Pb2gfbD9aH03vOz9Dz1//XU9g74Mfk0+rL6Xvsr/Ar95f1w/yYAYAAiAMH/egF/CcgVyxwdHgIgICOOIvseuhtZHjIcAg5P/p73u/bd8a3qa+d668nx3va//N8GdhL1GjQfMh8IH70d+Rj/EOwKsQarAqb7Q/Pz7Z3s7ey66qXpFep57bfvafLF9gL90ACaArsEUQigC6IMgwxSDN4LHQq4B+EDaf+e+kb1hPDz7cPtde6A7wPyBPa5+lP/KAN1BiEKtA3fD5UPhw7lDO8J5wXZAr7/2PuX95L0lvPP8570iPaS+fn7+v1TAOUCuARqBZwFvAXrBO4DiAL0AAL/DP0H+2/5Lvcp9mj2Bvem98X4vflp+rn6W/sk/Kr8qvwK/XL9Lf0a/J37Aft1+g/62/lV+uj6vfuD/Br+c//pAHoB6wGiAXYBbQCq/zL/MP+A/nf9DP3N/9YKGhe1HFUdvh/QIVcgIx38G1ge2hmEC3b/bfsX+bDy4u3f64fuuPGK9T768wEnCdYOIxIFE6cTrRSuEy4RRA8WDsAMMwgKAQ77afi79Rbxyexv6oLpT+ld6hHsku9Q8rn1zvmS/nEDJgiZC1QOmRCyElkRFQ1GCHsD3f7h+pz2MfQd8xLyJPHh8KHxN/Op9GH27fjd/DsACQIAA2gEqwW1BcMEVgPfAbz/GP2a+9T6gPpy+S34a/ZN9Tb2kvfg+LH65Pyy/or/jP+l/+n+c/3b+y/6O/im9mT1fvQB9KXzafMD9VL2lfh++2j+wf+LAEQB8QCR/4v94/uY+2b6QPkx+A74PPi5+Lj5XvsF/Yr+SP/r/6L/6P/7ACUCAAYsEbsdLyMcJHolPihGJz4lxiTnJnEh2BKgBNb9bvii8PboLuWF5broyu4y9en8IQXLC5MQ4RLkEkkU3BVfFdAUqBQwEhcNcgfrAaT9Jfr79qDzf/Hb7pDsset16/7pS+m26VHsPvBT9T/8jQP/CC0NZhCmEksTyhGzD7MMiQnuBeIALvsK9XvvXetk6Djn8udz6Rfrte298XD2XPqC/b0AgwPuBX0IAwpECtoIrQZvAw0Affzr+MP1mvNH8tnxCPJh8+70fPYl+E36bPxn/hL/rP9f//T9Afwz+Rf3ovXx9PT0xvXn9iz4U/qK/FL9a/2C/Xr9Q/1F/QD9SP2T/Yn9x/3j/dz92f0i/hz+sP7V/kH/iP6O/Sr9Iv2t/oQEQBFgHlEk0iT4JEsnAifpJ5Uq3i3fJ2wZ3wo8BGf+dPbm7qXr7utG7WrvePPM+Zr+OAKyA+sG7QkCDlwRkBQyFwYZQRebE2kQYQ7oC9kJsQbuAxz//vjC8QDts+kW5yLlK+X058TsVvFE9QP5KP1uAf0F7wnpDc8RoxQOFPcQRg2FCrwGWwMfAO39WfsZ9zTzjPBq723uo+1v7WPujPBY9Fj3h/ql/Y//OwCBAHMB4wJABLQE9gPeATX/v/x/+kr5u/hg+fn4tvgc+SH57fjN+DT49/Zo9rz1hPW29d71dfVc9fn0nPSo9bn39PmO+3b8k/3A/Zb9kP3y/cT+5P96ATkBGwIUAaYA7f/G/jH+Ev+jAH4A9/9iAPUEkQ4DGusgGiHbID4joCRQJGkp1zE9MDYjBRVLDv8JrwHW+d/5YfsR+PDy/vHB8ob0PPeo+c78YwAEBHoGdgh3Co4M1gzqDFAN+BCREtQR5w9VDtMI/QHy+6n4i/Y79MTx4u877ovsQ+u06x7u3/A69G73Wvo2/a//VwEhAVIBCAMIBcIF2gYuB2QGPAMg/xn9jfu7+mj5+ve39YHzC/J08c3w9fC18ln0zfXA9hr5TPt7/FD8/fz4/K38FP07/YL9ofzn+4L62/m6+Xv65vrh+p76DPry+FP3VvYY9gT2m/X49C/1KPXk9FX1yvXv9vf20PdU+Nz44fiK+eH6z/uG/cv+cQDQALIBJAJtAlgD/QPzA00ELAT/AyIEXwlXEQga0xvlGRMYAByBIGQlrSxsMXgszR+fE0sQDQ8ODuAJoQjUBG7/+/bc86H0aPiH/Ef8tfwB+6L7wvli/CL+xQJCAwQFIAZuCDEJ0whtCTsKSwn1BlMFEwSfAgX/tfsx+TL3hPZ19fv0IfUo9evz0PJ08k704PY99/T2e/e0+Gj4bfhh+vv8Qv6j/qT+Sf8dACIANgDI/5X+uf1u/e78Ifwz+1X67/i49vr1avZu9xT4CvgL9+n1OvWo9dT2PPhw+PX4Mvg39/z2S/io+Tn7BPsi+/D6H/sC+9r6ivr0+e/4Nvg0+Jv4wPhs+c75tfk7+aj5+PkW+lL6QvsA/E/91/1j/oP+Fv/C/n3/iAB5AC8BPQJRA4wDkQZ4DUEVLxvsG/Qb2BvKH0AlKyt+MOUvcynvHssXCBWoFU0WyxJlD+8HqABL+Kf2Bfoy/bD+1fo493DxG/BK79H0KvjY+yz7gftN+7D8K/8BAzMHlQquCo8I2gUXBfEFJwdgB54GiwToAZoAev/z/v/9F/6L/WD8PvoX+Sn5LPn39gz2ifaS92b2avbP9uz3yfY+9of31vms+0T8LP3V/Br8Ffxh/Qj/nf+UADsAs/6o/LP7u/tr+0X7Zvvz+aD3xvUo9RH1pPT59D/1VfWZ9Fz1mfXG9UP2OPdA+On3kvcP+KD4Svmf+W76Ivtg+xr7eftW+3D7v/sz/Nv7TPuE+lX63/r8+iH8h/wJ/a38qv3c/Wz+aP6o/2cAkAC3ANsC8gYsDD0RYhS5E1AVIxjfHmIijybOKcworSLOHGIeqB7UH+8ZShiME7oNZAYZBNAF0AY8BscAMvwl9tfzgvIw9CD14/XM84fwwu5U7/jwfvR6+Fn7R/sz+Tv4kfrg/fYAxwJbA7ECDQF7AG4B3QNFBRcGBgXEAxMCrAGyAa4CkgMXA9T/8fvx+fb5Qvmh+RL6DflR9lH0F/Sa9C318vVY9273tvZB9+H4Bfp2+gP8DP1M/N77o/zR/a/91v3U/S39x/u0+mr7Uvui+xX7IvsH+nn5OPnr+A75ePhS+E73wvaD9hT3sPdZ+MP4p/gI+Un5Jfox+6n71PtA+8H6wPod+7j7t/wc/hP+YP7z/isAQAAbAesB4wHWAEAAagBlAD8B8QMECRELyQwcDTIQJBJlFqUaIB+AIbQfcx3GGnobvxslHX8bHRlEFbkQ9gzHCk8Mrgy+C/kHMgPd/ij8XPsV+8/6p/hD9svyX/Aw8Nbxb/QT9hv2F/U99Hb0PfYV+cT71/xL/e78Wf15/ikAUQI5BNEEMQQxBKcElQVfBiAHCwcABjYEBQMDA5YDtQLNAc4AYACa/lr9bv3b/QT92PtX+3X6Q/oq+gH7vPpp+hv6YfqU+a756/qh+7j73/rf+uj6Ivtj+5T88Pxf/Bz8Bvz5+0f7GfzQ/Jn8g/ti+sn5bPlC+Xf5aPmf+Zz56Pgy+Gv4oPgO+Uf5z/hy+OL39ffP+PH5ivqL+2D8DP1o/Xv+Ov///9AARAElATgA9gD8/+P/vP5x/5r+Ov9zAfkExQYTBw8JEwyxDsoQoBU9G14dFxy/G2cc/RwjHK8dIx13G8IW6BMkErsQiA/MDhANSwkkBQ8BF//R/VX8m/pB+Mr1KPMi8UPxBvIs8//yPfLq8dbxfvIi9Fz2J/ib+Oz3bfjq+ST7//xy/vX/0v9L/4T/NQCxAfkCQgM4A1YCywEvAgYDsAPxA1QE8AMPA/kADwGTAQUDKgItAUMBZgExAO3/+P8AALH/gf5P/nX9Rf0s/U/9qPx5/MT8rP3D/bn9uP5S/9r+Xv6t/hH/2v6r/k/+7PyV+1z7vfs4+wL7Zfs9++X5Bvnw+CL5Lvmk+EX4ufc/9/72RPf99+P4AflF+QP5iPnz+e36wPtv/KX8+/uy/FD9kv6P/g//mf7q/fj8HPyg/NL8zf3c/VsA2AKnBMYDQAVGCboMZg5MEcUVhxhsFy8W8BhBHM4bDRo/GXUYxhUjEhsRYRGZEKsNuAqDB1QENAGj/+D+Hv1T+rL30vVW9BTzQPPt8xX0AvMa8ujxt/JH9IL1nfbq9jX3QfdB+MT5i/ta/Nz8sf0x/gT+lf5KAN4BzQEoAY8ANgAJAFgAMAG6AAAA7P5C/v/9Tv5c//z/FwADABL/Rv95AEAC9wF6Af8BBgJUAIn/SQAWAVgA/f4P/wj/aP6N/uH/8P8l/7v9zf0g/Zz8Mf14/UL8JPtE+vv5Vvmr+TT6Avoi+bv4Bvnr+MX4zPiT+C/4tPff91744fhJ+Qj6YvrI+rn6rvuW/FT9Bv4n/m3+mv5Z/sH+uv4h/yb/Qf9n/7H/CACXANAA4AChALwAfgDQAJoAfQHGAdIDuQa2BwQHvQfjC+AOGhE2E0EYPxp9GL8W1RlGHYAcKBq4GaoYnRWfEZ0RahJ6EWMO3wsACY8G2wSFA7gCZQBF/a/6YfiR96n2+fYo99b2BPav9cb1Jvcu+Wz61frf+mb7wvtx/J39Df9a/8n+Gv60/WT9wv2I/kj/uv7c/fD8Cf1Z/Zr9Df5J/o79Xfw3/Jj9MP7l/un/sgDa/y4AnQF1ApMCbAOtA5ACLQHpAH0BkAB6/wz/PP8N/vP8kP2B/pn+0f1V/U78Rfvo+gv7gvr/+ML4zvfA9i/24PYA9672NPZC9iD2rPXy9Sb3vvd491r3q/d598v30vh8+Yr5uvkM+gj6DfoX+qr65vq++r76CftH+177z/sk/JH81fz9/JP9MP5x/l3/WP8NAO7/YwAfAFsATgCVAFUBagLCBYQHtgeaB5wK+w2dEKMSXBWQGOwX4BZWF5Ma0BoGGfsW/xVeFBURIg82D/wOBQ0BCvMGfQS9ArIBqQDz/or8Evr997P2g/b59mT3+/bJ9pD2EPZF9qX3YvlG+s75YvmQ+d35j/qs+x78dPx7/F38b/wJ/R/+qv8XAC4Adf8t/8b/OwCkAFkAtP/B/iz+uP1C/rz+mP8NADoAWAAOAEMBawJRAq8B5AGjAeoA+wC8ARUCagB2/7H/NQAt/xX+cf5q/s/9vPw//KH7OPsO+1z6pvnc+B35CPm2+Hr43PhT+aD4Y/hw+Nf4/Pgc+Vv5JPkY+Zz5L/rY+ZD5yfk8+hH65/nE+dv5x/kS+lr6k/ro+p/7MvyP/HH8Lf0r/lP+9P77/lD/Df9JAHIAqwDJAOwAbgEZAf0AdQEuAqcC6QNGBkQIGQjjB7MK2A29D8gQYxOsFSgVXBPWEzMWkxZiFIUSpxGqEKcOSQ2PDT8NvQxZCq4HXQVtBHsDVwLm/6z9Lfw8+r74Yfiu+Br5Svji96r3yfcC+Fv5w/pm+6X6Qfr/+p/7g/wj/Rj+Xv5M/l3+pv5i/2cA5wC3ADYAvP+7/xwAYwAnAPr/0P/V/kn+AP8wAAwBDAEgATIBhAGxAXICogLRAjYCTwLIAe8ASAGFAUkBIQCx/4X/If+h/p7+bP7e/aX86vuX+xv7bvr++TD5oPhP+ND3R/d19qf21PZ19gn2GPa29c/1Ffa99kz3Hvdi9/P3Y/iq+AP5aPmh+eL5+PlS+nD65Pq6+9j7Afxz/Cf90v0p/rP+wP8TAFEAYgCFADoBpQFqAicCCwLKAbIBWgHgAJAA7wC1AKQASQH7AosELQRbBRkIkAqFC74NWBAcEg8SDRLqExwVqRQAEzoS5xGqEBoPIA6RDQMNwQugCasH8wWRBCQDPAES/2n9yvuR+oj5Gvlj+Tr5qfhj+Gn4n/gu+Yb55PkI+qP5SflP+Z75SPq3+tT62vod+xr7l/tJ/PX8d/1I/bD86fy4/UT+o/5S/3D/e/9i/8D/ewCHAW8CuwI6A2wD+AN9BOEEbAWhBSIFIATkA+QDoAOuAkUCLgLUAYEAj/99/1j/pv6L/aD85ftq+yf7c/rB+WP5A/k2+Hn3FPfH9sn2dPbz9dn1lvXP9RP2k/bd9hf3FPfD90P4a/jU+FH5i/mh+bj5CPpB+jb70fuh/Pv8jP1e/iD/Jv9E//L/AQD4/yYAhgCmAOAAwQDGAGoAQABMAKf/jv9n/5j/rP8sAKwBVgNIBD8FGwcoCWsLjQ3CDzUSjBPrE3kUfhazFr4VhhRMFFkTKRICEZgQGxD8DmwNgAvhCVMIygYNBeAC2gCa/n/9dvxl+1P6G/q4+Ur54Pjr+O34vvjc+Ab5Jfjh97f3zfe197r3kff490/4hvg2+LP4Vvng+WH6rfrj+h/7Yfu9+zr8l/xx/Kb88fxf/RP+7P6v/8wAfQFHAikDeQMbBK8EwgSVBGQENwRXBL8D4ALPAqsCmQHBANgAZwCy//7+lf6q/dD8P/xq+7n6A/pv+dT4afg5+K33UPc49+z2iPZm9qL28faj9yL4kfip+Bf50fk5+pH61fox+2b72/tC/C38jfzp/E39c/2C/cP96/1O/v7+Ev9T/w//PP+Z/77/c/+5/7v/IP+f/kz+w/25/Rj9Gf1N/cP9OP6L/nj/8QCaAlIEDwZaCCULag3ODy4SJhS3FQUXdBcmF+oWyRasFlkW5BXiFDEUfxOyEj0R7w9cDpoMnwlbByMEqAHk/yL+r/zw+jv5Dvh297v2C/aY9nX2qPWK9V30SfRZ8/Lz+fMg8/PyFPKD8tDyifMN9ML0r/XC9kf3Q/rF+yD4h/gy/Pr/hf5p/3wAHwIkAE78HQIJB28IUAMgBMsFWggQCKUGPwjACccJbAZfBKkEnQbdBVoE2AJ7ATsCwQDK/7H/af9L/yf+fvzx+0D7z/rL+vj5ofkT+Zj4GPiI9wH3tfbU9Vr1dvWR9aP1c/XF9Rj2Q/bx9mX3d/gT+Q75QvlU+Yb5o/l2+qL6y/r8+kr7uPsI/NP8Wf2n/VH+Nv6K/rr+Df9c/57/t/+M/8b/7f/z/x0AzgB2ATgC6AJWA9MDqAWrB7gJmwuNDeoPhRJ3FFEWyBe7GH8YIBilF0YXBheSFhgWThUwFMYSABIGEd8PuA4KDbcKUwjiBZYDNwG+/+r+Lf2J++75BPmT+DL48PcE+Jz38vYO9jX1FPUP9SD18/Sp9GP0LPRK9LL0a/V09lD3PPiu+F35Qfo++1b8fP2I/vv+2/7v/pT/RACwAC0BygFCAscCUQMxBBcFPgY0B7AHqwdSB/oGigbBBS4FjgTSAwADOAJJAcwAQAC2/zz/av4s/TL84Psl+zr6n/nX+DT4ivfl9u31nvU09bX0QvSW803zKPNL8yDzJ/NV85XzrvM29OX0JfUC9mb2zvaA9xP4evhe+JD4jflc+h372fuj/Ar9k/0x/rD+a/8JAIAA5wCYAcoB1AHFAcEB2QHUAXUBOQEtAY8BPQKTAh4DnwSMBgUIYQkjC30NcxBBEp0TFxWrFo0XlxdbF9MWhhapFjkWiRX2FGwUchNWEk8RVRBYD4gNTQuRCGkGyQM5AncACv+W/S78Ffsy+pn5CPnK+NL4FPih9wD3VPYW9hr23/XK9cj1wfWl9ZH1cPUC9pj2K/eD92T4cvn2+fr6lfuo/K79mf5i/1L/BgDLALQBmgJ7Ay0EVAUhBlwGMgZIBs8GEwebBoIG4AUJBS8ExwIBAtUBEQGAAKP/tf65/TH98/x5/NH7Fftc+o/5w/ij91D3Evd59qD1yfQn9Jbz9fKA8mDygPJv8ufxq/Eg8ZrxLfJx8qjyE/OY80L0nPRJ9Qb2+/Y0+Nv4nPlN+gL74vue/E391P0N/lv+aP6u/kP/w/8YADEAHwAAAI//dv8//33/gv/y/1sA8wCgAboCZASeBogIWwq/DEIPJhIuFOsVpRfWGDYZxxgEGGcXvRbrFVAVyxQQFIcS1xBWD48N5gvDCYsHBAVmAo//Mv3u+j35Fvgc92r25vXv9Ir0O/RW9D/0NfTR8+bzDvNO8jDyRvLP8fzxkvKR8hnzKPOq85f0jvWw9hb41/i/+cr6g/so/Pj8A/6Z/p7/aACwAP0BFQPiAxcFGQbzBkgH9AdkCHQIHAi1B0wHbAbGBYkEXQNoAqwB+QA/APr/e/8w/m79+/x+/Ab8Zftm+v75d/nq+DH4FPiN92/3F/e49kz2z/Vz9Rf1IfVz9YT1f/XS9R/2yfYh99L3X/gI+Uz51vl/+vP6ofsI/I/8Wf0L/u7+U//p/2MAxgA0AXMB6wEbAncCYwIdAh8CRQLFAUEB7ACmAEQA6P8IADYAXgDWAMMBCgPNBCoGyQfeCXkMrA44EdkT4RWZF8AYURlCGdEY5xerF2oXpxZAFooVNhQ7E+MRPxDHDn4MBgqBBxcFsAJiAPf97fu++qP5r/g7+E73UvYR9pb1Z/VN9cf0W/TS82TzHvMo8yPzZvOJ8yT0lfS89C/1qvVl9rL3Ovkv+if7TvwJ/a79i/5X/wMAAAHAAY0CWwPxA74ERQXQBdkGTwd+B78HRweABrgFUQVpBFsDWQJkAZIAuf8j/4b+qf0U/W/8xPun+yL7gPrC+fD4X/gW+FD3uvYQ9tD15PV49dH0nPSU9MT0K/Xi9CD1h/UB9nT2q/aD90v44PhJ+an5N/qj+gn75/se/GT8Cv3D/Vv+xP52/zgAhQAHAZEBlAH9ASIC/QHjARMCBgL3AcUBYQHaADgAff/O/pf+fv7B/g//oP8VAJkBXQPOBbEH6wl8DFkPWBLkFLYW6xfXGLMYShirF7oW3xUoFfkUlxQSFP8SpxHbDyAOlQxACkwHzwT6AXj/8Pzf+v74hfd69hH29fXF9aL15/Q49Bz03vN38+vy0PKD8jfylfE48RXxcvEX8q3y5vPb9ID1TfZ495D4q/mt+sL7Fv06/jT/EgCmAEEBLALHAsED1ASXBX8G7gZbBxAIFQjMB1kHMwd2BoYFSAQFA7sBcQDP/6j+f/2y/Av80fsa+zr6W/mT+D74l/fn9k/25vVp9d30YPT084fzd/Np86/zyvPS8zX0j/Tu9I/1/PW79j/3BfjK+F355flL+iT7jvvd+3T8zfyY/dT9Sf7W/mL/EgB3AOIAawHXAVICLAIzAlwCgQIcA4ADrQOtA3MDMgMDA9EChAJcAhsCLwJwAqsCRwNUBdMH7Qm7C48Nxg+0Es8VchgRGgsbNBsEGwcanxmaGJEXfxa8FXYV/RQNFDoSjxAOD34NhQo9By8EeAEW/7n82fqG+VT4m/dO90v30/fV95f35/ZW9iD2gvWr9FrzxvK38jvzL/Nf8+TyLfOb83T0XfUQ9oP2yfbd94D5X/oi+5P7hfyg/eD+jv/a/70AygE+AmoC4gLOA9UDvAOEBPoERwX/BOEDWAPWAvcBYgEXAFr/rv4d/k/9UPz2+1n79frS+rT6dfrL+RP5a/j69573OPes9nr1FPXB9Ib0+vMf9Jrz6PO083v0L/XK9ff10fa89274k/gd+Z/5Qfq7+mH7Rfu6+1/84vwZ/Wj9VP5q/uX+gP+y/9T/AABjAJ8AkgCQAL8A7wD9AMsBXAIYAg4CywHcAYwBZAEHAagAeQBZADsAPwFTA58EHAbRBxUKTQs7DN4OQxMqFj8XKRdfF0AYqRYrFbAUSBVlFj0WjBVuFaEUZBK2EGwP6w6vDTsJ4gOFAPn+g/zJ+cf4WfnJ+bH4xfho+5393v2F/lj/bP8k/gb8mfpx+t76QPuv+u/5ifpY+hb6Mfk++mr7H/vT+XH5wvlZ+Br3EvcS+Qj6m/oP/JD9pv7zAAgDAwUcBiMGkgUcBpgGHgbLBccFdwRuA7wBZv+L/jv+0Pyh+4r6lPmC+IP3p/Yz9573Xfdb9/L4U/mD+S75jPpn+qP5rPqr+ef5nvkU+gP60fmV+ST51fmJ+Cz5AfnR+Bb4G/gu95L22fbG9/r45vhi+ef5c/rG+pH8svzR/WT/sv///8IAUAF/AfgARQCtAGUAGgD+/o7/e/8DALf/iwAmAET/A/5H/in+qf32/AL91Psg/QgGThJvF6sX0RnPHZwcyxxDI7Etry5qI4MXZBDiCsr/0Pph+hP+Evxq+cz2sfYr+rr8nP6ZAewHOQtRCpoJUw2DEZ0OFQxADg0SKRFNDqgNdwxvBx8Ayfmo9Abxie4y7bjsq+1a7uvtIe8u8jP2v/lF/S4C2QZpCMgGrwZlB1AGMwW/BRgHnQbSA1cBeP/d/H75Hfjr9wD4efYD9bP0P/Sh9Nz1PvgK+vL66PtY/vQAQAJlApwCBwLRADL/8P3F/R79zvvg+bb4H/eF9a703fTn9PH0e/Wd9SH1zvRE9bH2WPda+JD59foo/BH9Xv2J/XX9if3//UX96/zu/FL98Py8/F38PfuO+hb6w/rR+4z8wfyv/M/60Pop+xL8U/yX/Ef+K/9r/6z/hAETAs8C+gOlBLACYQEVAOH/4v7v/cP9qf3Y/q8EqhBOGpIbIB2bIPogfx9IIxMrwyyXI2AWiw6ZCDz/uvdd9Ur23PVC9tf4iPw6AGUDuQbAB8IKUA06D4UP2RGHEv8QXgzXCM0GuwRNATMAt//r/A33gPD46zzo9uVF5eTm/Oke7mDyb/aR+q7+6QE0BHYGxgiBCuUK1wlqCOQFnAKP/2v9Cfte+cn3W/dP9j71+PTz9IX1TfY196X4efto/sEBCQUOB8oG0AXaA/4CrAJcAgwBz/8e/T76r/hG93r1sPRb9AL1QfVl9jD3p/jO+en5vPmN+ab5Pfna+cv67vwP/Un8vfsc/OH8i/2M/UD+vf69/Tb94fwy/IT7MfuR+o/5YPkc+Z34tvi9+En5j/nn+bD5cvnx+fL6afzc/Xf+I/9PAP0AUAFZAnsDOgMKAxYCBwGg/5r94vtw+6z6b/k1+dr5yfyuBJ4PKhgdG6wd1SHoInMihiboLZ4usyWdGxEWbRGPCKgA9/2Z/LH4Xfc4+xv/sgHpA2sH9giyCFUIQwnxCvYMtg7hDhYOBwxqCuEIBQhVBvED2ACe/Fz4APUa8n7vLe336yLsh+3x7xL0yPfN+qT9JwDQAdMCVQO6A9UDGwRQBPYD3wO6ApkBbQBX/8f98/xH/AH8a/s++5P7zfrn+Qv7R/yE/ef+/P/JAHsBlAECAu8ChALuAH3/l/6x/TL9ZP3F++36wfkJ+cP3ifb39ej1+vVD9pX2dfYs9sH1OPYB97v2sfb59kH3E/ij+UX7yftl+1L70PpF+9n6zfqE+3L78/o3+oX6dvoH+gz6X/qE+v/6Wfv4+rz6/fqV+2v7BPt2+un6OPuD+xT9NP8NAFgAmQBdAOP/2v+T/1P+lv0O/uX9Mv3k/JD9lACzBM0IFQyaDroSoBWAF8gahB/SIjghgh2YGroZkBaWEuUP3w31CekGPgc5B+0GWAY+BmMFjAMmAYf/cP/g/kT+9P2I/lj+QP4N/3sBdgOrA9YCrALkAXIA9v4X/uD79Pj192H4xfgs+C34TfiV+Db5iPng+dP5T/ki+TX5hfk6+fb5Lvsd/Sb/LgAeAd4BNQNIBMAEZgSIAyYDjQKiAo8BkwEWAcv/yP02/f38bvyD+0P6QPnm+Hz4gvcU90T3q/dk94j2sPbZ9iH3dPbO9kn31vYl9l72ZvZm9Un1LPaz9l72bfbA9ur26vYu94j3uvfa99L3dPeI96b3rfey9+T3/fes+O/4Ivns+d76hPtn/P38c/02/Yn9qf0O/jH+Ff7X/Yb9lf25/cf9CP4x/qL90f2E/az9yv0T/nH+V//OAJcCHAUkCEsL3w0vEBkT9xZOGt0bfxsVHPIbwBpCGUgY7BbHFC8T0BIGEioRGRAuD0UOPQzqCZMHCQUJAtL/K/6M/MP6kvm6+YD6a/tO/Jv8B/0o/ZH9+v2l/dr8Lfyn+zj7J/tz+gX6FvrX+lL7gftC+9f6k/oH++P6ZPq6+V75cvnO+dX5t/rR+0T8VP32/pQABwJyAtECCwNuA30DrwOHA7YCEwIWArkBPAHaAIEAagDK/xb/Pf6R/Y38fPvw+mf61fld+Sf5Y/lJ+SH5Qvkk+T35iPlY+Vb59Pjm+GP4NPhQ+HP4ufjR+Cf5APpi+tX6Kfs5+4P7uPuQ+7j7F/wm/Jv87vwt/Yv9YP4l/5j/DQCUAM4AuADYAOIAjwDpAM4AgwBJAPL/BACy/2z/KP+1/vT9hv35/Zf+CP9Y/wYASwGhAlIEVQZBCD0KWQwzDxkSThQ4FmkXOxg2GCUYdhckFqEUuBO/ElkRjhDfD+8Ozg1qDJQL1wnvByEGVQSfAq0AB/99/SH8wPrM+Q35uPhk+Ar4DPgb+PH3qPds9y73dver95f3pvfI9wT4Rvi0+Jr5afp6+vz6f/tG/Nj8V/36/av+y/7z/hT/sP6e/ov++f5J/+n/8/9EAD4BagJ/AkEDyAMeBAUEDgTXA0sDlQL/AfIB2gGqARYBtQCcAKgAGAAy/+r+U/7C/bD8Jvx5+5767Pkp+Sz5s/g0+Bn46/fE9/H3bvif+Nz4cviM+J/4Vvmr+cv5DfpX+lX6svq5+v/6kvuk+wX8tPwK/Qr9yv12/gf/Fv81/8b/IgCyAM4A4gDdAAAB3wDlAMIA5AAmATABBQGKADEAyv8C/8T+xv6S/qv+hv4S/xMADAFqAhsE2AX6BkUJtgumDXIPUhGCEvASQBNUE1QTtRIaErERGxFYEOkPBA9tDq8NCA3QC14KrwiJBkkFDgSpAiYBwf+P/on9bvxv+4X6j/n3+Ff4MfjI93v3YPc69+32CvcD97v2q/bH9tb2yfYo9zz3Lfe694H40vjK+ML5evpN+8z7Qfy0/E39ff2u/X39x/31/Zr++/6i/4AAIwHmAekBkwL0AosCMwLFAWkB3QDF/1X/Ev/B/nH+7/1A/RP92Pzx/Gz8wPs2+4X6CPpY+Xr42vc89xL3evYu9qf18PXu9cX1M/Zy9tH2JPdn9xH4z/h3+d/5NPqY+mP77/sF/PH7gvzu/N/8Xv0p/pT+KP9p/6X/RwC3AHsBvgFUAroCDQMwAw8DIwMBAyQDsAKdAecAsgDz/4T/Q/8c/2H/gv/3/5AArAH7AoQEnAXjBn4I2wowDeMO/BA4EvITXBXVFR8W6BX3FZgVFxVnFIITtxLdETgR0A9KDtgMVQvRCW8IwwZUBZQDTwJrAScAN/9Z/g/9nPzj+xD8vftH+0D7HfsW+2/7g/uE+zH7+vpy+wr8wPuL+/f7avxQ/AD88fw3/fn9n/5d/0IARwB5AAgBbAFhAUgBcQE6AYQBngFjAmECswI4AxkDoQOyA8MD4AJwAiAChQEuADr/lP76/fv8ofwh/Ef8F/w6/B/81Ps9+9/6Vfpy+cz4KvgX99b2Zvbe9Zn1ivVX9TD1SPWU9cb1O/aG9t72Lfda99f3yPgL+Yv5Cvpk+v36aPuQ+wH8g/wv/Xz9rP3D/Zr+m/8pAFgAvQDvAB4BdgE0AhoCSAIgAjgCwwGFAVwBIAEUAQcBjAHLAfABQAL8AjwErgUBBzIIuAlcDK0PRxIsFMsV2RZAGPkYdBkBGYQY5hfxFmEWJRUBFFESyxCBD8MNxgu5CYMHlQUlBFECLgA6/lr8H/uH+tX5LPmd+LT4K/lW+SP6j/oV+0/7fPt/+xr7jPpD+lP6t/qg+jn6wPpk+vr6k/s4/Fv8ZPzL/Cz9Qf2p/dH9F/73/cL+Xf+0/xIAugCTAZMCHwN4A6oD9gPJAxkDegJTAfL/c//B/mX+ff3X/Gz8WPwV/HD7L/ul+k36K/qm+f74jPhS+A742Peh9yj30fbs9qT2TPZD9mb2/PUQ9gf24fXe9Rv2Xvas9hz3Lvdq9+v3DPjP+OH4Xvnv+Yn6RfvO+1v8yPz2/E39T/1k/ev96/1o/uz+Uv/F/+b/PQBYAAEAX/9w/0b/h//G/w0AHwDBAH8ByQOjBjcJKwsjDqkRIBb0GVgcix1eHv0eBx+tHhgdnRukGWQYEBdYFa8TARKUEMMOIgxkCf0F0QILAED+2/v0+fH3GvcU96P3evgx+db55/m3+jn7avvN+jL6k/pC+0j72frZ+lb7NfwW/ZH9if1P/f380vyR/KT7vPr5+aT5lPmw+cT5f/p1++z8aP6H/3QABQEiAp4DDAQUBBgE8QNGBBQEAgTEA1UDVwLUAXEB2wBn/63+Gv5N/VX8f/u8+pj6WPo6+uX5n/nJ+fb5NPqK+kv6I/oX+vb5/vm3+Uz5cvl4+DH48Pd99zj3Xfec94X3pffE98T3zffk99r3X/iJ+PL4i/kH+or6cPv0+6X8Q/0h/mP+jf7O/uX+8f5r/3r/WP+F/13/Ef+P/l7+Pf4u/nn+A/9T/+n/fgBAApUFIgkjC3YNzRDYFEUZNRyEHQseFx7gHRgdVhyoGlUYJBbbFB8UdBLaEGoPHQ4VDIcJQwZtAib/ffzc+gP5Yvcz9if2Dfez+Jn5o/kK+iP6DPqc+b34ZfeV9nD2a/YI9/H2HPer99f4sPkl+nH50vhp+L73ofeY9s31y/Vh9hX34veY+AP5PPrP+3D9RP7b/lr/+v+8ACgBDAFOAZgBfwKiAkoCawIpAuEBMwLGAYYAEf+8/lj+tP3c/K/8tfyA/Fj8DfzU+7/7T/t6+hf6uPlC+cr4dfgl+A/3tfbO9hH25PU39b/0vPSP9D30fPSe9Mn0nvUl9qn29/bO9yP4cPhO+TL60vpq+2D8Pv27/a3+KP8j/1L/h/9r/63/UP+j//P/iv97/5b/wf/N/6z/jv8P/+z+HP+v/2MAHgFiAZ0C5QTmCC4Mow3WD2sTbBdMG5AdAR7yHTcdYByOG5EaPxk6F7IVZhVEFWgTbRH5D6IOMwxrCVsF3gEP/5r9zvyO+yv6gfkq+sz7tPzB/CP8g/sp+6X6uPkj+M/2yvU99t72W/dq98j3gvi3+XP6wfqU+hn65Pm6+Qz6fPlF+Xf5X/rC+9P8mv1o/rL/ewCZAVcCrAIKA8UCoAObBNYEuwQJBcsF3AbQBi0G+wV3BdoFpAXABEwD/AFuAUMBfgCq/7z+Pf73/ZH9zvxa/LX7JPtk+tv5Evki+Fv3p/ZD9p71CPWZ9Fj0TPRE9LL0WPSL9L30B/Uq9S31mPU59t72+/ZH9773k/jB+Tn6KvuT+0z8+vzP/Yb+kP7J/tD+7/5n/wP/8/7z/j//kf/o/ykAUQB3AD8A+v/V//j/dADRADABRAGvAasCYgUECfALng26D1kTghfZGlYckhzyG4kbehqPGU8ZexfSFTAU7xP/E4gSshDjDmUNdQvOCHwFOAIQAK3+x/1y/fD89Pts/IH9kv7v/g7+4fwV/NT7jvv/+k75lviC+G/5Tfp2+mf6cPqa+6r8V/2N/JP7ivo5+u368/ry+tX65PrT+/j80f0n/u/9Y/56/+7/dADYACkAWAC4AMgB4QH6ATgCnwKlA1wEBQRvAwEDvAN9A38CwwEPATAAt/85/8L+QP6J/TT9jPxY/ET89fo5+p75ZfmO+Lz39var9m/2OfZ19UL0K/SG9Nvzp/PX8+3ztPOp89TzNvRA9K70WvUV9mH2nPYf9/v3zfhn+X750PkW+j76X/of+037d/u9+xD8VfyR/PH8r/zx/GH9uf2B/Yn9Yf1U/V79+vxZ/V79vf1E/vn+z/+UAB4BKQL1BAsIkAo5C/4MSxC9FHQXrBgYGXoYeBjxF/EXMhgDF1cVRBS9FFEUXxNDEe8PdQ5ZDNwJAgeMBIcBEAAj/7f+Mf6v/Pn7Bf0B/g3+Iv2m+4D6c/oI+hf60vj490b3o/ef+Av5bfkV+SH5+Pk1+hT6uvnM+Z/5VfqF+vD6p/pr+kj6//rU+/b7N/yJ+xT88PxM/mL+Qv75/ST+9f/nAGQBSQF+AJAAXAJiA94CPwPYAscCswILA2YCSAFTATwB6gBxAK//1v4s/iH+/v0e/bD7xvqX+TD5MPlL+A33T/ak9t71ivUX9bz0yfQX9cf0gPRO9NX0DfWl9WH2V/bU9vH3CfhF+G74Evmt+dH5Gfps+qX6ePq2+gH7B/tW+477nPvE+0T8PPy0/AD9VP2n/c39Wf5T/uf+8/4N/xb/qv/y/3EAaQGTAWAC7wJBBHYGQAkQDLcNiw8LErYVnRhdGkgbDBuiGmka3BpgGxAbsBkRGBgYQRgMGDgXnRXhEzgRvQ7wC1cJewagA2sBnf+D/l38xfqP+Sf55fjh9672mPW99PDzyPPr8w70T/R29A31oPUd9hP2hPbn9vb28vZR92r3e/fY90H4MPm/+e/5XPqd+rf6QvuG+wr87Pzc/d/+6/8KAR8CvwK6A5AE2wSCBC8EBwTpAz8DAAO9AkwCagKOAqcBcQFVAVcB5ABsALf/4v78/XD9afzT+9/6Bfpi+ZX4+Pcu98X2EfYM9jX1KPUe9Wz1qPWg9Sf2L/Z39pf2wva99pf2aPaz9kT3afeo9/H3tvgn+RL6DPsU/Bz8b/wF/Wb9vv36/Sf+W/4T/uD9vv0s/kD+Xf7O/jn/Kv+5/w4A6//h/9T/mf+g/4r/p/9UADwBCQJ6AtIDrgXFBzYKFQwgDnsQOxNIFoQYXBoxG7Ab/Bt2HNwcvxyRHBIctRvuGrkahBqXGfMXvhWCE9oQuA4bDFUJUgYeBPoBUwDx/qn9bPzw+tH5A/nO93H3RPeN9i31l/Qc9Evz4fJO8pzxZvHr8K3wxvDP8OvwUvHt8bfy5vMv9ZP2zved+Gf5RvoM+8/7OPy1/DT9tP2V/g//OwD2APcBIQNhBBcFsAWCBgkHLgcCB5kGzAU7BWME0AM9Az0CjAF4Ab0A3P81/6b+K/6E/Y38yfve+mT6WPlz+Jn3Evdt9p31lvUC9VP05fP186TzYfPA89vzVPSr9N/0o/U+9gH3zfeE+DX5nPlY+t/6tvtQ/O78XP0E/iH+x/5r/4T/BgAJAOH/nv+n/4X/ev+l/07/V/+b/wYA2f/d/r/+jf6a/oD+yf4K/6D/TwDgAEUC+gO1BRsH/Qg/C8kNpxBUE0cWbBfqGMsZ3hrJG68cIB3LHLcc1RyrHKscYByQG9AZLRgbFgsUsREDD3AMmwlFB1EFdgO+AdT/+f1b/CX7y/mH+FP3PvYP9cXz0/L08S7xsfBT8DDvJO+l7obuc+6u7rTu4e5572LwnPHm8qrz8/Rl9vj3i/nw+qf7hfxf/cP9Bv7f/rv/hQB+AIkBgQJJA6oDcwRYBUsG9QYiB0MHaAcGBx8H0AbkBegEeAT9A+AC0gH4ANL/K/8x/ir9C/wn+zL6HfmW91T2tPX59EL0gvPQ8gvyfvFZ8RXxr/B/8ILwnvDQ8Crx9vGF8sjy/vPk9M31+fb/9xX5tfko+gT78vtM/MT8Q/3l/Wz+uv59/x0AaACpAFUBtAHtAXcCkwLeAhoDDQMtA2QDSQN5AzcDAQPJAiwC5AEvAfQA/QD4AF8BywHBAZACAASPBUoH3wjECsUMVA+4EegT9RUrFzEY4RgoGoAa6xoJGywb6Ro5GhEamhl9GPwW/hQsE0MRqw/9DU0M5glxCJ0GSASGAvQAFP/w/Iv7IPrm+GX3y/W69FfzsvIL8mPx8PAW8JXv0u7k7XvtXe247NHsmuzW7A/t/+0V77rv+PAj8hHzO/SR9Rz3vvcc+Uj6ifvT/Kn9Jv8iAEQBcgJGA3IEjwVpBn8HpQh3CSsKIQqtCnYKagoVCsAJ+AhMB64FZgT5AmwBWwDp/mn94Pvm+uX51/hz9wL2HvUO9GHzQvK18cPwP/CS7xzv7+697u/uEO/C7znwyPDs8aDyhPNP9H/1dfZM95v4A/kF+jT7RPz6/G39WP4v//P/kAA6AawBEQI5AuICMgNEAwEDVQPNA8YDDwTpAy0ENgT1Aw4EQwQvBF4EQATLAzQELASqA8QD7gNrBHoERgR9BLkEjwV2BqwH6QiSCkMMHQ6TEG4TLxWiFu4XARlYGf0ZUhq5GhwahhkYGccYZBjaF9EWgBX+E0QSlhDFDgUNxwrICEoHYAW/AzsC8QCi/zj+svxD+0H6Vvki+Of2N/XD8/ryUPLA8SLxWvAD8I/vJu8O71vvJO/y7lbv2u+H8GvxCvIR8//zDPXk9db2DPhn+a/64vvU/Yf/lAE3Az8FLAeCCVwLWQxqDdANQA7tDKALXgojCdAG5gQ/AyEBwf/R/R78G/oi+Mb1QPTQ8sjwuO9t743vmPD88b7zRPUo99f45Pls+kj6Zfn794j2NPXw8+TyX/IL8kTyq/IQ9A31/PVh9nX2mPZO9333UPeb90D45vi1+df6P/zN/J/9dP6o/sT+hf5b/iH+J/6b/Wj+a/8dAL0A4QHnAssDgwMKA/QCPgLjARYBfADk/yX/J/7a/sf+DP/7/n3/0P/6Aa4HBxB4FxQcwSITKNwsuC9mMow04DC/KHYeJRhNEAAJkwGE+4f12vAA8NDvNPBI8MnxH/Ko8i/zivVY+Qr8pv4hA18JTg8KEy8VAhhUGJcXmRV7EuUMogaDALr7ZfZW8oLuIevB6JHm3eW65YnmM+f26KzrwO4F8hr2PPqN/vgBCgbCCXcMqg6GD5kQGhFWESAQHw+UDaoLowhTBV8BDv2N+VL2MvMg8cnvuO+U727w9fJW9l75a/sd/nQALQNBBOoEbQUTBQ4EOQEW/1/89vni9xv1HPLf76/uk+yP6xPszuwF7UPuM+928PbxjfR/9l747/ku+6z7MvxQ/Qj+9/31/aL/sf0H/fH8kfyd+zH7nvm0+Nn4k/ZF9oz3LvcU+Or5VPun++X9FQAtAVYDNARgBWcGTAcNCMAJiwlICQ8JdQe1B3oHxQZFB3IMlxQrHjwlDSsNMFYy9zJ+M3Y1HDPKKogcOBKhCtgCv/tN9VHxX+4U7eztcPHv9JD5Cf1dADECfAXcCCQMhg67EKkTpRUtFwsXbxYFFVERVg3MB8sBJfp98wPtU+hK5InhfOBi4dTiPeXa6L/tHPKp9iz7zf8PBAsImwuMDfAODQ8TD2QOnwykCacG5wI3/yz7NPhQ9VHyx++c7efs8+0D8ATzAvaj+Uv9DwGTBL8HdwoLDMYKmgmNByoGXgR6Aaj+4vvA+OP1UvNd8Ebuqexm7JvrPutM7LLtHe/N8IPypfOA9P31GffD9+H4tvoy/D797f2B/T38HfsA+mL5pfhO9wX3Mvdm9i72BvZF9hD2xvXk9XD18/VT9X/2BvfD+Bv7jv0r/xMASAHTArIDkwTPBKUEYwSRA/sCqwKnAjUDgQLZAXIAYv+f/v79Qv4//54AzADuAG4Eug2dGvYkGyoML7kx3jEoMdIzJjg4NXcqax1YFDAN0QT1/MH3T/RH72/sr+u97mLy7vX0+E36/Pvr/VYAWANXBxAK0wzYD7kTERWSFPYSnRBjDIQHnAJ7/Kf2vfFu7UXqK+jo5uHmm+aw57npC+xZ7nvyR/bf+Wn8Kv+JARQDaAV6BuAHIwhRCJIICwgUCPAG6QXwAzYCX/8t/FP50vcK93f2PvYl9mv2qfYX91H3JvkM+r/5jfno+MD4Hfkp+er4uPiB+K/3nPbD9eb16/WM93T5k/v8/Zj/agB0ANL/qP/y/48AjwBoAMv+Wf33+8r74frZ+if7V/tv++76B/r/+AL4Hvhn9/L28fZ89vr1XPWu9MrzqvP680b1TPfg+Zj7QP3t/Xz+Ev9h/wAAEwC5ARwDHQT5BEIF3wUZBqoG1QU1Bq0FTAUkBcwESwQYBLcDWANCA3ED8ANfA3kDTgNiA9kEcAa0CO8KPQ0rED0SGBRhFe4V4hblFhIXZRf5FpAWURbBFUYVQRULFPoSmhGYEPUOGgy4CWAHVAWCA5MBeP/l/bT8LPu9+f33ovZY9ST0I/Nd8p3x/fDg7w7vcu6T7ozuK+/x7/nvQ/B/8AzxT/FI8e7wPvHe8RXye/KB87D0n/aM+Dn6cfxe/rT/xf+t/3v/df/q/pn+q/5T/sb+Tv/A/+T/UQCLADcBggHFAcEBpQHpAZQBjAG6AHQAnf9i/kH9/vsG+9r6Zvpc+n360vox+536t/n1+Kv3fvYD9bvzX/JN8f/wvvCt8OTw5PAH8RDxJPFh8ZXxDfLw8iv0DfUQ9mf3JPng+cP6ifsp/Fj8ePx5/LT8+PwW/Tf9Wv0w/pn++P5k//D/SQA1AGMAgQDbADcB9wExAhkDCgTlBDMFZQW4BVQFuwRFBB8DgwIkAp4BLwEgAU0BogKBBJEGHgjmCY0M2g9aEyAWVRhcGtEb0hw0HdkdhB2THVwdjh14Hf0cJBwHG4gZ5BeqFZsS9A7VCxEJPwYGA1sArP1U+7D5Y/hs98n2i/Yd9hH2r/WA9fj0CfTj89nz/POR8zzzKPN189bz6PPK8x/0mvQW9aX1TfYB98H3w/hJ+vT7o/yV/d/+zf/y/9//c/8sADMAtv/o/8//bAA8AeIAKwGYAZQBtwGKAfsANAGKAPP/wf8y/8n+fP64/Xz90f2f/aX9Mf1m/UX+Y/5o/or+WP4s/uH93P0d/Vb8V/ul+kP6Nvkn+C73pPY59g72zfX19QL2JfZ59kT3HfjS+KP5tvri+9P8vf2j/gz/BAA1AQECiALRAugCDQMUAwgDnAKiAU8AeP9Y/yf+UP17/DX8K/zx+9P7Bvxk/ND82vwb/b79o/75/q//DgCcAFkAu//+/tP+Xf7t/U39+Pzw/J393/4/AOkBeARuBlQJvQwlEB4T2xRJFzYZqhoQHCIdBh5lHm8eRB4zHiYe8h2ZHBEbFBpNGJ4VsBK8D9EM8gloB9IEbQI7AIb+bvzk+jr6kPn5+E/4QPj698j3R/cf9yT3R/fF9jH21PVp9Q31AfTz8kvyYPEQ8d/wxvAL8bHx6/Lq9Fb2iPcQ+Tf6fPsw/ID8Lf3j/Z7+F//Z/3YAjwFhAucCSATKBLkE3gSdBHUE5wP3AhMC1gBiAPD/N/98/uv9qv0T/dL8q/z//NX8Z/zJ+/P6gvrV+Qj5a/gY+JH3H/eT9pb1yvXK9dT1//U59nr2nfbY9gP3/PYr95H3DvhD+Lj4uvlE+gv79/sK/df9Iv6r/n//HACpAJAAfAANAXABhwFJASMBIAElATUBDQGzAGAAJgA/AOj/JgD8/zAAVgBtAGUAbABRAPj/8P+3/3P/6v7E/sf+AP/B/mL/lP8XACMBZQJGBAoGQQjCCnYN8w9OEgEUbBUaFu8WwRdOFyYXCxcyF24Xcxd4F0EXHxcxFl8VixMtEmYQXw6IDAMK/AduBrgEjwOVAocBAAAH/0f+D/3n+/36IPpA+FP3yfaL9qL1V/X99Or02vQH9Tj04/Pm8znzj/K88gLzkfPy85j1MvfS+Bn6TftO/H39Kf4d/uP92f3M/XT+6f4b/4n/GACKADoB1wELAiACUQJcAo0C4wK1AncCfwIQAt8BnQEwAYYA4f/g/tf9vvzi++76zPlW+d74XPjk94P3svd09+f2tfbi9h73Gff29u32Gvf59tb22fbJ9kv3wffz90H49Ph++TT6h/oG+zb7J/ua+/777fuq/BT9xvxF/Zb9//2p/i3/kf98AOkAQQGZAdwBEAKeAQcBDwH9AEUArP9V/y3/nv6N/qH+b/75/tX+Nf++//z/bADTAEsBDAKNAuwCxAM+BKAEDgXlBQUGLwZSBvMFbQU4BeMEWQSmA78D5wPBA3oEdgUcBkIHgghbCrQLhAw1DTYOEg+ZD9oPsA9sEOYQcRA5EJ4QVxDkD2gPwg7kDb0MowuICjwJ8QedBiwFeATrA+ICHwLDATABkADj/13/1v7+/Sz9bvyp+/X6Q/r++bz54fhc+KP3CveQ9nn2hPYd9v31z/Xt9VT2sfa19mD36fdD+AH5mfld+hP7f/to+5X7TPyU/NP8oPx0/DD80/t6+536wflE+Sb5dfi+97X3vPdg99P3X/jI9/j3Rfi5+NT4ePjw+Cf5cvnd+SX6ifre+v/6efuI+5z7VvyP/Kv8LP1U/cj9hP35/SH+Tv55/t/+2v4W/6L/6//8/x8AOwCcANAAZwG0AeQBTwLeAjADeQO8A9wDxgPpA5sDzgOcA54DgAPkA80DwwMvBFUEdQSbBLkE4QS5BMwECAWdBIwEiQS5BKkEyATUBAEF1gQhBfIEfQR/BIwEqQSpBM8ENQVRBb0FvwWcBcIFwQV8BVgFRwV3BfsFmQVPBX4FjQURBkQGIwYMBpUFjQWZBX4FvQUnBT8FgQWhBZIFhQUYBEkF+gTMBDcEawSbBE8EoAMqBNUDxAMFBAAEyQPxA3wEjATwA04DmAKjAccAAwCb/3b/Zv97/xz/v/5U/oj+uv7a/rf+sv4n/pr9lf0j/VD95vxl/M/7tfuI+5/7pvtt+0r7Kfua+wT7Vvt6+4T7vfvJ+5j7Ufs4+3T7avu1+9j7KPxn/Mb82Pz4/PD8PP0l/Q/9+/zs/MT8vvyg/GD8gPwr/OD78vsu/PD8L/3x/Lr81fwR/Uj9u/3//Qv+jf4K/0T/Ov83/1j//f+x//L/lv+n/wAAHQAfAFgAiwCjAHsANgBJAPL/1f/F/2f/oP+b/4z/a/8o/yD/9P7V/ov+R/4//jH+1/0f/tL91v01/lj+0f70/rP+Cv/z/k3/9v79/hv/cP9O/zr/UP9u/2f/h/+d/4n/1//p////HQBdAPMAwQD4AA0BrwElAmoCwAKDAqcCdwLKAjgDAQMDA4IDfgP0AvwCAAPsAlEDBgM/A0QDFwPoApgCnAKxAqICpAKnAqECYQJyAtQC1AIoA1YDaQM9A6kCHgPdApgCnwIGAvAB1wF1AXABcwHuAOUAWABTACcAIQBWAMH/rP+t/zf/I/8P/1j/+/7q/sf+zv7k/vH+DP9n/5n/t/+x/4n/XP9r/1L/IP81/1L/eP9z/1j/k/+0/3D/w//p/ykAngDnAKkANwEBAn8C/AJ+AzwEawSnBJUEzQTPBK4EdwT9A80DzgOhA/QCZQObA3sDMAO9AswCPQKNArsBKAHaAKYAOACy/yD/cf6G/ov9Tvz++7P7s/u7+xz8Ovxu/Fj8c/x2/I/83fyH/Df83vvy+2H7b/tV/PH78ftW/Mn83/wF/VL9Kv0b/Xf9A/4f/lb+fv6B/if+/v3v/ev9TP6K/sf+B/+d/3j/ZP92/8j/dwD4AAoBhwG7AXUBdgGdAZYBbAF9Af8BrAGtAdkBBALyAfMB3AHXAR0CjQLbAvkCBgNvA1YDZQONA2oDFQOsAvUBQALAAcUBwAGoAYcBlgFxAa0BrQFOAUQBVQEqAQgBoQBbANgAtwDm/xAAkACPAHkAtQC3AK4A+QD0AGYBSAF/ATkBCgHzAMYAxgB7AGoA7AC9ALAAowDt/9T/Ov9O/53/Wv9X/2H/WP+t/6r/1//y/1EAhQB5ALgAngDvANsA7wB/AdQB+gEHAgECAgJXAgYCCwIiAkcCvQJqAkgCUgJvAiQCPgLNAVwBLwFOAZ8AkgBxAHYA+P/o/5P///8OADEAQgCQAEcAAAAXAEQAZQCjAOQArQCrAIEAswDt/5n/Pv8v/13/7f/o/wkACQBPACwANQDe/+b/1P/j/3YAAQBZAG8AIQDD/2v/tP/U/8H////a/3v/7v/j/9D/k//p/2z/UP8t/6j+J/4Y/gn+1/2u/YT9vv24/UT+YP61/sz+Sv5l/o/+HP8b/7j+YP6F/t/+1f5p/8D/pf+T/47/nv/G/+v/BAD4/9f/9/9EAIEAgwBlAJ8AOQFuAWcBcwHQAR0CQwLQAXMBbAElAYoBGQHRAJkAvwD7AIsAHwAfAKX/EABtAIUA7f8VABwAKQCY/7v/HADB/w0AZP9h/yX/mf9S/wP/iP68/g7+Z/9nADT/uABgAIQEIQN+CH0IUAgkCCcJ6AZBBJUE+P5H/nL5OfXf9OT17/F/8av04fJs8iH3Wfid+Pr4GvmV9iT3BvfN9zT7D/xQ/Lv9YADUAncFLAkECqsKYwrBClEIywg3CL8HhgdJCFsHugeIB3kH5QURBogD3AH8/zL/0f2g/LT61frT+xT9lv9wAawCtQJfA2EESQUUBBYEaQMQAhT/tP0Q/Oj74PsF/aT+8gH2ArMElwWOBwYI1wlSCSQHRQTTApYBcgCJAaECZQP6Ac8BHACp/hUAwv6zAksDWQJ0ANb+af2e/LD+DP8m/7IACwItATr/VgKyALEBBwIEANAAGAD9ASIAsAIPA08ECQS5AyEGTAUCBokEvgbjBigI/AklCQUJfQlBCX0IVQn/CNEJiwk0BNQCAACT/yH8lPw1/ML7G/3I+ov97PxZ/ZH8bP4eAcIFnQn5CUwI/AKUAJL8Ev6eABgF2wVhBIYAtfvC+ED5bv3pAMgEkAXyBM0Epf+Z/Kb7hPsw/pD9E/4U/Mr75vju90/4Yfo9AAICQQTQA6kCoP+f/tz95v3g/bT/cP1V/cj62PlS+2j7Yf2b/YkBagBoAo8AmgAiAi4ChgSoA2gEnACpANH+7ADKAdUBsQGjAVf/Tv4SAFQCGQPsAlkCjQL1/9X+o/8VAFoDPQM1AJX+Xvm898b8Sf8iAqQFwgJP/lz7R/wj/38GvQl0CK8EmP0J+N/5TABCAxMF8Qe3AdT7tPgr+av7RP+zADkBaf+Q+5/54Pki/eX73QCy/wQAaf1W/G76T/sv+6T9agJZAnUELgDg/hn9Wv0xACkFmwYSBoEEEP5Z/b39aACxAiEGrQUqAU8A3v04AHYD2gNoBOkDKwO//sH/OACUAB8C+gHLAQEANv7U/VT+z/9oAH8BPwBzAe7/QgBN/wj/6P9r/+AAxwDnABv/xf0k/qD8uP4iAMsAJAN5ANT/3Pw6/2n/+QBdA9YCbAEo/5b9//z7/EQBsgO7AroA2v9l/nr9NP9yAGQENASoAUMBGAAU/60A7AP7Ax0E/gJi//X/AwDo/5cDowVUAgYAKP/Y/PL9V/++/6oB6wGM/7j+SwH3AVsCYgVMBQ8EIwPKAegCxAI8A6cB6AHa/0z+Cv+hAKgARAGWAYsAqP6j/tX+AABgALH/RP8n/lr93fzN/R7//f/G/yj/2v6S/h39v/5R/j/+RvxJ/J78//zs/Ef8yv22/Y7//f4X/0UAW/5i/gj/K/+KAHsB8v9u/Yj8efsf/Iv9Hf7l/Yb9C/5F/e78d/10/F79Cv0D/rz+4P0I/hn81/ry+pr+3/6A/1P+3Pwg+xT8u/1bAJQA3QD3/Rj9m/rh+pr9VQG8AID/7vzF+ub42fo0/WH/3P+j/5z+X/zm/Lb9xv8YAD0ADf+8/yH/Uf49/v3+Yv9z/4T/qwCo/6f/Cv/r/Uz+kf8/AaUBlQA3/+H9fP2z/UD+D/+F/+7+v/5f//T+if98/sr9OP5C/kP9//3t/Ur+c/0Z/cP8Y/0y/Ub9KP01/o/+7P62/Vz9qPyO/bX+RwC8AQsDuQEXANL/Jf/o/yEBeAGBACb/df2N/PH8CP7k/p7/X/8N/5D+Yf+f/m7/nv+P/7H/UP+X/tz9g/xH/GT8C/yN/Bb9+/yY+yX61fmo+RH60fmy+uX4pvet9YD1jvZJ99j3F/fZ9hH1F/T49GH1JveA93P3yPeR9+v3vvio+rv7vftv/FP8vPwZ/YH9jP2+/Xb+/v67/54AiwCXAND/Lf/J/mH/yQA5ApcDgwV0CCUMChDHE3YXrBomHswhzCMeJYsl4iRmIz0hgh9THNAXlhN2D9oL7AhABdsAcv2Z+jP5Zvix9oP0C/I47yju5e7C8Tz1P/n7+2b9Nf6t/+kBZwPpAw4EugI+AbL+0vyu+476M/mQ+FL4jPf79sD2AfYK9SrzPPKy8MfvfO7b7EXsx+pK6pDp4ujE537nR+c/6ILp+umi6U/q8er86y7sSe2l7m3vPvD/8IDypfNe8+vzh/Pr8n/xb++W7aDrgOvy62DtDu+Q8Y72E/5LCRkVBCHhKgAzOTv0QrlLoVN6V1xVSFDZS3hIAEVLQTM9EzkdNEcwmyyaKJ4ivxuFFKYMyAQ+/Yj38vHI7SrsAuy07WnuJPGA9Jj29PgV+S/61fpg/JL+zf9SAb8C5wXmCLsLtg6sECsSpRLaEnYSihDdDXoLCAoqCUEITQfcBDECGgCB/ub9h/xr+o742vXA87fygvIL8vjy9/PM9Pr1tvbs9/H5dvzg/tEAsALWBJcHggllCn4KMAqJCYIIpQZjBDgCx/6o/Hb6B/je9UD0yPK78WTwU+9V7WbsXOu+69Lr6+sa7Nbs1e0s7/LwIfKd89H0HPUU9VX1UvaO9r/2VfcG9yj3hPaN9pz21/Xd9Jn09/NH8nfxcPBg7yPuDe227NDrMeyd7E7t4u2Z7x32NgD2DC0ViRsvIkUoEDAbNpM+gULgP8M4ezO/MD4saigNIaIavhPDEBQQSQvaBjMC3v+X+7L1yfFV7onpKuQX49Tkt+Xi6BXv9fUE+Zf5Qvzk/pEBDARCBx4I+AbSBsAHjQgmCOkIrwk3CBoFpAK5/+j7vfiI94n17PGz7iLscup26EfoeOkL6rLq/+vW7pLxEvWP+aT9RQDzAGYC/QPjBIYF8wa5CGcIgwc9B50GwASDAqsAyP3f+ZX2OvQr8gPv5+xX61LpDueK5VvlC+Xt5KvlmeaD57Hn9uhF6rTrTezh6zXrtunI6enoWen+6S7qyeqm6qLpoeiN55/nmOYW5m3lz+Rk5L7jpuMd4vbgMOAd4JngieFP5IPsN/3uECsi1Su/N85CaknXUG5comUbYNpSKUe6RIk+BzGxJTocexKVBRX+7vn584fuY+nR5bHf2tg71VvTi9Op1fnaat/m4yntsPk4AqwHSg7oFfYZuxogHZ8hNSTZIvMi4yK6IUoekhkHFkcSagztBCT+w/h88/HtI+gw4ynfutsZ2dLXCNhN2jrdiODz42TpEu/Y9Ej6ngCNBUYJ1gxkEmEYuhs3H0Ih3yLSIK0eARyyF+IRCAujBkQAAPoi81Du4enq5Djijd/D3l7dit4z4Mrhu+RQ5q/oK+rZ7PDukfAK8hL0+fbC+Pj5z/qj/B/+8v0z/k780PqV+Kj3//W88rTw0+8y7QzrTurk6PTnz+aT5rvkFuSW4xTjRONk5CzlHenR6UPr7PKHCIUZ9yV4KsM5EEVFSxBTFlyta7xhTlTQStNMDEhlNS4uciaFH0AOKQWlBKf/H/tP71HqxeKR3IDYC9W905jSb9Yd2iPe/OTR7mH1KPqoAFsMvRMPFX0XXx23Ikgj9SLWI5gjMyE0Gp4XzxPZDlIHhAEC/R32G/Fs6+Dl/eAP24PYb9X61HrVjtf/2XjcG+FI56XtZPI09hP9fAI8CKoNIxPvGbYb5x6pHjcg2x6LG+UYeRTiESAM4QYKAcv8ofkU9VHyI+0E6kjnkOV85Zfl6+ZH57Locuq/7MLvAfIF9c72kfj++ZL7Lv4+/5UAXgLJAlYDjwEAACX/bf51/dL6bfkU+Kz1bvUi9I30CfOB8YHuPe3E7DrrS+sA6R3pKukO6mPqvO3W+5UKdRasG4MkVC8vNjE81UNGUM9Qy0dLQII+4T0+NP8qDibFIDgX/At2CAoEmf8h+WTy6uro4p7d2dnd1jvVuNMJ1eLWrNnV4ADo5O048vz4KwDUBDcIiAzeEZkV/RePGrAc0h0FHAgajRljGOEVaBHlDisKQwQV/qn4WfSn7t/qLucU5OXg/t/C4HHhHONH5T/on+oe7Z3wuvSG+DP8MAHwBq0LcQ+qEmkXihpVHQ0eGB6WHXAaexdQE+YQHwwBCEYDDv7Q9wXy4+4c6xnpUuYf5fPjeeJA4m/ioOTi5UXnqOjP6Vfsru4P8qb0Gfdh+vn7DP36/MP9dv4E/n/98vt++5n6wfkk+cz4wPgl9srzM/IV8Vvxte9Q7gjtaOw+60jprOl16T7rXOu77j/3PQOTDtgUwRwJJk0sgDPbOZhEz0iDRbVALD7NQOg5STVkLuoo8iCmF3MTBgw9BzAAzPlw8c7nLePp3d3aINcb1SLVddWd1zHc2eG7507rvPCs9aL6wf4GA5wIGgyrD3MT/BVCF0YY1hghGUEXshQJEdANZgmyBRkBHvzS9cLvoOuV55jkbuHY38Lf7d874O7geuJ65BfmZegI6gDtE/Go9Yr6qP9nBVML7hAyFZ8YTBwMHwogcyByIGsg1B04GYEURhDZC3gGFgFH/K33gvMh8KbtIOse6R3n4OXA5IvkW+U+5jbn6ehY6y3uBvGu9JL3ivlK+/381/0//rD+pf8GAFEAIQA+/3L+zvx4/EP71vlL94/11/Nd8qnxXfAD73HtCOvo6W7o4eje6fHqPe3D8679ZgnTEaUYKB9vJI4q1y8vN1o7yzsjOAEzYDDQKwsp7CMMIK8a8hNjDrEGZwOG/ln7svTe7JznouEF3hPaxNpj3LbcCt5y4Lnkluj463DwrvQn+Zf8wP8bAp4FTgiwChMMGw4pD9sPdg+iDuEN8wuxCfUGgQS2As//Xv3Y+Rb46/Um9DbzCfN28qvxdvJh87X0HfZu96D4Jfo4+6X8Df5m/58AngEaAmADHANqAxIDPQN6Ah0CmQHnAK4AtwBNAcMBDgJvAvgB/AGvAR0CGwJCAnwCgQKSAk0C3wH7AMQA8P/s/tT99vxd/KL7hPoX+l75+vhS+An4kvcP+MH3W/dW92L3QvcN9wX34/YX9xn3yfaN9gv2y/WO9Tn1sfXk9c/2ffct+O/40PkM+8/7oPwi/R/+uP5T//3/AgGjAcUBVwHHACIA7f/h/4z/Mv/v/sz+lP6a/lD/9/9yAIYAXwHuASQDKAReBfgG4gfYCHUJCQriClcL1wtZDMQM0wwHDB0MTQyxC54K/AnpCEIHdgX9A20C+QD+/pD9U/xF+xH6efmv+AL4JvfY9ln2JfaL9pL2Gfev91f4ZPgb+Ff4vvgr+Zf5fvnC+ab52vmw+W/5cvlM+Xf5z/g2+SH54fgJ+Uf5sPk5+tf6Nvu/+4P7cvsc/GL8IP2l/U/+If8OANYASAEvAtECjAPrAwoE+wPhA24DPwPdAkUCuwE1ARUAKP+U/kz++v0o/YP84/s0+4D6wvk6+er4m/gj+Gr38fbA9jP2EPaZ9Wb1XfWK9QL2NvbF9uD2M/ec9zv4+vhY+RL6rPou+5r7F/yb/Er9gv27/ab+y/7a/lL/cf+H/3j/Jv8+//7+of53/kL+9f1n/kz+Sf5b/gf/6/8MATMCewNIBHkFtAYVCFAJiwqWC3QMVg2lDZIN5A0jDs0Nqw23DVUNJQx1C3kKYwkpCOkGsgXFBLQDoQKYAdgANQDr/3X/HP+G/tn9IP2F/Bn8LfyQ+1L7Dvvp+kP76PrI+uP6svo5+rL5VvkX+cj4dfin+En5q/m/+Yv5rvns+W767voY++/7tfxe/bj9dP59/7AAYQHZAWoC2AIfA1ADzgM2BIIEXgRcBAAElAMjA6wCYwIfAtkBigGOAbQBVwESAeQAFAEHAXwAUwCAAK0AywCXAKsAwQC1AL8AcgBnAJIATgBYAMEAPwGKAbkBVAKaArUCiwL3AjMDXQOmA5YDYgPXAwwE3AOCA24DPAPKAioC3wG8AZYBNwH+ADoBDQHdAEAA6f/D/2L/e/+C/wQAXQCNAA8BegG7ATsC3gIFA58CjgK9AnACWQLuAV4CegKLAvQC1AIXA/QC2ALRAtsCtgJ6AkUCWwKYAqICLgOcAwUESwQqBF4EiwSYBJMEGATVA6EDeAPsAroCiAJrAmoC3wHQAY8B6QBeAO3/3P/o/97/1/+d/5n/dv+t/6j/MQB0AO4AGwGRAfABdALJAjwD3wM3BI4EpASvBL4EbQRyBCMEsAOPA2cDEgO7AlQCygF1AXAB/gBHAD8ABgCq/33/I/8C/63+iv4i/jj+sP4w/4X/z/+LAE0B5AF8AgoDOgM3A3MDvANPBF4ECQX5BE4FsAXEBfEFpAVtBWIFEwV9BLUDwgJgApMBNQHEADYAeP+c/h/+2/1Q/Q79wfyK/IP8cfxR/OL8Av1a/XP91/0w/qP+af/o/5AAVQH9AUACpgIQAwgD5wLYArgCGgJ4AbAAJwCT/3v/Pv86/3P/HwBxABwB1QGrAi4DoANPBD4EMQTpA4UDUQMkA+8CIQNzA4oDTgOAA1oDgAO1A5YDagMVA9sCiQJUAg4C1QGFAQABHAH9AP4AdwCPAJUAhgCVAIYAswDVAMYAAgENAa0B0gEaAoQCHwNJAwUEzwQEBe8EWwVZBfwEdwTaA4UDBgMOAk4B7gArAJH/7/7R/lv+5f1h/Rj9af1F/Xz9r/0T/q3+S/88/5P/QACfACgBoAE2AtkCqQIKAzcDIASCBLsECQXrBEIFngWUBbIFQwZDBssFuAVdBWIFTgWiBHMEJQTnA8gDjQOXA6MDmQOHA0wDDwPRAn8CBwIRAvwBpQGqATQCWwIfAk0CqQKOAsAC4gKsAnkCoQK1Ak8CJwIsAusBmAFkAXMB+AD+ALAA6gDnAMsA0wC6AF4A/f86AIoAEADe/7z/nf9L/3X/Ov9c/2L/qv+g/9f/+v8VAGgAkgBtAKYAqAASAX8BvgG8ARsCQAJtAnACogKfAsQCxwLPAt0C6gIIA+8C7AIrAy4DCwPZAisDBwR2A04DzwJqAmMCZgIfAnICDAKsAdABBALPAcMBDwHpAOIAhQAiAO7/FwDe/+n/HABdABwBIQFJAXEBsQHwARgChAKaApoCfgLRAj8DMgNdA7QD3AMMBAIEDARfBIsE4ATHBJ8EWgTmA7oDigOcA0QDwgKBAnICXgJIAv0BvgF/AaUBxgEHAckARwBHAEkAWABWAH4AqABLAXEBQwGeAZ4BmQGtAdwB5AEgAkACLgKOAncCYQJoAjYCYQKDAlcC+gHFAYABRgGtADUAMADr/5v/N//v/gz//v7v/h7/ZP/2/jL/bP81/xT/K/+J/4r/z//F/wAAWACVAP0AIAFhAYIBggFLAYoB0AHGAesByAHkAcsBtwGRAcgB1AGnAdwBCQLaAacBhAGnAd4BYwJtAtYC6AK9Ar8CmAKNArsCAAOVAj4CHwIVAjsC1QFrAWYBSAHgALAA6gC4AHIAZwBjABoA6f8uADUACAADADsAcgBtALcAqADOAAUBLwH9ABIBcQE6AVUBtAHLAawBVQFuAToBFgErAcYAJwDp/wYA3P/9/7b/m/+F/1z/p/9r/0j/eP+J/xf/B/8I/y3/bP96/8v/gv/o/14AjwAmAZMBEQJeAuwCPAN2A8gDcgSaBJoENwRoBOcDmwNbA0sDBgONAkACDgKMAVMBMAG6ADsAFQAkAOb/mf96/y//MP/b/uf+5f4K/yH/P//x/v7+WP8w/wL/+P7L/uf+6v4D/xf/Bf8b/67+pP5O/oj+8/6w/nz+iv7p/mj+cf6B/pD+g/5R/t/+YP5y/qP+FP9T/5j/lv9G/8b/LgBjAMP/9//9/3kAYwBnAK0AAgFBATcB5QDiAPsAAgH2ANoAzACyAAABAgE+AYkBWgGyAVECfwKwAnACXgJ1ApgCdwJjAlwCnAK6AloDRAM8A2IDIQPoApgC1gKOAhoCwwGTAfQADwEgAUEBIwEKAfEAXQCGACsAsgCfAKgAAAGSAFMBjgEdAlQCYwLYAjIDZANQA8YDFASgBLQELQSiBA0FHwX8BAYF4wQQBbsE4QS0BIcE+AOHAyEDkAKSAtwBtAGEAWwBVwECAQgBPAEwAd0ArQCUAJIAPwB4/6z/OgAxAEIA0v8aAH4AYAAhADEAHwCb/8r/GADj/7T/4/+8/zT/ev/p/2T/Yf9S/5P/xv/h/z0AEwA/AFEAQgCuAMEAXQFnAW4BoAFfAacBuwHrAZ0BdgGnAYIBjAHoAeYBAQK3AbUAFAFrAV8B/gCzALwATgEKATUBCgEgAakA5wDpAI0AGAAVAMr/eP/1/3wATABxANsAoQB3AHQAbwDZ/77/A//L/oX+zv6P/v79GP4k/mf+Rf5t/gP+8P2+/SD9Gf28/FL93/yN/KH88Pz//Pr8Yf1F/dT9pP2s/bb99f1K/kL+Uf7J/jf/cP8VAFgADwGgAYoBygHmAfwBUgEMAa4AwQCDABEBFgF7APr/o/9FAFMAhQCPAI7/cgCeAOn/3P97AJoA0QDVANYA3QARAWsBFgGIAO8A6gCrAN8AFAFGAUMBcQFsAbcBrAGiAdwBfwF7AdgAZwDMAMIAoQCVAOcAYwCUAHwAIQDnAL0AZQCZAG4BVQE0AWkBTQECAekA7ADQAGgAoQCyAB8DsALmBAYDbwKhArkBlAFMA6EFMAMaAlsA9v7T/g3/0P8mAEkAYv4+/dr82Pyn/WD8Ovz3+zP8mv1U/cX9DgB2ACUBwgB3AjABpwIpAh8CmwHIAdoBuwHyAYMCGgK5Ac4AQgAUASgBZQBhAXoBWv9d//f9a//Q/hUAj/6PACv+yfug+hr7V/sN/P/8Zv1k/dr8Afs9+9b7df0D/5b/Yf8P/x7/NP9e/qn+5/6v/xAAnADvAHYBXAH8//X/X/8OAHX/pgCrAH0BaQFEASMBXwGcAKEAngDCABkBfQG4AFkA+P+x/z8AkACtAPgA3AFaA00E9gJ0A/8DwwMfA5wDFASCBFYFrwRHBT4EiAPRAlMDYAL+AooD4gPTA7cDSgICAnYBqABYAc8BkgIvAgIBIP+p/q79Qv5z/5kAVwHcAQgBTv+u/gf/2/7O/nj/5P5E/0H/yf4//m/+K/6B/Zn+6/+6AAAB8AHD/9f9Wf2l/W392f22/1v+qf4X/u78rfzm/Nz9hf57/yf+lf4e/SP9bvxd/Kf9Ov70/rb9bv36/ML9oP/K/7z/hQAP/4v+Gv7f/kIAXAHnAtgANgDk/kT+8v3s/lkAdwCXAFr/vf27+1X8ePzy/Qr/JAD2/hz+YvwU/Eb8DP+H/34A2P5a/fn5Vfqr+Qb8+v0p/qX/tPyI+6j5dfqn+4r+4AAZARUA3P0E/cX7KPy5/e3/nAK+AdAAJP5l/Kn7Wfu9/p8AvwDaAEIAS/2c/DP8gv3o/xAAxAB0AK//Iv3u/Cf+m//7ABYBKwAc/vr9Mf3C/Qv+n/4I/zD/7Px9/eT+Kv9u/6X9SP0V/jD+sf1U/kL+R/7+/fn+av6+/aD9Af6g/L795v3j/5P/f/9Q/+L+DQCUAI8BLQEUARwA3v/v/e7+qP76/Sr/8P/g/n//+AA7AGMAQQFhAZQBywE1AQoBBQEXAEAAsgEvAfEA2gHVAUkBrAF/ATcDHwLoAc4AlAGTAVUBDQFbAgABwAHIAXAB0ABBAej/pgD9AAQAfwEEAqMAs/4//87+cP8NAREBWAFJAJkA/f/gAKUBQwLzAewAOgCIADIB3wFjAqgBogGRAdoA7QGhA0cCqAAh/+T+Tv5wAWMChAKDAgL/Wf0T/cH+OgAzAjYCzP29++D5Jvr++1j+0v+q/1T+cPvg++X7Jf2Q/r/+//14/CP8JPx0+2j7MPw7/hv/zP5d/vj80/u//AL9y/7U/xf/h/3u+t/5kvnF+xj9I//F/cn8Z/om+l79F/6X/vv+mP3Y+0X7uf3c/Sb/Tv84/gD8UPwW/QH+0/6j/s7+nf0z/iX/BP6L/oz9e/z7/Jj9Y/6b/03/Nv1D/cf9H/7U/8QA0ACSALz++f2b/9n/3v8DAOP/XP9X/4/+a//3/xMA2P7J/gP/T/7z/qP+zv6B/dD83/xH/LH9dv+i/6P/Tf+Q/jf/Bf9m/x0ASQD1/7L/UwCi/7H/DgCNAKMAIgAU/8v+B/9E/57/nf9X/6//0f6//nT+Wv/LAP3/TAArAD0AX/92/pX+Zf6G/mn/cf92/1X/Uv8o//7++v8wALf/n/5k/Qn9Mf3o/WD+a/8//t/8yP2A/hz/f/8EAHX/T/5O/mv9Bv7W/c782Pwt/SL92/37/nH+bP5B/5T/df+Y/9f/rP9V/wL/PP/F/+n+wf4W/zX/tQCeABcBMgEIAOj/2f8IALwAhgBAAFf/Jv/Q/ov+V//U//f/rP8v/5T+5/4DAFMAhP9y/pf+e/4m/8n+df+Y/zn/Zf7A/er9gf0E/gv+3v0Y/l79Xv1y/Vz9//27/ff9pv7Y/sn+lf5J/+X+A/7r/cP9tv0W/a38xvzk/ML9O/5x/lT+hv4p/rP9cv7V/jr+FP2v/PL7Ovw9/JT8FP2//Iz8j/zL/G78ufws/S39fvxC/Of7C/w1/Bz8qPyq/I/8mfwb/Tv99vxe/f/9Tf1j/Sf9Ff5Z/qL/UP+7/+j/jQBqALIASwGUAQgBigGZAd4BrAHLAc0BuALqAgYD0QKwAv4COgM8AxUDKANnA0cDOAP0AhYCRwLBASkC1QGcAgYCewFNARwBvAB5AF4AjQAzAPf/+v8SAKP/u//z/4gA5ADWAGwArgAtARcBbAGPAa8BAwEXARcBNwFQAU4BWAHvAIUAQAAAAOn/j//+/mz+Vv5U/uD9Xv1Z/fH8Rvzo+3X7GvuB+8v6gvom+kD5x/mS+aT52Pmp+WL51Ph6+Gj4Gvk6+Tz4VPaL9EHzvPKv8hzyM/IY8czv2+9u8PLw9/BN8d/wW/FS8XvykPMY827zHPR/9uz3Ffkm+l38+f2O/7IB/QMeCO8MzRXXHWEjIyfLLIMybzOwNbs3wjnXNKkrFSZbJE8h6BbXDRIIgAbuAcX62vX/8xf0UfHr7mLtOu9U7xHuoO4H8z76Ev5EALkEvQyKEvgU0BVbF/wY4hfHFPwRbBBkDgILowbxAvz/Rv1M+fX1RPT18nnxCPBr8JvyrvS19C/1YvfX+q/9gv91AlQHjgtVDRsOrg/aECEQOA2UCq0I4gVXAuQA6QA4ABX+rPsG+276bfjX9df1lvV/9cT00/Ta9bH22/YK9wT45/fa9/P3BPnv+Yf6evp2+lL6vfkm+ZP4sfjq+B34KPfs9r32vfZX9i72hvbo9ab0vfNM9Nj0EPYs9p/2VPhE+nX7g/w+Aj8SliLtLfovwTVQQY9FMEX6RvJQf02DPaMugylXKkAbLQ39/vH8BPjF7hLoGeRk65Pr7enq5Ejnxu2x7FHsZ+8K/FEF/QhBDSAVeh/mIvwiZSE3Ij8hYxvwE2kQnQ6rCokCUvrz9APwDOtD5BHhU97L3RLdXt3v34PiV+ap54jqZ+8P9XD7pf+cBY8LNhFkFaUXshrEG+IbVRgdFKgQ1AzcCA4ECwDV/Lf3zvKX7ZnqbujS5sTlKuey6Kvqd+zo7ujxrPUP95z3hvhV+v770/yk/Zf+kv7c/N77W/tm+ob45vW9843yY/FA75HtVe3Q7UDuFu5B7QzstutD6+3r++pr6wvsMew67d3tHfHd8fzxKfKh8XzzHvNO9IP0JvcX+Wn6/gK2E34hFyl5KIE0LDwoPmw9KUL1SKA9YjEYIwMiYRqNCIn75O9L86znoOOv263efuUI5cTj2N0P5OPn4OqO6+TwQ/sYAvUGqAtUFOMbbh0YHX0adBuSGeQVWBBNCxoHzwKq/E31a+6a6XblzOC93Ubcltzk3TvfiuHs49zmIOnF7PrwJfVD+7wA+AahClIQnhWjGW8bHBpAG4AZLRfdEh0P1Qt9BtQCbf2g+Mnyku0g6+/nZOaJ5HLlDeaS5y/rye148HDx0/SB9nH3Kfn7+/3+CP8I/k39t/yy/Ov6NvlQ90P2aPRB8qrwOfBf7ursOeuY64Dr6+m56D/oL+k96M3o6+gn6lrrB+z+7mbx1/Pp9CD1Lva19h73L/YL95T3Nfwr/E37kPs3A3kUdx5qJiIlXC9VOP45UjuKOy9JpD5OMb0ltiWfI9kOdAj1/ZQAy/Tb70/pxeao6lHoxOie4K3g1OGZ4+vkxuZx8Jz2kPsBABkI8hA5FekXUhoGHq4dWxy+GqEZXBYtE5QPxgpfBOT+TPud9vfxW+2f6vbno+Ow4uDg0OCj3gnfB+JL5MPmPOnu8B73ivy8ATAIGA6XEc4URxefGeQZhhkZGBEWNBMzD9ALDQhMA1n+0PpI9gPy8+1e7CjriekS6q7qAexB63Lso+1K7/LwI/IK9X/2yvgI+oP7G/1j/e7+Qv54/Qz9ff2V/Uf7G/s7+3v87voi+G32dfVR9B7zYPFr8Lfv4fDo8DPxYfHp8sDzVPOb8/DzmvQC9Yz1Y/bV96n4wfkQ+6L7Mf7UAlIRBxuqIhQk+y6zOWc7qj52QCNLYUSnOQQyhDGmMMEeJBZQDlcOMgMD+Rb1nu+h71rpN+hG4WXgzuBA4KLfveDs5+7rc+4T86v75QQICpkNhxK+GPQZrRrtGg4dURy3GosY/BVhE7oNqQoDBpICYPvK9kzyw+7G68Xm9uOu4FffH+Dv4FPjfeSM6L3sHPJi98j9+wIOB2wKdw/lE+gWVBlmG5kc0hziHFAclBr8FogUVhJoDvMIDgU9Ap7/b/tA+FL1DPPN8MPusu1W7Z7teu4277XvOfF980v1xfVX9mL3Wfhd+VX6Tftn/Jz8zP2//rL+1/0o/fb8afxd/O37SPp++SH5rvgk97b1x/Qx9MjyjvHB8H3w/fCd8Hjw7vDD8lXycvGn8OHyHPVX9tH2Xfnd/rsLuhbcHdgenCY7MhE3AzpCPFVGDEMCO2c15jT4M+gjShsTFH4SFQg1/iv53vM+8bLqzOel4eHcJdoW2dPYVNim2zvg1uLI5vzsm/X3+l7+dgOSCqkOPxBgEXAVFxdXFgoVORXkFFQRNA5/C/sIBAVUAEX9v/k59j/yee+J7Nvp+ujF53znNeZR5xnp6upM7PrucfK59TX3i/kR/cwAEgPTBcIJtQ3lDzMSwxP1FfYWXxfJFvgVWBTyEXEN4AkGB2kExf9R+334zfUY85Pw2+7d7QvtgOtJ6+3rRu0q7sfuDPAh8oHzefTu9GH26vh8+5X9xP4S/+j/jwC4AMv/kv71/dP8xftS+hj5vfhG95z2h/UX9dTzafKN8STxavHZ8VDyCfMf9Mb1CPfQ+UT6TftM/Nv96P/RALIGJhCXFxMbKRxrJbQq8y5cL/sznjh0MyMugSo1LH4mCR1KFgIRCQ/aBSwAyPqD+fz2t/Lr7pfqAOgd5QjjPuHJ4L/iSOS55Ibn9OzI8vz1oviu/bgCvgTGBccH+gvFDIgNdA13D9cO2Qw2DIoLkgp3B34FlAMvAdX+d/sm+Z31GPM28W/vFO2j6hPqBevI647rievk7ePux+/48JPzdPbn9+n5Jf34ALIDgwflCmgOIRDOEmYTLhROFJoTphGsDtkM4Qj7BUEB5v14+rr2RfTU8N7uw+u56fboDehb5+Ll4+Y555Lof+mB6u/sJ+8f8k71UPhX+nj8tf6C/7oAPgHIASoBsgCmAKz/QP5u/AP8WPpo+LD2mPW89Lbz4vJh88/zMfQi9C70MvW+9Wr3BPgm+QP6uvvI/Hn8u/17/0kB+AEMB+AOxxOWFekXcyAAJM4mwycSLqUvgCvgJtckLCYUH7kYeRTTEpsOFAjRBC0BEv8C+nj3ovMT7/nqr+gp5yHlz+R25lro6ukY7PrwYfVw+Pf6af+DAxQG5QdOC24Ong84EccRBRMVEXsQjQ/UDt4LowhgB+YESwHo/RP7A/mZ9A/yF/DX7mbsD+v26ozryOsQ7Pvt8e+38AjyofSH98v5mPvM/iQCzAT3BrkIRgtsDV0PrRAgEaIRcBFbEYgPzg3aC0AJhQa9Aq3/Bvz/9/T0TvLa8OntkOy+60fsRusU653rnOwP7hfv+PCw8sv00Pd2+q38fv5WAC4CPANdA4cD0APNAwYDxwLZAjMCVwHw/xf/tv2R/IX6E/lV9x32LfUw9Cn0kPPM82D0B/UE9sz2GPgO+bb6M/yp/e39lP5d/zsAQADLADUBAQMiBckKExFJFVIWWxsaIWsjtiO4JR8pdCZZIckcbBxXGo0S9Q2KChUKDgXlADr+mfyT+4v4F/fP8+byBvKu8VLxR/GL8/31tPeX+er97gHhBBkG0ghKDAMNSQ3TDQUQjw9uDnQNOg2aDJsJzwdgBcgD+AA//rf8ufpn+ST3dfXD8u7w3/A88Jrv5u7L8OXxPPNe9KL2EPmO+tP7Rf37/lEANAHlAhYEHwV2BUQG6AYOBx0HrAdRB+QGCAZqBaoEfQN9AfP+Mf0L+5H48PVT9F/z9vG58B/vMO/Y74rwifCT8QDzF/WN9mz3A/ms+kL88fzW/rAAQgK6AgMD0gOEBF8ECwNRAqMBNAHV/w7+AP1i/G/7Dfll90X2FPXC84Py5/HK8bPxcvGs8UnySvMs9LL06PUe96f4WPkq+4f8Dv5D/zEAWwAHAcUBwwGiAoYCTgNDBLYJ0w86FBAWjRc8HaQdyh8jIHYkByX3H9oc9RopHJsV6BBnDRsMCAg0Atz///zx/Nf62/gM9kr0YfP+8YTxtfFt9On1lPdx+bH9fwH/AyYFBQh2C+YL+guzDEcPlg4uDXQNLwxADKgIQgdJBa0DqwBU/jb9p/qu+KL2/fRI82vx8fHH8cDxxfGG8y/1tvbZ+Iv71v3h/3gBpQO2BJ4FogaNCCAJRglGCaUJ0gi2B/AGSQbtBP8D0wKsATUAX/+0/23+5f3c/XD9NP12/Kb8jPxd/Cj9Av3P/UP97f3K/XT+QP6j/n3/3v/xAGwAwQBfATsCLAJ7AZAA5v+R/8H+Xv7C/cz92Pw3/SX9nvwh/K77ZvuR+uT6HPoR+sH55/nC+T/5x/iQ+IH4gfiz+PT4F/k7+WL5Q/pN+sX6KvsV/Ov82f13/tf/YwCRAYYCAQMPBJ4DsgPQA7wD7ANxAywEKwXDCWMPURQ6FbwVchmVGakbGxvOHlQdJhlEFWoSVRJgDAoJWwVuA1EAt/wI/Af6zvkY+Fv3/fSg87fyoPKo8jj06vY2+bH7Df7kAZsDmQVHB94J9goqC24LPgsRDKML3QpDCWwGTgVgAkMB9P1L/CP6kPgL9zX1m/Ns8unw/u+k73XwDvHi8oH0WfZD+Ev6afyt/nIAYQL7A4EF0ga2B/sIqgmkCa4J8QjnBw8GXgRUArIAIP8I/gD9s/t1+iL5p/g8+Mb3YPex9rb22Pb694T4p/iX+aP6wvsr/N38nf1n/of/4f+fALYBiAJ+AjgC2ALxAv4CTwLBAb8AGAAo/xz+L/1n/B/7jPrE+dH4jPhp+JX4BPgM+JL3GveT9r32qfad9mn35/dA+Db5/fnp+pX73/y9/ZL+hP/L/zwBVAIjA6gD5gNZBJsETwUnBV4FFQVJBUUFEgX1BI4E8gRJBSIHzAlWDC0Oig9BECQRbxKTEwMVihWDFGUS3xA/ENYOrw2JDJUMiAxeDK0LMgvkCu8JvAjrBl4FFAQBA/ABKgFAAM3/wf58/kr+nv4C/2X+w/0t/Zf8pvxg/Jf85PyC/dv9aP4o/yX/U/+K//r/EgCb/57/ff83/9j+fv5Z/n7+wv4N/3H/AAASACcAVABPAMYApADaAMcAgwB0AG8A/QCEAQkC/wELAkICqAECAZUAUwASADr/n/5A/hL+3P1u/bb9Af6S/kn/6/9lADABLgLlAh4DkgM5BAwEEQQFBMYDXwMFA6EC1AH+AD0Aif8Z/9b+HP6a/aH88ftj+2L6gfnK+JH4BPiq98j3APgg+Dv4VfjH+An5F/nW+Mj48Phd+ZX57/lX+tD6O/uE+5D7rPsX/I/8r/w2/YT91P3e/ff9VP66/t3+Pv9k/5b/t/8DABIA7v+H/0H/rv5U/pL+av5b/rj+IP9nAK0BfALYA0oF3AaSCO4K5wykDuMQ3xKLFM0V3Rb6F5sYohjWGNwYXBhaGMgXpBalFZQU9RJ5EQIQuA78DD8LuwkICJYGAwUZBLgCIAG0/2z+Wv1a/G37o/rz+UX5J/hE98X20vU+9Sv15fSD9G/0IvQz9Fv0XvQz9CH0O/Sk9Eb14/VK9q72UfcP+JD43Pij+f75Q/qo+sv6Pfux+3b8Kv2k/UD++f67/3IAfwEqAt4CpgOkBCsFwgWOBnoHegdCB2EHMwe7BjwGDwaLBQgFwAQ2BPsCBwIrARwADP8r/ln9Hvw0+yr6M/ma+Ej4dveS9v/12fW39YD1cPWv9QL2XvbF9lr3yfcP+LT4kvlu+h373vu8/Kr9kv6T/yIA1QB2AdAB/AGkAjMDZwPYAyUEbgQjBDQELwTiA6gDXQPjAtYCKwONA7oDQwQLBVoGWwcHCU4KlAtxDS4P1RBaEtkT7BTXFb8WSxd5F6oX0Be1F3YX+xaIFrwV9BRFFA4TABKtEEwP+A1/DNUKTQmuB0MGEgXBA2oCjAF3AIX/+P5A/jf9Ffza+rz5Gvke+GX3UfYd9u710PXu9a31xfXa9bb13vXV9cX1AfYY9n720faU9wr4vvhn+TX67fr5+778Mv3D/XL+1v51/x8AoQB9Ac0BeQIXA5kD4gN9BAsFvwVGBqoGuQbUBiwHYwcYB80GYQYPBooFoATYA78CtwGFADf/Gv7J/Kb7P/op+Zn3sPai9Xf0n/PN8ljyKfKi8YHxQ/Fc8fnxN/JR8o/yFPMv84fzufPj8170RvUV9v72V/jY+aP6NPsu/Ev94P28/oL/agAmAawBIALHAmoDbwMRBMwEUwXCBQgGhwYQB4gHhgeLB0AHXAftBvEFfAUcBaUEVQQUBNID4QMOBHAEhQXrBm4I2Qk/C/kMEg/aEG4SvhP0FPwVChdnF6MXhReFFxAXnBafFiAWKxULFDET4BFBEJ0OuwwNC/8IDgf+BFEDIAICAQ0A+/4k/v38vfvc+t/52fj197r2rPVn9eX0i/Qn9C705fNN89Xy2PKS8lHyavJR8m/yYPJO8gfz5vOI9PP0TvV/9uz3IflQ+oj7Z/ws/dn9iv6J/10A6gCoAaQCoQOYBFQFwgU1BoUGiQYlBlEFzQTuA94C/wH7ALv/nP7H/Xj8Kvvk+X34Rvcz9jT19/PV8uXx4/Ag8IDvYu8O7+Xu5e7/7kDv0e+d8FHx9/Ed8xL0VfV89qD3k/iy+R37Kfxj/Tv+Jv8IAJkAXAGOASACYQLdAgoDUwOwAw4E5ANpBNEEDgVeBakFIAaCBv8GLgdFB2EHTQcuBwEHEQf9BhMHJQfjBgwHlAYIBtYFugV3BfcErAR1BEAECQTqBNoFGAdkCHwJEQvMDOYOtBBQEnITnhRmFbIVqBUWFW0UGhS5ExQTlhKhEdwQFxDlDq8NhgyZCt8ITQd+BR4DSwFd/8P9ffxy+5v6b/l3+Eb3ofZG9ZL0uPP78qHyQvLZ8Ufx1PB98E3wJfD974Pvle+a7+7vnfBv8T3ycvN39Oj1Cvdk+Kj51fqo/O/9wf6b/0AA4ABTAbIBJwJhAsUCMAORA5YDgwOgA2kDZQJBAf3/iv4F/Zf7JfpJ+Sf4JvdR9nP14PT/82vz0vJa8uPxR/Hk8FzwDfDn77/vce+K757vJfDN8E3xDfLr8vLzpPRd9aH2avdr+HL5a/pI+yj89vzC/ZD+Wv8nAEMB8AEwA9UDxwSoBUEGvAZcBxQIngi3CN8ISgmsCdIJ/AlECu4KvAq8CtUKAgsCC3sLZwtcCzwLIwv4Cm8KBAryCWUKQgoSCj8KbApzC70MQA6zDyQRgxJRFGgWtBevGPIYCxlgGawYyRdwFlUVShRZE+sSHBKoENAP6w7zDXUMagpMCDoGUgT/Af3/CP6//Fn7AvqN+Sb5dfhk98L2SPZ69br0kPMM8z/yyfGE8aXwUvDf7/vvEfBX8KfwV/FM8mHzhfSE9bP2ePe0+BT68Pr+++v8/P0b/2gAPgHcAZcCIQOwA2YEiwTWBBMFMwX3BIsEowMUA38CXwHt/7j+ff3B/Nj7o/rV+bv4Tfhs9w724PRU9EvzX/LJ8f/wgPCU74/ve+9O7zDvAe/l7hrvLO9n77PvjvB88VXyc/L68vfzy/TD9c72UPc5+Cn5PPqy+in7uvsp/CL97f1J/hn/p/9FAPEAdQH8AaICDQOCAxYEQASlBCIFvQWyBfgFywWpBZAFvAWQBf0FQwZfBpEGWQd+CPwJ4QsADvYP+xE1FPwWQhlhGtkayhvTGx0bRhpnGTEYbhcEFpEVLxX0E2USPRFkEPIOjQyxCc0GZgQ2AgEA2/0S/DT7//rF+nj67vl5+Qb5dfj79xr33vXz9Fj0DfTC8yXzWfNp8xL0fvQe9Z313/WL9jr3r/fu90D49fhq+fb5OvrI+lz7APzS/L79pv5u/4oA0AHFAvYDkwTlBE8FngXiBdUFWwXRBFIEBARuA2gCBwGIAOn/HP///f/8TvzR+9D6lPlK+Br3CfZi9b/0MPSR8x3zxPKr8jPyk/EL8ZvwL/AX8LfvB/Bw8N7wi/E/8rny5/I+873z9fNd9Nr0RvXa9Ur29vZR97z3n/gu+fb5j/pP+7r7EvzJ/Ff9i/3v/XL+Jv9V/0UAQQEOAswCcQOKA7wDZQMoA90CLQNMA2ADzgO+BOcFxwfBCnkNuA9GEg8VqRiiGycd2R0sHh0e4B26HGgbHBrNGNAXxBb/FeAUqhMrEsAQUw/KDGkJGQbEAlEAvv3K+8T5mvi9+KL44/j5+P/4rPix+Fr4lPde9mb12PS89H70bPQ49Kv0qvWL9jj3uvdI+ML4WPkI+pH65Po7++/7kvz7/CL9X/38/cv+3//WAL4BCwKuAn4DMQSqBLgE9AT3BAEF+gS2BNcEkwSLBEoEGQSUAwoDagLAAe4AAQBI/17+gv1n/JD7ifrT+cr4Pvj29kj2K/Xj8wrze/LY8QvxcPCc74rv4O697u/ubO/971zw6fBe8cnxLvKt8jHzr/M19Jn0CvWx9bD2HvfX9xn4rPgX+Zz5Avpk+j764/pw+0T8cfwP/Vz94f1x/tX+Of+Z/x0AdwBvAAYAzf/o/xIAbAChAPQAxgAIAQcCvwNQBtMI9AqsDAkPAxLkFNgWkRfBFxQYLxgzF2gWexW4FBwUbRMZE9sRTRDKDrINJww7ClIHGQQgAef+8Py7+vr4+vdQ9/H2TPcJ+Nr3Wvc690H3x/YE9tD06vMS9NP0FvUA9cb1Y/ZG9/r32fhE+XT5HPqt+mD7avtj+5j7Zfwd/YL9K/6z/oT/FQDVAIIB1wFhAk4DQAQLBZoFmgW4BecFLwYeBtYFIQZNBgwGgAX6BHAEVQMzAyED6gKTAdYAigCy/zv+Cv2I/DL8pPv/+vf6KPo9+T/5O/s3/J/7vPn29/z1CfT+8631PfeR9WLyYO9b7crsX+0S78fxMPRQ9bb1L/Yh9+P4mPq0+s363vuH/H/76/qV+1H82vzc/Jj9OP7v/vr/+wDtAZoCiwKzApgCZgLaAagBkALoAlsDhwMZBEwDIgTCB50MbhCtEgMVgBeeF4IXjxriHh0euRowFy0VVhERC88GQAWQBXoErgKOAR0C/QFQAQQC4gKfAt8Ay/5C/qL/w/9yAIsAKwHEAKf/oP+W/4r/Yv5K/XX71PhX9U3zvPKt8pjz8vNn9fn2ePhi+T/6W/vf/Kf9vP7c/yABCAE+Ai4DIAQCBGkDsAIpAuYBOQHJAHX/3/6E/VH8W/tY+kH6//qC/PT94v62/wkAmQAwAWUCbgO6A94EVgWZBUsEFAPDAXEBmf9h/c78kfzK+9H5GPlt+I74Yve89z35f/rt+nn7MPyx+wz7Tfr5+bX5Z/rL+kf7t/rk+Z75o/kY+Q75Zfnk+Xj67fqE+zP7/Ppm+n36XPoN+hr5//h8+ab5t/l++Xv5vfm4+Wn6wvvz/P79If6U/oH+n/66/qv+Ev8BAKQAJgF7AcMBcAHaAW8CbwOoA/oDOQS8BgIMSxCvEjsUshdnGaMXihmWHf4gNR7ZGNgUCxKPDdUF1gSkBAEFoQJqAgwEyAPpA2UDfASeA1MDogFQAQoBjAFnAIX/uP2d/a/8e/x7/Mj8ovsU+vH3Cfax80byL/Fq8lH0PvV39g749vkR+1b8wP1E//L//P/fAJcAsAAuAPr/dv8g/9H+hv4s/k7+dP4J/qD99vwu/EL7EfuD+1z7mPvs+2D8Pv24/dn9Yv4q/6j/HACpAMsAzAAQANX/+f6u/sH+cf5P/YD8bPye/AH8Y/uI+976Hvqk+cL5N/o/+bP5YfpH+7X7S/yl/EL8AP2B/Vv+I/14/KH8R/w4+y36xfrQ+pj6xvqw+8L70/uK/O37F/wF/AH8Yfue+pb6mfoq+mj5GPnX+Ef58vgw+YP5ivp6++j7efxo/Sz+If9s/zMABQHDAbUCwQPQA7gE5gSQBdMFVAXHBYAG9wb3ByoMZw91EWwS2xQmF6QW1xfhGiseARusFWoSpRARDtwGVQRuBFAE8wAXAZsDTwTYA3YDZgTMApMBp//7/q7+MP9A/rv9N/1G/bn88/ya/dz9LP3Q/JP7PvrC+K33aPaz9jX3Ofi++Dn6I/y7/cH+A/+y/xgADgD8/4sAqADMAAMBVwGMAToBJQHwAWgCOAIWAa0Ay//s/rT9+Py+/BT89Pum/P38AP1c/Sj9Zv16/Ub9xvx2/DP8K/y7+x/7Pfss+0L7H/tt+2f87vyW/cP9LP42/pD9Iv0a/Mn79fr7+Wj5H/kd+Yb4xfhK+dP58/rf/ET+xv72/ur+gP8b/wH+Cf05/f387Pwr/Ev81PsL/Nn7dPx0/M/7uPt++1z72fol+576UPpL+k76cPpm+ir7L/tZ+x/7R/u4+9P7TPwP/RD+Bf9OABYBbwIVA8gD5wN6BP4EigU8BngGMQdeB3kHFgd6BwwHBwdoB3UH9AemBz0KlwzIDskPIBF8E7MTRRSEFYcYbBeLFBQSohBAD00LPQiGB0gHswQ1A2sEBQTwA3oCLgMMAsEAOv+P/u/+7v4M/07/EgBnAKQA8wBuAV0BIQEPAdz/vf58/Zz8qft7+m76o/oO++j6nPu8/GP91v0O/r3+Xf+n/wEAfAB7AKQA+ACKAWsBTgFQAfQArQAzALf/RP/O/m3+ov1m/Rb95vye/N382vwE/U/9zP3r/eD9F/7m/Wb9v/x9/Pz7FfsV+0j78vrx+Zn5J/n0+Kz4Q/hI+K/4/PiV+Bz5CPlJ+RL50fg2+ND3ufct+FD4rPhP+b/5S/qo+sv6Lvu1+5/7d/vR+5X7iftI+wT7UvrV+QD67vng+Yr6Lvt/+8D7+fsJ/XD9WP4l//D/vAAJApICBgPmAxEETQRPBCEFEAUzBZIFUwXgBQgFiAXvBE8FigUtBsUGZAj4CxcN9w5LEKgSwxKkExwV6xf+GHAWjhWWE6cTpA+vDQEM2gswCtEHsAg8CBwIFgd5B18GpwS6A1ECTAJ1AeQBdgHXAZQBuwEbAkACcgLmAdIBLwEJAGT/Ov7D/XP8PPys+8r7rvt+/Hf9Df6L/rj+qv+q/77/Yf+K/3P/rf89ABwAngBtAGkBrwElAmACLQMhA+8C7AJkA2QDeQLDAfsABQEBAF3/Cf7q/Z/9pvwz/PL7EvyI+6f7nvq7+on6UPq3+eD4EPks+A/47vce+Mn3xvfB97n33fbF9jb2E/ao9bH1WPW49P30f/UM9hX3v/eM+MX4YPn9+eD56fns+b/5j/ls+Xz5hvlb+bD5+/mZ+lT7FPy5/GP9R/7n/q3/xf8BABoAjQB7AN0AcQH1AZoC6gKRA6ADfwSxBB8F4wQBBRUFKwVFBXwENgX/BE8FIgXxBUIHSwheCkELFA1+DZAOsg/1EB4SMhJMET4Q6g98DhQNJQxGC3YKkQieCMkHegdiBlcGDQaoBe0EDgRVA6kC9wJDAgYCqAFSAUYBsQH/AVIBXwEcAUwAP//n/rj+HP7m/af9rP29/T/+3f6O/4sALwF6AfUBQAIPA5ACWQLUAW4BgAE/ASoB3QCzALIAywB2AHkAGgAOALL/Vf/C/qD9Gf3l+xX7XfoW+sT5aPnU+G74AvjS90L3uvat9Rv1v/T083rzgfOd873zqvOf8yv0pvTY9CD1G/UN9Yj0gfRY9Hf0VPR59J/0EfUm9ar1fPbJ9+v4ofl6+ur70PwL/uf+rf+XANoAEgEeAYQBkQH4AVsCxQJLA6MDgQRgBTAGsQZqB+UHWwiNCH0IggjRB9EHaAcdB04GJgYDBhQGvwV2BYAFmgX+BdwGQgj4CKQJMQogC5sLVAyoDW8NUQ1jDFcMDQsjCasHVwesBrUFHAUfBeoEhwR9BBsEfgPjAi8CeAGKADsAjP8U/8v+uv6S/qn+Q/8q/2z/jv9YALb/c//A/4T/6f6N/m/+HP7w/cP9Mv34/B39Xv3f/JL8y/x4/Pz7UPx+/Gn8zvyc/FP8j/y0/EH88ft0/AT9jPwj/GL8q/yw/K/8bPyu+2j7UfvK+on6Rvpf+vP5WPm1+SH5dfid+MP4pPjA+Cj4wfdJ90b35/aE9iD2SPYT9j329PZx99f3X/hH+cz5dfok+9T7UPy5/HD9oP0Y/h3+U/4F/3H/MQAFAZMBnQKIA9cExwXrBkoH7wf2CDIJNgnVCBYJhQguCF4HNAf8Bk0HrgeTB8sItgl8CvMKXwuTC2QLOgsICkEJWgidB+QGXAYUBvEF3wXWBXcFQAXQBVEFRwWnBHUEvwNvA4oDnAPwA0oESgWBBTAGbAYEBxoHcgfVBoYFMwWxBPYD5QKuAvABDQHgAGwA9f/B/3r/P//s/ov+Df45/dX8F/yu+0P7/fqH+lX6pPkp+d74X/iv9wH3uPZX9tz1C/ax9Zv1pfXw9QL2//Uq9u31Kvaq9Uj1FPXf9DT15fTC9LD0JvUm9VL1jvXc9QL2avbd9sT2Dfdi9773bfiR+Nf4kvkw+un6fPtu/Pb8hv3U/T3+bf5O/lH+TP52/rr+AP/v/mn/KwBDAVQCCgMbBKIEHwVRBasFdwV8BUAFFwXcBPwEOgW/Bd0F3AYGCI8I8QiiCcUJ8An6CRMKtgl3CV8JzQjrCOII0givCPMIUgmlCTMK7QkICicJPgk3CcsIJgjYB0gH6AbVBq8Gpwa0BkUH2QdRCHkIaghVCBwIBgdwBpkFswQUAxYC+QA7AGT/Sf+4/pr+mf6z/hX+2/1j/SP9Mf3s/Mb8cfzv+/L7hPt6+wL7r/oj+ir61vll+cf40fjK+KT4vvjc+Lv4oviY+Fn4ufdp9+32M/bX9dD1OvUU9QX1/fRf9dX1TPZK9qb2yvZg94/33Pe+9+f34ffh99z3i/iq+Bj5IvlR+bf5DPq5+nf7mvvZ+wX8R/wE/cz9RP6z/iH/pf9gALcAFgEZARYBAgEMAZ8AsgCuABIBIAHFASIC7wJ4A/gDiQQQBTgFdwX4BYwGowbFBtcGwwYGByAHOAdcB6wHAAgKCBQIRghOCHsIwQijCK8I7giJCYIJsQlZCVoJIAndCKUItQi0CNEH5we1B1sH3wZ6BloGAwaKBUcFGgUaBSQFDgULBcIEEAUrBTEF6wSCBNUDmwM4A6wCRQJvAjQCDgJpAfkAUwBvAF4A3v9T/+T+4P6B/mL+JP5L/QX90vwo/Qf9PPya+zb7GvvS+mn6s/mB+Ur58vj3+LH4fPgv+A/4Hvjw93b3ifYJ9vz18vWK9aD10vW79fP1KvZR9oP2v/bo9vL21PYU9y33M/c49zf3Afdq98733fey9yX4O/iW+N74Afnr+Gj5+/lV+sD6M/uN+zf8Nv2f/ff93v0Y/mj+dP6o/qH+Bf9i/8D/9f8JAJwA+wBBAW4B/wEiAioCmgIBAykDPwNfA6MDoQPJA8MD5AMeBHUEQASqBDEF3wWBBZAFrgWKBVsFugUWBjQGUwYIBgcG2wWuBRcGhQaEBoUGsgbLBh8HMweGB6YHDwi8CB0JRQlyCb0JAwrlCZUJQQnnCKMIPQjEByoHMQf4BiUGEQa8BTYF0QRKBNwDOgNeAmsBNQHLADsA5P+E/wj/lP57/jP+HP7v/V/95vxz/Pb7rvtm+yn7Fvu0+nD6bPr++fj52Pk7+fL4hvgx+M73dPc498X2g/aE9nz2V/Z09s72/PYu94f3zfcF+EH4h/jH+ET5TPk2+e/4F/kn+Ur5E/kd+Sb5XfmK+Zz51fke+uj6O/uI+877Rvym/Ar9V/2a/cD9tv36/Tj+nP7G/kb/9f90AOIAdgEVAiwCbQKiAhQD9wIaA2wDfQOqA4gDrwPsAwwEMQQ+BIQE2QSsBJ0EfAR6BNkECwVqBUUFOgV0BcYFTgaTBsoGIgeIBy4IMAj8B18I7gjwCOEI0wgOCQAJQwklCb8Iwwi+CG8ICwhqB88GRAaXBe0EMQSDA94CbwKnAdsARwDe/0P/Bf+p/kL+Cf64/ZX9I/3a/NL8nPw3/Cn8M/xd/Pv7N/w9/Bf8TPzX/Cf9uP0O/o3+nv48/0H/1P8kACQA/f8iACwAbwDZ/0P/Jf8w/2z+Nf7q/bb9Jf10/Av8MPy6+2/7rfqW+lL6MPrW+YH5YPkk+db4qvg8+NP3ePcZ96v2Q/bS9YD1lvWC9Wv1ifXj9dT1KfYc94P3GPin+FP5OvrS+pr7HvwC/aX9pf0h/pz+Ef+F/0UAgADGAJMBEwKVAigDjAOoA1AEpAS2BJgEEgU/BVgFJAVjBUEGuQYiB6cH6wjHCYMKSQv8C9QMaQ0CDl4OfA4cDwEP2Q51Dk8OtA0GDaYMMwx6CxILYwqECagIswcGB0MGswUiBT4EqwPoAgECawH5ACYA5v8X/5n+F/5U/c78M/w5+z37R/vf+nX6EfrY+Yb5Vvk2+fX4yvjr+AH5ovi2+OP4Ffli+eX5+Pmg+u36QPvo+4D8k/15/ur+2v8VAN0ALwHNAfwBMQJDAoQCHAM9A9YCIwPoApoCaAL8AdUB5gFSAYUADgDK/2T/vf5M/uD9Vf2m/AH8gfux+mz6D/qt+XT5MPne+MP4mPhj+Db49fe093j3g/el90f3jffr91D4Tfgc+Z/53/mJ+u36aPv7+278zvzf/JD9J/6y/iv/nf9xAOIAOQGPAdUB4QHAAbEB2QG3AYIBfQEBAmgC7QJGA9IDAQUeBvcGnAebCG8KiQuzDOsNEA+pD2sQIBFUEUgROxEOEWwQug8fD6cO5A17DUAMKAsBCiwJ2wcJB+8FIQU5BAUDKgIlAU8Anf9E/k/9tfxT/K77GPtr+gr6rflt+Q35wPiM+P33xPck95j2M/be9RH1qfQp9ODz6PMO9GD0bPS39Cv1GPam9h73pveu+JT5Jfq++qz7wfxk/Tb+2/7Q//MAtgFgAtYCwwN9BNEEXgXBBfMFlQXlBcIFnwVqBR8FswR8BEsESgSHA90COwK2AewAMQC5/0T/Xv6b/bX8Afzy+j/6VvnN+G74I/h49zP3iPZK9gb2BPYg9hH2GvZP9pD2+/ZM90b3QPgE+X750/lT+uH6Svu/+wr8XfzQ/IL93P0S/uD+ff8hAG0ANQF2AUkBegHFAd8BFgJrAvQCtAN4BEIF0QXeBjwIjgmKCusLOA2vDuQPTRFEEgwTEhSVFGwUkhT0FIMUrBNLE6YSlxHGENUPyg72DewMBgzuCrEJvwjFB9UGBwY7BawEoQODApkBtQCd/3L+uP3c/Bn8O/s/+rf5/vig+C344feR91P3xfbK9qL21Pbv9hz3/vbo9vv2KPdJ94j3sPde+J/4YPm6+db5HPpp+qL6VPuB++f7jPwH/YH9QP7W/l3/NQDpAIQBYwIrA6EDfwTABDMFJwUsBSkF6gTUBDcEyAMSA00CcQGoAJj/Xf6Y/bz8x/sY+y36lfn0+DT4bPd09rz1MPWV9Cv0tvOd8xbzP/II8vzxavIw8vvxF/Kv8g7zWfOp8xr0PvXL9QH2R/b29m73O/g7+Rz65vpj+x78Mv11/VT+/v74/60APgFmAYUB3wHNAXYB9gDMADABVQECAZsBWwLMAqsDhwRsBcsG6geGCdoKrgx9DskPyhCaEXsScxPZE/ITHxQTFPUT3BNtEyUTnhK/EcMQ2w/3Dt0NoQxcC20KTQn0BwwH+wVOBRgEMwMsAjABdAD1/+T+Dv59/bn8UPyf+wH7evr7+S75tPg3+LD3H/cB93/2IPbX9Tj2a/bA9rP2n/bo9uX2JPeb9y/49fd3+FP5K/pm+g77nfsp/LT8VP2v/Xv+If/c/5UANwHAAV4CJAOlA1AElgQfBWUFewUTBRMFnwQ+BIoDzAJcAaEA+P/9//gAGf8j/5P9xPwf/Fn7Fvuk+TH4svQa9PXyMfNH8t7xq/Es8Qfxme/t8PnxofIZ8gHxq/Fu86XzRPTv8yT0d/S/9GL1nvUx9oP2uPZx99L4FPrV+vb7Z/wI/n/92f2f/R395Pyj/KD8mfyu/Z7+tP9MAk0GeQodDhARDxXcGI8c9x8aJHQmLydqJocl0iWoJO4iVyABHuIbTBnsF54VaBPVDwQMGgiiBIAAVfxf+Fb09fB3733uZu4j7izvUvBL8hr0L/Yj+GX53Ppq/G/+EgDaAcgDywXAB9cJQwxkDpQP9g8REF8QDRDKDsQNmQuTCZ0HVwblBA8DRgEr/07++/yT+xf6U/n29zX39Pa593/4qfhn+bL63vvz/P/9Pv+o/6f/CADvAGYBDwHJAOH/tv99/+7+aP5r/X38wPsJ+675gfiy9472BfWH82LyUfHf8A/wwu/x7/TvK/C37/HvYfBH8d7xFPIU8ofyG/Nk8xL0qPQ/9Yz1GPZM9s/26ffA+Br5JvmL+Qz6j/rn+Sv65Pme+Zv4a/hp+PD4Y/kX+vj6VvyiAcsIWhA9FKMXEh7rIqkoNi2PMyA0ezHzK0oq5Ss0KAUkWx7wGqEW3xK3EBANVAkaA63+avn09InwmuzV6MXk7eLc4xvmQueU5rnoku0i8Qj0H/ey+oL8AP9CArEGuAkcC/QMpw5dENsRWxJNE5wRThA5DkAO/AvUCUkGPQPB/8H8hfpr+ET1h/Ig8H7vNu4T7rLtPu7c7XfuDe+/8YTzAvYx+GX7eP0tAe4DQwcfChoMKg4xDyoQFBBiEE8PKA5FDOAJ7AcTBeACsf8x/dD6fPhb9qTzYPK58Fvvae457mzt7+zt7Mbtne5p8IryTPTS9Vv35fhp+sX7D/xn/Oz8AP1p/WH9n/3S/Wr+gP7e/a/9Fv3v+yr6N/oc+V/4IPib+Gf3//Ud9iX1D/Wp8yP1Z/WQ9qr3L/hP+SX7qAMbDNQTTxZpHFwjFykqL680MzxIOTI0XS4rMHkwbStTJJYdfRqIFL8RSw7uCqIEUv09+Z70YfE97fXpveUJ4lziWeWX5xvnEecj6yPwt/QP9y/6j/wS/1IB6QXwCREMywvIDXQP6RBbERkS9RCRDp0MEAxSC0sI3ARDAY79KPqV9i31YPLb76zsfOz77OrsR+3w7bPvWPDr8jH0Ofbr94r62f0ZAeYDvQW4B0sJBAroC8cMZw2OC64K0gk8CScH9wQ4ArH/nf2s+wP6Lfja9Zn0dvLE71jtgew+7Inrvera6nbrsOy+7cbvrvHh86z1Mvf496X4B/qX+3b8q/zc/MH82vyU/Mn8Rvzr/HT8fPuE+or6j/mi+Cz4TPc29vv0vfM3813yc/Oq8630cPVA+IIBMwzXE+8TyBexHaQj4ChNL0g2TTTCL+0qqS3aLsspBiN4Hb8ZZhODD9gMbQkWBP/82Pch8k3uVuo95y3jkt9w3yTi3OOy487jv+em7HDwUvMp9zP7fP2wANYFEAqDDFYNuw6eD1sRxhIkFNsTQxHHD18OPQ19CaYF4wET/pf5tfZa9Yjya+5h62LqsuoY6vXpSepL65Hrvu0v8RT1rPZt+Ln6+/4dAvIEYwdFCfEK5gtHDVUORg4SDTkL6gkeCLIG+wNjAAX9PfuV+Vr3zPTQ8qfxk/B17gvtHO3w7fjth+3I7RfvCfF48gn0G/Yn+Pj5lvoG+yb8Wf3R/Xf+2P4v/zz/cf9J/8z+EP4x/g3+IP1n/Mn7Kftm+kb6D/oU+mD5zveL9mb2A/e697/3Vfgn+df82gZcEZ0YbhfGGoYgPybWKm0wSzghNfws6CVxKdor3CSbHU8W6xJgDIIJVgeWAyL96/dg8uDsbumH6GbmVeHQ3mbhO+WA5b3kK+X/6ZbuUPKt9Rb6Ov5oAFQCegYgC9MNBQ1pDlkPqxEpEiUTfxE0DoUL9wm4B+IDRABF/XX6Dfft89jyHfEK7rDqVeld6mzrKO3J7afuAe9e8Q/1kPko/GX+RABdA0cH9Aq1DYEPcRCdEZYSzBOhEmwSgQ8ZDv4KPAkKBu0BOP5X+hT4pvS58o7wXO5R7F3qJOq56f/pz+mn6Wfq3+uE7vvvfvGB81T2vvcA+HL4pvll+1D89fwb/bv9Mv34/Mb8lvyU/Jv8v/wu+4D5fPil+Er4DvjN9y/4U/d09mn1O/YT9m/29feH+Bz5EftVBj4TzRqZGToZXiATJvIsTDNpPsU+kTRJKz4s2DJ4LHgk6xqpGA4Tiw6WC8UHQgKM+mz0SO5O6njpF+iC5Bfgsd8D4yzlquSa5NHpJ/H19dH5Bv7yAicEZwUwCqQPfRI2E2AUeBWPFaIWzxY2FhsRSw5yDHALGQh8BFcBG/1L+MXzp/G78Ezt8un25wDpuuhF6UXqN+sZ653ste9g9L34Zv3bAOEDuAWCCYANLhHiEg4UNxXvFJgTOxNlEp4QmAwyCRQGKwNO/3X7hPhQ9VryWe907ILp8efE573n+OZS5/TnFukd6oHsFe8S8pz0Mfh6+uX7qvwn/jX/BACNAEQBowBAAIn/pv6t/N77pPsR+2350Pf89oT2o/X09Kj1qvVT9Sf0nPRH9HH1lvW89Yj2PPfZ+Fj6mwExD0cZDhv9FDsZzB29JuctvzhRPfszqSjGIhkqrSnZJT8e8hjtE/cM5Qn0BYECN/2h9q3wjusU6/Hqq+iy48zgpuKy5dHkA+bq6efyk/WJ+Kb5qP8WAgsFOwdxDVgQYBK9EZYSdxF2EkQSOhTyEZMQ0A2xDIcIKQVFArMAS/xW+fz1zfVb8l3vLOyv68nqyukG6nbrv+zx7cbvAPK99ED4iPwYAOoCCgZUCS8OhBH9FKwVSBUVFFATmxMPEwsS3Q1MCr8FagOaAMX9RvqZ9yz0OfG37cbrPeo+6ULoD+jZ5wLnvef96EzqMezv7hXyf/Nt9Lv1UPjG+Qn7avs0/Yf9sv6V/l//3f6a/pH92PyI/Dz85vyl/KT7LPkW+Dv4XfdF9lP1lfZq9uz02/PR83zzRvPB9Bb2tPpJBZEQNxO7DgsNRxQgHXUlrCzENQQyBSc6HlYhTinMKOQk+B8yHQYWQQ7/C4ILugqoBToAKPjd8p/vnu+v6zPoY+WI5+zlouSD5dDrfO7g7ijtBvHX9QP6Jfvm/0cD0gSlBNkGbgkYDLMOzRAVEVQPMg7eDK0LYAq+Cb4IEQY7AuD+rfz2+Y329vRQ9c70G/Ht7jHvwPCX72fvQu/G8HjwE/MH9nz5NfrE/Bb/DwN7BR0J/QolCwoLnguJDMkM6gwuDNoKdAgNBWwDkAKyASsAVv7b+/H3a/Yr9Ynz9vG88MzuBe1Z7BrtRu287d/tH++677HwevHF81D1wvYk96n4m/iV+e76fP0h/gz/Sf6h/vv+UwCxAQYCJQGU/3L+LfzB/HH8af3K+3/7zvmM90j2UfZM9872CfaE9kv4hfzEBY8KWggoA+MJURLIGA4eICVSKnEiiRq4G5kniilaJDMhlCIBHsgTZQ3EDwsUohMTDnUGyP19+M/4gPmt9/b02PKm75Xq4uew6n3uKu746xrtQO7B6z7rXPAf98T3fvSM8k32ufjV+s39EQJKAmz/hf7LAc4F0wWSBUsGXQZBBCoB9gDGAzAGyQU3BCEBlP/f/y0BNQGbATQBtQCh/gr9bv2S/uj/af8e/7n9Bfzr+nn8Sv5X/6X9v/va+sX7xfvE/EX9Tv4E/XX7Ovo1+p76TfqK+RP5FviX9wD35fbW9ub3kfck94P2AvbP9dn2Zfdj9sb1jfYz9qH2zvZM99v4tfmS+Uv4ifgD+Yf62Psr/G/8Lfzn+0v8bf05/5UA0wALALf/0wB5AGwBRgGYAdAAB/9F/nT+JgG1BewI6gd+BfAGsQyAEMoTABeeHAEbDxiFGSsfkyB8Hp0fiiGsHxAZYxazGd4aSRkBFkoTCA8xCjIJ3AgLCEUF7QKoAfb8y/kU+Aj5kfiM9yD1zPPk8Fjvx+8H8S/wd+8s7pPupe2x7MjtVO8y8D/vru8V74/vmvE882f0mfVY9bb1BPhe+fT7+/7aAB8CNwSIBVQHwQhsCv0LkgzLCysLcgzXC0gLywoSC14KawmEB1IHFQfaBcgE4wLwAdz/hv4J/d776vnw90n3xPZn9TD0IvPf8oXyf/F+8bHxtvFQ8r/xJ/Eu8X3wR/Ep8lj0N/Xk9bv1lfZx9+34WPr4+ur7UPx1/TD+of6O/xcAVQHIARwB6AF0A0ID5AM8BHYFIwbhBMwEMweCBk4D5wP7Aw8G0whMB7QIqAijC0AKkgemCu4Lqg7nDHwPOxGlEvMQNBNeFh0YtRe7GLwXOBkBF98VQxUPFbETDhMZEH8OoQ1/DuINyQ3zC8ALLgoKCWMH4gifB94GvwXfBcMDBQP+AEgCxgABAA7+//0o/Cr7T/nN+GT4qveg9ab0J/Q99A7zsvJl8rHxZ/K19tLwivKg9cz0/var9w75nPsH/bb6mf6M/8D/CwC7ApcCHAO/AlYD6ALrA70CtwOjAUcAnACC//n+vf0T/nr/uf0O/dH7GfwL+/D6lPlN+in5Hvhx9474Rvfa97b28ffY9vv2Lvc995b3D/cB96726/UQ9gH2yvYk93n3TPfx9xv4Hfm++ED5Yvl7+sj6M/t3+w38jP0n/jb+zv6x/0sBvgGBAl0DrwQYBZAFuwaOByYIvwiYCcAJTAoYCoYKTQtTC4AL+gv1CxUMuQt1C7wL7wqdCcUJpQlyCSIJ8Qi+CLUIQQguCM0IAglmCZoJmwmLCScJRQneCWUKOwoBCogK7gq9Cg8LjwvSC6oLTQv0Cv4K1QptCmYJgggACMgGpgVWBY4EywPjAvIBFgG5/yD/hv4I/of9uvxW/Br8cvvm+hD7Gvv1+oT6U/pQ+hv6b/mU+ab5zvlP+Qn56Pg2+Qv52fhA+N/3v/el92r3iPcA+Hb3nPda90L32/YF9+f2tfbM9hz3X/ct95T35/c7+Hz4qvjc+Nb5U/pw+mH6m/rG+sj64foY+y77bftP++T6Qvui+5j71vvo+xn85fs3/Jf8J/1F/Xf9qv3//WP+t/5k/9r/agCtAHYABwFQAbcBdALMAsgDcwTjBDMFpAVBBtQGNAe3BrYGuQbuBuEGqAaZBmIGSwarBRMFDQUwBS0EvgO8A2cD3gJoAh0CQwK0AbQBEwIbAoQBOgGOAbsBKgH+AHEBIwEXAXEBigEcARsBQwG8AU0CpQHcAagBrQGAAU0BKAE3AVcBkwFcAWkBOgHvAK0APgFkASsBAgE1AbEBAQKMAZYBsQF9AY8B+gGWAUYB6QDbAI8ATACq/7L/gP8F/z/+T/41/iv+xf3W/eb9E/4L/vr9RP7Z/e/91P27/W39lv2u/Rf+Hf55/lH+j/7T/rX+2/5u/+3/UwDt/9L/3P/B/7L/qP+5/6P/jv+U/5H/Cv8b/5j/Gf+A/o3+0f7v/vn+VP5d/pD+rv7O/gf/wf7g/o/+yf6X/sn+kv7B/u/+MP8//zf/UP9O/2z/nv9x/1j/Ev/Q/rD+lf50/gj+H/69/Ur9J/3//O78yfxL/P77KfxG/Cj8Pfw//Gz8Bf0i/bn9r/0V/iT+RP44/p/+6v4+/2b/if/P/w4A4f8dACcAhgAgAWYB6gDnAFMBDAHSAYUBpQEfAlYC9wGHAY4BvAH3AdwB8AGtASoCPQJCAogCKgJbAqYCxQIMAsMBDALwAZ0B8gH8ARgCaAI9AgIC2QK/AgoD/ALsAjgDewOSAwMDqwLnAmcDxAKYAnQCbQJRAlECEAIbAmECZgKiAskC7wIoA9kCagL1AQkCPQJvAjkCLALXAfwB6QHAAeQBmgJZAlABtgHrAXsBwQDzAKEAhQDQ/1X/dgArAJT/L/8b/7z/Q/+t/yIASgBHAPP/YwBgACQAvQD7AHQAZwAVABkBagAXANUA/gB9AUEB4gASARYBiwDCAIMAigAwAFYA6/8+//7+pv5L/5r+0f6f/vf9NP3O/E/++f3E/KH8L/31/Jf8Xfz2/Mb85fte+yj9E/4p/Gf8M/6f/Uj9Of37/KD95f7C/fj8JP6G/l7+cP0E/tD+ev/H/lv+rf+x/0f+E/5lAOH/1v59//f/af8h/+H/9ACZAB7/N/+gAeIALf9GASICEgFvAKQA3gF/AUsBLgK4Ar0CrwH6AVkCZQOvAzoDxAIQA2QDPQO9Al8DVgPJApwCFgRXBIIE2AJSBL4E2APaAw0FHQU4AzQCNwSLBSEDCANFBGgF5AO+AfcCagVBBLkBIAK0BEUEywOlA9cDvAVjBFUEBgXnBaYFvQS4BCEFbQTKBDgDZQNfA6ICKgTHAuYBTgFyAqICAQPfAMABdAKHAd8AigG/AmACXwEoAaMBBQMHAbkBlgECATkBxf+j/gMBjAGPAGT/dv+J/7gAF/8PAeUA7gES/yL+1P05/6P+GvuD+8D9X/we/Dr6tfsg/Uf+2vyI/iH/WAA9/rv/N/8aAM//Yf8GAEIAXP/t/+r+wgCy/o4CWgEZAVEAuf+rAMb/hf/Q/0IAtP80AZ39uf1DAX8BcAJ2/+4AwAGdAkMBqAFhBNECDgJ+AFwB2QI+AikCagDnA0cDmAIyAdIBIQayA3sBVQFOA+EDVwIXAV8DJQTe/zr+nQETBNv+CvxvAFMFFP9f+oz97AIvATH7m/jk/+EBMPzE+UD+zQE4/Nn7ivydAmMAlAE/AYUDfgK6An4D9wFwBJYGfQZ0AiwAZP/KAkcCwgCjAMf9xvmb+p39Kf5//3QAhf+wAPr/dAJfA6YDzQMSA90FqAOXAqgAEANVAZr+ff8TAlUEnwLw/20CDAFJA1QECwNqBQcHQQE9ACD/4ALWBIQB5/6j/+kDPwH2/HX/igMYB40CVf8G/oUD0wPlAn4AkARUB0oA1v4cA2EEQggBAqX/+APTAxAAkQEsBaUDeAH//6MA0wKKAz8BzgMyAwj/IQCIA8wFpQMtAWb/kQPABKMDKwOjA7kByQDdAu4FSAYS/zX+SwHwA8wCtAE8A7EE9wGqAYH+KgLIBGgEWwO1AroAJQLCADP8JP4JAI8BngGK/un6k/ss/VX9Tvyw/t8BAgLB+Rr8WP9DARz/qvxyAFQEkgDs9uL7PAToAn39Ifrv/UsEvf7w+Bn9AAPj/778R/ypAGgA1vt9/VwB1gLE/Jj7MvyJAhcDxwDw/FMAywF2ATv+T/7oAiwH+gF+/oD/1AHr/xz/vgG3A/ABvf4t/Xv+CAFDAfj/VgPAAiACCAHw/ZcAswLVAPf/QwHZBMQCAP93/qQASAJABHMERgQxBSIC3/7B/5ACbgZhBicFFgJuAUUAQ//3AfsC1wYEBUsD5QCd/9EAtwP2Bf8DygLP/5j/aAA7ArEBlQLxAMYA5QCuAAICAwAvAl0BGAITAsEAZv8iAHgBp/9//zD/a/9iAKD/A/5H/pkA3P8xAEkBlADP/3b/5f66AC8BlABo/sz+qv+KAPr/cv66/lkA9//B/mH/jwDm/8X/HwDL/x4BUQCAALL+Cv8rAD8Aiv8M/bX+tf46/y39Wv0h/gH+D/2m+yr9XPvU+2X8R/ww/IL8cfqk+4j7Jfse/BH9Ovzg++j7jfzv+8j8hv1Z/RL8nvlR+cn8jv3P+0H8+vyp/e/7g/vZ/bL/xv+o/iH+Xf42/rP9Yv56/xgA2P5U/eD9Hv+oADsA4f/pAH8BvAE4AJ8AVADQALn/qf7//WX+4P2L/fT9TP69/eD9yf7B/kj/2f9CAFMBPQC8/3j/CAAnACj/nv5H/sb8ffwp/pj/h//J/sz+mv24/qr/7gCgAQ0BKQA+/xb/BgDz/0QAxv9r/1n+Cf5f/Q7+L/+J/6b+Cf70/XH+Xv4D/1f/pf84/qv+7/2z/v3+6f6r/sz+Uv9Y/kH91v3v/hoAIf5c/fL7b/xk/Pz74PsZ/NL67fod+8/7VPuS+0787ftu/PH8PPzU+/T7vvyn/Q3+Tv5J/lv+v/4R/6D/wP+wAF0AWwAyAVwCGwIvAWMAdwAAAX4AP/+P/sL+Vv7e/QD93Pyj/Cr9Sv2B/mf+Pv++/27/0QC8AR8DwwMEBYQG7gaOBq4HmwjPCQMKcwvwC+8MQgzQC/MK+ArpCssKbQpMCHMGpQQcAwcBLADs/lL9Yfss+eb3l/b59Bf0PPPO8Xzx4O/r7m7uxe7D7h7u+O3P7prv3+998MjwGvLj8ULyx/EQ8mTyM/J/8cfxJfGb8CjwYO/h7qXtR+wH7KLsyezm65jrL+v76q7qDuy87THumu8B8b/ypfJf9dT28vg8+H75fvv6/a7+1f66Ar8HTg8rGqYkQydKJnAoGTTbQdBNsVPiVHlMUUCFOwZACEX0QZ85Py43JS0cyBVUE1QRPw1SBtj7kfIQ7D/rxevN6c/nYeYq5oblFOaS6u3xsfby+CP6if1JA70HdAwEESsVVxZZFnkX9BnYHPEe/h5EHEoYwxV0FLISNBA8DeYJzwRE/v75avf19VT0W/Id8dvuheqU6JnqvO2a72HwlfGS8UXxPvMe92v7t/7X/2IB5wJoBeIH3AilCQQKVgpQCUAHLQZEBkgEmQE6/2P9Uvvm+Av3IPY59XDzv/Eo8G/v1O457vnstuxf7XfuIPDx8RPzAfTt9Xz2LPgI+V363fwT/jH+IP2Q/fH8yPxp/B3+hv5p//v7evji9tf40Pnf+R/5DvshAJIPiSAiJlQdPhoOIfEtGDpmS9xV2k2VNCsk0ygYN085WzKlKZQhuhR7ClUG7Qn6CMYD0/lT8DLpcudj51TikdzN3FHiwuLH3WPgfOly8dbxNvHk9GP76v4HAm8IJQ6tD+UMRAsBDLgPChXjFg0UFA5HCoUI0QWnAsoBFAEj/MDzje1e7ATsROqk517nL+bc5NPjHuaW6IHqfOz57o3xOfPi96D8zwGmAxMFWwdICX4MdA/bEZcRnQ5JCy0JkghRCLQGZQMc/oD56/Vi9C3zAPL0703sJuiC5ifnIunC6YTpo+hi6EnoqunK7PzxoPV89j/0ufOf9Pb2cviX+Rf6IvkT+HD1T/Qz9Kf1ofYo9eHzBvLy8Bfvhe1i7evtNu5i7VPrDerj6djqL+vN62bsqO/68tL4SQPFEwgfciAgGxsdvSh3NWNCm0r+TEtAjzA0KAEtlTLILz8mABpSELEGZQC3/Nj5T/N/6bzg+tvG2WXYr9c11BvSrtPV2Zvcp99E5uru+vOa9vD4lwB2BnUMDhEJGKwa4xsDGt0Zrhj4GvIamhknFJ4Q6wvOB6gBVvwv+Dr1Ju+s6U7lauP73yjczdnL2R/aLtvU3CrfkeH942jn3+vV8O71BPt3AN4EhAkxDh4TkxXdF5UYNBiEFcAThhPiEqYPiArgBFr/4Pm39VbyRe8Q7DHpgeUl4kjfyd+c4L7ht+GN4mfjauWs5zXrPe9P8/L19PbO9wL6uP1NAZwC/QHeAaoBSQEeAXABKgHb/hf8yPgY+HT2GPaj9EDzsfBj7hrt+Otr62HrW+zQ7Ujuo+3P7gXw1vHc86v2xfqy/74GSBCpHhUoTSojKcMukDnrQz5NAlPaUr1GQjpVM2w14DS+LhwkKxpHEusIOAMr//H5yfFo6afh7dw425Hb/NlY1ozSVdRH2r7e9uOq6/7z1/c/+h79QQN1CcoO+hICGPEZ5RnXF6cY9Bg3GrkYyhXhEKMNTwq6B4MCD/0R+Cv0ku9k683oEeeE5Gjgcd0n3Prca95Z4FDjF+ba6OTruO8d9OX5NgAsBRMKPg6oEgQWPxlqG7wcPh1xHJwb6hlEFyMT0g76Ce0E8wC6/CD4uPOM8Cjtu+kC5yPm3+Ve5a7lHuYI6IvpSuwz76byEPaP+YX8Z/9OAckDswXqB1wJXQpcCUcIDAcoBsQFMwX2A4oBWf4L/Lj5O/j49WX0EvJ38XDwHvAm7xPvXu9F8WzyUvPM8xT1GvbJ9iD4pPki+0/78PxSAYUIqxIsHa8krCWDI8AnYDCjOrRBgEUvQ406QjCnKpMsCS22J8gd9hSZDWMHKwPn/hv77/MB7BflC+JG4S3h397w26XZVNo73d7hV+eX7YTzl/fz+kz+BQMFCMwMhBAdFEoWoBc4F7YW2BbFFmcV+BKOEJsOLwzdCEcFSAG+/Lf3rvOL8TDvDe1r6QLmduM44uPhn+ID493iNePy5InnzOoO7xbzFfen+vD9PgFjBb0KFQ/DEscToBMjEs4RNxKMEscRZA7tCQMFZwGp/c/6tPeF9CLx5+xP6Z7m/uQK5ETjsOLj4h7jUuSD5QXoOeuJ7oTw4vFj9OP2PvqQ/T8A2QEpA18EXQV/BjcI6whPCZIIegeLBWkDZAFn/1v+1fxD+xz5GfcP9VH0JvRn9D30zfOJ83zzRPSt9QH2T/aJ9iT3OPd3+Eb6zfw2AJgEQwsyEyUaMR6vH+Yg+CTlK+YzZDmXOqA2tTBuKmEouigLKS4mcCA7GcQSsA1wCeAF1QFg/E327vDM7Erqt+iK5vzkDOTf427k7+Ur6F3rUe9E8r/05/aH+Fr6nvzy/zMDdAWrBTAFxwSBBDIEXwReBFQEZQO2AWIA5P/P/zX/JP7p/IT78PoH+yz7g/ur+zT7j/k8+C34wvgI+v35ePiu9tv0LfPf8iXzaPRT9Vj1ivTq8yH0D/Xu9Yf3EPmP+db4LPic9773ufeS99j3Tfjk9373r/fT9xj4bvgT+QX6PPpS+oH5bPmA+TL6BPuF/Fn9WP6F/p7+5/5z//3/KwC4AJQB/QG2AYMAYwBiAAYAqP81/9/+dP7v/Rj9dvxj+6P6Rvrz+dH5v/nq+Zr5W/k2+ff4/vh5+VX6ufr/+r76xvqq+sD6OPvy+5L8nf3c/d79Jv5n/lD/5v8uAMsAzADqAP4AIwFrAV0BCgH0ABQBfQEaAoYCBQNxA28D1QNuBEkF1gWxBqYHVggUCcMJFQp0ChELmQv4CzQMDAyoC5YL2QuoC3gL7ApiClAJbAgXCMIHZgfXBgoG3AQEBCsDdAKKAQMBDgBu/1n+9fyE+/n5nfhM9/D1PPWe9BHzrPGv8PHvcu+S77rvMO+07rnuUe/x78vwZvE/8nLzvPSs9Zj2c/dI+ET5ffqd+4X8t/zN/E/9zP3W/ST+F/5W/qb+T/4d/qr9QP32/Gr8x/sY+136Fvrn+Y/5GPmg+B74kvdl91v3m/eD9zf3wPa19gv3Vvf49yr4V/hy+HX40fgf+dv5U/o6+gj69Pkq+oz6J/tK+0X7f/uk+3D7dfvx+0H8Jvwm/Ez8c/wy/Dr8m/zX/J/9BP66/sb+Q/9AAO8AjAH3AS4C4gJYAwUEXgRIBJYEEgW6BYAG3AauB98IlQmQClwLQwyzDDANlg0JDjkOQw5KDmYOIg6gDU4N8QyiDFYMQgxbDCwM+AtfC0kK5gnoCa8JNAnfCFUIygdPB4UGJgbMBcwEUARuA44ClgHVAOH/rf71/UX9m/zd++v6TvrM+TP5V/g0+Nz3Ufen9pP2mPYa94L32Pfm9xn4pfh5+VX6yvvS/C/9z/3s/oT/CADLAHoBJwKwAtgCHgNlAyoEVASiBEkFCgZTBhsGpgWcBZ4FfgWBBccFvQUBBX0E+ANsA0YDKAPdAhACogFGAbcADgBw/1X/K/9a/73+iv5b/jX+RP7D/ej9J/7X/T791fyj/ND8vvw8/BX8q/tH+0D7hvsz++76tPpx+iD6jfma+d37/P2N/rD8c/hf9ZL0Yfbg+Rv9gf4F/BH44PSt9Zn59P7DA8UGegeGBbYCCAETAgEFagcVCOIHBAfTBX8EEgUWBvgGiwcjCJcI2AgsCa8IiwfeBjkGhQXKBEoE2APzAxQEdQRyBYMFNgXjBCsFAgbmBikIeAkKC/wL/AvSC8ML5QzODesOXRDzEGsQeQ/UDmEOQw6aDmQOjQ3ZC+UJiAgACOgHSgeiBicFUQMoAbn//P9EAEAAiv+f/hn91vvf+rT6K/zX/Sv+Nv6q/WT9Pf5T/7QB3AODBa0FWwXXBHoEIgXLBbIGWAafBAYDDwH3/1j/Pv+D/oL9bvxP+wj6CPlC+SH5Wvgy9yz27/SD9G30XfRo9KzzlvJb8rLy4vLe8zz1mPWy9dD1evZq9w743feH+GX5I/qq+jn76vs1/Nn7kvtH+zP7Nvv/+kr7hvvu+jT6rvnv+XP66/pc+xX8h/yq/XT+0f4t/2b/FQDOAMgBIQMoBOUE4wTtBB8FRAW/BT8GhAZ/BvcGvQeEB78IgwxlEQcVnxSCE8MT5Ra5Gv8fKiXYJoYjrB2/GzsecCAHH6YbXBipFCARoA3EDMUL7weTAfH7Y/ms+LX3IPYl8w/wte3469Trwe10757vQe797Trvn/G/8lH0Mfbz9/D4L/p9/Hr/SwHoAakC8AM2BeQF8AYXCEcIgAhWCGwIPAhOCI4HnQZGBiAGLQY8BsQFUwV4BEcDawGeADUA+P+t/1r/iv4C/d776Pp5++X7FPyi+4b7OPtX+3/74/tf/G78NfzF+5/7mvu2+wP8/PuJ++36S/qZ+T35+fh0+R35OfgH+M33xPfQ90j4yvhy+YH53Piz+OX4Jvme+d/5D/oD+pz5bfmh+c/65/uD/Hj85/wg/Y799f26/tH+X/+s/4MApgBQAeEBCwKIAm8CxwIeA4ADFgSfBC4FeAbnCicRGhelGMMXdRgrHPkgGibEK2Au2itlJjEj+yRsJgskwx+TGykX2BK+EFAQ3g6lCcgBZfv/9+X2V/Yj9RDyKe1j6ULom+nn6h7rVevG62LtW+8Q8qv0s/ZJ9yf4yPo7/oIBGgNSBLUFogfxCNsJbwqACqcJtAkECkkKoAkZCFgGkARCA6cC4AJSAuIAc/9P/rv9V/0t/Qj8xPm0+J/40vjM+Kf4Wfgn+HD4z/gH+hD7Hfvw+jH7nvwn/nT+e/7N/Xz9B/07/Yf9qv1m/d/82/u7+jz6cfnM+Kv34vZU9uj1K/V29LPzgvPX8wH0UfT38/nzufMa9Gn1ZfbK9sr2RPfX98L4d/mb+mv72Pv0+2L8vv0c/4r/Zv9f/2H/Z/8wABcBKgGmAL7/cP9u/1X/S/////P/BAJpBlMNAhNiFRMW0BfEG1ogkiaPK8ItXivuJzQnbSiXKBMlViG/HH8YXRXpFDsT/w6yCEgC2Py4+BD2WPTo8VHteunR5yHogujo51fnBeib6d/rT+6y8LryDvS09ZP4Ffzx/nwANgLJA+oFJggfCnsLXwtsCvQJiwqVCkkKKAlFBwEFcQOrApsBPv+F/M36s/k7+er4k/jO9+v1XvRc8yb07vQP9dX03/Qq9ZP1VfdZ+Tz6Mvrf+mz8Nv4XACoBpQFpARsBfwGiAZYBkwEUAWoAZ//a/ob+d/0h/LL6hvn5+Bn4hfd89vD1V/WH9QH2ZvY09hX2vPUJ9l72KPdu9/v3lfjm+Ij5Xfon+2r7K/ye/Dv9pP0I/uX+Sf+5/wsARAAIAKL/Sf+j/pT+wf48/zL/JgDUAt4HuQ0FEqgUURZFGWsdSyIBKMwqXitLKQ4oKicsJtoktSFfHaAYLRW0En0Qlw0oCQkEgf7n+fD10/K876TsTel354HnXejJ6DvpPul760DudfFC9G32hvh9+iD92f/9AVQE4gX8BlgIhgrHDP8NGA4MDgwO4g0zDS8MmQrJCKAG1wQoA+kB0P91/Vv7j/m7+B74kveI90f3+fac9o32W/dU+J34yPjK+Pj5G/tV/B79bP78/1EAqQAtATsC2AIyAxoD3gILAgcBfgApALH/Df9C/rL8cvvB+pT5WfiD97H2o/VT9LHzbvOn8wn0nvT+9DD1WvX89YT2b/dA+Hr4vvhy+TL60Pol+6T7tfst/Ef89fx//aT9C/7M/gj/A//V/nf+8v0T/V/8oPy5/LX8y/xk/YAAtwXtC5QQhxPpFcoYtB1/IlIocitTLLkqjSjoJ6cn2SVOIVscjRc6FKERog5zCw4HMwI5/bT42PTi8aDulOsy6ZToLuiw6I3o7OiT6W3sBO+r8dvzcPbH+AH8Qf/9AYIDLgXVBmUI8gnBCxwNjQ21DaYNvwxNDDULRgkFBocDrQEpADj+lPz3+hz5U/fX9Yf1PvUb9aj08vPU8yz05fRO9Yn1L/bP9l33rPjk+cz7bv3i/nsApQF8AhIDqgMTBA8E8QPsAwADJAJhAcQAZ//g/Wn8Zvsr+o74HPfo9R71b/QU8/HxO/Fr8ZrxUfIH8zv08fSl9bX2svc2+UT62vq1+xr8uvxZ/UD+vf7L/gL/3f5G/2H/jv+3/+P/tP8A/wv+m/yN+6L6nvp/+rL6KPzy/3YFmgpvDRIQeBP4F7UcRSFyJYUnOScEJXYkiiRyI7cfERtWF9YTKhEsDqoLGQhfBI8At/zo+Cj1xfHm7pfsB+sk6j/qE+q56d/q3uxH7+TwpvIA9X33hPoX/hIBkgO9BEEG9AdHCrcL4gx+DfANEw5ADtAN6AxTCzsJGwfFBFkChQDb/t/81Ppn+Tf4Ovdt9of1S/X29Hv0XvSP9AP1qPUH9rr2lvf299T4JfqE+0b8Gf0f/sf+tP+BAMYAXgAaAJP/cP93/kj96/yD/PH74fri+Tv5PvgS98j14PRR9FfzZ/Jb8QLxDvEE8Z3xAfJf8ojy+/Kk83T0afXh9YT2DffS9674d/lJ+qr6cPtv/EH92f0V/qn+y/4j/9r+1v4s/kr9vvyZ/Kv8+/ys/UIAAQWIChgOwQ8yEhUXuBukHhIibyTDJF4jMCJuIqEhEh5nGbAWphSwEV8O9Ao9CDAFxgEX/tj58/Wo8szvj+0069zpQems6SPpf+kw6zLuqO+Y8Izym/Vc+Lb68Py3/x0CMgRdBv4HaQlxCgoLOQz7DCYNMA21DJ0Lngr6CGYHNgVBA2IBnv/r/Zv8R/uJ+lT5Rvie94D3Ovfb9sX2F/eH99z3T/j/+Hn5dfqG+2z8aP1Y/kb/JwAoAeEBVAI0AhMChAFfAbIArP+L/qz9vvzO+/r65/nM+IL3NvZx9aT0kfPQ8gHyR/GC8Jnw+PAf8YnwXPB98HrxuvHT8VvyZvNo9Bf1j/U99lj3MvjK+Lf5Sfru+oj7Lfzs/I79Ov58/oD+C/6g/Sz9LP1z/Tv+dP5y/mz/ugKwB8ALVQ2gDmISbxcYGycdNyBLIkohLyDgIKghIyCuG4EYfReRFT0SpA7XC6AJwQYeBK0ARv2X+aL2dPRl8m7wOO917iPuD+6u7kbwLPGO8XbyMfR89tD38vjX+pf8u/0h/64ATQLAAkIDXASpBdEFjwVJBqUGxAX+BDIEqgNDAhkBKwAv///9SP3O/M38/vtt+wH72vrN+lX6sfo7+6n7Rfv4+q77fvzr/Gb9Tv54/5b/7f8VAJQAzABGAUsBsACpAIUAUv/1/U/9Cv1V/Ff7mPoR+kL5WvhR95P2t/Uh9Yb0u/Me8y3zNPO08xr0avSX9Lz0ZPWR9TT2lfYS9/j3tvj++Cb58/mJ+t/6GvuQ+3b8Uv1f/dT9uv60/xwAAADk/6D/h/8S/3z+cv7d/sf+i/7B/gAAlwKQBTII0QkbCwQOURG2EwkWoBjYGYgZ5hjqGPQYYBcPFWMTexLuELgOWwz7CgEKpQiMBtoDUgHE/qb8vPqE+Dv2mvSY84bzMvNF83Xz4PMQ9IH0dfWY9l332veV+Of5nfrm+kj75fvk/Nb9x/7D/20AVwHwAYgC2QLJAqwCkAK6ArECAQKRAW4B+QDGALwAXQC2/1D/Kv8y/2b/qP/3/ysARQDMANYA7gDVADIBKwF9AXUB3QBoAEkAJgDX/1X/G/+3/jP+ZP3s/IX8Nfyr+wT7Efo7+Q74Pfen9gn2PPWc9H70cfQx9DD00PSs9Wb2gfYB9773Rvhw+G34cPjc+Br5U/mc+Tf6DPuz+wj8kvxh/Qj+xP5X/34AvgFPAgADTgO+A0AEXwQ+BG0EOwR5A6sC+AGMAREB5ACBAPr/1/8fAAcBQAJEA58EdQaDCLoK/AyjD7YRuRLDEksT+hOvEzITPxLsEYQRpxDpD8wO/Q3tDHgLYwkkB8UEgQKeAPH+Cf04+4j5Svg391T2oPVD9Zz0CPQD9BL0CPRW9Ij0FvWF9dz1YPY/9zz4tvgk+Tr6yPpH+xD80PxB/TL94/0B/kT+Bf85/wX/0/4K/wD/x/4o/27///9PAHIAuADQAGwB4QFjAt0CKwNgA2cDUQMzAzgDFQOzAhYCjwEKAW8Alv/G/mz+p/0d/Y38JPyw+xD72fpi+gX6Yvlj+Sb5Rvi39y339va69pP2WfZh9s/2TveX98T3Q/iJ+H34r/gh+WL54vlS+vr6yfsA/Jf8PP3W/Vb+L//f/4UA0wAAAQMBPgE1AWQBigF1AVIBQQHRACIATv/d/ov+Df7r/fr9+f0T/jH+PP/WADEClgOGBa4HWwouDYMPLhGgEjgUIBU+FSYVxxQGFCUTYhJFESsQJw9hDrINzwx2CyQKqgggB5kFCQQVAl4AvP5P/Tz8aPu0+gL6g/lF+Wf5C/ne+Kf40fiD+Y35U/ld+b35KvpO+jz6PPp9+oX6ivof+537mPvt+yv82Pzl/Y/+G//U/0UA0wAXAVoBvgHeAcAB7QFFAmoCxwLjAmADDgRXBJUEJAVABTYFRwUuBRwF1ATxA+wCYwJ4AWwAKv8O/pb9FP0Z/I37Uvsp+wH7evr2+WX5CPng+J/4NPjw9633APcB9y33z/au9g/3bPeZ9/H3N/iB+Cv55/mT+vP6b/sL/G/81/z2/A/9Gf0n/T79hP3g/eP9O/6P/uL+Rv9S/4D//P84AKkA3QDEAOAA+ABDAekAEgH9AAMBMgFiAf8BiAKwA4sEmgXUBhoIyglfC5QNTA9xEI0R4hKkE1QUchSpFEwU1BOCE5sSpBGJEGgPRQ4ZDaULNQqMCFIH+wXABEQDbQKiAcwA1P/2/ov9ufxk/ML7LPtp+uf5pPnO+RL6Efrn+fH5S/o/+lr6jvq5+vD66/ox+2j7z/v2+0T8y/yO/VT+v/4M/yP/3//6/+7/JgByAM4ABQFQAWEBgAETArMC/gIaA30D/QNGBKcEDgTBA74D3QNiA0MCyAFXAdsARQB//8b+Nf6W/Rb9D/y2+0f7Efu5+k36I/oU+pz5RfkV+f/4T/jT98n3ePc39y73Qffx9i73Ifc49x73DfcS92/3cfd79+T3Hfhf+Kr4Fflq+fT5bPrt+lH79Psu/OH8wP1o/h7/vP+uAJYBSALtAjoDewNvA40DxANWA0IDmQN7AyED+wJdA40DFgRhBNwEqAUEB5QIvQnECsML0wzhDWsOiw7WDs0O6g7lDtkOmg5BDgIO0g1sDS4NhAx/C14K6wlICTgIUgcFBmwFyAR6BG8DfgK2AZ4BvwAIAET/sv41/tv9f/3w/C78pPux+3r7J/t/+tD5YPkN+db4kPgt+Af4fPia+If4wvjl+Lf5U/qv+j77gfvM+4r8DP33/cH+eP8mABQBEQL3AvADsQSQBS0Gbga2BhEHfwe9B50HdwcGB+kGjgYyBpQFoASgAzgDtAFbAC3/TP4g/TL8l/ui+o35sfj499P3C/dK9on1GfUO9Ivz/fLY8pbymfKy8pfy9vI88+XzfPRu9fz1YPYN9+f3gvif+Hb5bPrm+tb77vzh/YD+Sf8BAFMA8wBpATsCwgL3AnMDlAPDA60DkQM9AwsD7wIGA7AC8QL3AlgD4QOOBCYF2wUdB5wIbwrPCygNNw7MDp4PhBDpEPoQ9RDXEAwRJxGUEBsQRA8ID4YOtQ1rDPQK9wmyCAUIuwaeBZgEiAPUAv8BIQEVAHH/0P5F/n/9kvyN+w77dfpr+jn6y/mF+UT5O/kk+cL4cPjs9wD4Cfi+93b3ZPfi90X4rvjw+Ij5UPoE+537PfzO/NL9ef5Y/08A9AD4AdMCBwT0BNUFRAYTB40H5wfPB1YIgwhdCB8ItQcfB8gGBQYNBZ8E2AP2AgkCOQFyAHD/pv6H/aH81vtF+9D5MPnT92r33vZF9uT1ZPUb9cn03fSp9LX0j/Sk9Jr0+fRL9Tf1ZvUM9lL2+fZd90H4Kfkb+uH6bfvW+4f8BP1t/e/9cv4//5v//P/LAPEAZAE8AS0BvQAkACcACwDz/zEAXQA4AHwApgASASUCRwOqBKEFSgfFCekL9Q1ODzQQSBHPEVMSKBIXEqkRnxEuEcYQJhAmD9cOOw6cDTgMxApjCSgIVwe4BXoEXwMCAkkBfAAAAHr/cv7F/UH9Cv2H/Pf7gvrH+Y35Fflz+OT3S/dn91b3BfdI9t71nfXD9dr18vUO9gT2MfaQ9kv38/ea+En5PPoq+378J/3t/en+MAAgAfgBxwKmA+oEzgWOBjYHUQezByEIKwghCOoHTAeHBhcGRwWpBPUDRgO/AvMB0wATAIr/vf7I/QT9ZPyG+yn7DPp8+fX4Y/jw98n2hPbe9Sr15PTM9GP0PfR+9ID0+PQ69V31lvX/9Wb2k/aQ9hz3jPfu9xP43vgf+db5Wvq5+nf7HvwQ/IL8Xv3P/bb9bv34/Hv8JPym++X7yvsw/Mv8Cv2f/Ur+zP50AOgChwSwBY4HzgqvDRgReBLIE9EUlBWTFi0XpxYdFoIVZBV2FT4VwhRFFLsTGRMyEq8QEg8oDZgLrQogCVsHywWCBNADPQN1Aj8BAwDs/j3+X/17/Fv73/nh+IT4CfgN9yr2lPWg9bv1NfXJ9I/0ivTW9A/1HPUb9XX1//Uw90X4LPkC+kP7bPzH/cz+mP9UAO8AjAGGAg0DOAP2A7MEnAUyBn8GvAZFB7sH/Ae6B6wHGwcMBykHrAb2BdsEEwT7AgsCPAESAPP+RP6+/Vf9Pfxe+1/6zPkX+S/4Z/cK95r2KvbF9af1X/VY9UP16fXN9aL18vUJ9i/2z/Yp93P3fveM9zv4Ifl0+dj5XfoQ+1f7n/sG/KP8DP3h/ND8Ef0P/Rb9tPxW/AH82PvA+/z7b/z//F/9Df7H/kQATAI2BLcFBAeGCawMvw/3ERkTohM6FCgV5BXXFVwVYxSvE3sU4BSZFCkUDRTjE2gTSRIYETUPZA3QC40K9QgMB3QFFARWA84C1AGaAFz/b/5K/SP81/oi+Zn34PaO9hP2UvWk9Hb0t/Qy9XD1/vTg9Mv0AvVB9Q/15PQS9cr1CPfc95P4lPmE+k37efyM/Vv++P5h/1EADQH3AasCKANKBF0FLwbhBrgHvwgxCUMJQQnVCFAIwgdmB8UGAgb+BCcEOgOEAmYBSgAc/x/+L/2I/GP7o/ps+d74gvja9xD3L/b/9Zb1IfXV9FT0YvQV9KrzdfM+80vzWfN4883zXfQg9Wb11/XK9m73QPgI+br5f/rf+tj7dPwK/bv9GP7Q/hf/rf+0/3H/NP8D/9H+aP4X/kz+pP6t/qv+Gf/a/5YBLgOQBK4F6gcKC+INhxBVEpMTsxRJFcMVARbcFfQUARTZE7sTqhOHE1ATshIwEmgRBxAnDhoMEgrmCGEHFwWAA08CyQCn/zD/BP7V/JP7h/rv+ev40Pd/9qf1ZvXx9OL0NvQ29AT05fMD9Mfz3vNU8xHz+/Kw8m/y6vEX8mzyAvP08wP1FvYm9zT4lfkB+x/85/zZ/bL+yv/xAOMBMwNKBK4FcAYOB64HHggFCDUISQjKB/wGZAYFBjUF2QRABK8D5wJIAmEBhgDk/4n/rv7C/dj8Qvyn+8b6U/p++Zr4NvhW91b2C/bL9Sr1gPTH87vzZPNS81TzSvOi8zP00fQr9eT1yva591n4i/lk+vf6vfta/Af9uP3v/SH+vP7O/kj/CABPAIEAigB5AAQAjv96/yH/Q/9h/4r/yv8mANEAOAKRAwEFWga1B8wJfwz0DhgRmxJrE0wUjxTYFEMV1hRyFKwTpBN6E9USahKLEb4Qwg9SDtgM2govCYMHZwYXBVoDSAJnAdgATgAq/0L+GP0V/Gv76frB+cH3ofaZ9c70EPRN85vyv/Hk8GnwQfCz72fvDe/+7kfvDPDF8KTx9fID9cD2c/gj+rH7Bf0u/tX+Hv8g/xH/o/5C/v/9CP5K/nv+NP9bAIkBiQLBA58ETgUyBtAG6AbKBjkGmgWTBKsDQAKcAAD/Pv1P+2z53fcH9v30DfSH81fzUPOp80X0YfVe9nb3fPhZ+Xr6H/u6+8r73vvq+/b7l/tI+1T7FvvS+gv7l/sV/Pn75/yR/Sv+kv58/oD+Nv55/mz+JP4//kz+W/5H/oH+n/7v/j//mP+0/6//L/+8/rD+iv6S/rX+Av8X/9f/owCnAYgDHAW8BtUIhAv+DqgS6RV/GBMbAh0cHwcg3x/2Hp0dsBtAGT4WyxKWDkYLKwiWBBIBMf7i+6P5T/iF98z2MfZm9tH2HPe/9zL4x/h3+WP5f/rA+sX6/fpe+wX8gvzI/E/9Pf7k/tn/RgFyAogDSgTmBK0FPwZcBuUFugW+BAAEugL+AAj/DP2E+/H5lvgf9wL2OvVu9bz1Tfbe9vD3dPkC+wj8XP1i/p7/aACcAOAAQQHpAF0Apf/B/t79Sv1p/JP7ivr9+Vj5tPhB+NX3yPdk94j3Tvf59gP3q/YR9of1OvUc9eL0+PTW9FL1/PWk9lb35Pcs+UH6Zfsu/PP8yP2D/p/+uP6X/kr+Kf7y/Zj9Hf15/Dz8uvuX+3n7W/vM+7v7N/y3/B79bf0d/mX+5P5X/9v+gP4n/n/9rfyC/I38WPxu/F/8BP13/kUAXAL9AxYHzArZDkoT6RdgHBYfViH3IhIkMyPRITUfdxvnFw4U7A9dC3AHXATLAS//wfws+3v6cfod+/r6Tfuc+5L8PP2L/bv9xf2C/QT90Pz5+5z7yfun+x/80/wr/qr/IwFOA94EngYFCFAJcwluCRMJQQjUBrYEKgINAL79yfu9+RH4xPZR9n/2gfZJ9zb4Svks+7X8Gv7S/7gAIAL8AmkDlAPVAx0EaQPCAgYCbgHYABMAHv+a/h3+0v2Y/SL9t/xQ/J37Q/s/+nH5B/hL9z72QfVF9GnzZvMq87ry3fJA86v05vWQ9sn3GPnL+kn8AP3q/UD+zP5S/4T/Q/9t/s/9J/17/Pf7nftA+wv7tvoM+0z7ifsA/DP8YPx5/Fb8Ffym+6b7dfsn++36f/r9+bz56flV+l/6jPpw+6r9pgCcA80Giwr1Dh0UmhnLHv0izyW0J+8ooSmOKJAlRiILHroZtxSND90KIwa1AvL/2/2r+036Qvn6+K75Dvl9+Fr4mviJ+Mn3ePfy9g33zPY898H3ePjJ+eD7u/3j/1kC5gRZB20JDwtADHoMYAx2C1sKTgi/BV0D5QB2/tv7PPo7+SP4m/er90P4M/kW+kr79Pvw/Lj9TP5i/pL+Y/7N/bH9sf0w/oj+XP/K/3sASQFWAs8C2AIjA6cCPQIhAR0AaP5H/IX6mvh79yn2HvUD9HfzevOd8yv0aPQl9a31GPaJ9mj2iPZv9s72F/eP9zz41vjG+Wn6Dvs3/On88P1R/rP+s/6a/mX+u/0d/Wn8kvtw+mz5tvgR+Bz35fYU91r3vvdL+H/4yPht+J34GfiA93v3U/ej97/3B/iT+F36DP3LAHwEJAjlDAQTzhk5IE4mhypVLEItVy19LOcomiPmHekXgxIPDRQIeAOcAOr+pP39/Ab8v/t/+9v7mvvs+U34mPbc9Z70mPO089vzfvSt9Uv48/pe/nABrwQeCOoKxQwRDpsO3Q09DFsKHwjnBS4D2gDu/qX9PPyO+zv73PrQ+k/7evtU+wb7Kvvh+oX6APoi+ZD4Rvgj+Hj4lfmJ+qr8zP7uAdwEXAdmCbcKawuzCvUJFwjpBZMCV/+S/AL6Yfiw9rT1TfV79a31AvbC9hT3ivel92T3k/aP9cDzbvIh8o7xOPFP8bryj/QX99j5H/z9/tEAOwLqAtsCNAKuAOL+lvyO+if56/cj9xL3UfeC98X4Bfoz+9P7YPyq/NL8MPx3+yH64Pg/9yL2yvW09Yv2dPeu+Cj63fyAAUMGDwvmDjAUGxpQILgmoixRMBUwyS6/LSAsTCjVIawaLhSnDkQK8warA3gB8P/L/hL+VvyH+kb4HfbN88vw6e0b7BTrB+tP7DXvbfOg94n7c/90A0UHvAprDNMMawupCa0InAf0BR4DjwEAAVAB/gDlALIA9f/b/rH9xvyv+l33l/SK8tTwSe+M7uruku/18NryV/Xu96X6Dv34/osACQLaAwkFCwVnBXgGhgdQCLIIYgjKB/gGhwZEBbkDsQHk/vT7XvlC9zT1X/Pd8RDx1PBf8LTwjvE48lfzEPQh9YT1kPbg9pb35vj0+Sr7FPw7/TD+eP+uAEQBhQEjAeIAoQCP/+P9AP1f/Bj7bvqX+Zr4Wfhh+Pr49fgL+Uf5O/mB+bz5+fkR+mL6f/o3+tj5/vm++kz7KfzD/Nf9XwHDBtQMZBC/FAAacR8sJrIruDDeMWYv9SoBKPwlxyH+Gz4VOhDwC0sJqQdJBjAFxAI1AAf9Z/qP9zP0VvEq7qzrGesj7SvwgPLU9dX5Uf6sAtAFzwfGCCIJbQmGCYwJCAiiBgMGrAbPBuQFsQTEA58C5ADs/s38svol+HT2pvRZ8yTyHPJ58snyxPLx8hf0tPUf9zb4wvhe+aX6VfxW/qL/bQDoAb8DDQYVCBYJjglHCrcKxwrOCkMJ6wYUBAwC9/+L/dn68feP9aLzq/LD8ujxf/FX8Urx9/CZ8CLxxfEN8hLykfKa84n10Pcq+gj8df3k/rn/CgFOAbUAlP+6/vL9v/z0+zP7t/p1+jz6N/o8+r/5w/h/+Lz3xPct99b24PY89zb4tvjl+ev6b/vU+8H8I/1o/cX9Ev4j/yIAuwQSC6MQahKgFecZBB5aIgoncitAKgkm1yCvHwAflxwSGcITtw/CCs4HMgY2BdMDYv9C+0f2c/O98TPxFfEG70btxOyj7+vywfVc+I/63Pz0/qUBygSPBogHIQgYCRoKCAq6Ct0KrQosCXcHYQb8BPsDFgKNAJn+lfs6+tf4+/cE9ur0tfTv8wT0IfSZ9ZD2tPfU+JL5Avv8+8P8I/1z/cf+t/8NAVcClgM1BWUH6gkcC+oKxwrfCl0KnAiIB8QFKwPf/+z8avs2+a/3SfXj80Ly3fFq8f/wy/Bn8MXw5+8j8KPwZPKb86j0M/bz91P6gftq/Hj9ef7v/pz++P5E/6j/5P6a/rH9nf0y/Tz9U/yT+7b6n/mK+SL5lfgR+Nf3hffS9yP4IfkU+mL6Evo++on64/ok+6v74vuh/Iv9Pv9JBV8LFxA0EGQSIRR1GOob1CAbJ0AllCGqHE8dKBxmGuMYCBWkEaQKaQj2BbAFxQTvAF/9S/e39OvyYvTI9Tb05PLC8Qnzn/R09i36Ef2c/or+sgDQA8UGyQgBCqYKrAkRCfkKhQtsCzoKcwlHCGsGrgRaA1wC4ACU/mf8K/op+Qf4rfcj98D1o/SD9BH1S/Uq9df1v/Yz9x73BffS9xP51fqO+2D8I/3G/nEBGQORBM4FsAdzCMIHngYbBm4GaQYHBk8E8wGD/rr8f/sB+2f5WPd69SXzLfJz8C/woe/776nv1O4N7z/vLvFB86n0Z/UV9hn3XvgZ+gz7RPx8/bH9HP76/cX9r/1//WH9wfz3+9z65flU+Vr4W/ef9t/14/WU9ZT1e/UB9ib3TPfa9773//e398n3dfhu+Fj5vPnP+7L+zAXeC0QPdQ73DnQSeBceHLoh7Se0JfcfWhqnG9Idmx2nG78Z0BcwElMNjQo4Cm4JWAgzBcD/vPoC+IP3zvdl9472AfZI9Vn01PPj9SH65/xr/bX8EP7A//MB8wMZBj0IhQjzCEYJcQp7Cu4KKwtIC3kKXwjJB4oGgQUTBH4CAgFE/6/9MPwd+7/54/hK+Fb3lfYb9k/2g/Zc9vf1bfaH9/j3MfjK+AP6DPvi+8v8Qv6R/0EBBgL3ApYELwa1B9sHtgcaBwIHkwYRBjUF+gNSAnH/V/2E+7z6dvn29872lPVW9NryRvLD8sLzkvTx9Jz0ivSa9Mb19/Zu+Oz53vqS+2r8i/2S/kH/bwBzAaoBawGfAP//Jv9d/mP+jP12/Ib7r/q1+Yn4GPhZ+Lj43Pgl+P33D/gH+D74mvhH+Un5d/nl+Yf66/q++pb8YgA+BiYK+gmPCJ8JUg5WEooU6xfiHAkdfBiTFaoXOhqQGfwWyxfDGFsWoBCTDPILYAz8C6UIJwWQApkAsf3L+g/6cPpn+dD3R/Y79nb14PRi9LH1GffV92z3gfiS+aD6MfuE+2r8sP6Y/8b/nf+DALwBCQLjAS4C8QKMAzADawIfAukBcQErAd0AAAEwAbwA0v8C/+7+X/8e/z3+Ev4N/mT9Vfz2+xf8VfzE+7D7Hfu3+nb6lPqA+gf7iPvT+4b7evvn++f7ffz//Bv9LP3d/FD9jP1X/Uv9Of1F/Wn9GP1D/QL9N/0Z/br8kvzN/PD8nPzE+xn8EPzo+6L7pPtt+yX7f/vl+4n7NPtS+0X7Jfsf+2b7GPvQ+qz6hPrf+sr6gvpO+iX6LfoK+q754PnC+cb5WPk2+Rf5Nvle+dD5t/me+b355/kW+ij6svoJ+5T6qfnW+Rn6m/rt+nr7Z/xU/U7+3v8qAVYCZQO5BOIFVAf6CLAKQwwlDoMPMhCWEC4RVxEGEo8S6RIsE/YSkRKhEegQpRD+D2wPBQ4kDU0MoAvBCqcJwQhLCGoHzQY+BpkFGgVmBJEDDQNMAl0BsgAmAGz/hv7F/fX8BfxS+5b6l/k7+cL4NPiN94P3EvfF9hv2svXQ9eP1Pva29lj3svcZ+Iv4CPkj+tX6pPvc/Mf9s/4g/5j/CwBYANUAiQGRAa0BcAGTAdwBtgHNAacBoAECAiQCrQFLAVABkwFrAeQAZQApADYAowC4ALIAdwB+AIUAVgADAM3/ff8P/8L+b/6O/Qf9Bf3f/Jf8tfvp+sP6kfo5+rz5TPkQ+bj4KPgy+AX4+vee91/3Yvcz9932sfaY9l72nfZU9oT2YPZj9sz2M/eZ9/j3oPhl+Tf64/q/+zj8wfx8/TP+2v6J/xAAvQB9AXUB/QF6AhkDIwMaA1UDjwMEBHUErAQuBdMFRAZTBoUG8ga/ByYIyAjXCZAKSQvQC6IMDQ1BDZcNpQ0iDnwOGQ4EDjEOfA4ODjwN1AyTDDgMqAs/C+kKWQq0CecITAiOB8sG2AVqBXcEngP2Ai4CZAGaAJH/Df9M/qf9+/xq/Dz83ft/+8b6hPpX+uD58fmp+Wr5Ovm1+Qf6I/pa+l/6yPpZ+7v7M/ye/Eb9if2I/tr+Rv+J/3wAvQBzAYgC2wLZAkcDRwNvA3gDewNMAzUDMAPlAoYCFgIRAs0BmwGRAVIBOQE6AUsBcwFBAfYA9gDkAK0AkgC8AAMB2gDYALcAgQDN/1//I//i/q3+H/5L/fH8sPwP/Fn79foO+9n6gvrL+Yb5Mfkk+eH4u/i9+Iv4A/kI+Q75iPnq+QP6HvpY+u36p/v5+338Jf2i/Yn90f0r/qP+o/5J/xgAhgBUAB0AuAC8AeMC3gJxA8sDUgQeBCMEDAQtBNIEEAWvBGYENAQCBFYDUQMhAy4DAwO1AhoDZAP/A1QEoASfBSUGrAYiBwEI/wi5CdcJ+QlPCtoKmgowCqkKxgoPC70KcgpRCtQJegmZCLEHKgeUBuIFlwUcBUsEvQKPAfYAkACPAIUA4f9x/3b+Ff5Q/Wj9lv2C/YT9w/2q/QX93fzD/U3/mQCMAbIB6gCo/8L+zP6s/6r/fv6X/LT61viv97735flA+1n7tvtg/Oz8IP0m/scA9wJuA0gCmQFLAWoA/v7T/of/xf9B///9S/3J/LX7Tvph+gH7b/tV+q35MPkc+XD4Uvgf+cL5U/pf+uP65fsf/Cn8APzk/H394f1j/Vf9k/3g+2z6Z/kx+Vr4y/ee9wL4qPdj9tz1gPU/9VT2pvdb+fD6uPs8/Hv84fxX/Z/+Bf9E/9f/w//7/tr+cv43/3cEbQ9eFiMVlxQeF/gXOxbOF00f/CUpI0IZBBMDENsJpwLZ/0ICagPYAPz6i/YD9dr0wPO88vT0zfor/vL9W/4nAkQF5QTRBQEKwA7TD/IO0A+JECAONglaBEEBIP+Q/R37SvnL91L2yfI/7//t/+6+8MbyhPUs+b37tfwA/ZX+ZwFjBbAI3wtzDuIPVA9uDWsLKQp4CdoImQiiB48FtQLI/+39QP30/V//cgBTAA3/sv4P/8P/oQDoAVEDOQTYA5IDYQQxBSsFJwRPBLUDNQPeAWcAF/+4/ej76vk2+IP3mfe69xj4QvkC+rn6ofu5/GP9EP57/6kALwErAcwAdwAuAJP/Xf60/Uf8vPrU+Nr3Cvcf92v2NPac9pL21vbd96T5pvty/Q3/cgDFAeUCVQNPBCEFMgZHB2cI3gfFBkYEzQEOALcBPhBuJzQy3S45KgkotyQ9Id0kzDKcOnsrpxE8AWT6uu9U5RzlA+0v87TzzvGw8hv4+/xcAX0EpQtLFWUcXB2bHb4dPh1yFjAQfgy7C4oIfwSZ/y38f/Pd6Cren9ig15Hb4eGQ6QfwA/V79+f3kvmR/9gH2A/bFJMYWxmFFZMOlwiaBKr/Uvvh9zD0//A677HpI+Y55AHjT+Sp59LusvciAAIH2AznEZIUrhaWGqAdkB7lHfAa7hRSDGwDI/zl9HPuFuvo6RTpoOi76YrrqezM7przPvro//ADkAcECakH1QYbBkAE1ALyASAB1f+T/Yn6Vvea84/wq+8Q8TvzhfWy93P4bvdF9lT2Afec9xT4I/if+HL4/vaq9fP0K/Wd9iL4Kvq7/cQA4gBgAAABQgKlA4QEEgVzBLwBJf9E/s39+f1c/8wA0ACyACgBpQGhAnwE/gTQCFQYQil+Lm4qiSezJhAjAR6gIKcsbTBUHn4Ikv5h+97x9On+6p3zQPm+97r0D/fW/XwCqQRWCNsOABebGtsYCBeuFm0TPgtEA0D++voh9+rz9vE68AXrXeOT3gze7N/I5DTspfXc/BYBugKQBGsGlAj6CXQMKA6yDUAKfQOT++z0fO/P627pael06qDrM+057nbwQvT691/8igH/BtkJ+QqOC64KrAeZA1oB2wDL/vv5GPZl9E7yNfA/7xnwofFH8nPz8/VZ+LL5UvoQ+177bfuw/N79rP30+yj69/gj94X11fQ99o/3X/c992v4svmq+pT6NPrd+V/6Sfqw+fv5P/o8+kL5Ufdx9Wz0NfTm9ZH3vvhJ+dv4Y/gg+IH4Nfqh/Nv9MP9d/6T+sP5I/7b/wf+1AEMBAAGZAToDpwRNBkEGwwb3BjsHLwZUBS4FdAPyAaAJoR5oMDs1EzJpLmwp3CJ8IDYo4DJpLOYTOvwC8Cfn7d5U3QziJOrz8O/00vqlA7QL8hCjFFQY9hyMHwgfiBsxGOAUgg2jA1v7zfM57lHqg+jw6EnoNuQY3wTdVd5g4vXpEvU1/5EGqwoUDQEPRA/zDWIN8gvuCrgHfQFQ+sLx0elU5HTiD+TC5YPnIurY7dPxBPY0+xAC8wbfCHcJ/AlCCpsJWwi2BhMEPv+a+T71xPIz8ivy9vEY8VHvVe5h7qPw1PO+9+36R/xQ/MP8b/y//HD9vv2g/dP7zvk2+Cv3GvZH9oX3Kflm+gP8Gf/9AfYDGARWA04Bbv+d/Wz82Ptf/In7Z/l498X1lvWM9/j6yP1h/8YAqAE+An0DCgRABFIE0gMUBNwE4gNnAdoAVQFoAJ7/XgC+AVUDbgOyAZMCEwThBBIG5gb2B/8IIwhEBhAHrAYDBg4P+ifJP3NGVD+6Nc4tMiUsISwqcTbsLkEQQvEk4K3WiNGK1KHfue3Q9W35F/8PCTsTBBnWG8AdSSIRJVkjlhwlFnMQuAce/Qr1pO6G6j/mr+Rn5hnmteCz2unYO9zy4mHsm/jyAkEJzQvoC3oMawwJDBAMtgsiCSgEAv2m9KPr9+R74R7hz+IT5b/o1Oy28Nb0qvgW/d0ANwRBCAYNJBLcE6QRXQ0rCCMDjf6r++P66vmV9j/yue4k7E/q7+rw7if0K/nS/O7+0P+8/6z/YABDAVECnwJaAff9FPpv9kX01POs9Yz4X/pS+1D82/06/3QA8gGDA4ADuAJTATYA5f6n/YL89vn+9pL0pPNF9Cn2e/fI+Fj5WPk3+qL7jv2n/+EB0gPABJ4F2wWUBYwESwOxAfYABAAP/0v9Cf22/Zf+WQC9AMQAxQJ8BJoFPAbIBnkHsAhiCLoK7RrxMgY/azv7MyovRCanHw0h8S1VNMUgJgFd7Xzl1twA2fPhEPGS+x/8sfqAAD4MOhTFFmIaeh/6IgoiixvdFBISEQx1Abr5qPf69fnxbu0B7EjsUehS4U7e1eC15RPsbfSG/ZgEggbYBa0GrgnvDM8OzA9hDjgK2AL5+Sny/+3K7J/s6ux47pXuf+7t7lHvG/Fz9Sz4Nfxr/7ACEgWgBo4HIwgeCUUJ3wiHCL0HXgWjAU/9BPkL9FLwi+5v7absI+1p7TXtNu7477vxGfX29xv7R/4XAHP/Rf4G/vn70/mj+Xv6YvrR+Mz2VvZS9uP2FffE9sn2cvZM9vX1YfY491f4z/gI+eP4yPcZ9/b3lPl7+hv7evt9+hf6vPox+4T75PxK/cb8d/tY+mn6H/ud+zr8Hvy0+mj4gviY+kX9xACgAVED8wMPA9gDgweECaAJZgmXCCAGgAPpAcYKiB4CL1Mx8ywNKYIisBt5GSYkSDEtLDcTYPyo8AHq9+LX5GvwMvpV+sT2PPev/3cJsA00EXQWIxqGG7YWHxEFDjIL0AVV/039af25+i72RvIT8ZXvJ+mE5Gnj++Ub6ZLsVvL298r6Cfv8+w//AgTDCPML7Qy1Cs0GZAE4+zz3hfWZ9FXz7vJv8qDwBO5/7Cbtje+Q8ZDzQvZP+Dj5YPky+pr7jP1w/4oA/gCsASICAQKVAFv+KP1l/OT6Svm19373mPaB9PvxavEL8hnytPJc8/P0mPbs91n41vmo/Fn+uv6p/mv/hf/t/bn8AP2d/Sn83fl3+F/3sPb99Xn2X/ed+Cn56/jN+Aj57Pks++78Ff4v/7b/N/+m/uX9IP1m/YH9jP31/A/9UPwf+7b6B/vx++z8bf22/UD+o/6y/ir/k//n/sT+rf83AbYBdwKLAo4CvgHaAPEApgKoAygDPAMdAtwBCgjGEmwagxvMG/cb+hjxFLEW3B2ZIg8cGg99BoQBUPp99eL3GP1u/8L92fuL+8/9EgBQAXEDZgcmCz4LPAl1BwsINQg3BrgFKQgxCUUHKANRAMH+dPvo9pPz4fJf8vvxofI29Gv10PUQ9oP2tvjZ+4X+WgGbAy0EuwKj/4b9L/3X/Y3+Xf/j/xL/ePxC+Xv3kPaY9uL27Pby9pP23/QY84jyBvQb9gT5Gvxa/ysBrwELAs0DbAWJBpAHjwZOBTcDmAFCAMb/WP4r/O75gfl8+C/4yvgt+vv5n/lO+ZT5WPmQ+TT6KPwE/Qr8kfyH/WL++f3o/Sf+3P1f/QL9xPwF/IP7Q/su+wL6TPnh+NL4lfih94f36vY59s70vfRr9Rv2ZfZO91f47PlZ++T8Kf4iAE4BMwI5AvkCCgPPAhACVAIpAhYBAQB//+z+K/9d/2z/7f8VAE7/j/9gAGIDhgxaFW0YohjBGTYZ0xeMGCIebCRZI1ga3BBWCpcDeP24+xP+HQB8/sr6nvef9v/3DPrP+/T+hAIHBI0DrQNEBU8HsAdqB/AICguECyIKBwl/B50EYgBf/VH77PnK+P72LvZ69a706/OJ8+L0Tvec+Sr74fxs/un/NgC6AEsB9wJsAyMEHAW9BR0FAAO8AaEA3/9l/nr9jPxS+8z5Rvha9932bvd4+BH6iPsA/Ev9g/5FAHACNQPOAlUBjwCBACIAr/+o/1L/7/2D/Lr7Bfz++4P77/tz/Pr6NPo++j/6ZfnY+UL7Ofuj+lv7v/wx/jb+Vv6L/lv+m/3+/eL+Mv+g/zoAtv+3/i7+kv7B/jf/xv/e/+f+L/0o/Gj7Zvp2+qj6ovqs+mH7DfyK/Eb9bP5JAMYBGQMvBCQFbQTpA4YEVQShAxcDJgMVAw0D7ALCAmMC2AJpA48DnAN2A3YD5QJ6AsQD8gZnCwQPxhCqEnsUgBRuE8EUORgMG0saEhePFFAS2A2ECeIHewi0CBEHcARMAtMA7P5F/cP8k/0k/vz9mv3F/br+B/9S/wMB/gJIBAwEkQQNBagF5gSmA14CLQENAHL+k/2L/dL89/tz+gb5IPiX93D2u/b+9j33zPb39d71mvbT9uX2O/jh+pv89fyv/VX/Z/+t/sv+c/+o/8H+7/0K/br7fPnG99/3cfcs9o713/Rs9Iv0l/Sj9PT0OvW+9e31q/bi9x35jvoV+7b73fsf/Mb8y/xK/fX9RP4G/l/9kvzk/Ov8cfwI/Jr71vsu/Cn8Gvwo/Dr8r/yJ/fD9Vv4h/zYAAgGnAWMCEgNgAykDNAQvBAoEyQO0AygEgQS8A6YDuQPkAycEfQTgBOMESgUSBZ4FPAajBpoHNwhvCA4J9QhXCfkJOgpqCsMJawk5CfsIGgh0B8gG7AVMBWsE9QO6A8sDfATvBdUGmAeeCDoKhQsHDJ8M3w3yDsUO1A6fDpEOsA11DPkKDgqfCTkJnAgaCBsH/gXDBKADEANgAmwBqQA7ANT/X/+P/nb+fv6G/iL+H/5e/p7+6/3A/cj94/1B/fD80/xo/b79WP6D/hr+E/6V/Qn91/yZ/IX87/s0+/j62fr8+sP6ufp1++P7Sfy3/Hv8lPxk/Eb8Xfwj/Nn7mvtC+zT78PqR+iX6wflC+VT4hfce95X2//Wo9UP1t/Sc9Kv05PSY9S/2CPfM+CL5Fvrz+rX72/v7+4z86fzi/Ef8tPwb/R39KP1u/RL+hP1K/Vf91P2s/Qb+Vv5Y/v7+8v9JAMkAlAFZAkcDAgSCBMIFIQYvBnMGCwdjB4MH9wcoCPQHQwfpBgcG/QVNBoIG/gUPBksGqAbZBkMH9AehCMYIKgkxCS8JBAn9CO4I8QhkCMQHGwfaBoQGDQbCBcoE4QSsBDQE+gMPBMYD6wNrBM4DDwRSBMoEAwViBfsFTgZzBjkGBQbqBRQG5AU/BrgFRQVjBScFuARpBOQDsAPrA8gDaQNoAjMC/wHtASgBjAH4AWYB2AB8AI8A7ACmACQA/QAFAUoAtv8h/5r+lP5A/sP9ZP3m/G78p/sl+1b7Hfvf+ir6+/lR+eP49/gn+aj5gflT+bX58fm4+Sv6cPpt+8j6Zfvz+v75afoj+gz64vny+Jb48Pg8+ID3c/ip+E34bvgI+Wj5HPqA+vL6TPyI/PD8gv1W/i3/OgDZ/x8AlgGtAVcBrQGUAagBWAFKAGgAgwCZ/6X/ZP/G/kL+of7g/sb+u/9xAAIBhAH8AeoCXgLUAr8DawQFBCMERQSTBFcEzgIpAzwDRAN6ApICNgIkAlcCbAEsAqsCtgKzAkQDSwOhA5sDFAMjA8UCkQNHBYoGwwYRB3IFWAZ2Bc0EsAPJAjoBev/j/zgAOALiA1MFwQasB08HSwixB2EH1wSvA9sAWQCy/gf/ff8TAGsBMAEqAnUCEgNsA+ACMgObAbMAaf9//y//Cv8AASsB9QFcAisDlgP/A5sD8QIJAjwBeAGRAWkBVgLEArADNATABH4FJgbnBZ4FBgWgBOwDzAI+Al8BOQEHAV4ANQDqAFMBBAJNAtoBAwFeAI//rf5R/h3+pP5L/dz87Puz+877+fuI/HT88PwZ/Q79m/xD+x37Qvvz+S75Z/mL+dv4i/i2+CT59vnE+Xr6IPrZ+n77Zvt3+wf7cfq8+tf6CfvM+/L7v/tB/E78ofxl/Ob8Mv0i/Wv9Cf1a/bj9l/zT/C7+Tf8AAJQAcgCEAW8CVAKBAnIC2gGYAUEBzADpAJ4B/wHXAU0CnQIcA0wD3gIaAy4DlQIRAmEB1QAoAQAB5AAyAcsBFgGVAOUALwEJAhsCwALEAsQC1QPGA2cD2AMgBH4DCwP2Au8CugOmAiICyQJ0AjgCcwE8AU4B+AEJAgwCBQPbAi0DIQOhA3MD7APkAyIEMgSRA5sDQgMUAzUDggOMA4wD7wIOAvMBMQL4AZsBGQEPAXEApgBLAagBoQKKAdcBRAGsAYoBGwLAAcAB8wDB/0oAkAC+/6D/jv8P/2X+WP6L/Yr+b/4S/nT+8f7E/tr++P6D/sv+iP7q/Yf9CP7q/pT+A/5g/mX+8v1k/YT9N/11/dr8Cv3B/JP9+PwA/V/8Gf2V/QT+yv3O/tv+A/+N/rf+/f6q/wEA7v66/gr/RP+A/2T/6f4m/wL/rf5T/1j/Kv+m/or+mv4q//T+e/5F/lb+1v30/Uz+e/7g/vn98v2y/nH+U/7x/jf/a/8l/yX/iv7G/nb+Wf7s/sf+xP5i/sz+1v51/4gAWwAXAOAAdwBJAX0BSQF/AWQBdAC9AKMBmQEtAYwBkwGxAbEBAAFBAY4BXwErAdYAAwEKAaMBwAGxAWQB7gF6ARYCggHcARMCvgFGAaoBhQFgAqwCCgPOAukBYQFkAcUBFwFYAeQA3wDLABYBVgCA/+8AIAHhAU0B0gE/AYABUAFBAYQBOQEiAiUBRAGDAMYAGwG/AJsBdgCIAOv/t//8/wIB/gD4AEMBNwEWAUcAUwHQAf8BngGEASgBigHpAYgCDAJMArsCLwL9AXEBcwG8ATAB6AFyAEMBAAFLAd8A1QB7ANYAIwE1AA8B4ADsAJAANgAJALn/WQByAN7/HwBp/0T/wf7V/iX/q/4b/xP+mf5x/hz+VP46/jz92f3y/Xj9Sv5B/UP/7v40/83/eP9WALMA9f/4/8EApf/K/8b/vv/f/o//df0c/8n+Vf92/47/1/9N/6f/Ev/N/03/kgDVAAP/CgEYAPD///8BAJ7+IQArAM//sf9T/xz/rP+y/uv/YACIAEj/xf2G/ub9CwAI/3//2/6+/3H/bP8wAL8ANQDh//3/XgC6AEcAgQBYAV3/Tv5y/pn+Wv8m/5/+/f4C/8b/6f5j/hIAYwBr/4D/0/5gAJz+V/9c/cv/r/8oAWT/qP8X/6z/KQA//xYBOwD1//MADAFHAG8AmQF7/7UAFwCjAFYAIwHpAYUAzgATAJ4BXAFSAj4CLALuATMAbAE2Ar4DuQOKA6MBzgBoAjIB2gESA24BvwMgAmEE+QIeBJwCcQOeASYANAHE/sH+f/tI/Qf7TPt0+937Iv0g/9EAWgFxA7ACyQNGA+cDtwEnAKn9yP0U/W/7WftH/Gb9pfzY/mr+9v6C/3r/V/8dABf/Rf5t/ZT8n/u8/OD7vvyz/fL91v6m/ir/6/8fAEP/VP4T/qn9KP8P/ywATv+p/lz/KQA5AjkCNASUAwsCIwFFAC0BqgFbApkAcAHF/3v/RAB0AI4COAKRAQkCEgEaAJACQgPQAaIC8AEeASUCgAAkAm8ASQBs/14AtP/G/xAAEgB7AAMAHP/X/y//Df/aAMYAxAD8/zL/k//j/xT/P/+oADX/B/+C//P/0/7m////Xf8j/0/+2f2o/q7+pf/e/yv/+f5Q/7f/1QA3AZYBvQDQ/1EAxwDVAJ8AfgDX/9r///8DAGoAvwBuAdUAy//v/sb+wv72/nb/8f46/xL/e/+pAHYBlgH4AcAB5AAbAaMAWAGYAXAB6gDh/9oAXQEqAl4C/AL7AuMCOQISA7kDggPTA60DcQOSA3MDoQPiA54DDwMfA7MCGgLhAdUBogLJAlcCowEZAXsAqABJAJoA5wC3AJAAMwA/ADAAigAwAM3/DQAR/5T+pP7X/Vf9N/0v/a38cfyA/Bb9Av3l/RgAKv/X/+D+rv5P/jb99f24/Sj9nvoC+2f6NPrb+TH7zvvK+1v8RvyJ/Yz9qv3I/W39W/z++2H7NPpO+tj56vmu+GL5g/le+Yr5vPm9+bj58vpU+1z70fuM/Pb8Gfzz/O/9K/7A/Yb9yv0J/Rv93fzs/Eb92f2u/b39qf6H/wgAqv9FAK4A4gCE/+P/3v/ZAUcFmwloD5UTjBfpGpMdQR+aIPwgyR4ZGoETFg6bCNUBNfyF99j0yPLs8W7ypPTY99T6Sv0fAF8BtQIFA7cDXgQ4BYsFbAX8BFYFJgVKBUsEQgMiAmoAMP6l/IL6P/kE+OX2VvaT9qn2Fffs9wH5Tvqd+gH7jfv3+1v8ZPzV/Av8kvt0+037ivoR+rj5dfhB9yn2UvVF9PXy7PHp8HXwMvB18AvxMfGm8dbxFfKj8rXyS/Li8enwUPD57+nvgvCD8TPyjvOD9Kz1Cvd6+OH4M/nK+A742fYO9ub1NPZy9gr3f/j7+ST8K/+pAgwHYgrZDugT6RqWJP8uIDcQPT1CMkXyRhJHyEV8Qdo4+SslH+oTXAtBBO/+avw6/ED9vv9oBOoJWQ8dE9EUgBVuFXAV0BWmFiEXEBdvF9QWAhUYEwQRpg28CLsCOPy39RHwreum6N7mlOY45x7pZuxp8HH0V/jT+w3/KAFqA14FAgeYBz8IOgjnB3oH+gYSBscE/ALMAID+Mvy1+cT3xvXS8yTy8PBp8NrwZPI29O31NPiA+gX9mP+7AdADQgX5Bd0FYwVMBaQEFARzAx4DRgPOA90DMgNnA4UDGgP7ArACWwL7AG/+FPwI+nv5R/kc+mP7v/xl/u8AtQMhBaMGzwehBzoGhgSZA/0BQgDY/t79RvxY+lT53vg7+BP4jfe79mv16fSN9Hv06vRu9bn1gfY39+f3RPlY+nD6TvpY+jr6mvmk+Bn4pffi9rH2i/b29o33KPjq+Mn5z/pb+1H7efvC+5j7iPuG+5L7BvwK/Y7/BQPZB0ENFRI5Fp0aJR8BIzwnLChIJaogsBsCFi4ReA3yCVAGbAMvAlECtwNTBoMIuQgnB78FHgOLAMb+Cf3B+sr4N/hK+Dv5T/ve/c//yQAbAXQAgv9O/qj8wPoY+O31JPQi81TzRfMi8yv0q/T+9GH1LvZD9m71svTy86zz1PNM9DT1CfbP9sn3qfji+cb6r/pn+qH5ZPhu93D2U/W89PzzxvJ78jLyIfK68fzxD/IB8tzyWfMI9Lr0M/a/9zj5Afs9/M393/5w/8P/m/+J/6H+/P0O/VH8R/uT+tb5O/lF+Qb5lvgy+PX3xveI94X3ePcu97r2Bvbz9df1Qvac9s/2effi9274Qfgv+JP4ePhs9x/3pvae9aP09fNu8yjzN/NI83PzT/Rd9Vn2/Pb19zP5zvkS+qf6O/uL+9n74Pv3++f7X/xx/IL8Qf3+/cf+hP/r/zUAzABFAiQF4QhcDFkPMhKEFlYb+iBNJRknbCY3JCUieyERIichNB/zHLsaExn0GGEacxooGN4T6w56CU8FLwJi/1b7Lvfr89nxVPEz8ovzpvTu9LX0NvS69IT1DPZG9T/0VPO18tLyFPMB9D30MfRZ9AL1OfYm9833jPje+Nj53/oU/AD9Pv35/dv+Xf84AN8AcQFmAREBUgEbAeIAAwEXAJT/Cv+3/kr+4P0g/RH9TvwU/M/74vvb+4j7TPv9+oX6ivqK+vv5nvly+cn5xPlJ+mr7c/y5/eD+o//OANQBlwIaA04DMwOQApsBgwAl/yL+gf0C/Z785/t/+2r7Kfwb/Rf+U/67/fr8U/xB/Nn7QvvA+oH59vei9s31X/Um9dX0QPQG9Br04fN59O/0lvUW9mj2hvam9i73m/f191D4Jfjm9/v39vc++Or4nPkA+iX6h/ql+i77ZvuQ+yD7Uvtt+0v8efxB/Rr+N//U/60AKwHrAXsDxwSVBZMG1gcdCZkKKQ3LD2ASgRQdFp8YShtmHa4egx70HdUc1htCG/garBrsGbkYHBcEFn0VORXiFKITNhEnDqwLDgmxB+wFKAT6AQQAfP6W/Rn9ufwA/OT67fhz9yD2qPXO9Cv0cvPp8rzy3PJk85T0dfXw9W32kPaq92H4K/nG+YP5o/l8+Tz6r/qU+vz63/q5+rz6hfqs+iH60fli+m76bPo5+8T7PPy8/D79c/14/dv9Kf5T/pT+HP53/e78j/zz/I79FP19/Gr8Sfx1+0D7QPsB+7L6MvpH+Zv4Wfhs9y73HPcD95P2fvZU9r32FPfB9wz4V/jq+OD4RPnT+SP6TfoS+jT6DfoC+vb5+fn7+f35H/nI+L747/jN+Fr4jvjN+Ef52/lX+hv7Afyw/Er9df3M/cX9ZP0K/TL8fPuI+/v7zvzr/WD+Hv/S/3YBhwTjBxkL5A1aEFUT1hbeGkQe8B8TIOUe2Bw0GwsbwRqfGYIX/RTLEnARDhEnEYkQ7g2sCVMF6wH4/7r+bv1/+1b5dPfb9qP3fvmO+yv8J/sS+lv5WfkS+jr63fkJ+e73jPfL9xf5afq7+4X8Xfwr/Hj8Cv3X/az9E/1p/AH83vsm/EP9fv4t/wD//f5J/xUAwQAwAQ8BnAAaAOv/rf/S/xAAe/8j/y7+ov3d/Jz8pfxa/Kf7ePqa+eD4+vjq+Av53Pi0+JX43viw+YD6ifsc/B39Rv3N/UD+m/8XAF0AWQCy/yH/9v74/hf/KP9w/w3/kv6D/p/+bP4Q/oz9hP3n/Kr8F/xL/Af9uf3w/a79//0z/l7+Xv76/Xf+bf4i/mT98Pwo/Qn9+vxf/Kv7evsT+0j6gPnN+J34Rfi/93H3Ifd095L38Pd4+E753fl2+vf6cPsc/IX85vxL/Ub9ev2b/Sf+o/4K/4D/XgDBAH4AbwCKAHIApgAfAHQAxgCJATsCzwLzA5IFLgcRCd8K1AylDrYQPhORFVAXCRkFGpIZBhnAGKQYLRitF9EWzhRnEt8Q/w4NDa0LFwo+B2sEOwJtAEv/fv5Q/Xn81fpM+bP40vih+dr5pPm9+OL3qve597T39vdZ+Nr3H/ed9oT2u/Zg9+z3y/dx91X3pfcO+NL4cfmZ+aH5xvkH+q/6tvsQ/Nj7wPuQ+6z7NfyI/LD8vvwN/BD8tftC/Mf7/Ptq+wz7O/tm+7b7OPxk/N37uvtL/KH89vy2/eH9cv0j/R79rP0T/jv+QP7C/Yz9eP02/QL9gf1A/Q79q/xd/LX8N/0v/Wv9lv3t/db9u/3+/V7+gP7E/pz+xv5c/+H/5v/y/70ARgEOAvoBCQI7Ak8CegJoAmMCygK7ArYCZQLjAawB3wE4AkMCIAJPAs8CYwJWAmgCswKxAlECmAFpATUBpAC6ANUA2gC3ALUAtQA9AJUAxADTAHwAqwDaAL0AYgAdAAkAIQD8/xgAXgARAWIBsQGdAs4DHAWgBi4I7wlnC/wMww6hD9wQuBEaEkcSthFAEaUQABBnDxkOMg18DGILmQq5CQcJzweYBisFlAMfAz4C5wDy//T+//1G/VP86vtt+wH7Jfq8+Tj5Zvg8+Fr4tPec9xT3p/a99k321fU49gb2FfZM9kX2Bfeg92D3//XY9sH1OfWU9Rf3B/jn9xL5x/j99yr6oPon/tn/CgHiAoYEawQeBCkHIAlzCBMJzgdzBk8ENwMDAYX+X/2U/CH6cvgd+Vn5V/sZ/eL+uQGlAxAFWgb5BSgG3gS+A/oBPwAh/r/7qPog+rL56Po++2b9zP5tAMsB4wLkA5UEPATEA9sC3wHzADsACABnALUAQQG+AYMC1gJgAyMEHgSCBEoEjwMpA1YC+gHDAdcBOAIVAlcCbwKGAt0C9gIZA6cCWQIMAt0A8P9S/9r+vf6L/r3+8f4C/zr/qv8OALf/3//P/2L/Jf+e/kL+H/4Q/iv+bf7Y/t/+Z//h/14ALwFkAZQBIAJyAmoCXAIzAugB6wHzAR0CNgJqAokCugK/AksD7QL0AtsCQAJrAi8CYQGeAf8BhAGvAf8BAQKBAl4C8gGaApcC+AEBAkMC3AHDAaoBPgEPAQoB8wAqAWEBRAEoATUByQBRAFMAiABPADUAKQA2ABUAuf/p/84A+QDnAFcB8wGiAaoBmAHVAXgB1QEBAtIBVwKLAnQDBQRjBNIE1gSVBIsEyANkAzADGQPdAp0CbQKhAo0C7QLoAn8C0QJdA9gCkgK7AmoCKgL6AbsBKQIMAkUC2QG8AbsBrQHDAVUBagApABoAgv/5/nT+/P1m/VX9UP3k/Hb8Jvxb/Ir8XfzM+877mPun+wH8+/tw+zT7M/sY+2f63PrB+lP6A/q4+Wz5QPm6+Tf6svmm+QP6Pvr2+Z764fpG+l36Yvog+pn5nvlx+d35QfpQ+p76mfqi+vz6Ffum+zP8Wvx+/Cj9Hf0E/Xr9yv0X/in+d/5J/oH+zv5G/0j/Sf+t/zsAngD7ABEBoAHIAbkBxgG6Aq4CzAJ8AnoCVgJPAokC+gEQAjsC3gHGAfMBAQKNArYCawI9AiwCeQLlArECZQIgAgUDrgKTAsAC7QLeAvcCMwOeA+4DcwT+BGIIQAXTB/4EkwTy/8X/Of+D/qIBrQB2AP3/KQCp/q3/8QLxA3sFVwYWB3IFiAXgBEsDHQJAAh8CPQKrA+0ERAZ3Bb4GfwQvBKUDXgQYBAsF/AT6A9MDKQNKAnACyQPaAy8EkASLBTUFswULBS0E3ANHA48DzQPSA8gDlwNBA2MCzQHNAS4CwQGGAn8CoQLgArUCFQJWAKgAjwCIAO7/UQCtAL8AFQCi/6//Bf+Z/53/bv+t/7H/N/8D/yn+uf2p/dT9yP3y/Zn+cv6C/bP9C/4e/U39VP0S/tT9M/51/Ur+F/7Z/Qv+BP6S/uD+3/4l/03/rv6f/rP+YP6r/iz+3f4w//3/BABL/07/5P5T/77/LgBsAAgBbwBHACP/8P+5/83/OwBbANoApACXANgArf/u/+H/6/8+/+H/vADsAL0AsgC4APQAdACeANr/7v/S/2z/0P7n/sn+3f5A/uD9kP13/sT+Nf+F/qj+Ev7W/Ur9zP1A/gH+lP6t/p/+x/7W/jYAtP+QAJj/5P+4/ur9nf0P/W79Rf0Y/mL+3P2t/sn+ugCd//EA8/8oAYcBqgFsAegBggNcAnIC3gIKA0sDGQMSA/YCgAM4AzQCoAOjAQICswDyAh8DSwMVA/EDMgONA5IDqAP/AcwCAgKtAdMCDwMIA0sDLASqBCAEWgY2BYYFAAbmBMoB5/6vAVEAIP3d/nMBdADN/0r+LP4YAOQBKQAdArAAlv9F/XD7YfvI/Kz7//za+mP9Mf3O/jL/EAAl/5j7ofst/NT78Pql+gn9j/oN/MD73vsX/nUCLghxALgFOgMTAk36xv7Q+qH8oPpC+bP0J/iL+/P+av4PCTcEjATVAJwCYgFlArUCLf1o+M72/PWw9F75cv2+/07/wASgBMcHMwcOB5ACRAED/jP87/vC/ab7wvsS/In9Tf8NABQE3QUUBm0ESwMBAHkAgf6d/Yj8z/0g/cP8Tv7f/+7/RQKoAwIHZgRSBtMDtwM//1gAw//kAdwDTwAT/vsAEADj/8QAWwPcA9EFZgSkAr4BsgGtAeQBLgNLBGAF8wZ+B6wGuQbGBskHUQi0CNYJgQl6CTkJeAg8CIEJHwrYCvsKSQspCkUJzwnHB0wHjwgdCbUI6whVCR0J3wg2CWYJDwnHCZUKbAqECZwIkQawBeEDJwQpBe4FJQYvBlcGUQdLBqMFSwRIBDIEMQREA2oDowHEAJH/HQBAAMgBzgDxAHoBxQKNAjsCLwHQ/kD9R/x5/Hf9Pv8A/2P9l/kz+U/5+/sq/YD/If4W/cH8Rvxp+iD7nvx6/Vv+FP/u/mv90vzQ/BD81vvl+/H8qv0A/av7cvk7+NL4f/tT/oUA/QBA/qv7d/u8+vz6CP6k/g7+bftM+Q/4Vfjb+db7Hf5n/y3/+QC4AGv/Dv5m+1z6h/oX+u/4kPkQ+bb1OPZQ+Jz7vv0b/8r/qADM/k/+aP1d/KL6i/lB95r27PcB+W/5ePrk+ln7Jf1x/tEAbAEwAVv+wfzl+aT4bfbt9vH2uvam91P6Hvyn/Xj/ngCFAdMDPgQfA+ACtQCr/s/78/oS/N77D/z+/QkAyAEIA4IDPwO6A5EEDwNTAwkCU//P/Y38Fv3+/kACuwTbBfcGswc4BXYFdgabCLEJ+gieBU4Bcv03/eX9YQK0BFcH8AalBDkE5AX1BucHcwl5B1kFSATrA6sCfgIXBcUEpQSJBt8FbAZvB54FdgPQA0cDSQMIBdUFjgKCAXkAkf/F/yQDhQbICfgIDwOe/0n+C/5KAP8Ehgf+BI8BDv1t+/v70vwuAP8BLgK1/nL+Af5P/Sb/5/wr/vD/L//1/IsAVgCw/kL+8fyn+838/f4zAMb/Xf/j+/r62f0S/7gA0ADv/g7+yP03/cz91//EAAL/o/xT+Sj6evsY/hL+kgBm/7L5Wvh0+aP5NP9CAjwBkf+//Dn4CviC+BP53fw2/gD9tPhj+O34T/mz/Y37JP5tAPL/iv6rAA38a/iS+Xj3Q/h4+k76JPnD+Lr5T/kF/2ADnwIJBPQCk//CAPADzgN/Akn+G/v2+er70fuNAEIC/gIwAaABIgKkAtUDtwGQBBwGxAXOAgv+1/o6+Uz+HwMVBw4KFAZiAKv+uAAdBKYI0QfZBD8B5/5T/soBBQPFAjgAs/2J+4z/IARaCDIJRwXX/8X/zAAjBBUFFQc4B08EhP10/I79yQCQAh4DsAI5AagAkP5b/r0AcQXABxUHRwNa/2v90PwI/lv+xf+7AhT/gPwm/v4AUQBHBQwGCwOmAn8CeQAkAFj/Jf8u/rX+r/3//YIBVAKsAhoCj/+7/xIDfgMkA+sB5v88/+H87/vN/AAD8AYwBp4FowWBBBUDtP8y/ID6Kv2T+9f60/wx/jH96fw++1/6dgACB/oDcQOhAoL/s/hL+P74B/uW/YL8Vvuc/C/9Ov/y/+j/YgCvAWb/uP29/m/8sPwY+eL2PPjZ+0n+1/8+Adv+vv0N/I37C/4VAL8CBwJqAAb+cf7G//f/vv8TACsAHAAd/gX9R/4R/X38b/4P/bD8wgBiAboAdwLWAK8BWwLaAGv/7PyG/jX/I/9ZAJ3/CQDG/ib+yP+mAkYDMQV0Axf/uf/K/8T+Sf/A/Yn/pQEZAXL+HP6c/iQAr/8xBH0EnQSYBJcAEf37+/T9oAOCAxYBd/2o/DP5BPk0/X0BGQToAn39Bv5O/qwBGwQ4BVYCoP2T+pD5C/td/07/Wv+I/O76yfw1ACMEfQblBFsC3v+5/5wAHQKj/u76P/yT+A/6nf/uA1MGMAZFAvL96v7+AtYC9QTxAwwBSf4K/Nb5Dvt2/lYAggFeAvcCpgU3BrMERgT8AeUAgv+q/SP9Gf0E/mb9tfyi/Sj9sv4YAGcB3AGYAegBLgBZ/fb8h/xg/Hf7H/5y/iL+Zv95/p7/8wDaAQoDgwBVAaj/1P3q/nr9gf11/Vv8Bvwz/An+MgEpAyEDdwLRAKT99fxG/Vn9cP0e/RX8kPuW/Kn9d/5xAMH/FQA3AVcBYALsAqYA1P+H/XH8pvw5/Vv8bv1g/ov9Tf///7v/cgCH/xv/nv7C/rz/wf7U/fL6SPta/AL95/7TAC0BwwEaAMv+Qf/6/4n/7f+aALz+3P0J/jj+fv70/Rf/9/+R/97/qv8cAP3/ZP8I/DT7Afyv/Af9Df5d/8D/If84/kj9MP6n/90AWv95/gP++ft2+qX6e/zH/rH/ywBiAGwAyv+Q/tT/7AD7AJQAgP+q/b78K/y2+z79+v/2AMwAxf/z/hL+pv5n/67+uP68/n39If5j/VP+/P+l/1wBIgLAAbUC6AIMAV4AjP/l/kr+m/+d/6L/hQBxARYBOwIpApkApAAGADr/wP8DAPQA8wBf/1MAngB2AE0Bov+u/rj+Uf4H/2D+Ff4q/Wf8xvxm/cb+owF5A7ME6gRRA+ICvQAb/67+c/zi+5f7Uvtd/Dz8Hf3m/Tr/m//o/ysAqwCxAXwCKQKmACL9h/pV92r3Bfh7+bD7yfzm/Pb88fy5/Vr/mgB//9P+D/2J+1j6Cfkq+MX4tfn4+fP5cvmj+Rv6eftu/E/9Bf1g+w/6D/iO9oH2VvaD9m/3/PX69bD26PYi+Ev4lPk7+5n8xPxM+w/65/dA9nX2OPct+sb6lvpd+Yj3Evcs+NH5mfoD+o/61fqT+q74XPh++Z/5Ivt6AvsRqyYSNfQ3TTLUJ14ZWA3oBzoLHQ+HCBz6lO2f6WPq2O87+yoGuhIXHpAmQy8MNww3Wy7vHuYOYgOo+n/x9+wj6znrL+yj72/2Gf0JAl4Hjw1GE5MVvRTcENsJ3gHt+8b5rPqK/L3+SwGhAj8D9AL3AkICcAGv//L9Mv3w/IX8CPzG/HT+RP9KAIUAAgFrAp0CugLFAp4BMP9N+6r3OPdG+Gv6pPsZ/PL7PvuP+Y/5Kvu2/fD/RQCo/xj+Xvs/9yPzru917k7vqfG09eP4/PoE+yH5OPcD91n5rPuo/jf/p/2n+v/19PEz74vvVvIK9UP2D/dW/OUTIDtqXeJloWEPTeU0dR8IEhUWfh5sFYL6FtrwyNfFrtAN4Ln3/xOnMVFJfVxlaqxuSGQBSSwoXA5G+PPlp9eMz5bRGdla44zw9/uzByIRexnqIdkoVihtIG0RKAMG9yHvr+v97QHyxPei+xIAHgPrBIMD1f5m+mn3pvZ89p323vg//J4BVQasCXIKSwniBX8Bv/5q/BT6pvY38jTu7+wV70f0XfquAPIEJAd+CEMJQArbCaAIPQezBWYEKgJyAD//eP/l/gz9TfsM+tL4GPn/+uP9ov86AAX/Pv1L/Uz+swBzBE0GkQaaBHwCbwBk/0j//P96/wj+j/zs+Zj4+/f5+Gz5gPpm+9v7hvvq+9f8hP1V/e78V/uf+cH37fWn9f31G/bq9tX35vhm+vv7YvwX/C77NPrA+KH3k/a79c70XfSe9D/0T/SZ9a720fbB9bz1OvpzCfocAio6MPsuJSd5HgcVeBArED4MAACT8NLkU96a3UThMuim8sEBYhLSIOgs1zRUN4YyyCeyGRUKUPh46Dfc99UV1ULYUt7H5DXr4vKt+hwDoQpdD5kQjA7SCJMBgfnJ8uftNuqq6T3qNuwU7uTvPfG68kHzNPOa8T7wA/Co8LTyyvZh+8v/RgHlAPr/vP4W/a38Gfzm+q746fXs9C/zQPNr80P2w/i8+jv9Lf/hAdgCrAL8ASUBmv5H+773E/Zj9lD37fZm9dnzD/MW897zCPWS9135t/o2+5/7Nvth+3/6rPoU+mT60fmz+Z34APjT9+f2z/Ug9e70I/X49Vr3Hvqq/FP+HP4x/Wb7c/o/+cX4Q/gs+Mb3TfZG9Rn14/Zf9/D35fio+d76fPvv+4v7/Pto+8b53PiP93H3Uvi4+Qb7q/th/wgLZRztKkczvzU1MwUslyPdHvYbSxiHDp7+9u/Z5pziAOHr5HntzPloBzQVGiF2K8cyGDWCMZUqsSDmEuAClPRJ6k3kt+HD4UHkluhU7Mbwt/QF+vv+rAKcA7wDrgJQAScA4P64/oL/AADz/2T/d/1M+5X5BfjB9THzPPBr7vnsR+0z7/DzsfiR/JT/RwLsAy8EdAMLAu4Ajv96/d/6IflB+Hj4h/oG/JT+wQDVAaMBdQFOAXcA+/6x/fj8Dv2U/Bn8J/0n/qH+A/9O/63/NP9h/ev6JPko+ND38/e5+GP5YvqS+6D8dv74/6ABSwOtAyYDVwF//7T9W/s3+Pb2DPYB9nT26/do+Wv6Bvwc/k4AnAKAA5wDhwOMAy0D/wEPAZcAMwDz/6L/V/8l/+X+vf6X/gT+7/22/YP8H/xb/K/8Mf14/d79B//t/5kAWgHzAbECUQN9A2oChAFUAC3//P1C/hcAVgIcBa0IDgzkD+YT8BffGmAcrxz5G5QayhjEFl0UtBItEqoQOg8wD1QPhQ9gD3QPhA6DDHgJPgYFBEgCoQBm/5D+EP7o/UX+8f7X/1YA//9B/0/+KP0f/FH7h/pf+vP5ePo9+/T7ofxS/XD9Y/0D/FX6wPil9zP3PPfy9kH3kPg8+jf8WP6pAFkC7QI1A5UCmwEIAG/+bPy0+q35OPkG+UL5B/of+/77ofyy/Kj80/vQ+nT5y/cR9tj0ufPz8hPzKvMZ85DztPOA9Ej1Cfah9v31FvVR9BvzsPKA8r7yGfN187z0ePVS9in3i/gs+aT5y/kK+uz5tfmz+WL5hvnx+Vz6/PqS+yT80vzA/XT+wv6p/mf+Dv69/Vr9PP37/B79DP24/Rj+mf7q/ij/eP96/+T/w//N/8b/u/+5//D/JwAeARACVgN5BekGfgh3CqcM+g6ZENQR6xLME28UeRQ6FHATuRLyEUIRbBCBD+EOHg5YDcoMNgzKC2wL/Qq4CuoJRQlGCPUGsgWgBI0D7AL3AdsAz/8l/2z+4/2l/D38aPt7+oP5iPkd+fD4Mfgt+Hf4i/jU+Kf4m/g2+G74i/iE+Ff4S/jP+Gz5Kvro+pf7Qfzh/Gn9Uf7p/i//HP8A/7L+MP7o/bb9vv3U/T/+Df+F/77/MQAAAVMBWAGOAcsBqAFLASoBsABAAC4A0v9B/wf/1v5M/jT9gvyL+zn7y/ov+sL5Ivnh+Iz4QfjM+Gf5nPmm+bD5/fkS+o35OPnj+Lb4N/ir93n3M/dG98T34fdV+E/5F/qg+p/7Av1h/fz9OP5M/tb9BP2D/Hn7nvpX+kn69Pkq+kP6Pfvb++X7W/yH/L78y/yK/CX9aP3l/eb9+f0h/uL+j/8hAPgAjgHAAeMBDAI9AogCeQIkAqsC9wKvAwcECQTrA0MEOQTlBN0FPQejCPcJ3gtLDRcPIBH6EhUUnhTHFL8UFRQlE9MSnxFOEEUPSA5LDUgMPAvYCkIK3gnhCL8HUgbcBJYDuAKOAWoAif/f/qj+RP7N/ar9rv00/Yf8bvzA+/j6ffrb+VT5/vgS+aH5Evr0+QL6NPri+Xf5C/kI+Yv4lfgV+Xn5GfoC+2D81P0o/7oAZgEbAlECXgLoASEBvQAXAEn/I/+r/iL+Qv6B/uf+zP5F/ur9Af67/Wj93fw3/Aj80/ty+9T7Nfwj/Aj8ufy0/Gn8Lfwu/Dj7nvoF+nT52fhI+CD48fdU+N74EPlT+Tb5d/n7+Q36/vk0+uH64fr/+mb7sPuL+5j7Gvza/NT9Xf7g/mv/xf+C/5H/ff/X/8P/vv81AIoATAA2AEcAFwDD/9f/HwBWAMsAZgG0Af0B8AHoAdkBuQGyAeMBJAIEArYBrAFkAbIB1QEqAuUC2wISAw0DoQP7Ax0EQwQtBOYDeAMEBKAEYwVpBtQHiQmRC+kN7w9tEZQSaxNTFCcUQROSEnURQxAkD1oOWw3yDMQMYwxKDL0MDw3KDKoLzgrPCaoIpge7BgEFQwQ+BMkDoAN9A6YDFAOXAiQCQQEkAD7/zP4u/sf9B/1c/QL9ffyI/Lr83fy+/F/8C/z0+zL8/vvO+9b75/sX/Pf7TPzr/MP8if0h/rD+mf7T/hz/Ef8X/wj/Yv+j/0P/KP8l/yj/Bf+1/mf+8v1H/mX+M/6A/i7+P/5C/lP+Kf7l/an93P35/Xj9ZP19/Sr9AP3w/DH9Nv3h/K38e/xB/Ib7Afs1+mr5kfh8+Hf45vij+ZD5t/pb+8f7I/x+/CP9n/3H/Xf9rP3//Sz+bf6I/sz+Nf/2/g//Bf/7/mX+of4H/8z+iP7k/qP+bf5t/qn+sv77/mb/7f9qAL8A8wANATABcwGdAa8BfwFTAU0BjwF/AXoBcAGPAegB3gG+AVUBpQGgAc8BjwGZAeQBZgI3A+kDFQXvBesGIQi4CS8LqQyjDVoO/A5ADxwPpQ4MDm4NQg3jDEUMhwtVC9gKJgr8CTkJyAgPCPoGIAZlBV4EkQNpAzgD1AKpAj4C9wF1AeAASgCi/3b+Yf0I/Cr7mfoR+pn5Xfk/+VT5Z/nl+YD63von+2X7gfsx+xH7LPs9+wz7Ivs4+8v6LvtI+3T7z/tf/CX9rP3M/bX+ZP/P/8D/6f+M/0H//f7Q/mf+R/7M/j7/ov/3/0cAbwC3ANoA0ADQAHEAewAnAK//Vf9V/07/I/9c/8j/+P84AF0AHAANAKz/SP+t/jb+8v3N/dn9nf0g/Xr9wv3o/eD9Ev57/sz+Ev+m/gX/N/8q/4D/S/9O/zD/CP+6/hP+BP5H/oP+tf4m/zT/hf/L//P/5v/f/wMAiACXAF0Axf/I/4n/Ov80/0b/y/8uAHwAgwCjACABoAHFAc0BegJqAmECqwLRAhIDZAOSA6UDugPLA2wDggPLA9IE2AWoBq4HuQjACRkLhAweDc4NSA6dDnIO+A1sDRwNnAzaCyoLXQqfCTEJ5giPCB4Ifwd4BkcF+AMPA/gBzgDX/wz/xv5C/qn9+/zV/Gf8afzn+1H76/pf+gf6SfkV+a74i/h4+Fn4cvhk+GH4jvjo+ED5VPk7+Tv5W/lv+aj5/vkw+oX6Qvvd+0v8sPxK/TH+3f4g/5P/5v9TAGAAuADLAMsA8wDpAPkANwEtAZkBDgKOAuoC2wJYA6MDmQM3AwMDxAL1AYcBVQEWAZwAWwB3AE4ACwADAA0A//8XAB0AJwDK/2z/bv9L/w3/xP7Q/rf+uv7L/p7+T/4S/in+If4I/jr+YP4w/lb+i/5y/lv+av4h/jD+1v3g/ev9sf25/Yv9bf1u/Y792f0I/kX+mv6a/tH+Gf8X/yX/I/8g/0T/Zv+C/8b/KQCzAPQArwHpAVsC3gJ2A/ADHQRpBIkE6wSLBKkE2wTRBMMEegT3BK4F6wZOCDYJZwp2C58MIw5yDpAO1A4GD3cO2g1ODdgMJwzhC9wLYQuzCuUJkQkTCT0IQAfTBdcEGwRfA0gCfQFYALH/vP92//3+jf5s/rP96fyc/N37JPtX+of6Cvps+f/44/i5+KX4ifg++Dz4afdR9yb32/Yr9/v2HPeD98b3Jfhr+M34SfnQ+XX61/ru+oP7Gfyr/Bn9if09/u7+df/K/w0AdwBiADUABAC+/3v/ff9I/z7/Bf/u/sz+7v4U/2n//f8kAEwAugChAD8A/f/p/6P/bv9f/w3/y/6U/sT+fv5E/nH+av47/qb+Ov9x/6P/0P8YAEAAVAB3AH4AnABiAE8AMAAcACsA6//h/+P/5v/P/xoAdADpAFoBggGJAXsBKgE5AVcBHAEZASoBBQEPAU4BcAGxARACPgKBAucCEAMBA4MDuQP4AwUEvgN+A40DlAN0A2QD3ANLBJ8FBAf+B9oIRwrkC6YNuA5sD9sPzg97D4EOig3KDAcMKwueCgkKkAniCG4ICgi2B/IGOgYkBUYEcQONAokBjwCP/93+lP6f/cj8lPxs/H77JfuH+sn5YvkY+dH4PPjG95n3pvew97T3ofe891X3Cvew9lT2hvaY9o722/Z49zv4+viQ+VL6GvuE++/75fsN/LD8vPy3/Af9Xv0O/kz+zP7Q/ir/tv+J/5j/UP9w/4r/gv8S/zn/bP8o//3++f4U/xL/Tf9I/0P/MP9X/zL/cP9S//3+fv4i/jr+Lv6T/Z/9Q/2J/Vf97Pwe/Q/9Sv31/LT8B/2W/dH95v2v/er9BP5d/l3+Vv6m/tP+1v7z/sH+YP5e/rz+nv6V/qH+zv7L/8P/GgApAEkAwQDvAO8AnADYADoBIwHgAM4ACAEZAWcB3AHIAbQBPgKpAqsCpgLYAhADMANMAx8DTAOSAzQE8gQUBmUHQQg+CVMKZgtUDNQMGQ01DVANBQ3ADC4MywujC1ULLQtACusJzwkjCYIIlweqBp8FjAQ2BFADVAJiAdgADgC0/xb/pv4p/v79Bv5Z/ab8MPwZ/JP78vp4+vb5pvmz+ZD5gfkn+UX5Y/lU+TH50fii+Hz4bfhL+EH4Mvh8+CT5XvlA+X75pPkv+vX6sPst/Kr8Fv2R/Qn+A/7l/df9pP1h/V79V/3k/Ob8Mv03/VT9I/1e/Sj9Of0e/Wz8MPyP/D380fve+/z7Ffxu/D38FPyF/HH8Xfwk/N37H/wZ/OD7LvyR/MH8DP32/Df9rv0V/gj+K/6B/v3+nv5i/ur+4v6z/qv+t/63/oH+iv5O/kT+Uf5n/qn+DP8r/1j/ov/u/1kATABiAMcA5QC4AK4A1QANATkBGQFTAYABrQElAkwCzAIUA2UDbwOhA3EDyQMEBFQElwU2B6sIuQkWCwANsQ5BEPUQ+hApEVcRjhAcD6cOjA52DQ8NPw29DAYMWgsCC78KvQm0CKcHowaUBZoEDwMbAr4BfQG/AHcA+P/D/3v/cP8R/yn++f1u/V/89vuI+yr7wPon+2r7W/uT+6v7mvvH+7P7kPsq+2H7lfuN+5j76vsf/Fv80Pwe/aX9Bv78/dz9A/6v/Ur9f/2T/V79Gf3V/Eb9ZP0F/Rn9Dv0A/bz8v/zI/ID8M/x2/Df8Gfwt/PH7SPsY+3T7v/s0+9/6xvqM+un6C/s++vv5CPoo+mL5SvlJ+WP5o/mr+eD5NfpS+of6c/qA+vX6Zvtm+7X7N/xR/LX8L/3N/Uf+b/7n/i//Uv9O/9r+5f4C/9b+av4X/kD+aP5R/jP+JP5P/q7+MP8C/yD/f//L/6j/lP/Z/8r/BABFALMABQGnAV4ClQIfA5ID4gP2AzsEUASYBLsE1wTbBOgE7QQzBewFVAdlCG4JOgpOC5oMrQ0ZDmkOfQ5eDlQOag2JDBMMyguZC4QLBwuXCkIKsQncCGkIiAdLBoAFcASHA4sCfwGkADgAgP8y/8z+Xv4r/uX9Y/26/BD81vsR+6r6c/oX+oH5Ifkp+TP5XflW+Vb5sPnl+Rn6/vnR+eT5Dfr5+Xb6/Pon+2/79/t7/Gv9Bv6B/sT+bP/t/04AeQA7ACcAUQBjAOP/gv/B/4L/2P5R/mX+HP6p/VL9Iv2j/Eb8Bvx++0f7TPth+/P6cfq5+vf6oPog+mf6afoI+t35d/kx+bP4Zvgy+Bv4LPgU+Nf3+/ct+Hz4+vg/+V35XvmX+fH5zvkM+jX6UvpT+rL6o/qn+vr6z/r6+mH7tvve+0b8w/xt/Rj+Xf4C/9T/GACLABsBmQHwAQ4CNgJZApcCFQM/AwUEkAThBEIFhQX5BSMG6QbMB14JiAqAC6QM0w2LD38QbxEREQkR3hAIEOoObg4UDsYNmw0XDXQM5AthCyALhQrlCbkIpwfBBo8FmwTiA10DxwJHArIBawGKAAAAcf+A/zz/uP47/o79Dv3J/HH8Gfz2+xL8bvzJ/Pj8FP0J/Uv9rP2k/Z/9bf3y/c/9xf02/nH+e/5T/6r/rP/F/8H/EAAIAMb/4//t/6P/Mv86//H+5P4H/yb/zv7B/rf+sP6F/j3+tP08/Qr9r/wP/Nb7Jfvo+vf6svpr+vT5D/rE+Uz5HfkL+U75fvn/+Ob4tviL+KX4bfjK+JH4r/in+Pz4M/kx+V75qPnC+a75gPl5+Z75Kvps+qP65PpM+4v7sPsu/G/8jPyK/Jn8fvyM/G/8kvxJ/Ab8RPwK/Or7xPsK/BD8Qfyo/ET8YPzw/KD9//1i/qT+0/7i/i3/sv8OAJUAGwFrARUCiQItA8sDhASuBAsFPwUQBR0FMwVRBWcFxgXlBdMFSQbABgQHXgfEB6sIegmNCucKcAv4C2gMlwxKDDMMEQxxC6gKOAq+CVoJtwg9CL8H8gaTBq0FwgTSAyYDqwKoAQ8BswD4/3P/D/9g/iz+9/2R/RP99fzm/JL8ZPwB/FL7XPua+3f7RfsE+xP7Pvsl+/L68Pre+jn76fqq+lj6jPrN+sb66PoM+yT7mvv0+2n88/ym/Fj8b/xx/C384vu1+8D7VvvL+gT7svpx+vj59PmX+aL4fPhw+Fz4BPil9y73Evcc92n3WPd+96D38feh96r33/fd90D4Ofgi+G34d/ho+Nf43vht+Vj5i/n++ZH6E/uD+xf8dvwC/an9Uf4C/7H/NgBFAGAAmgAbAWkB1QFFAvsCiAPDAycEhwQxBeAFcAaPBtwGEQdMB2UHcAd+B1IHTwd/B5MHNgfIBqcGaQYtBv0F5QXfBSEGUAaZBg4H1wYlB70HCwgjCMwHeQcgB68GTQaPBf4EqgRNBBsE6wOjAwYDiAIkAr4BIAHnAKgAOACg/0T/5/63/n7+Kf4V/hX+5f2u/Q79pfyg/ID8Sfx0/H38iPy1/Lz8yPz9/Mj85PwU/SD9ufyy/CL9uP3r/fL99f0Q/hr+Jv5F/k/+hf5K/v79BP7j/az9yP3e/Zj9lf0V/s39vv3//Qv++f2g/dL9kf2M/bb9Zv32/MP8vPy0/Ov8nvxG/Ev8Zfyq/Gf89/u1+yv8dft8++37jfvZ+xX8YPxp/Gz8qvx+/Gr8dPyM/MP8rfzw/Db9X/3R/Sf+pv4w/6j/qP/c//z/BQF7AQsCPQIpApUCtQIVA8MDAAQbBKIEoASkBJAEEwUaBRwFHAUpBYIELQQFBPAD0AOlA8kDxANpA18DFQMVAxIDrAJ5AtIBvAHzATQBAAGzAL8AhgB0AGIAGAD8/9T/t/+y/5P/Qf9Y/zT//f7T/tr+i/5t/oX+s/5W/mX+Lv52/qT+jf5d/t79C/4N/iz+7f3D/Vz9Jf0Z/Z78tPyC/Fr8U/zM++f7k/tK++76t/ql+rL6X/p1+lz6Rvqe+mH6Nfpx+gz69Plt+Wz5TPno+P/40fgk+fr4dvlT+f/4SvmZ+a35Evph+q360vr4+vP6Cfsu+4v7wPsA/MX73fsc/Fb8RvyA/Cf9D/1u/RL+J/6u/tD+F/+H/5j/1//L/9f/AQAfABUAXQDHAAUBBQEyAbsBKgK7AgADLQOwAwUETQSgBNIE3ATcBKoE3gT8BGMFUwVvBd0FTQbcBgcHnQfCBwEIlAg0CREJNAlNCWEJPAlzCYkJSgnJCAIJ9gijCEEIJggKCMwHvQeBBzYH4waZBmIGSQblBdEFngUSBesE+APaA0ED9ALPAs4ClwK4Ak8CawJgArgCCANqAvUBtgFDAXcAIQCd/wr/e/4d/t79x/2s/Vn9rv0S/v/9W/68/ov+gf4r/gb+If4S/jv+h/1L/Qz9LP37/N38ZPwy/BL8+fvl+7D7Y/su+0f7W/sv+xb7L/sH+wz7hPt5+yD7GPs5+z37AvuP+nr61/rL+hv71fru+jn7a/vW+xn89vtd/KH8v/wr/Aj8bvyt/G78kvwt/Tn9nf0E/mf+i/7E/sb+sf8GAOP/SQBgAIgAtwDTAL0A4AArAT8B+wAHAYkBhQF6Ab4B/QFKAkACXAJcAsQC8QIhAzoD9wJQA4UDrQO/AxMEAgTXAyAEUgRuBL0E9ATWBNIEHQWhBdUFBwYRBkkGPgYoBv4F/QWkBQUGQQYmBjQGJQaeBsgGmwZ4BpYGRgYKBtsFOgXqBLEEnQQxBPAD+gOKAzoDMwMpAz8DHwOnAosCaAJSApYBawH2ANMAYgDw/3j/Ov/T/n7+H/4T/tL9c/0F/c78l/xH/Gr8Z/xL/Cb8P/zv+xX8Wvxb/HP8X/yg/ND8jfxY/GT8nvxG/Mf7XPtX+0r7KvsM++P6ovot+lj6gvoA+sf5DPob+gz6TvqZ+pv6y/oC+237k/sa/EH8I/wL/Mn7pPu7+7j7z/vC+6H70/vv+3b8yfzr/Gf81fw7/fH8nPy//PH8d/24/Uv9k/0J/uD99P0E/kT+MP4m/g7+H/7o/Vj+ef68/gX/L//V/l3/Lf+C/4D/Rv9m/xb/k/+F/6z/6f8YAF4AsgANAVwB6wEYAlECswKVApwC1ALjAvQC6gINA4UD2ANeBDQELwQvBNcEFQUfBccE7QTbBO0EuwSdBKcEqQTmBB0F9QRdBaEF1gXGBXYFNQVqBZcFIgXcBGsEhgRVBCME0AO0A80DLgPvApgCswKaAkICgQI0AjgCOwLKASkCHQIgAncCdAJCArwBngFTAS8BWQAVAB8A5P83/z7/8/4M/zf/bv+y/3v/pf+q/xn/3f4U//v+Av8b/wP/Ef8H/xL/HP8I/xz/KP/T/nn+A/6v/Yb9V/2g/XX9cP2J/eH8svzE/L784vzc/Kb8dPyR/Av87/tp/BD8OPzl+9H7FPzv+437YPtl+zb73/oB+9n6y/r3+u36Q/v1+qf60vr4+rH6zfpF+8r6X/rI+nz7Pvsp+1b73vsu/F38QfyD/LT8yPwF/Vz9+/xG/a79yP2n/Z39J/4s/l7+x/72/jX+qf6n/9f/9/++/w0AHABCACQALABHAKsASwFEATABrAHuATQCnAISAyQDFwOIA2ADjwOIA+kDCQRrBGYEYwSVBEAEdwS5BIEEmgTHBBoFWAVxBZoFiwXMBQ0GywV+BboF5QX+Bd0FbAVCBScFUQVCBRMFGgVYBW0FbAWpBZUFqwVZBYMFFQVABesEJgUdBdQE4AThBJ8ENgSjA4gDgAMpA/YCfgIlAvIB7QHjAY4B8AGyAbwBfQGRARwBxgDGAKgAqQCKAFkAEgAwAHIAiADw/wYA0v9f/xv/Kv+9/lb+K/5E/hL+Cf70/e/95f24/U/9+Pzm/N/8v/x4/Eb8R/yN/JH8JPzy+yb8bvx5/D38uvxB/L78+Pxu/Lz8wfxk/GD8b/xq/C78hfzL/MT8+vzO/D79f/1U/Wn9xf11/Tv9h/31/Zr9cP3c/JH8N/xJ/JT8dPyv/PD8N/3r/Qj+P/6S/lf/mf9L/77/wf/6/xcAVgBUAIMAvwDvAEQBUgGOARYCOwJ3AsoC7wKhAvcCHAM3A1ADowP/AyUEVARhBMcE4AS7BAQFvAUbBpYG6Qb/BkAHVgeYB4YHwgd8B8UHnQd1B3oH+AZSBlcGKwbHBcEF3wVdBbME1wTMBMgEmgRyBJAECgTVA40DWAPeAhoDrgJlAiUCfQEcAdoACgGeAB4BewDYAMcAbQA/AHEAPwDP/6P/e//0/ur+Uf4u/nv+mf5J/uX90v0B/tH9i/2C/f/8ivxO/Kv7l/tr+7j7W/v8+u366Prc+sP6mPp/+oX6P/oC+tv5ivmB+bz5qPn++fT5KPrG+VD6WPpY+vb57vme+Z/5pPlM+TX5WPnH+dD57PkD+gj6UPoD+lL6gPre+rf6CfuS+9377fuH/HP81/wC/XP9oP2+/XH+x/7C/hv/iv9m/7f/KwBJAIsASAHkARMCcAKDAyAEYQRfBKkEEAU2BfQFBQZ1BtcGzwaRBu4GGgdjB8UHpAcACBQIBggfCD0IighdCDUIZQhiCK8I+gjsCGMJ4wlHCuoJnQl6CfIJiQmfCV8JLAnrCEMJSAmpCaQJTgoTCnEKWQqkCmcKiwlICV4JkQjTB/gGLgfBBooG6gUSBUAE3AMDA00CAgFFAHr/kv4F/T/8Kvtu+un5Mfl/+On3M/dC9qz1OvVR9OvzhPM086XyofK38o/y6fLp8uvyiPIy8kfyUfIe8u3xPfKR8pvy0vI78yfzRfMr9J709PRX9Wj2Cvdu9w/4fPiz+LH4Lvn4+cX67vpy+/H7b/y0/Cz9Kv2q/Qb+9/0u/jj+1v75/hb/mf84AMYALwE3AaMBNgI8A5QDeQOmA0oE0gTRBYUGTwfOB/AINglLCXgJOwlkCREJzQjcCOEI3Ak6C2QN1BCVFJkXlBonHWsg5CJ/IxUjcSHjH74dExvgGF8XcBYNFRAUMhO9EVUQeA7WDJcKHwjjBGEBLP7t+675B/jY9kX28vXv9Fj0EPQT8/bxkfA977XtEeyk6prprun36QjqWOr96mnroOvo697rqOvk6zjsKex67Kvsxu2S7wLxOvK58zT1Dffe+MH6OPwY/hcAcQEiAgADqAMOBOEDewMVA3oCxgEvAZ8ARQDf/7b/3v+K/1f/Jf/Y/ln++f20/c39Gv7R/ev9I/03/Rb9svwB/AH87Pu9+3T7TPu6+xL8HvyH/Db9tv0c/jj+cf53/t3+CP9Q/1r/nv+o/ywAdgC/ACUBaQFdAZEBuQGZATUBKwFIAdYAgwBFAD0AnAAHAa0B3wExAvkCngMzAywEKAShA7wDxgNvA1UDVgO8A/0DOwVIB4oLMBCfE5UWrhnRHYUhsSNgI6Ii5yHZH0kcJhnEF88WZhXiFGAUzBNWEi0QzA6mDaALCAhYA97/4f0c/AX6vfhu+Kf4w/jj+Nn4ZviC99/1wfTW8/zxs+827jfuO+9q77LvWPCi8Djxx/EN8mDyePKl8r7yXvMV9Mb07/TN9Ub31Ph3+bz5Rvph++z7cfwW/V79tP1j/tH+a/9k/1r/r/86AAABZgEBAiQChgKxAkMCAQLAARwBSQCY/63+wP2b/Nn74Ptw+yL7VvvK+177QPv1+jL6g/nr+JH4zffR9nT22PZ29w74I/iJ+FX4L/gM+ED48PhE+Y/5HPq3+iX7jvsy/D79aP3W/R/+hv7d/v7+T/64/VL90Pzi+5f7Pfzo+/n7U/wH/SD9c/3g/lX/MACBAI8A2AAFAWoACABS/9r+N/8H/8X/ogK/BwoNCxHWFLMYLRpiGhcc3h+YImMgFhskFmQS/Az/BgQE4QRZBzAI/wh5Ck0MQQ2SDQkOcg6ODGQIuARaA3QDsQKZAIT/Q/+p/s38f/tk+or5B/ht9gj1vvMB8iHwx+8k8hr0f/UR9rf36vgj+gf6hfmw+aP5b/mq+O34GPls+fr4O/kM+iv6IvmY+M/47Pk++lr6lPpI+/T7pvyW/K/9C/7H/jL/vv/Z/1f/6f5l/gH+6/1R/kf+DP+BAOQAgwCv/4b+9/36/fD96v1r/cX7M/mw94P2C/ZG9Sr2gvdH+Rz6cfq0+hb7Avus+mz6DPqe+a/4IvgZ+CD4Ivg++O/4lvo8/Eb9yv25/ff9+v2E/eH8y/yg/P77Dfz++2r8X/yc+9L6SPoA+iP6WPr9+nz79/pd+v35kfo9+9L8n/5UALQBJAI4AgECZQKVAk0CUQLPAdAAgQBOAUcFoAsgEecS/hQEGEoYWRnPGzYgNCJ5HmUWhxBqDUIIhwOiAk0GIwlTCrMJxguqDYsOwQ3JDOIMgAtGCMME3wN7A/oBU/++/eD+rf/P/6j/z/8d/t37x/ib9wr3Bvcj91n5W/x6/yIAVAAlAekBOAL1AfwBQwJrAdP+dvxx+rf5YfiV+F35zvmg+mH6WvqJ+kP7kvvi+xz8R/y8/CL9FP0Z/Zv86Psv+8v6EfpJ+bb40vgW+F/3TfbZ9en1FvbW9vr4Kfs6/PH7LfwC/YP8B/v9+iT89vs/+s73yvUh9QH0rvNE9Lb2Vfjx+bb7Wf2O/Q7+i/6t/vL9uf1t/f/8wfxd/GL8q/yv/MH8Mf0h/kn+nP7y/Xj9kfxN+5T6Ofqe+vr6iPui+w38LfzM+1777fsD/AH81Pu/+y38Pfz7/HL9aP5B/xkB2QEjAzwELgX8BL0EpQSMBCQF1gQLBXcFjAZuBikIaArnDSARtBKXFIkVIhbrFcIWjxegF8AVjxLYD7YM5AhhBhEGbAaIB/EHMgjPB0IHDwY4BQkFiQT2A9sCaAKgASABagD9/1j/1f8NAP//lP/f/sz9C/xY+h/5m/g0+GP4gfkM+xT8vPz2/F79yv1R/pX+Sf55/gb+mP0R/fv8yfxI/eX9Ff5o/vv+6v68/sL+Zv/S/4L/D/+y/pX+6f5M/kX+//2W/a38A/wR+wf7rfpx+nb5ovgO+Jz3pPZo9kn3ffe893f4U/kS+fL4cPhB+Bv4KPfT9nL2+vUw9Tz13/R79K30kfXV9Tv24/Ym97L3sPdn97X3E/gZ+FL4Ufke+gL6ovoY+437UvsG+177kPuu+9P7dPzu/Pr8qf1T/q7+Qf/q/sP/JwC8AGoA3wBBAS8CrAKIA2YElQVfBrEHvghyCeUJgwoWCysLHAtZCikKVAqgCRMJWwhgCCoJrAlwCUUKFwvZC4sMmw3cDocQTRD3DpINhgygC5AJpAdiBgkFPAN8AtIB1wF9AfUBfALQA5gEmgSCAwYD+wKNAjUBsAAnABn/1v2R/aX88fvE+5X7Kfty+6H7zvvb+6X8gf04/qv+I//V/0YBvgFFAjMCKQIRARMAgP/z/kr+VP5R/jj+1v3w/QH+lP6m/nb/PQArACIARACv/x7/Wf6R/Xb82fvE+7H7qvwF/LX7wPow+v/4bvj/95T3YPeM93z2Z/Xp9L309vSq9an2E/gJ+VP54PjS95z3Vve49gb27vUB9v/14/XH9qH3z/ge+tv7iPxf/Yf9kf2Z/HP8CPxL/F/8Pfy5/EX9C/4//2UAmwH5An0ERwVMBYoFWAWBBKUDZQMuA8wCugIIAxkDewOzBIUFygZoB1AIowiCCbQJHQqzCeYJxQntCeMJfAmLCTsJMgnLCDUIlwe1BxgHEQczB9IG+QXMBdgFfAVoBZcFGQYKBukF0wURBjkGKAb/BDoFTgXoBH0EZwNHAsIAy/+f/l3+g/58/nz+aP7g/vP+Zv8eAS0BsgBgAF4Adv7U/aD9Zv1Q/Mr73ftb/KH8lf3n/qMAdQESAasATwCO//H+JP7H/aP8D/xt+336//o4/LL8g/wo/Jb8c/2O/Sz9SP2u/fn96/xY/En8K/y6+0/71Po++uf5jfmk+Bn4rvgJ+cL4ZPhN+PP3Pfff9873zffm9yL4zve397/3Vfhj+XH6iPsj/LL8Iv2q/bb9U/53/rf+aP5q/in+gv1P/Xj9yv1n/vH+Yv/u/4YAjwAwAfMBSAKNAhkDoAN+AxoDuAJrAmMCgQLsAlMDdgO3A8QDUASkBIkEkAT6BB0FEAUEBesEsQSBBDcENgSRA8sDGwS0A3ED0gPSA1gDPwPTApcCbQKRATUBxAB7AEkAZQAQAA4A5P94/97//P+W/+b/6f/9/97/ZP8S/y3/MP8A/+z+Sf8W/7L+n/7R/rL/WP/q/jD/V/+e/8D/JwBvAIYAjwBeAJkAbAAYAJcAbwAzACsAKwDYADkB8wAIARkB0wCNAMkAGQHlAP3/6/+3/2T/sv/h/3IA0wD5AGcBUAHsAF8B+gHwAeMBngEAAQABjQDc/5j/1f/A/13/0f5v/iz+1v62/zEASgADANL/Zv/7/q7+/v7V/lH+kf1I/TT9L/1L/WP9df2J/Z/9Iv3E/Kn9/P3m/bH9ov13/VL9mP1J/hL/P/9n/yj/3/6//mL/Z/8R/0j/ZP/G/uT+sv7q/kH/cP8DAOn/EwDL/zL/0v/1/xoAAwCg/4//Ef+K/mz+W/6A/p7+rv4b/6X/1//N/1QAjwDEAPgACAHRAKsAvQCKAOT/UP/7/p/+wf5i/p/+YP7V/un+8f4X/8j/BgBbALIAnADiALgAQgDc/wMAHAAEAFgAYwB8AKQAeQCuAOQA0ADkADQBDAEAAasAcgDBALgAAAEbAdMA2AASAWkBmAGvAagBsgGtAacB0AGHAYcB5gEvAjECDAJjAgsCJwJDAvIBEAIJAtcBXwGdAR8CzwHmAfoBJAIuAhYCcAJ3AnUCpwKLAkwCOAJKAq8BQwFTASEBuACwABcASgBeAKkAtQCaAGoA1gA+AYwBFwHBAOwArgA6AP//BACd/3P/a/9D/0H/e/9k/5T/7f8QAPz/WwCUAO8AtQDqAA8B1QD7AMwAwgC/AG0AewByAJ8A2ABDATwBYgGtAW4BrwHFAaoBkwF6ASABHgFSAXUBmQFGAXABywGtAZMBOQGgAY4BYQFOAaQAWQBZABMAcgBUANf/DgDF/0j/Gf/L/rX+Bf8M/+z+V/9X/2z/if+A/3D/CP/f/tb+7v7a/qv+2/6h/pL+bf52/l3+hv6a/rf+Jf8S/zL/3v/V/8r/BADt/+n/t//I/47/xf/z/yYAIQBYAGMALgAGAPj/vv/Z/wMA6f+Y/5j/e/91/6r/t//3/+j/9f8IACIAEgBCAI8ACwD8/0UAQADe/9r/f/81//3+tf6j/uf+2v7k/hn//v4w/0T/UP9p/7T/bP+5/+n/EAB5AKkA0QCwAOIApgDWAJQAtQDbAMYAAwEoAfEAJQEwAV8BcAFSATUBYgGdAbcBxQETAh8CpwK6Ao4CrALUAl0DiAM6A7oDtQPmA8kDrwPhA48DtwOeA5EDjQOqA2UDaQOKA1YDigNqA10DxAPIA9IDeQOeA/MDSwRQBCAETQRPBCIE9gNTA6MDjwNEA0EDWgM/AxADDQMeA58CogJ/AioCTAJIAukByAG0Aa8BvAGbAYIBrwFdAcEBGAJSAhYCywG+AQECGwLpARgC+AH3AcoBkQFsAWYBDAHlAHwAlQCzAFkAZwCUAKMAzAAmATIBKwEhASAB7wCoAL8AqACZAHsAPwA2ACIA7v8zACcA4f/A//f/FwBxAI0APQCeAJAAcQBqAHIAngBoAB0Aw/9AABgAUv86/4z/2v6w/q3+hv5Y/in+QP71/bP96/0Y/mX+Wf44/oD+Sf53/mj+Y/7Z/d794f3Z/eH93P2i/aX9jv3c/Z/9f/2b/ev9hP2z/Rf+P/4c/jv+Yv6L/qT+cv6m/uL+uv4C/5n/zf/F/+P/mP/y/08AUwDgABIBCAGuALUAgQDm/xwAbABvANMAugDEAOQAvwC6AHYAiACAALwAtwCkAMEAxACmAPMA0QCGAHQAQgCDAE8A+P90AIoAuf+3/ycA6P/D/8b/cf8+/9D+Q/8//7n/Of/9/hL/bP/f/8r/FwCKAJoAVAB7AHEA0QDHAOkAjgFfAXUBggE5ASEBIAF/AV8BawFuAWwBmAECAdEAGQHsALoAVgApAFYAbwA7ADoA0wD4AKgA2ACNAG8A5ADdADgASQB8AJUAVgD8/8H/kf+F/6L/Fv/u/rf+i/7l/tj+y/48//b+AP+L/rf+0/69/rz+o/4N/3H+aP5o/jD+uf2M/Vn9gv1z/a79eP0K/T79n/3h/Rz+Y/4m/oP+q/7L/uD+pv6B/rj+NP9D/yX/af9T/3P/mf+b/7L/8v8AACkAOgBbAHsAdgCuAMEAhgAZAXABXwGEAaMBPgJ1AhgCCQJDAl4CcgJ0Ak8C8AFPAkgCOwIOAkcCWQLmAXwCYwJ6ApACbwKDAlICagJ5AogCXgIRAr4BiQG0AcMBjgFJAbwBXQFpAXgBwwG2Ad4B3AGxAd8BeAE8AZsBmQGtAd8BBALUAcoBkQGeAZkBuwHXAS8CGgJDAnoCUgKzAoYCuwKQAnACcgJvAnQCXgJlAlkCiQJrAmMCXAJCAvcBywEiAkACWQJeArEC+wLKAtMCkgJKAhMCYAJMAuYBzQFwAXUBhwGWAVcB3QC8AMIA9ADJAJwAaACPAEkAMQDh/5P/X/9n/xL/tf7p/p7+YP5s/k7+Lv4r/k7+jf6a/r/+sP7L/qP+cf6w/lT+J/42/nf+R/4r/u396v3g/Wj+J/73/Q7+//0f/gj+Nv4a/kf+Wf4J/hD+OP4m/v79YP6D/iL+Iv4Y/kz+mv6Q/iP/Pv9X/1j/e/8XAOv/VgBvAAMATgBUAEkAhQByAGoAMwAuAEQA6f+8/3j/p/+Y/5n/Rv9i/13/NP/x/oD/Zv8I/1D/cf9S/zD/+/7H/sH+B/9G/0j/1//p/+n/TgAIAEoARQADADUADQC2/6X/0v/X/8b/AwBOAHYAgQDOAOkAlwCaAOUABQEbAcIAkgChACIAMAD4/6r/9/9HAJQA7gDzAEYBiQF1AU4BOQFGAYUBSQHQAc8BnAKcAqwC2QIZA1sDUQNiA5QDvwNaA9gCYAKIApgCagK2AgYDHgNkA6sDWwN0A8MDqgOZA1MDZQMPAy4DyQINAx4DKwNuA8YDqwPGA2oDUQPRAh0CJQJcAvwBvAFiAcoB1QGsAdkB7QFwAn8CfwLyAZ4BegGjAZgBPAG4AKYAJAB+AKsA0AADAQABoQCNALoAiAADAK3/UP/5/r3+mv5W/lj+d/5j/oH+n/7d/hT/SP81/zf/Cv+3/nT+pv6Z/lj+4f3K/ff9RP6F/pT+rf5v/hL+K/7F/Tv9Pv0U/SL9v/xO/AH8OPwh/A38sPz//F/9ZP2Q/Wn9Qf26/Eb8ifs5+xP7GPvS+kL7+/tl/NL80/xN/Wj9svyw/I/8X/wf/Mz7tvv7+/H7A/yw+w/8rfz5/eP9dv6I/rf+Sf6a/uT+Bf9O/8H/ev99/4z/1f+y/+j/dwBqAJoA6QBhAd8ABQEwAQUBjwCIAL8A2wDxANEAxgARAVUB9QGnAuoCIwMSA9kC7AJDAlwCwALRAggDkwJvAhECIAIMAhoCRgOyA8QDDAQPBJYEnwTwBLEENwS0A90DGQT/A+EDYgMoA2oDgANQA2kD3wM7BDcE7AOrA3gDEgPgArUCTQL4AbQBpwFDAZ4ALwEXATMAlv/P//D/oP91/2T/Wv+b/3j/hf+5//3/w//k/kr+U/7j/dL90f20/YH91fyj/GT8nvyd/RD+nv6N/tv9J/49/tH+tf7C/jr/L/8w/kX+xv61/rj+BP7S/Rr+9P3W/Zr9hv0Q/gT+s/0n/ar9Y/3M/ev9s/1//Zz8H/wu/B/8yvuO+9j7MfuA+gn7k/u6+8z7z/tj+8T7k/tC+0P77vok+1T77fqb+tz6GPs7+2r7xPvY++P7H/x2/I383fzk/CL9L/0t/X/9If7d/hv/XP9Q/3b/2v9sAL0A0QB1Ab4BogGTAegBVwLvAjUDxAP6A0oEvAPIA+4DHQRDBAcE+AMZBE8EbQR4BCQFcQWpBVgFlAWaBUwFwgSOBOgE/wSdBGkEeARGBL4EgwVhBkgGFwb0BQgGQwZxBkkGCAaKBdkEAAQjA6cCpAJSAnACgwLeASMB6QDxAA8BrQAxALAASwFmAZQBGwFBAVcBIQH0AKMBvgEIAUAAWP8U//T+8f6Z/vn+AP/R/uT+Xf5C/mf+i/6e/nf+VP7P/XL9m/wy/Jn8Rvy9+xD85/z7/Bn9zvxJ/IP8h/w1/Ar8C/wQ/M77wfp6+qX6Rfv4+i/7uvuG+w77Gvuv+kr7RPyC/I/8l/wt/L/7x/u2+2L8Wvyl/HT8ufzB/ID8m/yv/IX8tPxz/a79kP0J/Rj9cP2q/a/9J/7J/gf/7/4Z/wP/0P6L/tX+Fv9m/4D/tv8b/6D/JgBOAAEAswBsAScCGgLhAdQBKwEWARQBcAGsAdkB1AGWAXABPAF1ASACuwIKA6MDxgM9A+UCWwIHAsABggGqAcYBowG2AS0BNwFVASICnAI4A3MDUQNEA/ECkAKcAgQCfQGVAP//yP/u/xIAFwBHANUArgAXAVABjAGjAQUBFwCO/zL/jv/t/0kA/gBQAZMBowHzATECVAK6Am8CBAL7AGwATgDX/+L+Zv+d/yj/WP+K/83/1P+2/3H/Qf9N/4L/bv+n/8H/6f94/2n/sf/9/zgAYADw/7f/ZP/V/q7+7/5u/4X/+/7E/qb+cf6a/sH+Zf6S/nv+TP4s/rP+Mf4X/kz+t/4Z//H+AP99/1X/gf6l/Tf9lv07/Sz97/1M/nr9J/2z/Qj+Ov6I/lb+WP6d/dD8xPxu/H38q/ye/Ab8uvuO+2/7z/s3/Kb8jPxV/FP8afz++1v7IvtH+3T7wPoG+377x/vq+0L80Pwb/Tf94f10/tb++P58/p/9Nv3x/Az93PyX/Cz9eP2s/aX9E/7p/gQAjwCAAKgAbwDt/z7/PP/P/28AwQDBAMcAowCGAPEA3wGYAvsC9wK1Ah0C1AFJAecAswBeAMYAAAE5AQMB2gD5AEgBvgFZAlICkAIiAlwBUgFhAc8B2QHzAT4CIgKPAXoBJwJ3As4CNQPlAqQCQgLAAaABhwG5AXMB+ACkAFoB0AHPAb4BQgJ2A6UDpQNNBHAEyAOIA/sC7QLlAiQCBAKbAV8BJgEHAVgBXAGEAXEBegF2AbwAiwBvAFgAz/9d/3j//P/B//L/eQAUATIB9ADpAMkAWADa/1L/4v41/oH9bv3H/VT9G/2s/Uf+9P2Q/e39HP7//X/97vxJ/CT8s/t9+p36Wft8+0z7rPt7/BX8u/s6/O78Y/1U/cn8RPyi+1b7l/um+7X7b/vT+9b7Ivvl+//8aP2b/b39ov2Y/bj9H/6K/ur+d/6u/ZH9Rv0d/p7+P/+R/0v/wv4g/yP/Q//r/z8Aaf8o/8L+Ov7I/VH+3/57/9D/2v/Z/3D//f+FADwB3wEgAjQCBgKAAbIAgwANAXcAWQB3APD/CP9N/3X/uf8SAG8AugB+ADYAkAAjARYBFgG1AGoATAD//wkA5P/k/0AABgB4/28A1QDzAH4AJwDB/wQA1P9d/4L/p/+Z/3X/X//m/4MAxwA7AEUAsf/F/9z/8P/K/47//v6G/nT+Gv5g/v7+3/5x/in+6v2k/Xj96v3A/Ur94vwi/V794f0V/tX+Kv9B/5n+/v4r/1//UP/0/mr+aP1t/V/9QP3N/ZT+pP7O/vD/6QBTAdwB0gG0AZ4BdQH4AMEAlQDYACUBZwGZAQsCrwFcAT8BUAFdAaUBKgEFAVMB5wBiAKkApQHVASQC1wGTAcMBrwHuAVMBCgFkAQUBQgBHAKEAigCIAOb/KwDEAP3/ZP9I/4T/Uv8K/4j+lf5o/p390f3c/Qn+K/7b/i3/1f6c/p7+bf5K/uH94P1//bj9Pf4O/jH+LP7v/T3+j/7H/uT+Wf6x/a79oP0Y/Zn8PPzs+9j78fta/Iz8ePwb/Xz9r/1b/tv+kv4S/vD92/0p/k/+wv6//rj+kP5x/l7+qf5J/3X/oP+P/+T+of64/gr/PP+O/0IAgwC1AHEAUwDQADwBTQEMAe8AqwBJAPD/o/9MAB0AagD0ADkBcwH4AHAB8gEiAvoBlwKWA7QDywNbAx8D8QIXA2ID3QMZBCgEXASvA/ADXgSpBKoEUQVTBY8FYAXCBH0EPASMA8kDUASOBMcECwU2BRUFDgXSBEEE4gMvBAIEiAOmAhYCoAGdAbsBCQJtArECLAJPAm4BswANAEQARQAsAO3/hf94/wr/rf6f/sb+8f7Y/vT+l/42/oH9v/wt/H38G/3i/PP8s/3o/Tb+w/1Q/V79uP3Z/Xz9w/zn+037J/sk+0P7fPsU/BX8t/yK/DL8iPvj+iT7s/ts/Pf7gvzp/KH8TPzV/Mj9xv5z/yH/Z/9n/87+F/6p/gj/bP+q/3b/ov9d/4L/mf8EAF3/hP/3/2H/7/7W/mX+xP7E/qb+1v5J/9f/EADX/9T/3v/V/wkA7f/I/03/6v5T/t791/0O/v7+6v7k/pT/2v9jAIYAwgCtAJMB8gG5AYkB6wGEAYAB7wB9AcgBCQJqAvcCbwOXA+4DBQQbBJkDQQPRAgUDxQJ3AkoCvQLlAh4DtQM7BJEEkATXBDgFnAW9BcQFkgVWBe0EGATSA3MDGgN5AnoCRwIqApQBKgH+AKIBywEMAo4C0wLAAvgBtwHRAMIA0wDvAIMAbQAaACYA4f89AKQAqwAoAT8BfgBFAIsAugAEAOv/0v/P/5H/MP+R/4f/nv8I/w//eP8VAIMAJQFcATQBEQE/AVgBxgFkAf0ACwBc/wz/xv4T/tf9O/4S/vL9lP6y/mD+Gv5A/qj+JP5M/mX+Qv4w/ur9qv0a/mX+W/6j/iv/FP+9/kD+Nf69/Sr98/xF/XP9Rv2X/Jn8+Pzv/SH+Vv77/oT/vv8C/x7/c/+W/xT/Yv53/hP+1P2W/V7+Yf+J/xf/Qf80/xv/vP6B/kr+Sf6Q/eT8ivwJ/WH9m/3K/df9p/3y/eX+s/4L/tn9/v1A/ez8IP1P/Yv9Hf3T/Oz8hv1x/rX+wv7a/k7/U//7/q3+yf6f/u/9if1m/Rj+Ff44/q3+Pv/O/t3+5f7Z/x8A1f8nANEAVQENATkBewGyAcsBmwHwARMCIALZAt0CNgILAjsCRwKEAskDLwTrA6EDLgPxAvkCQgNWA8QD5QKvAa0B1AGMAaoBHwKDAvIC2AK4AmYCwAJPAqIBsQHcAQ4CogGZAZ4BwQDkADwBIQHRAN8A9ADB/0b/3/6Z/s393v0N/tf9fP1k/Ur9/fxh/Z/9vv1K/vj+Tv+x/zL/uv7i/tv+b/4//j3+Ff7v/dL9bv3y/fz97f0D/mr+hv4s/hX+zP0D/lb+Df7+/WT9tv0J/vf9Gf2a/Rj+Df7o/Rf+CP/k/9X/sv+M/7b/3P/U/8H/GAC0/7f+WP4t/y//WP+x/4X/0f4m/mr+Zf7L/rv/lv+i/+P/RwAcAD8A0QBsAdUBPgF5AO3/HACg/+7/EgC9AMwA2gAbAQIBoAFRAlcCmAIvApYBOgFeACQAfABLAf0BfwLsAiYD1gLxAjwDpgO0A6sDSQPdAhsCZgHVAOAATgH/AWMC8AGJAaIBkwGHAZUCOgODAxwDOAKKARYBVQHuAVcCnwLEAhsCtgF6AV0BwQHyAT0CygGzAFYAGACZ/54A2AARAdgACgHWAFcB1QEWArwBqAHSAZgBSwEPAasApABUAB0AAwBEAPz/5v8TAOUAdwBOAE4AVgAnACQA5v+8/ywA3v/W/qn+9P4W/63+lf7H/hf/NP9t/rX+Xf8K/8L+iv6w/lT+jv1F/dL8nvzS/ED9Yf36/Bn91P06/rz+Sf/u/6gA0QDP/yD/PP9W/pj92/26/r/+vf6c/hb/Kv+S/uz+3v8cAJT/5P/Z/5P/L//R/sf+0f7W/jD/1P8GAGwA5AA6AZYBeAFOAVwB5QBAAPD/bv/E/rf+Nf/w//X/HwAKAToBVwFkAd4BRQLuARYC0AGJAQABuABGATUBAwHzAB4B2wApAI8ADgCd/4n/m//Q/qv+Gf+l/wkA7f/r/6z/jv9KAEwAlwBvAOIAdwAdAJP/1P9YACcAqv+H/w0AOwD6//X/kgBnAA0Acf+J/3r/XP9O/3r/3P9z/8P/lv+e/7IAIwGFAU0BmQFUAqsCwQHeAcYB2gC+/8v/bwBnAGUA9ADDAYQCgwJbAqkCLQNJA3oCGwJSAvcBXQGEASoCcgIkAssBAQJqAp0CKQPcA2YEKgTBA9gCBAIOAmYCLwLBAZQB0AErAcQAjQAcAYcBkwHKAQYCsQLJAmUCsQLCAoMCDgLaAXABUwFQAVUBmQGlATYC5QL2At0CeQIWAmkBiwBPAPP//P8D/0n+Dv75/QH+x/2p/j//3/73/Yn9Q/0P/X780PwO/VD9aP1V/Wj9z/12/or+6P1U/rL+Uf5K/S38q/uL+xb7T/tt+0L71Pod+7D7mPsP/DL8Cv39/Iz8KPwK/ML7avt1+7r7MvyH/FT9/P3R/SH+HP4S/nH+vP7W/uL+nP7D/Yv9d/2J/X397vzg/aX95vx0/EX9f/2W/bT9Df5t/kP/hP/N/y4A1gC1AEQA1gBsASEB4ACQAK0AqAC1AHQAVABnAF0BowCAAJIArQDEAOcAzAAlAd8ArQCyAFIBwAHkAfMBqAFsAYIBDwHiAO4AfABHABoAYgB3AD8BhQH3Ae0BngF7AUgC0QIXA2QDYgP8AVABSwF4AcYBKQL4AYIBtwCQAIEATgELApMCYAKTAvwBUwH+ADABcwH/Af8B1AFwAqQCNgKWAXEBUQLAAh0CqAElAi4CoAGFAAgA9gBcAZ4AIAH3AS8CjgHiAOAACgHkAOcAsgDHAP0AowDHAIAAGwGCAQMBgwA9AOT/PQCO/4D/Av/0/g//Tv7e/Z/+ZP9r/2f/7P6V/vj+Qf9N/0v/6v57/lv+A/5t/hb/CP/v/v3+L//a/sz+NP81/4f/ev8N/9X+GP67/cf9Gf1V/Tz94vwT/Xr9Cf5t/sL+kv5t/nz+Sf5i/iT+6/25/bP9xf1W/nb+mv7M/pz+B/86/yP/af/q/vr9Tf2+/Lr8T/3b/TP+dv72/kH/Xf9m/8v/EADo/y3/6f5q/vf9eP14/X39tv27/fL9mf6o/10ApgCkAMwAVACSAJoAbQCq/wP/hf4u/k/+3f6n/4UA7wAUAUsBnQGOAtADVwR7A+gCagJBAYoA5wBDAQcBIAG1ACMBZgFFAk0CiwLRArgC0QKuAmoC6AGPAZoA7v9gAF0AbwAAAWcBQQFQAVIBHAE5AaoBSALpAZkBbgH/ARYC8wFUAlQCVAL3AXUCdQIlAvcB4QFpATIB7gDYAK8BzwFTAaMBHQL1AZgBiwKdAj0CrQEaAmQBtwDBAFoB8wDk/zD/Av/q/jj+C/5M/qT+RP/b/nL+q/68/h/+O/6I/mD+C/6a/V79SP1a/dz9tv1j/T79UP0V/l3+aP7F/TH+6/1F/pr+lP/j/x0Aiv+3/8b/3f5T/o3+fP4J/nP97/1H/lT+Y/5h/3//cf/1/7H/ov+i/w//Xv7o/f/9x/2C/Xz9Gv6X/p/+ev/k/10AfgDTADsAKQB//xoALAD1/5j/WACaAIAAnAANAZ4BdQJRAqECZQJDApYBHAEAAV0BdQFXAUgBPgGlAc8B5AGYAvQCOAPxAqcCwQFdAUYBVwGCAWQBjAHaAcsBDAK9AmoDVgM1A2IDRAN+AsMBygFkASgB9gC/AH4AwQDI/8r/xgANAQABngGAAbkBBAKXAm8CiwJmAnoC2QGCAekAugDOAA0BTQEmAY4BcQEXAZYB4wGyAS0BnwBsABUAp/+C/xMA3/8e/0D+7f1E/pn+qf75/m3+J/78/QH+8v0g/zL/lf5s/oH+kP0y/V798v3D/b79zP2g/db9CP5+/vr9yP3e/Rf+F/7M/fn9+f1U/pT++f6E/2n/Tv9s/y///f+3AEgBBwGoALv/Sf8b//v+HP+Z/3//6v4a/uP9bP7J/hb/o/82AI0AzgCaALUAnwD+ACMBZQAJAP//5v+y/3D/1/8cAMEAuAA6AT4BNwEhAYoAoQDqACUB4gBtAMb/1f8JABIAagAwAcYB/AECAs8B1wH1AdcBFQK7AVwBEQHJAHYA8P8LABIABgDD/w0A1/8xANL/MABAAD8AFQB4/zT/7v45/9f/UQAHAeQAkgBRAPX/qP9m/4T/ngA7AK//7v/9/yIAZwDGAIUBfwI0AsMBrAFnASYBNQHkAa8BewHcAacBqAGlAXICLgLWAuIC7AK4AmMCTwJIAkMC6AGCATUBwgBBAf4AWwA7AMkARgF6AREB8wDRACABqAD8/zgAKwDU/9r/h//U/4T/lv8+/0j/qv87ACcASQADANr//f/A/33/3/8EABv/LP7b/nX/nv/T/lj/RABEAGH/tP/A/7f/gv/9/sT+v/6D/pX+Jf8v/+/+qf66/mz+vf43//r/yv98/lr9jP3C/Zv98P0C/4X/k/9x/y3/6v6s/8v/yv8D/6v+Mf43/aH8z/v2+9/8aP3c/Ov8wP18/Uv9G/1Q/Wj+lP42/hD+P/7I/Z/9Gf1//R3+o/7l/Tv9JPxL/Br8hPsl+8X7pPtm+2r7Rfv5+wD8u/sU/N/8Q/2O/e/9P/4x/u7+Bf8I/0T/Yf8P//b+pP5v/jD/If+6/qH+rf/j/wAARAB3AOoAowDLAMEBywHIATsCHQIgAk0CegI5AnkCswJoAsQC2QKsAg8DfgMeAxID8AMtBDsE5AMIA3ICsAJ1AokCOAMVA8oCxAKiAnIC7QJpAx0EvgPnA4wDcwNEAxoD2QI6A3ACRwJhAq4CvQLFAtsCEgPFAtgCQAIGArIBrwFrASUBqwC6AI8AIAFLAQAB6QBpAUMBDwF/AcwAWQBRADoAwP/J/uT+dv6B/p7+ef7//a/94/2u/fD9HP5t/jb+g/74/tv+YP68/gD/lP50/oX+Wf6e/jv+lf3A/f79p/16/db95v3F/Vn9w/3S/c39JP5K/jb+z/2E/aT9VP6i/+T/jwDgACMB5ABnAaIBmAG5AcEBjgGUABUA9/8R/+v/bQD8/+n/CACl/5n/Yf8hANsAjQBTADoA9/++/xoARQDz/6D/y/8g/xn/Vf92/6D/nv88/4D/cf8D/w//q/4A/xH/Fv9o/t/+dv91/2T/Uv9s/4L/FP+m/tj+gP/F/6z/6f8wAIMAKAEHAUEBCQI7AtcBowEtAdoBOwJRArQBYgFxAU4BaQFNAQwCugIzAhwBQAJ5ApMC2AIPA8kCtgLPAlYCmgLOApACCgGzAD8B9ABqABQB7gEuAt4BrAE2ApoCIQNOA+IC9AIGApEBRAESAagB2gGiAbIBSAJMAkcCIQPnA20EnwRtBKMD/gJ1ArcBHgGrAGAAIgBPAFMAjQBxAOwASgJZAi4CXAJ3AtUB2AA6ACIAFwBk/57+iv+l/2H/UP97/2b/Wv9w/9j+O/4h/jj+5v3A/cD9bv3M/db9/P2p/dz9HP65/aL9+PzG/On8bv1h/Vf9xPxK/WT9J/1U/Tn9nPwI/KH7IPvy+lT7/Ppy+5L70/uZ/F79Af5t/kn+J/6o/lb+Gv5i/p7+b/6+/QX9BP0M/Yb9xf2p/iP/Z/+j/sr9/P3w/SL+4f29/X/93fx7/NP8zvyu/Vn+x/63/rL++/4EAPj/3P/4/zUAov+O/wgAu//P/7v/3//4/ywAdwC4ALIAmQAzAIEAkgAqAT4BWAEjAfwBzwLYAqwCMgO0A1YD9AKcA74DIwPnAlkCpwJ5AlwChgL7Av4CIQNEA4wDlgNpBDEE/wM0BMkD6wMYBAwENwQ8BNwDbwNiA2oDyQOvA7wDAgTOA+4DdgNlAygDYgMyA3YD0QKcArEBRAEUAQIB3wCpAMYAKgFYATUB/gCPACwAlP9O/yH/6v5t/gj+X/1B/Qf94vx1/Yv9HP53/vX9hv0+/Xj9z/0G/jH+Mf4B/pr9D/3D/Wj+R/4f/hP+Vv4n/rb9hv21/Eb8KfwD/Pn7u/vO+0n8+/sG/I385v0I/t79bf3c/dL9V/1Q/cr9BP4T/ln9Pv3//Tb+Pf79/l//Q/+X/q7+YP6T/WT98/wO/Vz97/3E/i3/jP8wAFMA5wA8AaABigE6AWcAJgDm//z/tv/Z/xAAhgA6ATUBeAEqAhACSQE5AagBVQGUAYoBTQFSAT4BQwEaAvwBZQLJAlwCjgJtAmoCMQJtAlwC9wHUAUkBcQGJAXoBGwJwAuEBNQHHAM4A8wASAdEAagAiAM3/Sf9i/3IAAwHbALoAiwBWAHsAcAEvAgICyAHPAV0BmgA6AFkAvQC/AKYAoQDuAKsA+wARAaoBFQJfAU0BFwEqAYUAUwBYAAgBcQE5AYsA8//d/uX+Pv86/wP/Sf8b/0n+2/0T/jD+VP5R/jH+nv4w/+L+Lf8v/57/rP9EADQBwQGeATkBDQFXAaMAVgCPALIAuACAALH/hf9a/w4A8v/3/1z/Ev8z/gP+3P1Y/ur+ff/1//L/rQCpAGAA6f/I/wgAf//7/pX+u/03/aX8c/yG/QH+MP60/c39of6y/kD+yP27/Zb9Yf1A/dz8R/yj/D38VvzS/IL9j/5s/oX+bf6K/kf+Sf4N/iH+J/6E/bD8Lvz7+yT8vPyS/P/8BP1G/fH84fwt/VX9V/3t/Un+J/50/ov+2v70/rD+FP8K/1j+J/5Z/pf+pP5R/if+8P0Y/gH+1/2v/cL9T/5j/pn+dv42/jj+O/6K/kn/y//f/3QAtwCzALoAZwAHAZEBQQEhAY8AYAC3AKMAdwBzAVICJAJcAnUChgLFAh4DRgNzA2cDOAN5A3EDvgNGBNEEowVeBfkE/gTjBKcE6wPpA84DQQMFA9MD8APOAm0CTQLmAZMBjAHzARECuwFiAXgBtgHoAVsCoQKOAiACWwIlAtcBTwITArkBXQFIAT8BPwHCAHQALADX/wMAHQCi/1P/5P+j/+7/RwBAADAA3QA0AeUADQEoAYEATAATAFgA2v/7/sv+bf6P/sv+PP8q/8T+y/5g/gP+Ev5j/ov+I/8h/9b+Lf+j/6j/zf+PAMkAYQGFAIAAOwDG/1X/Tv+g/5P/S/9E//j+9v4t/xH/Qf9f/9X+LP78/Uv9qvyo/Pr8uf1E/tD+Gf/9/sT+Kv8P/9//8/+j/+r+Gv6R/f/8Gf3x/K/9K/4k/uj9MP4O/lb+9v6P/7/+kv5n/kL+mP2E/dH9kv7+/mL/6f9O/2H/gP/q/uL+Fv+Y/9//WP8l/8n+vf53/uX9Sf5b/sn++f6t/gj/r/8OAPX/2v8EADsA+v/k/08ALwHYADEA0P9OAKQA8QBBAc0BXAEKAd8A1QB+ABsBKAEHAQwBkACyALoA6gAXASMBwwHDAbYBqgGbARgCSAJvAp0CkgIdAlIB6QDiAOAA5ACuAGUAbwBKAKQAdwBFADQBNwHRANMALwFdAbYB0AEEAo0C9wHjAWACVALuAfcBJQK9AkcC1QGWARACowGTAZ0BcwHnAAIB3wAKASEBgAEaAhsCcQFkAUEBWgFYAXABlAF1AbUAUwDt//P/cgDRAIMArgBHAI//Kv8t/5v/xv/m/6EAtv/v/jL/Hv/l/mf/vP+8/+r+2f2v/c394f1U/kr+ov3M/Zv9GP0j/YH9qf3r/Sf+Sf5e/UX9lv2n/f79rP3N/TH9Hv0e/Wj9zf2G/dz9r/2p/cX9k/1D/ZD9uf3b/dL9Ev7b/hn/Xv7B/nb/Df/+/jD/4P5f/1X/j/8l/0j/L/+8/iz+fv5S/4f/vv+J/4D/X/+I/kX+Mf6w/rX+gf7v/Qb++v10/tH+Mv8zADgATwBRAHsA+QDiAHQAOwBXAeYBEQKvAZ4BUgJ6AlcCRQJgAqwCdQLKAdUBpwJfAy0DFQOBAi8CwQGgAZ0B4QEMAvUB4QGyAeMBGAIuAp8CzgJvAlsCvAGeAWsB1AEmAekARAGFAZ4BjgGFAXoBNwHzAA8BxACSANL/t/9i/8H/c/8QAFsA5wCkABoAmQATAF//Pv99/9n/6f9z//z/9/+M/9L/if+M/zL/Hv/G/hL/wv6t/h3+r/2p/bn9tv36/W3+Df8M//P++f6z/g3/cP8XABAAKv9q/sr9f/3s/Pr8UP3v/bT9Pv0Y/Rj9aP0Y/nb/1f86/73+Mf7b/Zj9kP2a/YT9Nv1G/dL9xf1F/h/+b/6u/nb+b/4I/47/qP/n/sT+mf7i/uf+If+Z/+H/cf8P/4X/+P/e/5n/vP94/3P/V//4/zAA6//h/1YAoQDvABsBwQBjAAQASf9r/1EA1gCuAPsAGQFQAecA4gCUAVkChgKGAsICgwJKAlICEwLwAQYCowFpAf0AAgE+AToB0AAjAbIB2gEMAuMBHAF7AZcAhQCmAPkAaQEyAf0BjQKfAtsCSwNUBIwESgTIAwAEDwQ/A7oClQIzApAC4wGbAYsCOgOzAr8CCwNuAyEDqQKhArUCeQJMAkMCvwLUArMCsAIkAzMD4wKgAToBIAEgAc4ADAHaAFMArf8m/0T/y/9tACEA7v9nAP//NP/b/jX/hf+J/47/+f4e/zT/DgB3AAUBSQEMATsAXgD//x0AAQDG/+D+i/5e/in+RP5E/qT+3/7V/vb+5P+yANoA8QDTADABOQEAAPT+KwA7AID/WP8g/+/+Vv7D/Xz+9v6j/g3+6P0N/mz+bf7j/WP9pP2z/cP9uP7p/tP+bP4f/gb+Uf5h/8X/yP/N/3v/2P6p/tj+oP8BANr+of6G/hj+9P1s/l7++f5E/xL/CP9p/4X/rP8TABAAaf+A/3r/Jv8m/xn/y/7z/pP/ev8K/0H/3v9ZAPr/o/+K/yEASgDf//P/RAC0/wj/KP9G/3j/w/+7/y4AsgA6AFsAUQCyAKkAgQD//6P/agBFACEAYwDVAOkAAgHuACEBNwEXAWYByAELAkIC3AEsAioCrAEvAvECRwNbA94CRQIxAkcCQgIRAgkC9wGTAREBNAHQAVkCYwJrApUCAgIYAvMBowH/AQ4C9QGZAUEBFAHMALMA+wAKAdYATgEmAasA5ACyAD0AEAAmAHsAVABT/6b+MP9m/+P/eQCeAOcA2wASAMj/ewDRANAAwQADAD7/nv4N/u39Kf6a/u/+//1m/Rb9m/1D/Xz91P18/YL9mP07/nH+xv6j/sf+n/5Y/o/+IP/k/uD+Av/0/vv+fv4n/pn+MP71/ZH9Rv0U/SD9bf3W/TP+kP7C/kz+0/5a/4T/hf+O/1r/x/6p/kn/m/8LADsA5v8VAO7/CQDpAJIAqwCLAGAAIQBr/1f/pf8VAEQAUv+l/2UAugBZAEQARQAiAN7/5v+7/6//w/83/6n+HP9D/2b/P/8P/2H/Uv8H/+T+PP+b/3j/2/6Z/tb99P31/Sf+of7T/jr+r/0X/vP+u/9FACYA+P9oAFEASgAoAXMB/AFMAqMBPwGCAfYAyQC8ABYBiQH0ACEADgA7AGIAwQAIAYkBUAHqAL8AdACUAFABeAGZAV8BHAGfAPEAXwGeAd4BXgJNAg4CcwEmAWYBTQGjASgBowBCAO7/2f97AF0AhgChAK0A5wCyAB0AiwAuAJn/jv8K/wD/+f7q/qT+wf5y/p/+qP7Y/sv+cP9k/8H+nv7R/vj+Qf/H/gj/3f66/sL+3f6U/lD/SP85/2T///96/zT/Rv+P/27/Vf9z/8j/Yf/2/uf+af+W/yIAEgCH/wAAj/+e/9n/yv+b/y//Cf5K/pr9zf0Y/tT9x/3b/ZP99/3g/Wf+Tf9x/93+dP5K/mL+K/5d/rD+pv7x/mf+HP7W/QT+vf46/0UA0wDZ/0H/gP+t/wkAEgDe/+v/vP+C/x7/nP4v/33/c/9N/y4AtP9X/9//YwBnAJwA3QAbAQwBgQDD/8H/Fv/n/lP/q/4x/kX+e/7R/uf+6v72/jX//f4C/+z+NP8c/zD/X/9N/1z/tP/S/wEA+v/r/27/xf8dAHYACACn/7v/j/+y/xAAMwBOAI8AmQA5AXYBBQE5AdUBQgLiAvwCAAPBA/0DmwR/BOEEKwWDBYYFDgUoBP8D8QPTA84DqgONAxUDQQPJAkgCPQL9AZQBWAEjARkBwAHLAbsBqAHhAZkBUgHGALoAQwESAQIBuACSAEoAVgD3/1YA0wDpAPEAagA9AAkA3/+3/7f/NQA6ACYAcP/M/rD+/f5v/hH/5v8kAAgALf9q/p7+B/+b//3/IgC5/xL/v/4W/47/MABZAGgAdAADABoAXf8r/3//6v7k/hT/L/9m/5v/cP9V/zX/KP8c/xf/Fv+w/l3+Xv3x/Ej9oP0O/o/+t/7Q/kn+e/7E/qj/1P/L//j/r/9m//v+v/6t/uT+uP4P/2H/qP9FADAAsv+K/3r/8v9UAG8AGABPANT/7/4b/6//OwCmAO4AFAG8AYUBpwEuAn4CkgKpAk0C8wHGAQQCJAL3AmcDdAP3ApUCjQIFAx4D1QPIA24DjgJIAq4CTgNnA8sDLASgBK8EcgSEBEsEqgRBBL8DZAOKA4oDyAPxA9cDAQOVAu0CQAL8Af0BJwIOAqwBSAENAekAlAAiAFgAaADaAMkADQCC/2T/FP8m/2n/6f/I/8P/Sf+z/nf+Hf5y/oP+WP4z/lD98Pzn/P/8Lf13/VX94vxu/Jb8JPzd+zP8mfz4/Nf8rfy1+1L7G/q1+Vj60Prh+rv6f/p/+hr7xfvH+5z7yvsP/Bz8lPyo/Jn8sPwy/fD9Nf5v/i3/w/9z/7n/ff+8/14AnwDxAF0BbAGiAawB8AEHAr0C/gKrA6ADhQMuA+wCfwJXAhoChAKaAnUCUQLIAZsBtwF1AqECxQIuApoCVAIUAUQBegE5AdIB8AHLAX8BXAFLAToBVwGnAQQCrwFIAccAnwCBAFEAFwE+AXoBWAH9AKMAYgCfANYAHAFNAWwBswDK/1j/c/8R/xH//f61/p/+dv5q/sL9X/3m/eP9wv1b/oX+CP5J/kr+iv58/qP+xv48/1r/tP+q/6D/XP8w/1j/eP/I/yj/uv4m/nz+xP7f/sD/qwAMAewAHgHdANMAfwGAAdcBlgE/AcYAqwD2AFABjgFrAVkC/AEMAi4CyQKhAvoBuwF4AXABowEyAQMB3QAmABIA8v86AKMAOQGvAX8BZwHlAKkAnADOAPP/3P88/5L+9f3h/aX9P/7H/nb+6/0G/g7+VP7E/mH/tv8sAKP/Q/94/+D++P4A/yb/5/5o/hz+J/7L/hn/hP8pAM3/JAAzAMD/c/86/3j/Uv8U/wj/1v5z/6j/Wv/I/1kAeQBvAIAA+AC4APP/bP9r/53/r/+8/1z/e/97/0v/zP6u/rz+Cf7H/cP9kP1X/Xz9wP0p/in+TP4E/mf+Av9B/xoAz//y/7T/lv+o//j/dgB5AIsAMAApAAEABgChANoACAHxAGcA5v+Z/1//m//S/+j/EADj/7L///84AJkAmQFyAnICUQJkAVcB3wCGADUAGgByACsA/P9Q//P+P/+E/yP/V//D/w0Aa/8W/xn/Wv9f/9r/PwBtACsAbQBtAHIAhQCVAAsAw//A/9f/OgCkAFEAVgA4ABwARABWAN0AEgH5AMcAmQBlALMAqAACAbcAlAB7AFEA9f/k/7f/ff9Q/zX/DP/Q/sf+0/4l/zL/Df9Y/6v+xP55/g//3/5x/mL+j/5g/ub9T/7i/o/+Z/4h/ib+C/64/YH9Tf0H/Yr84vvs+w38lvyH/KX87Pzn/Eb9Xv1L/ar8r/wu/Pb7zPv8+wP8KPwj/E78Wvy0/JH9W/45/3b/w//F/w0AHACtABEBQADL/4z/IP/f/hL/df/8/zUAHwDk/0cA7gDDAR0CuwJTA2ADYAN0A74DqAPXA/UDZANWA5cDlgNHA1gDXwPBAy0DiALYAkcDlwNaA5QDQQPlAroCeQIQAuQBdgHfAFgAbwDuAaIBEgF7AQwBBQFiAbYBIgKhAmUC6wHhAcEB3AH/AdkBsQF9ATUBHAE3ATABCAHVANUA0AASAWsBSQGRAcgBFgIYAssBigFuAdAAPwB0APkA4AA6AF//Ev9V/6X/WP+x/wYAV/8U/9X+l/5+/tD+cf4S/s39Lv5W/iH+kP7G/sH+sv5e/kD+vv0D/in+Bv5j/U39gv0r/m3+uP52/8v/1P8fAF4AlwC6AAgBxgAbAdIB1QH9Ae4BkwHDAY4BCgF7AXMBkQGRATUB9ABVAWQBewExApoCswIkAkICFQKOAmoCJwJbAtoBdgEDAToA3P8VALIAmgA4ABoAkgD6/wEAiAAcAboAnAAfAGL/5P7v/kv/JgANAAsAVAD1/0QACwDh/ycAWAAfAOP/e//u/l7+E/5o/sH+kv4B/rj94f3S/Xf9Wf1u/cL9E/3c/H398/wE/XX9qf2B/m/++v3R/QP+Iv76/V79df1o/Yn9L/2C/Qv+sf3S/fX99/3b/Yv+Qv5P/g3+bf5R/sT+Jf9V/+v/NQCDACoBUAH4AMsAGQFuATIBBQH0AF0BAwHiAHgB2gGFAYwB7gHzAfcBBgILAkoCqQK7AmECPQJSApoC4AIhAwsDfAL6AYoBcwG5AVgBIAHfAIgAQAA4AEIAgwDlAF4A6P+y/4//bv9L/1P/h/+A/4X/DQATAD8AdwBtAGUA1P9I/zX/gP9J/5T+Yv5M/nz+Bf/i/uL+FP83/zr/e/+C/8b/af8y/2/+2/2Y/Zr9k/1C/o3+mv6U/iP/m/+y/5P/kf/U/ywA6P/k/wEAjP8q/zT/Pv8m/3v/AwBu/0H/Tv8P/w//If8r/zL/+P6c/v79m/3b/Vv+C/69/dH9yP0+/Sz93fw0/UH9qPyy/GL8h/zx/BT9Kv3Z/Sf+Dv4a/oX+WP4d/uj93P0I/gT+ov2R/VX9KP2d/bL+6f4m/0n/NP+R/8r/4//m/8P/AQDZ/8j/sv/1/0IAcQAZAXMBpQG0Ae4BQAJwAq0BwAEOAiACwQFmAU0B8gFSAvIBQwFBASgBDQEAAZAAfgB7AMsA0AARASUBrQETAmACYQKiAkwD3QNgA/4C+wISA7ECGAI9ArMCxwL+Ak8CdAKcAvsCYgOjA60DrwNpA9kCAQMuAxkD4wKhAoYCLgLmAdQBjgFpAT8BegGsAdEAAQBiAJ4AXgCO//3+uP6U/hf+OP7C/dz9M/4G/hz+AP9E/7H/bv+d/1sAqwDh/83/SQBMAJ3/lv+C/2z/7f+FACwA3P+J/+j/wf8zAB8A/f+P/xn/7v6c/sT+G//b/iX/EgDA/wYA1/9bAFkAXgBHALT/mf+d/5H/t/9u/1X/j//1/5j/eP92/4//c/++/xMAXgCBAOP/if+o/1//NP8g/x7/rf5s/iL+JP5K/qT+nP6//hn/Of8c/1j/+f4y/9z/o/8c/yv/qP/f/2T/DP8F/1z/af8v//b+7/79/rP+Sf6u/gr/k/92/0v/Wv+s/z8AJgBs/+n/zACpAFsAcQCaAN0AWwA9AN8AMgE0AccAZwCi/3b/c/8R/zn/xP7C/s7+l/6e/tH+f//r/wMAXgB3AKEAoQB5AIUAfgCcAAABLQGTAcoBowHNATgCAgJ6ARsB5AD+AI0A1P+d/2b/oP/e/6P/dwDqAHEBdQFsAQ0BTgEyAUkBkQENAeIApgC7/9D/PwA9AEcAGgDc/yEAewCtAOwAYgFDAdoAiAArAMcAMgEXAXQA4f/Q/+b/QABJADsAdACPAOAAlwBqAF8BrQECATUB+ADRAD8BGQF1AWIBPAGjAIYAQgBPAFEAXgDu/9L/gP+h/ir/L//V/uL+7/2g/XD9BP3m/MT81/zz/Aj8EPyP/GL8uvwJ/aD9mv2E/Uj95/ws/S39f/1G/fr8w/xJ/Bn8qPwY/Wj9XP18/eH97f0//sf+vv99/yD/dv9z/+D+v/5G/zz/Pv8m/03/AwDo/xf/nf/D/3EASgD8/14AqwCeAKMAbwAqAQEC8wEvAiACdQL8AjcDXQMdBEUENwThA5ED5gOSA7kDywORA2UDFAMuA3MDzgJyAgMDegJeAmgCiQLMAuMChAKdAlQCTwJZAvwBFQLuASgBVgByAI0A0QBQAeYBLgI+AikCWwIaAkgCMwJSAWwBggFJAWQBIQGjAYQB3gHkASACCwP0ArMCiwL9Af0BygFhARIBsAA/AVABTQHSAe0BHwJwAp0CpgJAAiAC6AERAu4B+gGRAYABawFQAU0CUQKfAncCjgJrAroCEAIiAgICTgHRAKsAmQApABIAdwCLAMQAXQBbAIEA8QBQAa8BCwIlAtIBAgH2ANgAAgEWAYUBpwFDAWgAr/9a/+b/ZwCQAMcATADF/1j/yf6u/rX+kP7Y/q3+8P1c/YT98v1l/vH+0/7n/gH+jP0Y/Wb96/0s/hX+yP1r/c78w/x0/GD8c/wV/D38Yvxz/BX8F/w3/ND8Hv3D/IL8ZPyg/JH85/yq/N/87PwE/c38Bf3J/CP9wfzY/ND8uvyr/GD8YPxz/HT8o/y5/OL8aP3X/YX+Wf7y/Uf+T/6A/sv+Kv94/53/Q/9I/03/HP8h/7X+of7R/sv+P/58/mr+pP7p/gP/yf5w/wQAjQCuAIoA5v9G//7+Mv8b/13/N/+F/zsANQB7AGMAAQCQAPYA/gB5ACkAGgDA/0AAAQBYAD0AXQDOAI8BBAKhAnYDLgMzA/cCNwN4A54DxAPJA98DtwM0BPoDAgRmBEEE2AODA4cDWgNpA90DUwMoA0QD+wK6AogCgQKnAuUCFwMfA88C5wI3A+8CswIAAzgD2QKVAjMCHQL6AYQBSQGZAPL/c/+H/zn/Vf8K/wr/4P5R/mL+EP7K/b390v2p/dD8q/yK/CH8I/xC/Cb80fvY+8/7P/xB/Nr8rfxL/ID8Vfwm/If8avxa/E78bPyU/On8Lf00/U/9VP18/cj9pf2l/WP9PP0x/Sn8Yfvm+gz7Wfsf/Nr8zP0J/lj+ef42/tT94/0E/oD+vf7O/pn+mv7V/j//vv8uABwAUQAEAOT/sf/Z/9r/1f+Z/+f+qP5t/q7+8f5Q/8r/HwCDALoAsgDlABwBAAHdAOkAzgCNAJoA2wBaAagBcAHNAegB9QH1AfMB5gG7AVUBdwC8AIMAgACpAOkAlgF6AU4BaQF6AeMBAQIpAl4CLAJIAicCfwJMA2kDkgOPA1AD9gLlAlsDDQNbA1sDUQNlA1EDfgPEA7cDZQNnA28DdANbAysDGgMmA8QCFQPKAr0CHwPiAuUCIQPeAtECawLIAbEB5AC8AIAAxv81/1j//f5K/mr+uv4A/zz/K/9X/x7/af9u/xT/Fv9T/5n/EgC+/1j/c/88/xv/y/4z/hD+4P27/Vn9af12/Hn8PPx+/Pv8D/23/Ln9Af6L/lj++f79/gP/o/6k/iL+QP7h/Qv+uP1z/cD9O/42/gn+mf7B/ob+bf7B/mb/lv+x/27/ZP86/1r/bv8//3P/ev9X/y3/wP/h/+b/SQAVAGb/FP+p/r/+2P5Y/hf+P/7Z/bH9Bv7G/rr+sv70/un+L/8C/zf/D/8D/5n/e/9S/3X/6f8/AHkAAQBRACQALgA4AJUARACH/2L/dv/P/9X/tP+x/xMAbwBYAL8A5wAUARkB/QC4AIAAgACKAE4AXQCtAAIBrgDaAPgAPAGYAawB/QHfAQICEgPrA9gD5APnA5gEuQRuBNwEEgXwBOEEawRoBG0ERQR4BOYE4wRWBUkF1wQGBcUEgQRVBAwEZAPZAn4COAIsAi8CTAKGAp0CpAJgAuMBogGAAagB6QCkACQA0v/P/zr/zv6w/kX+fP7g/p7+rf5C/mf+K/7//Zz+0P7L/uf+8/4P/wP/uP4t/3X/N/9L/2H/XP8C/1r/3/64/rD+3/7i/oD+Hf4h/rH9T/3q/ff9fP22/df94f18/Q7+ef6t/pL+j/6y/iz++f3y/eX+z/0C/Yv9Nf5T/jD+Ov6z/kn/cf+C/3H/Gf86/2b/9v7u/l//jv/U/8//MABYAGgASgDB/+b/rf+y/2v/0f7n/rz+d/63/qH++P6H/4D/iv+8/3v/V/8X/9j+2P77/jX/lP+R/53/yv9RAJUAewBUAG8AtwA6AI8ALACH/9X/8P+Z/zL/Jv/G/6//AQC0/9z//P8zAEwAdgBNAYQBoAFIAUEBXAFkAV0B0gG8AbsBYQGJAcUBVwHPAfUBRwLbAiMDNQMaA4cDHQRQBCcE4QMgBOcDTgMyAxcDZQMSAxADHwM1A7IDoAPpA+sDJQQHBFsDbwNQA/ECfwIHAuQBYQGEAe4AvwBvAIMAewCAAKEAFwALAHsAgwAzANL/gv+j/3j/IP83/4T/k/9Q/yj/1f6Q/sf+y/5l/jj+Cf62/bj98v0d/hP+GP4D/hL+df3D/bv90v05/X/9cP0y/aL9/v2j/pn+yf72/jL/iP4e/3H/Jv+4/pT+gf4I/kX+fP5s/k/+3/5c/47/eP8r/13/3v9Q/+X+vf5j/vT9Qf25/Fn9af0+/c38DP0P/U/95Pzf/Pv8//yh/Nr8yPzL/Mn8Qfx+/DL9I/29/Z397/2e/hL/Ov/G/rf+sP6S/gn+3v1E/uv96/0Y/mD+P/5H/or+e/7x/iH/k//0/pn+Wf6F/in+WP49/hj+4/2q/c/9Af5i/ln+8f67//r/dwBKAK4ABQFnAZsBDQHvABQBrQAsAHYAqQDMAJ8AywA1AacBngFfAbkB5gFmAikC+gHkAWYC4wF1AQoB4ADPAc0BFgIOAlcCiwKhAiACBAL4AfcB6AF4ASAByQCVAK4AzAAvAVAB2gEnAsUCugK2AjsCLAI9ArIBfQEZASABBQFvAJ4A2wD2AHEBKAEIAfYA5AADAQgBnAD9/47/Av/z/jD/Ef8w/1D/WP96//7+7v4D/+7+j/6G/lH+Uf4//gv+aP72/pn/c/9O/33/o/8SAPz/qv9a/7v/oP9S/zr/Xf/F/7z/Wv+K/+j//P/y/+H//f+3/wgA4f+P//T++/5S/yP/DP+A/3b/h/9z/0j/ev/Q/4oAWAB0ANAANQDc/33/Vf8y/7f+2P6B/kT+cv4N/+X+y/45/zn/Ev9N/xb/ZP8Z/9D+I//Y/i3/AP8I/0H/Uv+v/1D/qf6o/vj+Kv/9/nP/tP9T/0v/lv+s/6//af+K/7n/9f/1/1kAowD0APEAtQDTAOkARAH7ABYBLwERAfQA7wD2AHEBZAGOAXMBmQHpAXsBrwF6AZkB3AHrAe0BuwF9Ac8BjgGWAScCVgI+AhYC+gEnAhUC1AE/AQwBQQFJAWYBWgGjAc8BpQGHATIBPAE/AaQALAAkAAkABgAYAO7/sf+Y//P/oP8e/93+8f6J/3v/IP/v/hT/gP5A/gT+BP4O/hj+Jv6z/bT9qv0K/Xv8m/yD/Gz8Dfw//ET8Kfyg/Fr9pf3D/Wr+vP7+/q3/6f///+P/7f+PACQAPQA6AI8AKwBbAH4AMAAaACkABgAnANz/+v/I/27/rP8uAIT/ZP+j/5H/e/8I/+X+7P6h/tb+yf6Z/oP+v/58/nL+6f5p/zf/7/7E/r3+lP6X/sL+b/5H/iH+E/4r/nH+7P7s/nT+uv6Q/sz+4P4r/47/AwBjAHkAVAC/ANoAswCmAJcAJwBjAHIAugCkAKMAlQD4AMcAowAFAQgBmQD5ACABkAC9ADkBCAHMACsBPAGpAHIAsgAwAU0BQQE5AbsBhAGyAbkB8wHPAaoByAFLATcBfQEtAa0AngCmAK0A6QCmAEQAhgCNAJkAMwDL/3cAYAAnAMH/FQCq/zn/Mv8H/9r+bP/P/0IA0P/MAAcBNAFEAUQB4wEiAkcC3wF2ATkBAgHsAN8AMAE6AcABdgEqAVUBFAFQAToBcQERAQwBBwEIAekA6QDWAC8BRgEHAf4ADwGyANEA4gC/AGAARwA2AEoAGADm/7T/8/+M/5T/CABvAAYA+v9vAE8AXQDe/ykAbABEAOj/CQBJAHP/y/8b/yv/4P5l/gv+cP1h/Sr9zfwZ/dD89vwW/Vf9UP2G/Xr9zP3P/Yf9Gf3w/Bb9XP03/Y79h/2V/Q7+Lv5y/o3+T/5n/oH+XP8C/y3/zf+s/4z/sf+0/6j/Qf/g/uz+Ev/R/uX+I/8j/2n/oP89AFEA1QDvAAwBgAAMAdoA8v8IAPD/yP86/5H/D/+3/rD+v/6U/nL+o/6U/q7+vP4//0b/Of+K//3/BAAuAHEAbwC3AIYARACrADYAQgCLAKQAwgADAQABDQFXAWcBWgGgAdQBCwLjAcUBsgE0AVUBNwFiAdUB3gGoAfUBswJMAusBzQH1AfcBEQKxAXUBOgE+AX0BywGPAekBxQEgAgsC0wILA9MCxAKzAh4DCAPqAk0CEwL4Ab4BhQHPAZkB5AGTAXoBRgFJASMBDQE0ASgBCAG9AHYAdgCKAIEATABMADEAUwBFAEcATADTAOwA/QCyAHEA4ACtABoACQABAM3/wf+x/6P/f/83/yH/P/9S/zL/bP8QAF0A/gD2AD8BjwGnASEBMAFEAeAATgArAOj/ev9N/wr/5f6m/oX+kP6U/kX+c/1Z/Yb96v0k/vL9vf3b/Yb+HP4J/lP+hf6f/ov+of6U/pX+av5Z/kr+cv5U/gv+Mf4Y/rb93v2a/ZH9wP25/Xb+WP4B/kz+2v5V/5P/3/8zAJcApADCAGcBFwEDATcB9AANASMBywDgAMkA7wB8AMkAAwElASMBWAERATUBqwDiAAAB5wBpAa8BiQFpAacBtwFGAd0AoQCFAOv/sv9s/7j+dP6u/kr+Qv7o/cP9lv03/dv9lf2Q/Zr9/P3h/Sn+zv7k/lf/9P5N/4f/nf97AKsAcQADAUMBtgGJAb4BywHcAd8B8AHrAUMBrQG0AY4BmQG8AfABEQI9ArUCFwP7AiYDnwKEAqQC0wJRAm0ClQJqAmYCPgICAt4BgAG0AY8B7ACuAOkAmwElARcBEQEeAeAA2wD+AO8AyQAhARcBxgCyAK4AqwAcAAEAoP+5/47/Uv80/0H/jP9V/5j/yv8XAHQATAAXABUA+P/D/9r/xf89ADYAJADU/6//2f+8/9D/xf/f/1D/Jf+6/o3+pP5O/or+hf7g/hH/yf6X/rj+3f6y/kz+RP6u/rz+nv4r/mD+aP6B/tj+vf5x/9L/h/9p/wr/5/7k/tX+zP72/gX/1v7C/tP+y/7T/h7/rf4D/9r+5P5B/5b/Uv+2/8X//P8YAEUAkgCUAPsABwGtAHQAbACfAOAAOgEHAUEBVQFiAUQBIQE8ATkBowCIAIoAcgAIAB8Azf+Y/97/6/87ANAAWQCkAMsAngC1AHEA2AD2AE4BCgH4ACABRgFrASQCZgITAh0CswJ5AscC6gIaA8ICygKzAtYChwM6A0EDqAOAAx4DdAOIAyMDKQPiAt0CrAIUAwED8gISAxUD/gK9AokC8gJRApcC2QKSAo0CXgL1AQEC/wEHApkBYQEbAQgB8QCIAGAAYwAzAAgABACl/+n/zf8//xb/Pv8F/0z+kP5y/g3+2/20/az93P00/Yf9p/2G/UX92/3o/ej93P3Z/an9Gf00/WD86PuS+7j7tfs++6L7ofte+4n7x/te+0/7W/s5+2v7ovv3+8r7Vfxa/GD82vz2/LT8y/wd/ZX9hv2C/dz9Ov5O/nb+2v5E/6P/Df92/hH/KP/Q/nH+Sv5U/mD+j/6U/sT+Mv9n/3H/CADm/7n///8YAJkAqQBEAOT/VgBHAK4AeQCQAPP//P/w/7z/p/+e/xIA9//e/2v/UP9w/47/nv+q/8v/yv8DAOb/WwCZAAABSwHRAEgBfwHFAYABtwGtAZEB4QH1ARoCWQJWAl4CCgOuArEClQLOAgEDpAKGAn8C/gLqApcC5QIkAxkDMANJA+8CxAImAyMDygLJAvsCMANzA9MCzAItA/cCVQPJAqcC9gLbAlECNAIfAmUCDAKCAYwBWgEFAdoA5QA3AdAA2wAyAeoAqAC9APgA+wAMATABpABsABAAxv92/6//lP94/+7/1/8rADEA4/+R//r/+P8VADf/9v7l/ln+tv05/QL99fwK/ez85vyV/e39A/5Y/vv+j/6U/p/+v/7E/sT+YP4n/g3+2f3q/fz90f1d/uz+FP+k/pf+7P79/lX/gv99/03/wf8LAE8AxAB8AMYASQH5AAMB/QDiANgAEQHsAL0A0QCrALwArgAHAecADwHQADoBNQE5Ad8AkADU/3v/RP80/wP/FP+O/7T/TgCQAGcAbAAuAIgAfACBAAQA/P+b/5b/hP9x/5H/U/+3/9D/1/8EALT/sv9w/0n/Xf+3/2cAmQCyANMAvQCKAAAAwP8DAA0Ayv+SANAAsgCAANYAjQCDAJIAsAAKAasAYgDCAJkAZQA9AMj/dgBTAL7/LAB3APQALQG2AfUBkQEPAUUAdf8b/+f+xP4D/2P+Jv7C/l//z/+zADcBqgGvAcUB0AHDAX0BWgHxABUAF/+L/in+Mv3S/D389Pu1/Ev9Zv0L/pL+7v7v/nb/ev8OACwA3v/T/jb9N/xy+/D6Zvpi+pP6NvtW+wj8Fv0AAAAAAAAAAAAAAAAAAAAAAAAAAAAAAAAAAAAAAAAAAAAAAAAAAAAAAAAAAAAAAAAAAAAAAAAAAAAAAAAAAAAAAAAAAAAAAAAAAAAAAAAAAAAAAAAAAAAAAAAAAAAAAAAAAAAAAAAAAAAAAAAAAAAAAAAAAAAAAAAAAAAAAAAAAAAAAAAAAAAAAAAAAAAAAAAAAAAAAAAAAAAAAAAAAAAAAAAAAAAAAAAAAAAAAAAAAAAAAAAAAAAAAAAAAAAAAAAAAAAAAAAAAAAAAAAAAAAAAAAAAAAAAAAAAAAAAAAAAAAAAAAAAAAAAAAAAAAAAAAAAAAAAAAAAAAAAAAAAAAAAAAAAAAAAAAAAAAAAAAAAAAAAAAAAAAAAAAAAAAAAAAAAAAAAAAAAAAAAAAAAAAAAAAAAAAAAAAAAAAAAAAAAAAAAAAAAAAAAAAAAAAAAAAAAAAAAAAAAAAAAAAAAAAAAAAAAAAAAAAAAAAAAAAAAAAAAAAAAAAAAAAAAAAAAAAAAAAAAAAAAAAAAAAAAAAAAAAAAAAAAAAAAAAAAAAAAAAAAAAAAAAAAAAAAAAAAAAAAAAAAAAAAAAAAAAAAAAAAAAAAAAAAAAAAAAAAAAAAAAAAAAAAAAAAAAAAAAAAAAAAAAAAAAAAAAAAAAAAAAAAAAAAAAAAAAAAAAAAAAAAAAAAAAAAAAAAAAAAAAAAAAAAAAAAAAAAAAAAAAAAAAAAAAAAAAAAAAAAAAAAAAAAAAAAAAAAAAAAAAAAAAAAAAAAAAAAAAAAAAAAAAAAAAAAAAAAAAAAAAAAAAAAAAAAAAAAAAAAAAAAAAAAAAAAAAAAAAAAAAAAAAAAAAAAAAAAAAAAAAAAAAAAAAAAAAAAAAAAAAAAAAAAAAAAAAAAAAAAAAAAAAAAAAAAAAAAAAAAAAAAAAAAAAAAAAAAAAAAAAAAAAAAAAAAAAAAAAAAAAAAAAAAAAAAAAAAAAAAAAAAAAAAAAAAAAAAAAAAAAAAAAAAAAAAAAAAAAAAAAAAAAAAAAAAAAAAAAAAAAAAAAAAAAAAAAAAAAAAAAAAAAAAAAAAAAAAAAAAAAAAAAAAAAAAAAAAAAAAAAAAAAAAAAAAAAAAAAAAAAAAAAAAAAAAAAAAAAAAAAAAAAAAAAAAAAAAAAAAAAAAAAAAAAAAAAAAAAAAAAAAAAAAAAAAAAAAAAAAAAAAAAAAAAAAAAAAAAAAAAAAAAAAAAAAAAAAAAAAAAAAAAAAAAAAAAAAAAAAAAAAAAAAAAAAAAAAAAAAAAAAAAAAAAAAAAAAAAAAAAAAAAAAAAAAAAAAAAAAAAAAAAAAAAAAAAAAAAAAAAAAAAAAAAAAAAAAAAAAAAAAAAAAAAAAAAAAAAAAAAAAAAAAAAAAAAAAAAAAAAAAAAAAAAAAAAAAAAAAAAAAAAAAAAAAAAAAAAAAAAAAAAAAAAAAAAAAAAAAAAAAAAAAAAAAAAAAAAAAAAAAAAAAAAAAAAAAAAAAAAAAAAAAAAAAAAAAAAAAAAAAAAAAAAAAAAAAAAAAAAAAAAAAAAAAAAAAAAAAAAAAAAAAAAAAAAAAAAAAAAAAAAAAAAAAAAAAAAAAAAAAAAAAAAAAAAAAAAAAAAAAAAAAAAAAAAAAAAAAAAAAAAAAAAAAAAAAAAAAAAAAAAAAAAAAAAAAAAAAAAAAAAAAAAAAAAAAAAAAAAAAAAAAAAAAAAAAAAAAAAAAAAAAAAAAAAAAAAAAAAAAAAAAAAAAAAAAAAAAAAAAAAAAAAAAAAAAAAAAAAAAAAAAAAAAAAAAAAAAAAAAAAAAAAAAAAAAAAAAAAAAAAAAAAAAAAAAAAAAAAAAAAAAAAAAAAAAAAAAAAAAAAAAAAAAAAAAAAAAAAAAAAAAAAAAAAAAAAAAAAAAAAAAAAAAAAAAAAAAAAAAAAAAAAAAAAAAAAAAAAAAAAAAAAAAAAAAAAAAAAAAAAAAAAAAAAAAAAAAAAAAAAAAAAAAAAAAAAAAAAAAAAAAAAAAAAAAAAAAAAAAAAAAAAAAAAAAAAAAAAAAAAAAAAAAAAAAAAAAAAAAAAAAAAAAAAAAAAAAAAAAAAAAAAAAAAAAAAAAAAAAAAAAAAAAAAAAAAAAAAAAAAAAAAAAAAAAAAAAAAAAAAAAAAAAAAAAAAAAAAAAAAAAAAAAAAAAAAAAAAAAAAAAAAAAAAAAAAAAAAAAAAAAAAAAAAAAAAAAAAAAAAAAAAAAAAAAAAAAAAAAAAAAAAAAAAAAAAAAAAAAAAAAAAAAAAAAAAAAAAAAAAAAAAAAAAAAAAAAAAAAAAAAAAAAAAAAAAAAAAAAAAAAAAAAAAAAAAAAAAAAAAAAAAAAAAAAAAAAAAAAAAAAAAAAAAAAAAAAAAAAAAAAAAAAAAAAAAAAAAAAAAAAAAAAAAAAAAAAAAAAAAAAAAAAAAAAAAAAAAAAAAAAAAAAAAAAAAAAAAAAAAAAAAAAAAAAAAAAAAAAAAAAAAAAAAAAAAAAAAAAAAAAAAAAAAAAAAAAAAAAAAAAAAAAAAAAAAAAAAAAAAAAAAAAAAAAAAAAAAAAAAAAAAAAAAAAAAAAAAAAAAAAAAAAAAAAAAAAAAAAAAAAAAAAAAAAAAAAAAAAAAAAAAAAAAAAAAAAAAAAAAAAAAAAAAAAAAAAAAAAAAAAAAAAAAAAAAAAAAAAAAAAAAAAAAAAAAAAAAAAAAAAAAAAAAAAAAAAAAAAAAAAAAAAAAAAAAAAAAAAAAAAAAAAAAAAAAAAAAAAAAAAAAAAAAAAAAAAAAAAAAAAAAAAAAAAAAAAAAAAAAAAAAAAAAAAAAAAAAAAAAAAAAAAAAAAAAAAAAAAAAAAAAAAAAAAAAAAAAAAAAAAAAAAAAAAAAAAAAAAAAAAAAAAAAAAAAAAAAAAAAAAAAAAAAAAAAAAAAAAAAAAAAAAAAAAAAAAAAAAAAAAAAAAAAAAAAAAAAAAAAAAAAAAAAAAAAAAAAAAAAAAAAAAAAAAAAAAAAAAAAAAAAAAAAAAAAAAAAAAAAAAAAAAAAAAAAAAAAAAAAAAAAAAAAAAAAAAAAAAAAAAAAAAAAAAAAAAAAAAAAAAAAAAAAAAAAAAAAAAAAAAAAAAAAAAAAAAAAAAAAAAAAAAAAAAAAAAAAAAAAAAAAAAAAAAAAAAAAAAAAAAAAAAAAAAAAAAAAAAAAAAAAAAAAAAAAAAAAAAAAAAAAAAAAAAAAAAAAAAAAAAAAAAAAAAAAAAAAAAAAAAAAAAAAAAAAAAAAAAAAAAAAAAAAAAAAAAAAAAAAAAAAAAAAAAAAAAAAAAAAAAAAAAAAAAAAAAAAAAAAAAAAAAAAAAAAAAAAAAAAAAAAAAAAAAAAAAAAAAAAAAAAAAAAAAAAAAAAAAAAAAAAAAAAAAAAAAAAAAAAAAAAAAAAAAAAAAAAAAAAAAAAAAAAAAAAAAAAAAAAAAAAAAAAAAAAAAAAAAAAAAAAAAAAAAAAAAAAAAAAAAAAAAAAAAAAAAAAAAAAAAAAAAAAAAAAAAAAAAAAAAAAAAAAAAAAAAAAAAAAAAAAAAAAAAAAAAAAAAAAAAAAAAAAAAAAAAAAAAAAAAAAAAAAAAAAAAAAAAAAAAAAAAAAAAAAAAAAAAAAAAAAAAAAAAAAAAAAAAAAAAAAAAAAAAAAAAAAAAAAAAAAAAAAAAAAAAAAAAAAAAAAAAAAAAAAAAAAAAAAAAAAAAAAAAAAAAAAAAAAAAAAAAAAAAAAAAAAAAAAAAAAAAAAAAAAAAAAAAAAAAAAAAAAAAAAAAAAAAAAAAAAAAAAAAAAAAAAAAAAAAAAAAAAAAAAAAAAAAAAAAAAAAAAAAAAAAAAAAAAAAAAAAAAAAAAAAAAAAAAAAAAAAAAAAAAAAAAAAAAAAAAAAAAAAAAAAAAAAAAAAAAAAAAAAAAAAAAAAAAAAAAAAAAAAAAAAAAAAAAAAAAAAAAAAAAAAAAAAAAAAAAAAAAAAAAAAAAAAAAAAAAAAAAAAAAAAAAAAAAAAAAAAAAAAAAAAAAAAAAAAAAAAAAAAAAAAAAAAAAAAAAAAAAAAAAAAAAAAAAAAAAAAAAAAAAAAAAAAAAAAAAAAAAAAAAAAAAAAAAAAAAAAAAAAAAAAAAAAAAAAAAAAAAAAAAAAAAAAAAAAAAAAAAAAAAAAAAAAAAAAAAAAAAAAAAAAAAAAAAAAAAAAAAAAAAAAAAAAAAAAAAAAAAAAAAAAAAAAAAAAAAAAAAAAAAAAAAAAAAAAAAAAAAAAAAAAAAAAAAAAAAAAAAAAAAAAAAAAAAAAAAAAAAAAAAAAAAAAAAAAAAAAAAAAAAAAAAAAAAAAAAAAAAAAAAAAAAAAAAAAAAAAAAAAAAAAAAAAAAAAAAAAAAAAAAAAAAAAAAAAAAAAAAAAAAAAAAAAAAAAAAAAAAAAAAAAAAAAAAAAAAAAAAAAAAAAAAAAAAAAAAAAAAAAAAAAAAAAAAAAAAAAAAAAAAAAAAAAAAAAAAAAAAAAAAAAAAAAAAAAAAAAAAAAAAAAAAAAAAAAAAAAAAAAAAAAAAAAAAAAAAAAAAAAAAAAAAAAAAAAAAAAAAAAAAAAAAAAAAAAAAAAAAAAAAAAAAAAAAAAAAAAAAAAAAAAAAAAAAAAAAAAAAAAAAAAAAAAAAAAAAAAAAAAAAAAAAAAAAAAAAAAAAAAAAAAAAAAAAAAAAAAAAAAAAAAAAAAAAAAAAAAAAAAAAAAAAAAAAAAAAAAAAAAAAAAAAAAAAAAAAAAAAAAAAAAAAAAAAAAAAAAAAAAAAAAAAAAAAAAAAAAAAAAAAAAAAAAAAAAAAAAAAAAAAAAAAAAAAAAAAAAAAAAAAAAAAAAAAAAAAAAAAAAAAAAAAAAAAAAAAAAAAAAAAAAAAAAAAAAAAAAAAAAAAAAAAAAAAAAAAAAAAAAAAAAAAAAAAAAAAAAAAAAAAAAAAAAAAAAAAAAAAAAAAAAAAAAAAAAAAAAAAAAAAAAAAAAAAAAAAAAAAAAAAAAAAAAAAAAAAAAAAAAAAAAAAAAAAAAAAAAAAAAAAAAAAAAAAAAAAAAAAAAAAAAAAAAAAAAAAAAAAAAAAAAAAAAAAAAAAAAAAAAAAAAAAAAAAAAAAAAAAAAAAAAAAAAAAAAAAAAAAAAAAAAAAAAAAAAAAAAAAAAAAAAAAAAAAAAAAAAAAAAAAAAAAAAAAAAAAAAAAAAAAAAAAAAAAAAAAAAAAAAAAAAAAAAAAAAAAAAAAAAAAAAAAAAAAAAAAAAAAAAAAAAAAAAAAAAAAAAAAAAAAAAAAAAAAAAAAAAAAAAAAAAAAAAAAAAAAAAAAAAAAAAAAAAAAAAAAAAAAAAAAAAAAAAAAAAAAAAAAAAAAAAAAAAAAAAAAAAAAAAAAAAAAAAAAAAAAAAAAAAAAAAAAAAAAAAAAAAAAAAAAAAAAAAAAAAAAAAAAAAAAAAAAAAAAAAAAAAAAAAAAAAAAAAAAAAAAAAAAAAAAAAAAAAAAAAAAAAAAAAAAAAAAAAAAAAAAAAAAAAAAAAAAAAAAAAAAAAAAAAAAAAAAAAAAAAAAAAAAAAAAAAAAAAAAAAAAAAAAAAAAAAAAAAAAAAAAAAAAAAAAAAAAAAAAAAAAAAAAAAAAAAAAAAAAAAAAAAAAAAAAAAAAAAAAAAAAAAAAAAAAAAAAAAAAAAAAAAAAAAAAAAAAAAAAAAAAAAAAAAAAAAAAAAAAAAAAAAAAAAAAAAAAAAAAAAAAAAAAAAAAAAAAAAAAAAAAAAAAAAAAAAAAAAAAAAAAAAAAAAAAAAAAAAAAAAAAAAAAAAAAAAAAAAAAAAAAAAAAAAAAAAAAAAAAAAAAAAAAAAAAAAAAAAAAAAAAAAAAAAAAAAAAAAAAAAAAAAAAAAAAAAAAAAAAAAAAAAAAAAAAAAAAAAAAAAAAAAAAAAAAAAAAAAAAAAAAAAAAAAAAAAAAAAAAAAAAAAAAAAAAAAAAAAAAAAAAAAAAAAAAAAAAAAAAAAAAAAAAAAAAAAAAAAAAAAAAAAAAAAAAAAAAAAAAAAAAAAAAAAAAAAAAAAAAAAAAAAAAAAAAAAAAAAAAAAAAAAAAAAAAAAAAAAAAAAAAAAAAAAAAAAAAAAAAAAAAAAAAAAAAAAAAAAAAAAAAAAAAAAAAAAAAAAAAAAAAAAAAAAAAAAAAAAAAAAAAAAAAAAAAAAAAAAAAAAAAAAAAAAAAAAAAAAAAAAAAAAAAAAAAAAAAAAAAAAAAAAAAAAAAAAAAAAAAAAAAAAAAAAAAAAAAAAAAAAAAAAAAAAAAAAAAAAAAAAAAAAAAAAAAAAAAAAAAAAAAAAAAAAAAAAAAAAAAAAAAAAAAAAAAAAAAAAAAAAAAAAAAAAAAAAAAAAAAAAAAAAAAAAAAAAAAAAAAAAAAAAAAAAAAAAAAAAAAAAAAAAAAAAAAAAAAAAAAAAAAAAAAAAAAAAAAAAAAAAAAAAAAAAAAAAAAAAAAAAAAAAAAAAAAAAAAAAAAAAAAAAAAAAAAAAAAAAAAAAAAAAAAAAAAAAAAAAAAAAAAAAAAAAAAAAAAAAAAAAAAAAAAAAAAAAAAAAAAAAAAAAAAAAAAAAAAAAAAAAAAAAAAAAAAAAAAAAAAAAAAAAAAAAAAAAAAAAAAAAAAAAAAAAAAAAAAAAAAAAAAAAAAAAAAAAAAAAAAAAAAAAAAAAAAAAAAAAAAAAAAAAAAAAAAAAAAAAAAAAAAAAAAAAAAAAAAAAAAAAAAAAAAAAAAAAAAAAAAAAAAAAAAAAAAAAAAAAAAAAAAAAAAAAAAAAAAAAAAAAAAAAAAAAAAAAAAAAAAAAAAAAAAAAAAAAAAAAAAAAAAAAAAAAAAAAAAAAAAAAAAAAAAAAAAAAAAAAAAAAAAAAAAAAAAAAAAAAAAAAAAAAAAAAAAAAAAAAAAAAAAAAAAAAAAAAAAAAAAAAAAAAAAAAAAAAAAAAAAAAAAAAAAAAAAAAAAAAAAAAAAAAAAAAAAAAAAAAAAAAAAAAAAAAAAAAAAAAAAAAAAAAAAAAAAAAAAAAAAAAAAAAAAAAAAAAAAAAAAAAAAAAAAAAAAAAAAAAAAAAAAAAAAAAAAAAAAAAAAAAAAAAAAAAAAAAAAAAAAAAAAAAAAAAAAAAAAAAAAAAAAAAAAAAAAAAAAAAAAAAAAAAAAAAAAAAAAAAAAAAAAAAAAAAAAAAAAAAAAAAAAAAAAAAAAAAAAAAAAAAAAAAAAAAAAAAAAAAAAAAAAAAAAAAAAAAAAAAAAAAAAAAAAAAAAAAAAAAAAAAAAAAAAAAAAAAAAAAAAAAAAAAAAAAAAAAAAAAAAAAAAAAAAAAAAAAAAAAAAAAAAAAAAAAAAAAAAAAAAAAAAAAAAAAAAAAAAAAAAAAAAAAAAAAAAAAAAAAAAAAAAAAAAAAAAAAAAAAAAAAAAAAAAAAAAAAAAAAAAAAAAAAAAAAAAAAAAAAAAAAAAAAAAAAAAAAAAAAAAAAAAAAAAAAAAAAAAAAAAAAAAAAAAAAAAAAAAAAAAAAAAAAAAAAAAAAAAAAAAAAAAAAAAAAAAAAAAAAAAAAAAAAAAAAAAAAAAAAAAAAAAAAAAAAAAAAAAAAAAAAAAAAAAAAAAAAAAAAAAAAAAAAAAAAAAAAAAAAAAAAAAAAAAAAAAAAAAAAAAAAAAAAAAAAAAAAAAAAAAAAAAAAAAAAAAAAAAAAAAAAAAAAAAAAAAAAAAAAAAAAAAAAAAAAAAAAAAAAAAAAAAAAAAAAAAAAAAAAAAAAAAAAAAAAAAAAAAAAAAAAAAAAAAAAAAAAAAAAAAAAAAAAAAAAAAAAAAAAAAAAAAAAAAAAAAAAAAAAAAAAAAAAAAAAAAAAAAAAAAAAAAAAAAAAAAAAAAAAAAAAAAAAAAAAAAAAAAAAAAAAAAAAAAAAAAAAAAAAAAAAAAAAAAAAAAAAAAAAAAAAAAAAAAAAAAAAAAAAAAAAAAAAAAAAAAAAAAAAAAAAAAAAAAAAAAAAAAAAAAAAAAAAAAAAAAAAAAAAAAAAAAAAAAAAAAAAAAAAAAAAAAAAAAAAAAAAAAAAAAAAAAAAAAAAAAAAAAAAAAAAAAAAAAAAAAAAAAAAAAAAAAAAAAAAAAAAAAAAAAAAAAAAAAAAAAAAAAAAAAAAAAAAAAAAAAAAAAAAAAAAAAAAAAAAAAAAAAAAAAAAAAAAAAAAAAAAAAAAAAAAAAAAAAAAAAAAAAAAAAAAAAAAAAAAAAAAAAAAAAAAAAAAAAAAAAAAAAAAAAAAAAAAAAAAAAAAAAAAAAAAAAAAAAAAAAAAAAAAAAAAAAAAAAAAAAAAAAAAAAAAAAAAAAAAAAAAAAAAAAAAAAAAAAAAAAAAAAAAAAAAAAAAAAAAAAAAAAAAAAAAAAAAAAAAAAAAAAAAAAAAAAAAAAAAAAAAAAAAAAAAAAAAAAAAAAAAAAAAAAAAAAAAAAAAAAAAAAAAAAAAAAAAAAAAAAAAAAAAAAAAAAAAAAAAAAAAAAAAAAAAAAAAAAAAAAAAAAAAAAAAAAAAAAAAAAAAAAAAAAAAAAAAAAAAAAAAAAAAAAAAAAAAAAAAAAAAAAAAAAAAAAAAAAAAAAAAAAAAAAAAAAAAAAAAAAAAAAAAAAAAAAAAAAAAAAAAAAAAAAAAAAAAAAAAAAAAAAAAAAAAAAAAAAAAAAAAAAAAAAAAAAAAAAAAAAAAAAAAAAAAAAAAAAAAAAAAAAAAAAAAAAAAAAAAAAAAAAAAAAAAAAAAAAAAAAAAAAAAAAAAAAAAAAAAAAAAAAAAAAAAAAAAAAAAAAAAAAAAAAAAAAAAAAAAAAAAAAAAAAAAAAAAAAAAAAAAAAAAAAAAAAAAAAAAAAAAAAAAAAAAAAAAAAAAAAAAAAAAAAAAAAAAAAAAAAAAAAAAAAAAAAAAAAAAAAAAAAAAAAAAAAAAAAAAAAAAAAAAAAAAAAAAAAAAAAAAAAAAAAAAAAAAAAAAAAAAAAAAAAAAAAAAAAAAAAAAAAAAAAAAAAAAAAAAAAAAAAAAAAAAAAAAAAAAAAAAAAAAAAAAAAAAAAAAAAAAAAAAAAAAAAAAAAAAAAAAAAAAAAAAAAAAAAAAAAAAAAAAAAAAAAAAAAAAAAAAAAAAAAAAAAAAAAAAAAAAAAAAAAAAAAAAAAAAAAAAAAAAAAAAAAAAAAAAAAAAAAAAAAAAAAAAAAAAAAAAAAAAAAAAAAAAAAAAAAAAAAAAAAAAAAAAAAAAAAAAAAAAAAAAAAAAAAAAAAAAAAAAAAAAAAAAAAAAAAAAAAAAAAAAAAAAAAAAAAAAAAAAAAAAAAAAAAAAAAAAAAAAAAAAAAAAAAAAAAAAAAAAAAAAAAAAAAAAAAAAAAAAAAAAAAAAAAAAAAAAAAAAAAAAAAAAAAAAAAAAAAAAAAAAAAAAAAAAAAAAAAAAAAAAAAAAAAAAAAAAAAAAAAAAAAAAAAAAAAAAAAAAAAAAAAAAAAAAAAAAAAAAAAAAAAAAAAAAAAAAAAAAAAAAAAAAAAAAAAAAAAAAAAAAAAAAAAAAAAAAAAAAAAAAAAAAAAAAAAAAAAAAAAAAAAAAAAAAAAAAAAAAAAAAAAAAAAAAAAAAAAAAAAAAAAAAAAAAAAAAAAAAAAAAAAAAAAAAAAAAAAAAAAAAAAAAAAAAAAAAAAAAAAAAAAAAAAAAAAAAAAAAAAAAAAAAAAAAAAAAAAAAAAAAAAAAAAAAAAAAAAAAAAAAAAAAAAAAAAAAAAAAAAAAAAAAAAAAAAAAAAAAAAAAAAAAAAAAAAAAAAAAAAAAAAAAAAAAAAAAAAAAAAAAAAAAAAAAAAAAAAAAAAAAAAAAAAAAAAAAAAAAAAAAAAAAAAAAAAAAAAAAAAAAAAAAAAAAAAAAAAAAAAAAAAAAAAAAAAAAAAAAAAAAAAAAAAAAAAAAAAAAAAAAAAAAAAAAAAAAAAAAAAAAAAAAAAAAAAAAAAAAAAAAAAAAAAAAAAAAAAAAAAAAAAAAAAAAAAAAAAAAAAAAAAAAAAAAAAAAAAAAAAAAAAAAAAAAAAAAAAAAAAAAAAAAAAAAAAAAAAAAAAAAAAAAAAAAAAAAAAAAAAAAAAAAAAAAAAAAAAAAAAAAAAAAAAAAAAAAAAAAAAAAAAAAAAAAAAAAAAAAAAAAAAAAAAAAAAAAAAAAAAAAAAAAAAAAAAAAAAAAAAAAAAAAAAAAAAAAAAAAAAAAAAAAAAAAAAAAAAAAAAAAAAAAAAAAAAAAAAAAAAAAAAAAAAAAAAAAAAAAAAAAAAAAAAAAAAAAAAAAAAAAAAAAAAAAAAAAAAAAAAAAAAAAAAAAAAAAAAAAAAAAAAAAAAAAAAAAAAAAAAAAAAAAAAAAAAAAAAAAAAAAAAAAAAAAAAAAAAAAAAAAAAAAAAAAAAAAAAAAAAAAAAAAAAAAAAAAAAAAAAAAAAAAAAAAAAAAAAAAAAAAAAAAAAAAAAAAAAAAAAAAAAAAAAAAAAAAAAAAAAAAAAAAAAAAAAAAAAAAAAAAAAAAAAAAAAAAAAAAAAAAAAAAAAAAAAAAAAAAAAAAAAAAAAAAAAAAAAAAAAAAAAAAAAAAAAAAAAAAAAAAAAAAAAAAAAAAAAAAAAAAAAAAAAAAAAAAAAAAAAAAAAAAAAAAAAAAAAAAAAAAAAAAAAAAAAAAAAAAAAAAAAAAAAAAAAAAAAAAAAAAAAAAAAAAAAAAAAAAAAAAAAAAAAAAAAAAAAAAAAAAAAAAAAAAAAAAAAAAAAAAAAAAAAAAAAAAAAAAAAAAAAAAAAAAAAAAAAAAAAAAAAAAAAAAAAAAAAAAAAAAAAAAAAAAAAAAAAAAAAAAAAAAAAAAAAAAAAAAAAAAAAAAAAAAAAAAAAAAAAAAAAAAAAAAAAAAAAAAAAAAAAAAAAAAAAAAAAAAAAAAAAAAAAAAAAAAAAAAAAAAAAAAAAAAAAAAAAAAAAAAAAAAAAAAAAAAAAAAAAAAAAAAAAAAAAAAAAAAAAAAAAAAAAAAAAAAAAAAAAAAAAAAAAAAAAAAAAAAAAAAAAAAAAAAAAAAAAAAAAAAAAAAAAAAAAAAAAAAAAAAAAAAAAAAAAAAAAAAAAAAAAAAAAAAAAAAAAAAAAAAAAAAAAAAAAAAAAAAAAAAAAAAAAAAAAAAAAAAAAAAAAAAAAAAAAAAAAAAAAAAAAAAAAAAAAAAAAAAAAAAAAAAAAAAAAAAAAAAAAAAAAAAAAAAAAAAAAAAAAAAAAAAAAAAAAAAAAAAAAAAAAAAAAAAAAAAAAAAAAAAAAAAAAAAAAAAAAAAAAAAAAAAAAAAAAAAAAAAAAAAAAAAAAAAAAAAAAAAAAAAAAAAAAAAAAAAAAAAAAAAAAAAAAAAAAAAAAAAAAAAAAAAAAAAAAAAAAAAAAAAAAAAAAAAAAAAAAAAAAAAAAAAAAAAAAAAAAAAAAAAAAAAAAAAAAAAAAAAAAAAAAAAAAAAAAAAAAAAAAAAAAAAAAAAAAAAAAAAAAAAAAAAAAAAAAAAAAAAAAAAAAAAAAAAAAAAAAAAAAAAAAAAAAAAAAAAAAAAAAAAAAAAAAAAAAAAAAAAAAAAAAAAAAAAAAAAAAAAAAAAAAAAAAAAAAAAAAAAAAAAAAAAAAAAAAAAAAAAAAAAAAAAAAAAAAAAAAAAAAAAAAAAAAAAAAAAAAAAAAAAAAAAAAAAAAAAAAAAAAAAAAAAAAAAAAAAAAAAAAAAAAAAAAAAAAAAAAAAAAAAAAAAAAAAAAAAAAAAAAAAAAAAAAAAAAAAAAAAAAAAAAAAAAAAAAAAAAAAAAAAAAAAAAAAAAAAAAAAAAAAAAAAAAAAAAAAAAAAAAAAAAAAAAAAAAAAAAAAAAAAAAAAAAAAAAAAAAAAAAAAAAAAAAAAAAAAAAAAAAAAAAAAAAAAAAAAAAAAAAAAAAAAAAAAAAAAAAAAAAAAAAAAAAAAAAAAAAAAAAAAAAAAAAAAAAAAAAAAAAAAAAAAAAAAAAAAAAAAAAAAAAAAAAAAAAAAAAAAAAAAAAAAAAAAAAAAAAAAAAAAAAAAAAAAAAAAAAAAAAAAAAAAAAAAAAAAAAAAAAAAAAAAAAAAAAAAAAAAAAAAAAAAAAAAAAAAAAAAAAAAAAAAAAAAAAAAAAAAAAAAAAAAAAAAAAAAAAAAAAAAAAAAAAAAAAAAAAAAAAAAAAAAAAAAAAAAAAAAAAAAAAAAAAAAAAAAAAAAAAAAAAAAAAAAAAAAAAAAAAAAAAAAAAAAAAAAAAAAAAAAAAAAAAAAAAAAAAAAAAAAAAAAAAAAAAAAAAAAAAAAAAAAAAAAAAAAAAAAAAAAAAAAAAAAAAAAAAAAAAAAAAAAAAAAAAAAAAAAAAAAAAAAAAAAAAAAAAAAAAAAAAAAAAAAAAAAAAAAAAAAAAAAAAAAAAAAAAAAAAAAAAAAAAAAAAAAAAAAAAAAAAAAAAAAAAAAAAAAAAAAAAAAAAAAAAAAAAAAAAAAAAAAAAAAAAAAAAAAAAAAAAAAAAAAAAAAAAAAAAAAAAAAAAAAAAAAAAAAAAAAAAAAAAAAAAAAAAAAAAAAAAAAAAAAAAAAAAAAAAAAAAAAAAAAAAAAAAAAAAAAAAAAAAAAAAAAAAAAAAAAAAAAAAAAAAAAAAAAAAAAAAAAAAAAAAAAAAAAAAAAAAAAAAAAAAAAAAAAAAAAAAAAAAAAAAAAAAAAAAAAAAAAAAAAAAAAAAAAAAAAAAAAAAAAAAAAAAAAAAAAAAAAAAAAAAAAAAAAAAAAAAAAAAAAAAAAAAAAAAAAAAAAAAAAAAAAAAAAAAAAAAAAAAAAAAAAAAAAAAAAAAAAAAAAAAAAAAAAAAAAAAAAAAAAAAAAAAAAAAAAAAAAAAAAAAAAAAAAAAAAAAAAAAAAAAAAAAAAAAAAAAAAAAAAAAAAAAAAAAAAAAAAAAAAAAAAAAAAAAAAAAAAAAAAAAAAAAAAAAAAAAAAAAAAAAAAAAAAAAAAAAAAAAAAAAAAAAAAAAAAAAAAAAAAAAAAAAAAAAAAAAAAAAAAAAAAAAAAAAAAAAAAAAAAAAAAAAAAAAAAAAAAAAAAAAAAAAAAAAAAAAAAAAAAAAAAAAAAAAAAAAAAAAAAAAAAAAAAAAAAAAAAAAAAAAAAAAAAAAAAAAAAAAAAAAAAAAAAAAAAAAAAAAAAAAAAAAAAAAAAAAAAAAAAAAAAAAAAAAAAAAAAAAAAAAAAAAAAAAAAAAAAAAAAAAAAAAAAAAAAAAAAAAAAAAAAAAAAAAAAAAAAAAAAAAAAAAAAAAAAAAAAAAAAAAAAAAAAAAAAAAAAAAAAAAAAAAAAAAAAAAAAAAAAAAAAAAAAAAAAAAAAAAAAAAAAAAAAAAAAAAAAAAAAAAAAAAAAAAAAAAAAAAAAAAAAAAAAAAAAAAAAAAAAAAAAAAAAAAAAAAAAAAAAAAAAAAAAAAAAAAAAAAAAAAAAAAAAAAAAAAAAAAAAAAAAAAAAAAAAAAAAAAAAAAAAAAAAAAAAAAAAAAAAAAAAAAAAAAAAAAAAAAAAAAAAAAAAAAAAAAAAAAAAAAAAAAAAAAAAAAAAAAAAAAAAAAAAAAAAAAAAAAAAAAAAAAAAAAAAAAAAAAAAAAAAAAAAAAAAAAAAAAAAAAAAAAAAAAAAAAAAAAAAAAAAAAAAAAAAAAAAAAAAAAAAAAAAAAAAAAAAAAAAAAAAAAAAAAAAAAAAAAAAAAAAAAAAAAAAAAAAAAAAAAAAAAAAAAAAAAAAAAAAAAAAAAAAAAAAAAAAAAAAAAAAAAAAAAAAAAAAAAAAAAAAAAAAAAAAAAAAAAAAAAAAAAAAAAAAAAAAAAAAAAAAAAAAAAAAAAAAAAAAAAAAAAAAAAAAAAAAAAAAAAAAAAAAAAAAAAAAAAAAAAAAAAAAAAAAAAAAAAAAAAAAAAAAAAAAAAAAAAAAAAAAAAAAAAAAAAAAAAAAAAAAAAAAAAAAAAAAAAAAAAAAAAAAAAAAAAAAAAAAAAAAAAAAAAAAAAAAAAAAAAAAAAAAAAAAAAAAAAAAAAAAAAAAAAAAAAAAAAAAAAAAAAAAAAAAAAAAAAAAAAAAAAAAAAAAAAAAAAAAAAAAAAAAAAAAAAAAAAAAAAAAAAAAAAAAAAAAAAAAAAAAAAAAAAAAAAAAAAAAAAAAAAAAAAAAAAAAAAAAAAAAAAAAAAAAAAAAAAAAAAAAAAAAAAAAAAAAAAAAAAAAAAAAAAAAAAAAAAAAAAAAAAAAAAAAAAAAAAAAAAAAAAAAAAAAAAAAAAAAAAAAAAAAAAAAAAAAAAAAAAAAAAAAAAAAAAAAAAAAAAAAAAAAAAAAAAAAAAAAAAAAAAAAAAAAAAAAAAAAAAAAAAAAAAAAAAAAAAAAAAAAAAAAAAAAAAAAAAAAAAAAAAAAAAAAAAAAAAAAAAAAAAAAAAAAAAAAAAAAAAAAAAAAAAAAAAAAAAAAAAAAAAAAAAAAAAAAAAAAAAAAAAAAAAAAAAAAAAAAAAAAAAAAAAAAAAAAAAAAAAAAAAAAAAAAAAAAAAAAAAAAAAAAAAAAAAAAAAAAAAAAAAAAAAAAAAAAAAAAAAAAAAAAAAAAAAAAAAAAAAAAAAAAAAAAAAAAAAAAAAAAAAAAAAAAAAAAAAAAAAAAAAAAAAAAAAAAAAAAAAAAAAAAAAAAAAAAAAAAAAAAAAAAAAAAAAAAAAAAAAAAAAAAAAAAAAAAAAAAAAAAAAAAAAAAAAAAAAAAAAAAAAAAAAAAAAAAAAAAAAAAAAAAAAAAAAAAAAAAAAAAAAAAAAAAAAAAAAAAAAAAAAAAAAAAAAAAAAAAAAAAAAAAAAAAAAAAAAAAAAAAAAAAAAAAAAAAAAAAAAAAAAAAAAAAAAAAAAAAAAAAAAAAAAAAAAAAAAAAAAAAAAAAAAAAAAAAAAAAAAAAAAAAAAAAAAAAAAAAAAAAAAAAAAAAAAAAAAAAAAAAAAAAAAAAAAAAAAAAAAAAAAAAAAAAAAAAAAAAAAAAAAAAAAAAAAAAAAAAAAAAAAAAAAAAAAAAAAAAAAAAAAAAAAAAAAAAAAAAAAAAAAAAAAAAAAAAAAAAAAAAAAAAAAAAAAAAAAAAAAAAAAAAAAAAAAAAAAAAAAAAAAAAAAAAAAAAAAAAAAAAAAAAAAAAAAAAAAAAAAAAAAAAAAAAAAAAAAAAAAAAAAAAAAAAAAAAAAAAAAAAAAAAAAAAAAAAAAAAAAAAAAAAAAAAAAAAAAAAAAAAAAAAAAAAAAAAAAAAAAAAAAAAAAAAAAAAAAAAAAAAAAAAAAAAAAAAAAAAAAAAAAAAAAAAAAAAAAAAAAAAAAAAAAAAAAAAAAAAAAAAAAAAAAAAAAAAAAAAAAAAAAAAAAAAAAAAAAAAAAAAAAAAAAAAAAAAAAAAAAAAAAAAAAAAAAAAAAAAAAAAAAAAAAAAAAAAAAAAAAAAAAAAAAAAAAAAAAAAAAAAAAAAAAAAAAAAAAAAAAAAAAAAAAAAAAAAAAAAAAAAAAAAAAAAAAAAAAAAAAAAAAAAAAAAAAAAAAAAAAAAAAAAAAAAAAAAAAAAAAAAAAAAAAAAAAAAAAAAAAAAAAAAAAAAAAAAAAAAAAAAAAAAAAAAAAAAAAAAAAAAAAAAAAAAAAAAAAAAAAAAAAAAAAAAAAAAAAAAAAAAAAAAAAAAAAAAAAAAAAAAAAAAAAAAAAAAAAAAAAAAAAAAAAAAAAAAAAAAAAAAAAAAAAAAAAAAAAAAAAAAAAAAAAAAAAAAAAAAAAAAAAAAAAAAAAAAAAAAAAAAAAAAAAAAAAAAAAAAAAAAAAAAAAAAAAAAAAAAAAAAAAAAAAAAAAAAAAAAAAAAAAAAAAAAAAAAAAAAAAAAAAAAAAAAAAAAAAAAAAAAAAAAAAAAAAAAAAAAAAAAAAAAAAAAAAAAAAAAAAAAAAAAAAAAAAAAAAAAAAAAAAAAAAAAAAAAAAAAAAAAAAAAAAAAAAAAAAAAAAAAAAAAAAAAAAAAAAAAAAAAAAAAAAAAAAAAAAAAAAAAAAAAAAAAAAAAAAAAAAAAAAAAAAAAAAAAAAAAAAAAAAAAAAAAAAAAAAAAAAAAAAAAAAAAAAAAAAAAAAAAAAAAAAAAAAAAAAAAAAAAAAAAAAAAAAAAAAAAAAAAAAAAAAAAAAAAAAAAAAAAAAAAAAAAAAAAAAAAAAAAAAAAAAAAAAAAAAAAAAAAAAAAAAAAAAAAAAAAAAAAAAAAAAAAAAAAAAAAAAAAAAAAAAAAAAAAAAAAAAAAAAAAAAAAAAAAAAAAAAAAAAAAAAAAAAAAAAAAAAAAAAAAAAAAAAAAAAAAAAAAAAAAAAAAAAAAAAAAAAAAAAAAAAAAAAAAAAAAAAAAAAAAAAAAAAAAAAAAAAAAAAAAAAAAAAAAAAAAAAAAAAAAAAAAAAAAAAAAAAAAAAAAAAAAAAAAAAAAAAAAAAAAAAAAAAAAAAAAAAAAAAAAAAAAAAAAAAAAAAAAAAAAAAAAAAAAAAAAAAAAAAAAAAAAAAAAAAAAAAAAAAAAAAAAAAAAAAAAAAAAAAAAAAAAAAAAAAAAAAAAAAAAAAAAAAAAAAAAAAAAAAAAAAAAAAAAAAAAAAAAAAAAAAAAAAAAAAAAAAAAAAAAAAAAAAAAAAAAAAAAAAAAAAAAAAAAAAAAAAAAAAAAAAAAAAAAAAAAAAAAAAAAAAAAAAAAAAAAAAAAAAAAAAAAAAAAAAAAAAAAAAAAAAAAAAAAAAAAAAAAAAAAAAAAAAAAAAAAAAAAAAAAAAAAAAAAAAAAAAAAAAAAAAAAAAAAAAAAAAAAAAAAAAAAAAAAAAAAAAAAAAAAAAAAAAAAAAAAAAAAAAAAAAAAAAAAAAAAAAAAAAAAAAAAAAAAAAAAAAAAAAAAAAAAAAAAAAAAAAAAAAAAAAAAAAAAAAAAAAAAAAAAAAAAAAAAAAAAAAAAAAAAAAAAAAAAAAAAAAAAAAAAAAAAAAAAAAAAAAAAAAAAAAAAAAAAAAAAAAAAAAAAAAAAAAAAAAAAAAAAAAAAAAAAAAAAAAAAAAAAAAAAAAAAAAAAAAAAAAAAAAAAAAAAAAAAAAAAAAAAAAAAAAAAAAAAAAAAAAAAAAAAAAAAAAAAAAAAAAAAAAAAAAAAAAAAAAAAAAAAAAAAAAAAAAAAAAAAAAAAAAAAAAAAAAAAAAAAAAAAAAAAAAAAAAAAAAAAAAAAAAAAAAAAAAAAAAAAAAAAAAAAAAAAAAAAAAAAAAAAAAAAAAAAAAAAAAAAAAAAAAAAAAAAAAAAAAAAAAAAAAAAAAAAAAAAAAAAAAAAAAAAAAAAAAAAAAAAAAAAAAAAAAAAAAAAAAAAAAAAAAAAAAAAAAAAAAAAAAAAAAAAAAAAAAAAAAAAAAAAAAAAAAAAAAAAAAAAAAAAAAAAAAAAAAAAAAAAAAAAAAAAAAAAAAAAAAAAAAAAAAAAAAAAAAAAAAAAAAAAAAAAAAAAAAAAAAAAAAAAAAAAAAAAAAAAAAAAAAAAAAAAAAAAAAAAAAAAAAAAAAAAAAAAAAAAAAAAAAAAAAAAAAAAAAAAAAAAAAAAAAAAAAAAAAAAAAAAAAAAAAAAAAAAAAAAAAAAAAAAAAAAAAAAAAAAAAAAAAAAAAAAAAAAAAAAAAAAAAAAAAAAAAAAAAAAAAAAAAAAAAAAAAAAAAAAAAAAAAAAAAAAAAAAAAAAAAAAAAAAAAAAAAAAAAAAAAAAAAAAAAAAAAAAAAAAAAAAAAAAAAAAAAAAAAAAAAAAAAAAAAAAAAAAAAAAAAAAAAAAAAAAAAAAAAAAAAAAAAAAAAAAAAAAAAAAAAAAAAAAAAAAAAAAAAAAAAAAAAAAAAAAAAAAAAAAAAAAAAAAAAAAAAAAAAAAAAAAAAAAAAAAAAAAAAAAAAAAAAAAAAAAAAAAAAAAAAAAAAAAAAAAAAAAAAAAAAAAAAAAAAAAAAAAAAAAAAAAAAAAAAAAAAAAAAAAAAAAAAAAAAAAAAAAAAAAAAAAAAAAAAAAAAAAAAAAAAAAAAAAAAAAAAAAAAAAAAAAAAAAAAAAAAAAAAAAAAAAAAAAAAAAAAAAAAAAAAAAAAAAAAAAAAAAAAAAAAAAAAAAAAAAAAAAAAAAAAAAAAAAAAAAAAAAAAAAAAAAAAAAAAAAAAAAAAAAAAAAAAAAAAAAAAAAAAAAAAAAAAAAAAAAAAAAAAAAAAAAAAAAAAAAAAAAAAAAAAAAAAAAAAAAAAAAAAAAAAAAAAAAAAAAAAAAAAAAAAAAAAAAAAAAAAAAAAAAAAAAAAAAAAAAAAAAAAAAAAAAAAAAAAAAAAAAAAAAAAAAAAAAAAAAAAAAAAAAAAAAAAAAAAAAAAAAAAAAAAAAAAAAAAAAAAAAAAAAAAAAAAAAAAAAAAAAAAAAAAAAAAAAAAAAAAAAAAAAAAAAAAAAAAAAAAAAAAAAAAAAAAAAAAAAAAAAAAAAAAAAAAAAAAAAAAAAAAAAAAAAAAAAAAAAAAAAAAAAAAAAAAAAAAAAAAAAAAAAAAAAAAAAAAAAAAAAAAAAAAAAAAAAAAAAAAAAAAAAAAAAAAAAAAAAAAAAAAAAAAAAAAAAAAAAAAAAAAAAAAAAAAAAAAAAAAAAAAAAAAAAAAAAAAAAAAAAAAAAAAAAAAAAAAAAAAAAAAAAAAAAAAAAAAAAAAAAAAAAAAAAAAAAAAAAAAAAAAAAAAAAAAAAAAAAAAAAAAAAAAAAAAAAAAAAAAAAAAAAAAAAAAAAAAAAAAAAAAAAAAAAAAAAAAAAAAAAAAAAAAAAAAAAAAAAAAAAAAAAAAAAAAAAAAAAAAAAAAAAAAAAAAAAAAAAAAAAAAAAAAAAAAAAAAAAAAAAAAAAAAAAAAAAAAAAAAAAAAAAAAAAAAAAAAAAAAAAAAAAAAAAAAAAAAAAAAAAAAAAAAAAAAAAAAAAAAAAAAAAAAAAAAAAAAAAAAAAAAAAAAAAAAAAAAAAAAAAAAAAAAAAAAAAAAAAAAAAAAAAAAAAAAAAAAAAAAAAAAAAAAAAAAAAAAAAAAAAAAAAAAAAAAAAAAAAAAAAAAAAAAAAAAAAAAAAAAAAAAAAAAAAAAAAAAAAAAAAAAAAAAAAAAAAAAAAAAAAAAAAAAAAAAAAAAAAAAAAAAAAAAAAAAAAAAAAAAAAAAAAAAAAAAAAAAAAAAAAAAAAAAAAAAAAAAAAAAAAAAAAAAAAAAAAAAAAAAAAAAAAAAAAAAAAAAAAAAAAAAAAAAAAAAAAAAAAAAAAAAAAAAAAAAAAAAAAAAAAAAAAAAAAAAAAAAAAAAAAAAAAAAAAAAAAAAAAAAAAAAAAAAAAAAAAAAAAAAAAAAAAAAAAAAAAAAAAAAAAAAAAAAAAAAAAAAAAAAAAAAAAAAAAAAAAAAAAAAAAAAAAAAAAAAAAAAAAAAAAAAAAAAAAAAAAAAAAAAAAAAAAAAAAAAAAAAAAAAAAAAAAAAAAAAAAAAAAAAAAAAAAAAAAAAAAAAAAAAAAAAAAAAAAAAAAAAAAAAAAAAAAAAAAAAAAAAAAAAAAAAAAAAAAAAAAAAAAAAAAAAAAAAAAAAAAAAAAAAAAAAAAAAAAAAAAAAAAAAAAAAAAAAAAAAAAAAAAAAAAAAAAAAAAAAAAAAAAAAAAAAAAAAAAAAAAAAAAAAAAAAAAAAAAAAAAAAAAAAAAAAAAAAAAAAAAAAAAAAAAAAAAAAAAAAAAAAAAAAAAAAAAAAAAAAAAAAAAAAAAAAAAAAAAAAAAAAAAAAAAAAAAAAAAAAAAAAAAAAAAAAAAAAAAAAAAAAAAAAAAAAAAAAAAAAAAAAAAAAAAAAAAAAAAAAAAAAAAAAAAAAAAAAAAAAAAAAAAAAAAAAAAAAAAAAAAAAAAAAAAAAAAAAAAAAAAAAAAAAAAAAAAAAAAAAAAAAAAAAAAAAAAAAAAAAAAAAAAAAAAAAAAAAAAAAAAAAAAAAAAAAAAAAAAAAAAAAAAAAAAAAAAAAAAAAAAAAAAAAAAAAAAAAAAAAAAAAAAAAAAAAAAAAAAAAAAAAAAAAAAAAAAAAAAAAAAAAAAAAAAAAAAAAAAAAAAAAAAAAAAAAAAAAAAAAAAAAAAAAAAAAAAAAAAAAAAAAAAAAAAAAAAAAAAAAAAAAAAAAAAAAAAAAAAAAAAAAAAAAAAAAAAAAAAAAAAAAAAAAAAAAAAAAAAAAAAAAAAAAAAAAAAAAAAAAAAAAAAAAAAAAAAAAAAAAAAAAAAAAAAAAAAAAAAAAAAAAAAAAAAAAAAAAAAAAAAAAAAAAAAAAAAAAAAAAAAAAAAAAAAAAAAAAAAAAAAAAAAAAAAAAAAAAAAAAAAAAAAAAAAAAAAAAAAAAAAAAAAAAAAAAAAAAAAAAAAAAAAAAAAAAAAAAAAAAAAAAAAAAAAAAAAAAAAAAAAAAAAAAAAAAAAAAAAAAAAAAAAAAAAAAAAAAAAAAAAAAAAAAAAAAAAAAAAAAAAAAAAAAAAAAAAAAAAAAAAAAAAAAAAAAAAAAAAAAAAAAAAAAAAAAAAAAAAAAAAAAAAAAAAAAAAAAAAAAAAAAAAAAAAAAAAAAAAAAAAAAAAAAAAAAAAAAAAAAAAAAAAAAAAAAAAAAAAAAAAAAAAAAAAAAAAAAAAAAAAAAAAAAAAAAAAAAAAAAAAAAAAAAAAAAAAAAAAAAAAAAAAAAAAAAAAAAAAAAAAAAAAAAAAAAAAAAAAAAAAAAAAAAAAAAAAAAAAAAAAAAAAAAAAAAAAAAAAAAAAAAAAAAAAAAAAAAAAAAAAAAAAAAAAAAAAAAAAAAAAAAAAAAAAAAAAAAAAAAAAAAAAAAAAAAAAAAAAAAAAAAAAAAAAAAAAAAAAAAAAAAAAAAAAAAAAAAAAAAAAAAAAAAAAAAAAAAAAAAAAAAAAAAAAAAAAAAAAAAAAAAAAAAAAAAAAAAAAAAAAAAAAAAAAAAAAAAAAAAAAAAAAAAAAAAAAAAAAAAAAAAAAAAAAAAAAAAAAAAAAAAAAAAAAAAAAAAAAAAAAAAAAAAAAAAAAAAAAAAAAAAAAAAAAAAAAAAAAAAAAAAAAAAAAAAAAAAAAAAAAAAAAAAAAAAAAAAAAAAAAAAAAAAAAAAAAAAAAAAAAAAAAAAAAAAAAAAAAAAAAAAAAAAAAAAAAAAAAAAAAAAAAAAAAAAAAAAAAAAAAAAAAAAAAAAAAAAAAAAAAAAAAAAAAAAAAAAAAAAAAAAAAAAAAAAAAAAAAAAAAAAAAAAAAAAAAAAAAAAAAAAAAAAAAAAAAAAAAAAAAAAAAAAAAAAAAAAAAAAAAAAAAAAAAAAAAAAAAAAAAAAAAAAAAAAAAAAAAAAAAAAAAAAAAAAAAAAAAAAAAAAAAAAAAAAAAAAAAAAAAAAAAAAAAAA=\" type=\"audio/wav\" />\n",
              "                    Your browser does not support the audio element.\n",
              "                </audio>\n",
              "              "
            ]
          },
          "metadata": {}
        }
      ],
      "source": [
        "import IPython.display as ipd\n",
        "import numpy as np\n",
        "import random\n",
        "\n",
        "# Get a random index\n",
        "rand_int = random.randint(0, len(common_voice_train)-1)\n",
        "\n",
        "# Access a sample from the dataset\n",
        "sample = common_voice_train[rand_int]\n",
        "\n",
        "# Print target text\n",
        "print(\"Target text:\", sample[\"Filename\"]) # Changed key from 'sentence' to 'Filename'\n",
        "\n",
        "# Access audio data\n",
        "audio_data = sample.get(\"audio\", {})\n",
        "array = audio_data.get(\"array\", None)\n",
        "sampling_rate = audio_data.get(\"sampling_rate\", None)\n",
        "\n",
        "# Ensure array and sampling_rate are available before trying to use them\n",
        "if array is not None and sampling_rate is not None:\n",
        "    print(\"Input array shape:\", np.array(array).shape)\n",
        "    print(\"Sampling rate:\", sampling_rate)\n",
        "    # Display audio\n",
        "    ipd.display(ipd.Audio(data=np.array(array), autoplay=False, rate=sampling_rate))\n",
        "else:\n",
        "    print(\"Audio data not found or incorrectly structured.\")"
      ]
    },
    {
      "cell_type": "code",
      "source": [],
      "metadata": {
        "id": "WcPE2t0iI1q0"
      },
      "execution_count": null,
      "outputs": []
    },
    {
      "cell_type": "code",
      "execution_count": null,
      "metadata": {
        "colab": {
          "base_uri": "https://localhost:8080/",
          "height": 81,
          "referenced_widgets": [
            "a5aa1265d1f942f2b0054245a128504f",
            "c73caed12f0e409aa15fe1e055cde5cd",
            "e4d57c4690f04148992fa61b60f57b0b",
            "cc9fdf4dd265481395424d93be489f7b",
            "3e8195163add4a3ba06c600aaf5e1e85",
            "995f522865ed4e7790e8cbdd436ee907",
            "c58dd606d382425ba78250e752deaa50",
            "37ace279797a471b8ec8053fd5e39594",
            "a485458c359f4e48aa054f2197d3a438",
            "d1cca9e522e54dc499c87d0b54920b13",
            "210b31ece56444efbb5375dbd9cf16e4",
            "22f3c56c118e4204a5d1697e2ae954f9",
            "9ae1b8d8ad9e4f8f821a102a1493bb3e",
            "61484e29da3b4761bd8cc610c70589c5",
            "9d9e4524df934066a8ccf0457b91e299",
            "8f6fc9e756984672b8c19c51a95bea26",
            "a87bcf799e4c4b48930df7e097b0388d",
            "e8d0e25ac69e4f77904d5abc3234fa73",
            "57899842a2d24f5b9a1a6648e8a5eaf1",
            "0dfd4742a8c748cf8985fd90996aa5b6",
            "31a1b340d28542f99405fa6a20934fdb",
            "231b3a6ce0f84304991ab66c14dc6af1"
          ]
        },
        "id": "9lJSFZLfGwVr",
        "outputId": "29c80191-1263-4c90-bde7-c0eaad57ea3d"
      },
      "outputs": [
        {
          "output_type": "display_data",
          "data": {
            "text/plain": [
              "Map (num_proc=4):   0%|          | 0/2835 [00:00<?, ? examples/s]"
            ],
            "application/vnd.jupyter.widget-view+json": {
              "version_major": 2,
              "version_minor": 0,
              "model_id": "a5aa1265d1f942f2b0054245a128504f"
            }
          },
          "metadata": {}
        },
        {
          "output_type": "display_data",
          "data": {
            "text/plain": [
              "Map (num_proc=4):   0%|          | 0/315 [00:00<?, ? examples/s]"
            ],
            "application/vnd.jupyter.widget-view+json": {
              "version_major": 2,
              "version_minor": 0,
              "model_id": "22f3c56c118e4204a5d1697e2ae954f9"
            }
          },
          "metadata": {}
        }
      ],
      "source": [
        "# Function to prepare dataset for the Transformer model\n",
        "def prepare_dataset(batch):\n",
        "    audio = batch[\"audio\"]\n",
        "\n",
        "    # Process the audio\n",
        "    batch[\"input_values\"] = processor(audio[\"array\"], sampling_rate=audio[\"sampling_rate\"]).input_values[0]\n",
        "    batch[\"input_length\"] = len(batch[\"input_values\"])\n",
        "\n",
        "    # Process the transcription using 'TranscribedText'\n",
        "    batch[\"labels\"] = processor(text=batch[\"TranscribedText\"]).input_ids\n",
        "    return batch\n",
        "\n",
        "# Apply the function to the dataset\n",
        "common_voice_train = common_voice_train.map(prepare_dataset, remove_columns=common_voice_train.column_names, num_proc=4)\n",
        "common_voice_valid = common_voice_valid.map(prepare_dataset, remove_columns=common_voice_valid.column_names, num_proc=4)\n"
      ]
    },
    {
      "cell_type": "code",
      "execution_count": null,
      "metadata": {
        "id": "bcab8d7a"
      },
      "outputs": [],
      "source": [
        "import torch\n",
        "\n",
        "from dataclasses import dataclass, field\n",
        "from typing import Any, Dict, List, Optional, Union\n",
        "\n",
        "@dataclass\n",
        "class DataCollatorCTCWithPadding:\n",
        "    \"\"\"\n",
        "    Data collator that will dynamically pad the inputs received.\n",
        "    Args:\n",
        "        processor (:class:`~transformers.Wav2Vec2Processor`)\n",
        "            The processor used for proccessing the data.\n",
        "        padding (:obj:`bool`, :obj:`str` or :class:`~transformers.tokenization_utils_base.PaddingStrategy`, `optional`, defaults to :obj:`True`):\n",
        "            Select a strategy to pad the returned sequences (according to the model's padding side and padding index)\n",
        "            among:\n",
        "            * :obj:`True` or :obj:`'longest'`: Pad to the longest sequence in the batch (or no padding if only a single\n",
        "              sequence if provided).\n",
        "            * :obj:`'max_length'`: Pad to a maximum length specified with the argument :obj:`max_length` or to the\n",
        "              maximum acceptable input length for the model if that argument is not provided.\n",
        "            * :obj:`False` or :obj:`'do_not_pad'` (default): No padding (i.e., can output a batch with sequences of\n",
        "              different lengths).\n",
        "    \"\"\"\n",
        "\n",
        "    processor: Wav2Vec2Processor\n",
        "    padding: Union[bool, str] = True\n",
        "\n",
        "    def __call__(self, features: List[Dict[str, Union[List[int], torch.Tensor]]]) -> Dict[str, torch.Tensor]:\n",
        "        # split inputs and labels since they have to be of different lenghts and need\n",
        "        # different padding methods\n",
        "        input_features = [{\"input_values\": feature[\"input_values\"]} for feature in features]\n",
        "        label_features = [{\"input_ids\": feature[\"labels\"]} for feature in features]\n",
        "\n",
        "        batch = self.processor.pad(\n",
        "            input_features,\n",
        "            padding=self.padding,\n",
        "            return_tensors=\"pt\",\n",
        "        )\n",
        "\n",
        "        with self.processor.as_target_processor():\n",
        "            labels_batch = self.processor.pad(\n",
        "                label_features,\n",
        "                padding=self.padding,\n",
        "                return_tensors=\"pt\",\n",
        "            )\n",
        "\n",
        "        # replace padding with -100 to ignore loss correctly\n",
        "        labels = labels_batch[\"input_ids\"].masked_fill(labels_batch.attention_mask.ne(1), -100)\n",
        "\n",
        "        batch[\"labels\"] = labels\n",
        "\n",
        "        return batch"
      ]
    },
    {
      "cell_type": "code",
      "source": [],
      "metadata": {
        "id": "a3QglT9TI7nK"
      },
      "execution_count": null,
      "outputs": []
    },
    {
      "cell_type": "code",
      "execution_count": null,
      "metadata": {
        "id": "8BWPOC5GG7AJ"
      },
      "outputs": [],
      "source": [
        "data_collator = DataCollatorCTCWithPadding(processor=processor, padding=True)"
      ]
    },
    {
      "cell_type": "code",
      "source": [],
      "metadata": {
        "id": "Eh5GbEcCI_F-"
      },
      "execution_count": null,
      "outputs": []
    },
    {
      "cell_type": "code",
      "execution_count": null,
      "metadata": {
        "colab": {
          "base_uri": "https://localhost:8080/"
        },
        "id": "HcUnSliAHGM3",
        "outputId": "5e2434a0-76ac-43e4-8668-880220e733cf"
      },
      "outputs": [
        {
          "output_type": "stream",
          "name": "stdout",
          "text": [
            "Collecting jiwer\n",
            "  Downloading jiwer-3.0.4-py3-none-any.whl.metadata (2.6 kB)\n",
            "Requirement already satisfied: click<9.0.0,>=8.1.3 in /usr/local/lib/python3.10/dist-packages (from jiwer) (8.1.7)\n",
            "Collecting rapidfuzz<4,>=3 (from jiwer)\n",
            "  Downloading rapidfuzz-3.10.0-cp310-cp310-manylinux_2_17_x86_64.manylinux2014_x86_64.whl.metadata (11 kB)\n",
            "Downloading jiwer-3.0.4-py3-none-any.whl (21 kB)\n",
            "Downloading rapidfuzz-3.10.0-cp310-cp310-manylinux_2_17_x86_64.manylinux2014_x86_64.whl (3.1 MB)\n",
            "\u001b[2K   \u001b[90m━━━━━━━━━━━━━━━━━━━━━━━━━━━━━━━━━━━━━━━━\u001b[0m \u001b[32m3.1/3.1 MB\u001b[0m \u001b[31m39.5 MB/s\u001b[0m eta \u001b[36m0:00:00\u001b[0m\n",
            "\u001b[?25hInstalling collected packages: rapidfuzz, jiwer\n",
            "Successfully installed jiwer-3.0.4 rapidfuzz-3.10.0\n"
          ]
        }
      ],
      "source": [
        "!pip install jiwer"
      ]
    },
    {
      "cell_type": "code",
      "source": [],
      "metadata": {
        "id": "kqo8ficBJBvK"
      },
      "execution_count": null,
      "outputs": []
    },
    {
      "cell_type": "code",
      "execution_count": null,
      "metadata": {
        "colab": {
          "base_uri": "https://localhost:8080/",
          "height": 173,
          "referenced_widgets": [
            "75a07b4dc578471f902de2c3ee307067",
            "900cd59605b44e588fa8cdf783da9155",
            "2d8d26447ace41489c0f3c15f1919104",
            "95d38a7ab7ad42b283a712702cec3d30",
            "da1151149ada463db9a172243fbf4244",
            "605009030c73433889b3620275c11f05",
            "3043081c40f1475f81b8c841d465cc00",
            "b2e398a22ae743fab6614d81255438f7",
            "5d59587e79804022affc104a161f5856",
            "d01258e936a4417f92b415aec534f9a4",
            "7a52546b342345d8a3e4c83ca65e9f4a"
          ]
        },
        "id": "n70J3I52G_N6",
        "outputId": "671583f7-a473-4c81-858c-9114f9767b2e"
      },
      "outputs": [
        {
          "output_type": "stream",
          "name": "stderr",
          "text": [
            "/usr/local/lib/python3.10/dist-packages/huggingface_hub/utils/_token.py:89: UserWarning: \n",
            "The secret `HF_TOKEN` does not exist in your Colab secrets.\n",
            "To authenticate with the Hugging Face Hub, create a token in your settings tab (https://huggingface.co/settings/tokens), set it as secret in your Google Colab and restart your session.\n",
            "You will be able to reuse this secret in all of your notebooks.\n",
            "Please note that authentication is recommended but still optional to access public models or datasets.\n",
            "  warnings.warn(\n"
          ]
        },
        {
          "output_type": "display_data",
          "data": {
            "text/plain": [
              "Downloading builder script:   0%|          | 0.00/4.49k [00:00<?, ?B/s]"
            ],
            "application/vnd.jupyter.widget-view+json": {
              "version_major": 2,
              "version_minor": 0,
              "model_id": "75a07b4dc578471f902de2c3ee307067"
            }
          },
          "metadata": {}
        }
      ],
      "source": [
        "wer_metric = load_metric(\"wer\")\n",
        "# cer_metric = load_metric(\"cer\")"
      ]
    },
    {
      "cell_type": "code",
      "source": [],
      "metadata": {
        "id": "FY5gGgK3JESP"
      },
      "execution_count": null,
      "outputs": []
    },
    {
      "cell_type": "code",
      "execution_count": null,
      "metadata": {
        "id": "ACdZ1hgbHJ1X"
      },
      "outputs": [],
      "source": [
        "def compute_metrics(pred):\n",
        "    pred_logits = pred.predictions\n",
        "    pred_ids = np.argmax(pred_logits, axis=-1)\n",
        "\n",
        "    pred.label_ids[pred.label_ids == -100] = tokenizer.pad_token_id\n",
        "\n",
        "    pred_str = tokenizer.batch_decode(pred_ids)\n",
        "    label_str = tokenizer.batch_decode(pred.label_ids, group_tokens=False)\n",
        "\n",
        "    wer = wer_metric.compute(predictions=pred_str, references=label_str)\n",
        "\n",
        "    return {\"wer\": wer}"
      ]
    },
    {
      "cell_type": "code",
      "source": [
        "vocab_size = len(processor.tokenizer)\n"
      ],
      "metadata": {
        "id": "pYq_n3UFJHWM"
      },
      "execution_count": null,
      "outputs": []
    },
    {
      "cell_type": "code",
      "execution_count": null,
      "metadata": {
        "colab": {
          "base_uri": "https://localhost:8080/",
          "height": 136,
          "referenced_widgets": [
            "23a762cd9a874773b10bd4ec60f8b5f0",
            "2a1ab0652a3b4a7dbd50cce86fbe7a13",
            "7ad82e7894464ed3aec3a816f3dd64bb",
            "b2a51d95b4a840c8b4af43834e62ab44",
            "d8f1469437464669b2d3e4896fbfebd2",
            "953eac2bc7cc44e9bdfebc9d63d5cd75",
            "1dc347ae22a940fa87a48e60792f8058",
            "bb528e998eec4efdac4f963b0b686b45",
            "fc2d395c49134cd1885c6dabddb83ae9",
            "b1ec4da0b882446e83c90b43c556d274",
            "c66f5d823525424aab0af4d811bba647",
            "0a66c7efb49042b8893d38ee233593a3",
            "01a562549d8b47b58006593cc3de1a2c",
            "bae7e9e97f724eefa8e8a03afcdcd8d4",
            "287528a6e72243a3be1f256302ec1200",
            "fa9a4ba004734960ae2edcdbf3c53759",
            "493948dcb39e4554a176ad00c326a4cb",
            "fc132492f99744e19f5b4ba0a775c67c",
            "bb23d79330e34202a2a68037a733f209",
            "0c68673f82b4461699dd843cbbd72a40",
            "1223653b94be4bf4acb28cf863bd545d",
            "3003ec4bf481404681c3ff266d6f85ea"
          ]
        },
        "id": "rREh-ARgHFSl",
        "outputId": "18442f05-9381-484a-d719-c6f8b3b4407d"
      },
      "outputs": [
        {
          "output_type": "display_data",
          "data": {
            "text/plain": [
              "config.json:   0%|          | 0.00/1.57k [00:00<?, ?B/s]"
            ],
            "application/vnd.jupyter.widget-view+json": {
              "version_major": 2,
              "version_minor": 0,
              "model_id": "23a762cd9a874773b10bd4ec60f8b5f0"
            }
          },
          "metadata": {}
        },
        {
          "output_type": "display_data",
          "data": {
            "text/plain": [
              "pytorch_model.bin:   0%|          | 0.00/1.27G [00:00<?, ?B/s]"
            ],
            "application/vnd.jupyter.widget-view+json": {
              "version_major": 2,
              "version_minor": 0,
              "model_id": "0a66c7efb49042b8893d38ee233593a3"
            }
          },
          "metadata": {}
        },
        {
          "output_type": "stream",
          "name": "stderr",
          "text": [
            "Some weights of Wav2Vec2ForCTC were not initialized from the model checkpoint at facebook/wav2vec2-xls-r-300m and are newly initialized: ['lm_head.bias', 'lm_head.weight', 'wav2vec2.encoder.pos_conv_embed.conv.parametrizations.weight.original0', 'wav2vec2.encoder.pos_conv_embed.conv.parametrizations.weight.original1']\n",
            "You should probably TRAIN this model on a down-stream task to be able to use it for predictions and inference.\n"
          ]
        }
      ],
      "source": [
        "from transformers import Wav2Vec2ForCTC\n",
        "\n",
        "model = Wav2Vec2ForCTC.from_pretrained(\n",
        "    \"facebook/wav2vec2-xls-r-300m\",\n",
        "    attention_dropout=0.1,\n",
        "    layerdrop=0.0,\n",
        "    feat_proj_dropout=0.0,\n",
        "    mask_time_prob=0.75,\n",
        "    mask_time_length=10,\n",
        "    mask_feature_prob=0.25,\n",
        "    mask_feature_length=64,\n",
        "    ctc_loss_reduction=\"mean\",\n",
        "    pad_token_id=processor.tokenizer.pad_token_id,\n",
        "    vocab_size=len(processor.tokenizer)\n",
        ")"
      ]
    },
    {
      "cell_type": "code",
      "execution_count": null,
      "metadata": {
        "id": "C3-e-ZD7HOhG"
      },
      "outputs": [],
      "source": [
        "model.freeze_feature_encoder()"
      ]
    },
    {
      "cell_type": "code",
      "source": [
        "from transformers import TrainingArguments, Trainer\n",
        "import torch\n",
        "import os\n",
        "import numpy as np\n",
        "\n",
        "# Free memory from GPU if necessary\n",
        "torch.cuda.empty_cache()\n",
        "\n",
        "# Define the path to save the model in Google Drive\n",
        "model_path = '/content/drive/MyDrive/ASR_kh/trained_model'  # Adjust the path as needed\n",
        "\n",
        "# Create the directory if it doesn't exist\n",
        "os.makedirs(model_path, exist_ok=True)\n",
        "\n",
        "# Training Arguments\n",
        "training_args = TrainingArguments(\n",
        "    output_dir='./results',\n",
        "    per_device_train_batch_size=4,  # Reduced batch size to save memory\n",
        "    gradient_accumulation_steps=8,  # Increase to simulate larger batch size\n",
        "    evaluation_strategy=\"steps\",\n",
        "    gradient_checkpointing=True,  # Enable gradient checkpointing for memory savings\n",
        "    fp16=True,\n",
        "    num_train_epochs=40,\n",
        "    save_steps=10,\n",
        "    eval_steps=10,\n",
        "    logging_steps=10,\n",
        "    learning_rate=3e-4,\n",
        "warmup_steps=100,\n",
        "    save_total_limit=5,\n",
        "    load_best_model_at_end=True,\n",
        "    push_to_hub=False,\n",
        "\n",
        ")\n",
        "\n",
        "# Trainer Setup\n",
        "trainer = Trainer(\n",
        "    model=model,  # Assuming 'model' is defined\n",
        "    data_collator=data_collator,  # Data collator for processing batches\n",
        "    args=training_args,\n",
        "    compute_metrics=compute_metrics,  # Function to compute metrics (like WER)\n",
        "    train_dataset=common_voice_train,  # Your training dataset\n",
        "    eval_dataset=common_voice_valid,  # Your validation dataset\n",
        "    tokenizer=processor.tokenizer,  # Pass tokenizer (adjust if needed)\n",
        ")\n",
        "\n",
        "# Start Training\n",
        "trainer.train()\n",
        "\n",
        "# Evaluate the model after training\n",
        "eval_results = trainer.evaluate()\n",
        "print(f\"Evaluation results: {eval_results}\")\n",
        "\n",
        "# Save model and tokenizer to Google Drive\n",
        "model.save_pretrained(model_path)\n",
        "processor.save_pretrained(model_path)\n",
        "\n",
        "if __name__ == \"__main__\":\n",
        "    train()\n"
      ],
      "metadata": {
        "colab": {
          "base_uri": "https://localhost:8080/",
          "height": 404
        },
        "id": "w8GyRmyADwWK",
        "outputId": "8d7dd3ed-2be1-4aa8-df19-f04b62f955f4"
      },
      "execution_count": null,
      "outputs": [
        {
          "output_type": "stream",
          "name": "stderr",
          "text": [
            "/usr/local/lib/python3.10/dist-packages/transformers/training_args.py:1525: FutureWarning: `evaluation_strategy` is deprecated and will be removed in version 4.46 of 🤗 Transformers. Use `eval_strategy` instead\n",
            "  warnings.warn(\n",
            "/usr/local/lib/python3.10/dist-packages/accelerate/accelerator.py:494: FutureWarning: `torch.cuda.amp.GradScaler(args...)` is deprecated. Please use `torch.amp.GradScaler('cuda', args...)` instead.\n",
            "  self.scaler = torch.cuda.amp.GradScaler(**kwargs)\n",
            "/usr/local/lib/python3.10/dist-packages/transformers/models/wav2vec2/processing_wav2vec2.py:157: UserWarning: `as_target_processor` is deprecated and will be removed in v5 of Transformers. You can process your labels by using the argument `text` of the regular `__call__` method (either in the same call as your audio inputs, or in a separate call.\n",
            "  warnings.warn(\n",
            "/usr/local/lib/python3.10/dist-packages/torch/_dynamo/eval_frame.py:600: UserWarning: torch.utils.checkpoint: the use_reentrant parameter should be passed explicitly. In version 2.4 we will raise an exception if use_reentrant is not passed. use_reentrant=False is recommended, but if you need to preserve the current default behavior, you can pass use_reentrant=True. Refer to docs for more details on the differences between the two variants.\n",
            "  return fn(*args, **kwargs)\n",
            "/usr/local/lib/python3.10/dist-packages/torch/utils/checkpoint.py:295: FutureWarning: `torch.cpu.amp.autocast(args...)` is deprecated. Please use `torch.amp.autocast('cpu', args...)` instead.\n",
            "  with torch.enable_grad(), device_autocast_ctx, torch.cpu.amp.autocast(**ctx.cpu_autocast_kwargs):  # type: ignore[attr-defined]\n"
          ]
        },
        {
          "output_type": "display_data",
          "data": {
            "text/plain": [
              "<IPython.core.display.HTML object>"
            ],
            "text/html": [
              "\n",
              "    <div>\n",
              "      \n",
              "      <progress value='20' max='3520' style='width:300px; height:20px; vertical-align: middle;'></progress>\n",
              "      [  20/3520 02:47 < 9:04:03, 0.11 it/s, Epoch 0.21/40]\n",
              "    </div>\n",
              "    <table border=\"1\" class=\"dataframe\">\n",
              "  <thead>\n",
              " <tr style=\"text-align: left;\">\n",
              "      <th>Step</th>\n",
              "      <th>Training Loss</th>\n",
              "      <th>Validation Loss</th>\n",
              "      <th>Wer</th>\n",
              "    </tr>\n",
              "  </thead>\n",
              "  <tbody>\n",
              "    <tr>\n",
              "      <td>10</td>\n",
              "      <td>14.838300</td>\n",
              "      <td>16.405716</td>\n",
              "      <td>1.000000</td>\n",
              "    </tr>\n",
              "  </tbody>\n",
              "</table><p>"
            ]
          },
          "metadata": {}
        },
        {
          "output_type": "stream",
          "name": "stderr",
          "text": [
            "/usr/local/lib/python3.10/dist-packages/transformers/models/wav2vec2/processing_wav2vec2.py:157: UserWarning: `as_target_processor` is deprecated and will be removed in v5 of Transformers. You can process your labels by using the argument `text` of the regular `__call__` method (either in the same call as your audio inputs, or in a separate call.\n",
            "  warnings.warn(\n",
            "/usr/local/lib/python3.10/dist-packages/torch/_dynamo/eval_frame.py:600: UserWarning: torch.utils.checkpoint: the use_reentrant parameter should be passed explicitly. In version 2.4 we will raise an exception if use_reentrant is not passed. use_reentrant=False is recommended, but if you need to preserve the current default behavior, you can pass use_reentrant=True. Refer to docs for more details on the differences between the two variants.\n",
            "  return fn(*args, **kwargs)\n",
            "/usr/local/lib/python3.10/dist-packages/torch/utils/checkpoint.py:295: FutureWarning: `torch.cpu.amp.autocast(args...)` is deprecated. Please use `torch.amp.autocast('cpu', args...)` instead.\n",
            "  with torch.enable_grad(), device_autocast_ctx, torch.cpu.amp.autocast(**ctx.cpu_autocast_kwargs):  # type: ignore[attr-defined]\n"
          ]
        }
      ]
    }
  ]
}